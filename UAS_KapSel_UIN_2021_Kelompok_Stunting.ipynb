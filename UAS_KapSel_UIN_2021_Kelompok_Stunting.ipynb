{
  "cells": [
    {
      "cell_type": "markdown",
      "metadata": {
        "id": "view-in-github",
        "colab_type": "text"
      },
      "source": [
        "<a href=\"https://colab.research.google.com/github/dewirizki/UASKapsel_Stunting/blob/main/UAS_KapSel_UIN_2021_Kelompok_Stunting.ipynb\" target=\"_parent\"><img src=\"https://colab.research.google.com/assets/colab-badge.svg\" alt=\"Open In Colab\"/></a>"
      ]
    },
    {
      "cell_type": "code",
      "execution_count": 1,
      "metadata": {
        "colab": {
          "base_uri": "https://localhost:8080/"
        },
        "id": "JCjyuqLGAR-W",
        "outputId": "f3f50a1c-813c-48b8-ae4f-5761330597fb"
      },
      "outputs": [
        {
          "output_type": "stream",
          "name": "stdout",
          "text": [
            "Requirement already satisfied: unidecode in /usr/local/lib/python3.7/dist-packages (1.3.2)\n",
            "Requirement already satisfied: twython in /usr/local/lib/python3.7/dist-packages (3.9.1)\n",
            "Requirement already satisfied: tweepy in /usr/local/lib/python3.7/dist-packages (3.10.0)\n",
            "Requirement already satisfied: beautifulsoup4 in /usr/local/lib/python3.7/dist-packages (4.6.3)\n",
            "Requirement already satisfied: tika in /usr/local/lib/python3.7/dist-packages (1.24)\n",
            "Requirement already satisfied: requests>=2.1.0 in /usr/local/lib/python3.7/dist-packages (from twython) (2.23.0)\n",
            "Requirement already satisfied: requests-oauthlib>=0.4.0 in /usr/local/lib/python3.7/dist-packages (from twython) (1.3.0)\n",
            "Requirement already satisfied: certifi>=2017.4.17 in /usr/local/lib/python3.7/dist-packages (from requests>=2.1.0->twython) (2021.10.8)\n",
            "Requirement already satisfied: idna<3,>=2.5 in /usr/local/lib/python3.7/dist-packages (from requests>=2.1.0->twython) (2.10)\n",
            "Requirement already satisfied: urllib3!=1.25.0,!=1.25.1,<1.26,>=1.21.1 in /usr/local/lib/python3.7/dist-packages (from requests>=2.1.0->twython) (1.24.3)\n",
            "Requirement already satisfied: chardet<4,>=3.0.2 in /usr/local/lib/python3.7/dist-packages (from requests>=2.1.0->twython) (3.0.4)\n",
            "Requirement already satisfied: oauthlib>=3.0.0 in /usr/local/lib/python3.7/dist-packages (from requests-oauthlib>=0.4.0->twython) (3.1.1)\n",
            "Requirement already satisfied: six>=1.10.0 in /usr/local/lib/python3.7/dist-packages (from tweepy) (1.15.0)\n",
            "Requirement already satisfied: PySocks!=1.5.7,>=1.5.6 in /usr/local/lib/python3.7/dist-packages (from requests>=2.1.0->twython) (1.7.1)\n",
            "Requirement already satisfied: setuptools in /usr/local/lib/python3.7/dist-packages (from tika) (57.4.0)\n"
          ]
        }
      ],
      "source": [
        "!pip install unidecode twython tweepy beautifulsoup4 tika"
      ]
    },
    {
      "cell_type": "code",
      "execution_count": 2,
      "metadata": {
        "colab": {
          "base_uri": "https://localhost:8080/"
        },
        "id": "WCVMw0Ok40Xt",
        "outputId": "948a5759-e8d4-4741-cadc-954917115d84"
      },
      "outputs": [
        {
          "output_type": "stream",
          "name": "stdout",
          "text": [
            "Requirement already satisfied: pyLDAvis in /usr/local/lib/python3.7/dist-packages (3.3.1)\n",
            "Requirement already satisfied: numexpr in /usr/local/lib/python3.7/dist-packages (from pyLDAvis) (2.7.3)\n",
            "Requirement already satisfied: scikit-learn in /usr/local/lib/python3.7/dist-packages (from pyLDAvis) (1.0.1)\n",
            "Requirement already satisfied: gensim in /usr/local/lib/python3.7/dist-packages (from pyLDAvis) (3.6.0)\n",
            "Requirement already satisfied: setuptools in /usr/local/lib/python3.7/dist-packages (from pyLDAvis) (57.4.0)\n",
            "Requirement already satisfied: joblib in /usr/local/lib/python3.7/dist-packages (from pyLDAvis) (1.1.0)\n",
            "Requirement already satisfied: numpy>=1.20.0 in /usr/local/lib/python3.7/dist-packages (from pyLDAvis) (1.21.4)\n",
            "Requirement already satisfied: future in /usr/local/lib/python3.7/dist-packages (from pyLDAvis) (0.16.0)\n",
            "Requirement already satisfied: jinja2 in /usr/local/lib/python3.7/dist-packages (from pyLDAvis) (2.11.3)\n",
            "Requirement already satisfied: scipy in /usr/local/lib/python3.7/dist-packages (from pyLDAvis) (1.4.1)\n",
            "Requirement already satisfied: pandas>=1.2.0 in /usr/local/lib/python3.7/dist-packages (from pyLDAvis) (1.3.5)\n",
            "Requirement already satisfied: sklearn in /usr/local/lib/python3.7/dist-packages (from pyLDAvis) (0.0)\n",
            "Requirement already satisfied: funcy in /usr/local/lib/python3.7/dist-packages (from pyLDAvis) (1.16)\n",
            "Requirement already satisfied: pytz>=2017.3 in /usr/local/lib/python3.7/dist-packages (from pandas>=1.2.0->pyLDAvis) (2018.9)\n",
            "Requirement already satisfied: python-dateutil>=2.7.3 in /usr/local/lib/python3.7/dist-packages (from pandas>=1.2.0->pyLDAvis) (2.8.2)\n",
            "Requirement already satisfied: six>=1.5 in /usr/local/lib/python3.7/dist-packages (from python-dateutil>=2.7.3->pandas>=1.2.0->pyLDAvis) (1.15.0)\n",
            "Requirement already satisfied: smart-open>=1.2.1 in /usr/local/lib/python3.7/dist-packages (from gensim->pyLDAvis) (5.2.1)\n",
            "Requirement already satisfied: MarkupSafe>=0.23 in /usr/local/lib/python3.7/dist-packages (from jinja2->pyLDAvis) (2.0.1)\n",
            "Requirement already satisfied: threadpoolctl>=2.0.0 in /usr/local/lib/python3.7/dist-packages (from scikit-learn->pyLDAvis) (3.0.0)\n"
          ]
        }
      ],
      "source": [
        "pip install pyLDAvis"
      ]
    },
    {
      "cell_type": "code",
      "execution_count": 3,
      "metadata": {
        "colab": {
          "base_uri": "https://localhost:8080/"
        },
        "id": "mryfEy594j6I",
        "outputId": "e2c23402-177a-44fb-f3ac-4370e8d5697f"
      },
      "outputs": [
        {
          "output_type": "stream",
          "name": "stdout",
          "text": [
            "--2021-12-13 20:40:45--  https://raw.githubusercontent.com/taudata-indonesia/eLearning/master/taudataNlpTm.py\n",
            "Resolving raw.githubusercontent.com (raw.githubusercontent.com)... 185.199.111.133, 185.199.110.133, 185.199.108.133, ...\n",
            "Connecting to raw.githubusercontent.com (raw.githubusercontent.com)|185.199.111.133|:443... connected.\n",
            "HTTP request sent, awaiting response... 200 OK\n",
            "Length: 16713 (16K) [text/plain]\n",
            "Saving to: ‘taudataNlpTm.py.2’\n",
            "\n",
            "\rtaudataNlpTm.py.2     0%[                    ]       0  --.-KB/s               \rtaudataNlpTm.py.2   100%[===================>]  16.32K  --.-KB/s    in 0s      \n",
            "\n",
            "2021-12-13 20:40:45 (61.7 MB/s) - ‘taudataNlpTm.py.2’ saved [16713/16713]\n",
            "\n",
            "mkdir: cannot create directory ‘data’: File exists\n",
            "--2021-12-13 20:40:45--  https://raw.githubusercontent.com/taudata-indonesia/eLearning/master/data/slang.txt\n",
            "Resolving raw.githubusercontent.com (raw.githubusercontent.com)... 185.199.108.133, 185.199.109.133, 185.199.110.133, ...\n",
            "Connecting to raw.githubusercontent.com (raw.githubusercontent.com)|185.199.108.133|:443... connected.\n",
            "HTTP request sent, awaiting response... 200 OK\n",
            "Length: 29041 (28K) [text/plain]\n",
            "Saving to: ‘data/slang.txt.2’\n",
            "\n",
            "slang.txt.2         100%[===================>]  28.36K  --.-KB/s    in 0.003s  \n",
            "\n",
            "2021-12-13 20:40:45 (9.18 MB/s) - ‘data/slang.txt.2’ saved [29041/29041]\n",
            "\n",
            "--2021-12-13 20:40:45--  https://raw.githubusercontent.com/taudata-indonesia/eLearning/master/data/stopwords_id.txt\n",
            "Resolving raw.githubusercontent.com (raw.githubusercontent.com)... 185.199.108.133, 185.199.109.133, 185.199.110.133, ...\n",
            "Connecting to raw.githubusercontent.com (raw.githubusercontent.com)|185.199.108.133|:443... connected.\n",
            "HTTP request sent, awaiting response... 200 OK\n",
            "Length: 6446 (6.3K) [text/plain]\n",
            "Saving to: ‘data/stopwords_id.txt.2’\n",
            "\n",
            "stopwords_id.txt.2  100%[===================>]   6.29K  --.-KB/s    in 0s      \n",
            "\n",
            "2021-12-13 20:40:45 (54.2 MB/s) - ‘data/stopwords_id.txt.2’ saved [6446/6446]\n",
            "\n",
            "--2021-12-13 20:40:45--  https://raw.githubusercontent.com/taudata-indonesia/eLearning/master/data/stopwords_en.txt\n",
            "Resolving raw.githubusercontent.com (raw.githubusercontent.com)... 185.199.108.133, 185.199.109.133, 185.199.110.133, ...\n",
            "Connecting to raw.githubusercontent.com (raw.githubusercontent.com)|185.199.108.133|:443... connected.\n",
            "HTTP request sent, awaiting response... 200 OK\n",
            "Length: 15140 (15K) [text/plain]\n",
            "Saving to: ‘data/stopwords_en.txt.2’\n",
            "\n",
            "stopwords_en.txt.2  100%[===================>]  14.79K  --.-KB/s    in 0.001s  \n",
            "\n",
            "2021-12-13 20:40:45 (25.6 MB/s) - ‘data/stopwords_en.txt.2’ saved [15140/15140]\n",
            "\n",
            "--2021-12-13 20:40:45--  https://raw.githubusercontent.com/taudata-indonesia/eLearning/master/data/kata_dasar.txt\n",
            "Resolving raw.githubusercontent.com (raw.githubusercontent.com)... 185.199.108.133, 185.199.109.133, 185.199.110.133, ...\n",
            "Connecting to raw.githubusercontent.com (raw.githubusercontent.com)|185.199.108.133|:443... connected.\n",
            "HTTP request sent, awaiting response... 200 OK\n",
            "Length: 348507 (340K) [text/plain]\n",
            "Saving to: ‘data/kata_dasar.txt.2’\n",
            "\n",
            "kata_dasar.txt.2    100%[===================>] 340.34K  --.-KB/s    in 0.04s   \n",
            "\n",
            "2021-12-13 20:40:45 (8.24 MB/s) - ‘data/kata_dasar.txt.2’ saved [348507/348507]\n",
            "\n",
            "--2021-12-13 20:40:45--  https://raw.githubusercontent.com/taudata-indonesia/eLearning/master/data/wn-ind-def.tab\n",
            "Resolving raw.githubusercontent.com (raw.githubusercontent.com)... 185.199.111.133, 185.199.110.133, 185.199.108.133, ...\n",
            "Connecting to raw.githubusercontent.com (raw.githubusercontent.com)|185.199.111.133|:443... connected.\n",
            "HTTP request sent, awaiting response... 200 OK\n",
            "Length: 868322 (848K) [text/plain]\n",
            "Saving to: ‘data/wn-ind-def.tab.2’\n",
            "\n",
            "wn-ind-def.tab.2    100%[===================>] 847.97K  --.-KB/s    in 0.06s   \n",
            "\n",
            "2021-12-13 20:40:45 (14.0 MB/s) - ‘data/wn-ind-def.tab.2’ saved [868322/868322]\n",
            "\n",
            "--2021-12-13 20:40:46--  https://raw.githubusercontent.com/taudata-indonesia/eLearning/master/data/wn-msa-all.tab\n",
            "Resolving raw.githubusercontent.com (raw.githubusercontent.com)... 185.199.109.133, 185.199.108.133, 185.199.110.133, ...\n",
            "Connecting to raw.githubusercontent.com (raw.githubusercontent.com)|185.199.109.133|:443... connected.\n",
            "HTTP request sent, awaiting response... 200 OK\n",
            "Length: 17003012 (16M) [text/plain]\n",
            "Saving to: ‘data/wn-msa-all.tab.2’\n",
            "\n",
            "wn-msa-all.tab.2    100%[===================>]  16.21M   104MB/s    in 0.2s    \n",
            "\n",
            "2021-12-13 20:40:46 (104 MB/s) - ‘data/wn-msa-all.tab.2’ saved [17003012/17003012]\n",
            "\n",
            "--2021-12-13 20:40:46--  https://raw.githubusercontent.com/taudata-indonesia/eLearning/master/data/ind_SA.csv\n",
            "Resolving raw.githubusercontent.com (raw.githubusercontent.com)... 185.199.111.133, 185.199.110.133, 185.199.108.133, ...\n",
            "Connecting to raw.githubusercontent.com (raw.githubusercontent.com)|185.199.111.133|:443... connected.\n",
            "HTTP request sent, awaiting response... 200 OK\n",
            "Length: 918025 (897K) [text/plain]\n",
            "Saving to: ‘data/ind_SA.csv.2’\n",
            "\n",
            "ind_SA.csv.2        100%[===================>] 896.51K  --.-KB/s    in 0.06s   \n",
            "\n",
            "2021-12-13 20:40:46 (14.5 MB/s) - ‘data/ind_SA.csv.2’ saved [918025/918025]\n",
            "\n",
            "--2021-12-13 20:40:46--  https://raw.githubusercontent.com/taudata-indonesia/eLearning/master/data/all_indo_man_tag_corpus_model.crf.tagger\n",
            "Resolving raw.githubusercontent.com (raw.githubusercontent.com)... 185.199.110.133, 185.199.109.133, 185.199.111.133, ...\n",
            "Connecting to raw.githubusercontent.com (raw.githubusercontent.com)|185.199.110.133|:443... connected.\n",
            "HTTP request sent, awaiting response... 200 OK\n",
            "Length: 1722780 (1.6M) [application/octet-stream]\n",
            "Saving to: ‘data/all_indo_man_tag_corpus_model.crf.tagger.2’\n",
            "\n",
            "all_indo_man_tag_co 100%[===================>]   1.64M  --.-KB/s    in 0.07s   \n",
            "\n",
            "2021-12-13 20:40:46 (22.6 MB/s) - ‘data/all_indo_man_tag_corpus_model.crf.tagger.2’ saved [1722780/1722780]\n",
            "\n",
            "--2021-12-13 20:40:46--  https://raw.githubusercontent.com/taudata-indonesia/eLearning/master/taudata_sna.py\n",
            "Resolving raw.githubusercontent.com (raw.githubusercontent.com)... 185.199.110.133, 185.199.109.133, 185.199.111.133, ...\n",
            "Connecting to raw.githubusercontent.com (raw.githubusercontent.com)|185.199.110.133|:443... connected.\n",
            "HTTP request sent, awaiting response... 200 OK\n",
            "Length: 20088 (20K) [text/plain]\n",
            "Saving to: ‘taudata_sna.py.2’\n",
            "\n",
            "taudata_sna.py.2    100%[===================>]  19.62K  --.-KB/s    in 0.001s  \n",
            "\n",
            "2021-12-13 20:40:46 (13.5 MB/s) - ‘taudata_sna.py.2’ saved [20088/20088]\n",
            "\n",
            "Requirement already satisfied: spacy in /usr/local/lib/python3.7/dist-packages (2.2.4)\n",
            "Requirement already satisfied: python-crfsuite in /usr/local/lib/python3.7/dist-packages (0.9.7)\n",
            "Requirement already satisfied: unidecode in /usr/local/lib/python3.7/dist-packages (1.3.2)\n",
            "Requirement already satisfied: textblob in /usr/local/lib/python3.7/dist-packages (0.15.3)\n",
            "Requirement already satisfied: sastrawi in /usr/local/lib/python3.7/dist-packages (1.0.1)\n",
            "Requirement already satisfied: plac<1.2.0,>=0.9.6 in /usr/local/lib/python3.7/dist-packages (from spacy) (1.1.3)\n",
            "Requirement already satisfied: srsly<1.1.0,>=1.0.2 in /usr/local/lib/python3.7/dist-packages (from spacy) (1.0.5)\n",
            "Requirement already satisfied: requests<3.0.0,>=2.13.0 in /usr/local/lib/python3.7/dist-packages (from spacy) (2.23.0)\n",
            "Requirement already satisfied: thinc==7.4.0 in /usr/local/lib/python3.7/dist-packages (from spacy) (7.4.0)\n",
            "Requirement already satisfied: wasabi<1.1.0,>=0.4.0 in /usr/local/lib/python3.7/dist-packages (from spacy) (0.8.2)\n",
            "Requirement already satisfied: catalogue<1.1.0,>=0.0.7 in /usr/local/lib/python3.7/dist-packages (from spacy) (1.0.0)\n",
            "Requirement already satisfied: murmurhash<1.1.0,>=0.28.0 in /usr/local/lib/python3.7/dist-packages (from spacy) (1.0.6)\n",
            "Requirement already satisfied: tqdm<5.0.0,>=4.38.0 in /usr/local/lib/python3.7/dist-packages (from spacy) (4.62.3)\n",
            "Requirement already satisfied: setuptools in /usr/local/lib/python3.7/dist-packages (from spacy) (57.4.0)\n",
            "Requirement already satisfied: numpy>=1.15.0 in /usr/local/lib/python3.7/dist-packages (from spacy) (1.21.4)\n",
            "Requirement already satisfied: blis<0.5.0,>=0.4.0 in /usr/local/lib/python3.7/dist-packages (from spacy) (0.4.1)\n",
            "Requirement already satisfied: preshed<3.1.0,>=3.0.2 in /usr/local/lib/python3.7/dist-packages (from spacy) (3.0.6)\n",
            "Requirement already satisfied: cymem<2.1.0,>=2.0.2 in /usr/local/lib/python3.7/dist-packages (from spacy) (2.0.6)\n",
            "Requirement already satisfied: importlib-metadata>=0.20 in /usr/local/lib/python3.7/dist-packages (from catalogue<1.1.0,>=0.0.7->spacy) (4.8.2)\n",
            "Requirement already satisfied: zipp>=0.5 in /usr/local/lib/python3.7/dist-packages (from importlib-metadata>=0.20->catalogue<1.1.0,>=0.0.7->spacy) (3.6.0)\n",
            "Requirement already satisfied: typing-extensions>=3.6.4 in /usr/local/lib/python3.7/dist-packages (from importlib-metadata>=0.20->catalogue<1.1.0,>=0.0.7->spacy) (3.10.0.2)\n",
            "Requirement already satisfied: certifi>=2017.4.17 in /usr/local/lib/python3.7/dist-packages (from requests<3.0.0,>=2.13.0->spacy) (2021.10.8)\n",
            "Requirement already satisfied: urllib3!=1.25.0,!=1.25.1,<1.26,>=1.21.1 in /usr/local/lib/python3.7/dist-packages (from requests<3.0.0,>=2.13.0->spacy) (1.24.3)\n",
            "Requirement already satisfied: idna<3,>=2.5 in /usr/local/lib/python3.7/dist-packages (from requests<3.0.0,>=2.13.0->spacy) (2.10)\n",
            "Requirement already satisfied: chardet<4,>=3.0.2 in /usr/local/lib/python3.7/dist-packages (from requests<3.0.0,>=2.13.0->spacy) (3.0.4)\n",
            "Requirement already satisfied: nltk>=3.1 in /usr/local/lib/python3.7/dist-packages (from textblob) (3.2.5)\n",
            "Requirement already satisfied: six in /usr/local/lib/python3.7/dist-packages (from nltk>=3.1->textblob) (1.15.0)\n",
            "Collecting en_core_web_sm==2.2.5\n",
            "  Downloading https://github.com/explosion/spacy-models/releases/download/en_core_web_sm-2.2.5/en_core_web_sm-2.2.5.tar.gz (12.0 MB)\n",
            "\u001b[K     |████████████████████████████████| 12.0 MB 4.1 MB/s \n",
            "\u001b[?25hRequirement already satisfied: spacy>=2.2.2 in /usr/local/lib/python3.7/dist-packages (from en_core_web_sm==2.2.5) (2.2.4)\n",
            "Requirement already satisfied: catalogue<1.1.0,>=0.0.7 in /usr/local/lib/python3.7/dist-packages (from spacy>=2.2.2->en_core_web_sm==2.2.5) (1.0.0)\n",
            "Requirement already satisfied: wasabi<1.1.0,>=0.4.0 in /usr/local/lib/python3.7/dist-packages (from spacy>=2.2.2->en_core_web_sm==2.2.5) (0.8.2)\n",
            "Requirement already satisfied: cymem<2.1.0,>=2.0.2 in /usr/local/lib/python3.7/dist-packages (from spacy>=2.2.2->en_core_web_sm==2.2.5) (2.0.6)\n",
            "Requirement already satisfied: murmurhash<1.1.0,>=0.28.0 in /usr/local/lib/python3.7/dist-packages (from spacy>=2.2.2->en_core_web_sm==2.2.5) (1.0.6)\n",
            "Requirement already satisfied: thinc==7.4.0 in /usr/local/lib/python3.7/dist-packages (from spacy>=2.2.2->en_core_web_sm==2.2.5) (7.4.0)\n",
            "Requirement already satisfied: numpy>=1.15.0 in /usr/local/lib/python3.7/dist-packages (from spacy>=2.2.2->en_core_web_sm==2.2.5) (1.21.4)\n",
            "Requirement already satisfied: tqdm<5.0.0,>=4.38.0 in /usr/local/lib/python3.7/dist-packages (from spacy>=2.2.2->en_core_web_sm==2.2.5) (4.62.3)\n",
            "Requirement already satisfied: preshed<3.1.0,>=3.0.2 in /usr/local/lib/python3.7/dist-packages (from spacy>=2.2.2->en_core_web_sm==2.2.5) (3.0.6)\n",
            "Requirement already satisfied: srsly<1.1.0,>=1.0.2 in /usr/local/lib/python3.7/dist-packages (from spacy>=2.2.2->en_core_web_sm==2.2.5) (1.0.5)\n",
            "Requirement already satisfied: setuptools in /usr/local/lib/python3.7/dist-packages (from spacy>=2.2.2->en_core_web_sm==2.2.5) (57.4.0)\n",
            "Requirement already satisfied: plac<1.2.0,>=0.9.6 in /usr/local/lib/python3.7/dist-packages (from spacy>=2.2.2->en_core_web_sm==2.2.5) (1.1.3)\n",
            "Requirement already satisfied: requests<3.0.0,>=2.13.0 in /usr/local/lib/python3.7/dist-packages (from spacy>=2.2.2->en_core_web_sm==2.2.5) (2.23.0)\n",
            "Requirement already satisfied: blis<0.5.0,>=0.4.0 in /usr/local/lib/python3.7/dist-packages (from spacy>=2.2.2->en_core_web_sm==2.2.5) (0.4.1)\n",
            "Requirement already satisfied: importlib-metadata>=0.20 in /usr/local/lib/python3.7/dist-packages (from catalogue<1.1.0,>=0.0.7->spacy>=2.2.2->en_core_web_sm==2.2.5) (4.8.2)\n",
            "Requirement already satisfied: typing-extensions>=3.6.4 in /usr/local/lib/python3.7/dist-packages (from importlib-metadata>=0.20->catalogue<1.1.0,>=0.0.7->spacy>=2.2.2->en_core_web_sm==2.2.5) (3.10.0.2)\n",
            "Requirement already satisfied: zipp>=0.5 in /usr/local/lib/python3.7/dist-packages (from importlib-metadata>=0.20->catalogue<1.1.0,>=0.0.7->spacy>=2.2.2->en_core_web_sm==2.2.5) (3.6.0)\n",
            "Requirement already satisfied: certifi>=2017.4.17 in /usr/local/lib/python3.7/dist-packages (from requests<3.0.0,>=2.13.0->spacy>=2.2.2->en_core_web_sm==2.2.5) (2021.10.8)\n",
            "Requirement already satisfied: chardet<4,>=3.0.2 in /usr/local/lib/python3.7/dist-packages (from requests<3.0.0,>=2.13.0->spacy>=2.2.2->en_core_web_sm==2.2.5) (3.0.4)\n",
            "Requirement already satisfied: urllib3!=1.25.0,!=1.25.1,<1.26,>=1.21.1 in /usr/local/lib/python3.7/dist-packages (from requests<3.0.0,>=2.13.0->spacy>=2.2.2->en_core_web_sm==2.2.5) (1.24.3)\n",
            "Requirement already satisfied: idna<3,>=2.5 in /usr/local/lib/python3.7/dist-packages (from requests<3.0.0,>=2.13.0->spacy>=2.2.2->en_core_web_sm==2.2.5) (2.10)\n",
            "\u001b[38;5;2m✔ Download and installation successful\u001b[0m\n",
            "You can now load the model via spacy.load('en_core_web_sm')\n",
            "\u001b[38;5;2m✔ Linking successful\u001b[0m\n",
            "/usr/local/lib/python3.7/dist-packages/en_core_web_sm -->\n",
            "/usr/local/lib/python3.7/dist-packages/spacy/data/en\n",
            "You can now load the model via spacy.load('en')\n",
            "Collecting xx_ent_wiki_sm==2.2.0\n",
            "  Downloading https://github.com/explosion/spacy-models/releases/download/xx_ent_wiki_sm-2.2.0/xx_ent_wiki_sm-2.2.0.tar.gz (3.7 MB)\n",
            "\u001b[K     |████████████████████████████████| 3.7 MB 679 kB/s \n",
            "\u001b[?25hRequirement already satisfied: spacy>=2.2.0 in /usr/local/lib/python3.7/dist-packages (from xx_ent_wiki_sm==2.2.0) (2.2.4)\n",
            "Requirement already satisfied: catalogue<1.1.0,>=0.0.7 in /usr/local/lib/python3.7/dist-packages (from spacy>=2.2.0->xx_ent_wiki_sm==2.2.0) (1.0.0)\n",
            "Requirement already satisfied: murmurhash<1.1.0,>=0.28.0 in /usr/local/lib/python3.7/dist-packages (from spacy>=2.2.0->xx_ent_wiki_sm==2.2.0) (1.0.6)\n",
            "Requirement already satisfied: plac<1.2.0,>=0.9.6 in /usr/local/lib/python3.7/dist-packages (from spacy>=2.2.0->xx_ent_wiki_sm==2.2.0) (1.1.3)\n",
            "Requirement already satisfied: preshed<3.1.0,>=3.0.2 in /usr/local/lib/python3.7/dist-packages (from spacy>=2.2.0->xx_ent_wiki_sm==2.2.0) (3.0.6)\n",
            "Requirement already satisfied: blis<0.5.0,>=0.4.0 in /usr/local/lib/python3.7/dist-packages (from spacy>=2.2.0->xx_ent_wiki_sm==2.2.0) (0.4.1)\n",
            "Requirement already satisfied: requests<3.0.0,>=2.13.0 in /usr/local/lib/python3.7/dist-packages (from spacy>=2.2.0->xx_ent_wiki_sm==2.2.0) (2.23.0)\n",
            "Requirement already satisfied: thinc==7.4.0 in /usr/local/lib/python3.7/dist-packages (from spacy>=2.2.0->xx_ent_wiki_sm==2.2.0) (7.4.0)\n",
            "Requirement already satisfied: setuptools in /usr/local/lib/python3.7/dist-packages (from spacy>=2.2.0->xx_ent_wiki_sm==2.2.0) (57.4.0)\n",
            "Requirement already satisfied: wasabi<1.1.0,>=0.4.0 in /usr/local/lib/python3.7/dist-packages (from spacy>=2.2.0->xx_ent_wiki_sm==2.2.0) (0.8.2)\n",
            "Requirement already satisfied: cymem<2.1.0,>=2.0.2 in /usr/local/lib/python3.7/dist-packages (from spacy>=2.2.0->xx_ent_wiki_sm==2.2.0) (2.0.6)\n",
            "Requirement already satisfied: srsly<1.1.0,>=1.0.2 in /usr/local/lib/python3.7/dist-packages (from spacy>=2.2.0->xx_ent_wiki_sm==2.2.0) (1.0.5)\n",
            "Requirement already satisfied: numpy>=1.15.0 in /usr/local/lib/python3.7/dist-packages (from spacy>=2.2.0->xx_ent_wiki_sm==2.2.0) (1.21.4)\n",
            "Requirement already satisfied: tqdm<5.0.0,>=4.38.0 in /usr/local/lib/python3.7/dist-packages (from spacy>=2.2.0->xx_ent_wiki_sm==2.2.0) (4.62.3)\n",
            "Requirement already satisfied: importlib-metadata>=0.20 in /usr/local/lib/python3.7/dist-packages (from catalogue<1.1.0,>=0.0.7->spacy>=2.2.0->xx_ent_wiki_sm==2.2.0) (4.8.2)\n",
            "Requirement already satisfied: zipp>=0.5 in /usr/local/lib/python3.7/dist-packages (from importlib-metadata>=0.20->catalogue<1.1.0,>=0.0.7->spacy>=2.2.0->xx_ent_wiki_sm==2.2.0) (3.6.0)\n",
            "Requirement already satisfied: typing-extensions>=3.6.4 in /usr/local/lib/python3.7/dist-packages (from importlib-metadata>=0.20->catalogue<1.1.0,>=0.0.7->spacy>=2.2.0->xx_ent_wiki_sm==2.2.0) (3.10.0.2)\n",
            "Requirement already satisfied: chardet<4,>=3.0.2 in /usr/local/lib/python3.7/dist-packages (from requests<3.0.0,>=2.13.0->spacy>=2.2.0->xx_ent_wiki_sm==2.2.0) (3.0.4)\n",
            "Requirement already satisfied: certifi>=2017.4.17 in /usr/local/lib/python3.7/dist-packages (from requests<3.0.0,>=2.13.0->spacy>=2.2.0->xx_ent_wiki_sm==2.2.0) (2021.10.8)\n",
            "Requirement already satisfied: idna<3,>=2.5 in /usr/local/lib/python3.7/dist-packages (from requests<3.0.0,>=2.13.0->spacy>=2.2.0->xx_ent_wiki_sm==2.2.0) (2.10)\n",
            "Requirement already satisfied: urllib3!=1.25.0,!=1.25.1,<1.26,>=1.21.1 in /usr/local/lib/python3.7/dist-packages (from requests<3.0.0,>=2.13.0->spacy>=2.2.0->xx_ent_wiki_sm==2.2.0) (1.24.3)\n",
            "\u001b[38;5;2m✔ Download and installation successful\u001b[0m\n",
            "You can now load the model via spacy.load('xx_ent_wiki_sm')\n",
            "\u001b[38;5;2m✔ Linking successful\u001b[0m\n",
            "/usr/local/lib/python3.7/dist-packages/xx_ent_wiki_sm -->\n",
            "/usr/local/lib/python3.7/dist-packages/spacy/data/xx\n",
            "You can now load the model via spacy.load('xx')\n",
            "Collecting en_core_web_sm==2.2.5\n",
            "  Downloading https://github.com/explosion/spacy-models/releases/download/en_core_web_sm-2.2.5/en_core_web_sm-2.2.5.tar.gz (12.0 MB)\n",
            "\u001b[K     |████████████████████████████████| 12.0 MB 4.1 MB/s \n",
            "\u001b[?25hRequirement already satisfied: spacy>=2.2.2 in /usr/local/lib/python3.7/dist-packages (from en_core_web_sm==2.2.5) (2.2.4)\n",
            "Requirement already satisfied: thinc==7.4.0 in /usr/local/lib/python3.7/dist-packages (from spacy>=2.2.2->en_core_web_sm==2.2.5) (7.4.0)\n",
            "Requirement already satisfied: cymem<2.1.0,>=2.0.2 in /usr/local/lib/python3.7/dist-packages (from spacy>=2.2.2->en_core_web_sm==2.2.5) (2.0.6)\n",
            "Requirement already satisfied: tqdm<5.0.0,>=4.38.0 in /usr/local/lib/python3.7/dist-packages (from spacy>=2.2.2->en_core_web_sm==2.2.5) (4.62.3)\n",
            "Requirement already satisfied: requests<3.0.0,>=2.13.0 in /usr/local/lib/python3.7/dist-packages (from spacy>=2.2.2->en_core_web_sm==2.2.5) (2.23.0)\n",
            "Requirement already satisfied: blis<0.5.0,>=0.4.0 in /usr/local/lib/python3.7/dist-packages (from spacy>=2.2.2->en_core_web_sm==2.2.5) (0.4.1)\n",
            "Requirement already satisfied: numpy>=1.15.0 in /usr/local/lib/python3.7/dist-packages (from spacy>=2.2.2->en_core_web_sm==2.2.5) (1.21.4)\n",
            "Requirement already satisfied: murmurhash<1.1.0,>=0.28.0 in /usr/local/lib/python3.7/dist-packages (from spacy>=2.2.2->en_core_web_sm==2.2.5) (1.0.6)\n",
            "Requirement already satisfied: wasabi<1.1.0,>=0.4.0 in /usr/local/lib/python3.7/dist-packages (from spacy>=2.2.2->en_core_web_sm==2.2.5) (0.8.2)\n",
            "Requirement already satisfied: catalogue<1.1.0,>=0.0.7 in /usr/local/lib/python3.7/dist-packages (from spacy>=2.2.2->en_core_web_sm==2.2.5) (1.0.0)\n",
            "Requirement already satisfied: setuptools in /usr/local/lib/python3.7/dist-packages (from spacy>=2.2.2->en_core_web_sm==2.2.5) (57.4.0)\n",
            "Requirement already satisfied: plac<1.2.0,>=0.9.6 in /usr/local/lib/python3.7/dist-packages (from spacy>=2.2.2->en_core_web_sm==2.2.5) (1.1.3)\n",
            "Requirement already satisfied: srsly<1.1.0,>=1.0.2 in /usr/local/lib/python3.7/dist-packages (from spacy>=2.2.2->en_core_web_sm==2.2.5) (1.0.5)\n",
            "Requirement already satisfied: preshed<3.1.0,>=3.0.2 in /usr/local/lib/python3.7/dist-packages (from spacy>=2.2.2->en_core_web_sm==2.2.5) (3.0.6)\n",
            "Requirement already satisfied: importlib-metadata>=0.20 in /usr/local/lib/python3.7/dist-packages (from catalogue<1.1.0,>=0.0.7->spacy>=2.2.2->en_core_web_sm==2.2.5) (4.8.2)\n",
            "Requirement already satisfied: typing-extensions>=3.6.4 in /usr/local/lib/python3.7/dist-packages (from importlib-metadata>=0.20->catalogue<1.1.0,>=0.0.7->spacy>=2.2.2->en_core_web_sm==2.2.5) (3.10.0.2)\n",
            "Requirement already satisfied: zipp>=0.5 in /usr/local/lib/python3.7/dist-packages (from importlib-metadata>=0.20->catalogue<1.1.0,>=0.0.7->spacy>=2.2.2->en_core_web_sm==2.2.5) (3.6.0)\n",
            "Requirement already satisfied: certifi>=2017.4.17 in /usr/local/lib/python3.7/dist-packages (from requests<3.0.0,>=2.13.0->spacy>=2.2.2->en_core_web_sm==2.2.5) (2021.10.8)\n",
            "Requirement already satisfied: chardet<4,>=3.0.2 in /usr/local/lib/python3.7/dist-packages (from requests<3.0.0,>=2.13.0->spacy>=2.2.2->en_core_web_sm==2.2.5) (3.0.4)\n",
            "Requirement already satisfied: idna<3,>=2.5 in /usr/local/lib/python3.7/dist-packages (from requests<3.0.0,>=2.13.0->spacy>=2.2.2->en_core_web_sm==2.2.5) (2.10)\n",
            "Requirement already satisfied: urllib3!=1.25.0,!=1.25.1,<1.26,>=1.21.1 in /usr/local/lib/python3.7/dist-packages (from requests<3.0.0,>=2.13.0->spacy>=2.2.2->en_core_web_sm==2.2.5) (1.24.3)\n",
            "\u001b[38;5;2m✔ Download and installation successful\u001b[0m\n",
            "You can now load the model via spacy.load('en_core_web_sm')\n",
            "[nltk_data] Downloading collection 'popular'\n",
            "[nltk_data]    | \n",
            "[nltk_data]    | Downloading package cmudict to /root/nltk_data...\n",
            "[nltk_data]    |   Package cmudict is already up-to-date!\n",
            "[nltk_data]    | Downloading package gazetteers to /root/nltk_data...\n",
            "[nltk_data]    |   Package gazetteers is already up-to-date!\n",
            "[nltk_data]    | Downloading package genesis to /root/nltk_data...\n",
            "[nltk_data]    |   Package genesis is already up-to-date!\n",
            "[nltk_data]    | Downloading package gutenberg to /root/nltk_data...\n",
            "[nltk_data]    |   Package gutenberg is already up-to-date!\n",
            "[nltk_data]    | Downloading package inaugural to /root/nltk_data...\n",
            "[nltk_data]    |   Package inaugural is already up-to-date!\n",
            "[nltk_data]    | Downloading package movie_reviews to\n",
            "[nltk_data]    |     /root/nltk_data...\n",
            "[nltk_data]    |   Package movie_reviews is already up-to-date!\n",
            "[nltk_data]    | Downloading package names to /root/nltk_data...\n",
            "[nltk_data]    |   Package names is already up-to-date!\n",
            "[nltk_data]    | Downloading package shakespeare to /root/nltk_data...\n",
            "[nltk_data]    |   Package shakespeare is already up-to-date!\n",
            "[nltk_data]    | Downloading package stopwords to /root/nltk_data...\n",
            "[nltk_data]    |   Package stopwords is already up-to-date!\n",
            "[nltk_data]    | Downloading package treebank to /root/nltk_data...\n",
            "[nltk_data]    |   Package treebank is already up-to-date!\n",
            "[nltk_data]    | Downloading package twitter_samples to\n",
            "[nltk_data]    |     /root/nltk_data...\n",
            "[nltk_data]    |   Package twitter_samples is already up-to-date!\n",
            "[nltk_data]    | Downloading package omw-1.4 to /root/nltk_data...\n",
            "[nltk_data]    |   Package omw-1.4 is already up-to-date!\n",
            "[nltk_data]    | Downloading package omw to /root/nltk_data...\n",
            "[nltk_data]    |   Package omw is already up-to-date!\n",
            "[nltk_data]    | Downloading package wordnet to /root/nltk_data...\n",
            "[nltk_data]    |   Package wordnet is already up-to-date!\n",
            "[nltk_data]    | Downloading package wordnet31 to /root/nltk_data...\n",
            "[nltk_data]    |   Package wordnet31 is already up-to-date!\n",
            "[nltk_data]    | Downloading package wordnet_ic to /root/nltk_data...\n",
            "[nltk_data]    |   Package wordnet_ic is already up-to-date!\n",
            "[nltk_data]    | Downloading package words to /root/nltk_data...\n",
            "[nltk_data]    |   Package words is already up-to-date!\n",
            "[nltk_data]    | Downloading package maxent_ne_chunker to\n",
            "[nltk_data]    |     /root/nltk_data...\n",
            "[nltk_data]    |   Package maxent_ne_chunker is already up-to-date!\n",
            "[nltk_data]    | Downloading package punkt to /root/nltk_data...\n",
            "[nltk_data]    |   Package punkt is already up-to-date!\n",
            "[nltk_data]    | Downloading package snowball_data to\n",
            "[nltk_data]    |     /root/nltk_data...\n",
            "[nltk_data]    |   Package snowball_data is already up-to-date!\n",
            "[nltk_data]    | Downloading package averaged_perceptron_tagger to\n",
            "[nltk_data]    |     /root/nltk_data...\n",
            "[nltk_data]    |   Package averaged_perceptron_tagger is already up-\n",
            "[nltk_data]    |       to-date!\n",
            "[nltk_data]    | \n",
            "[nltk_data]  Done downloading collection popular\n"
          ]
        },
        {
          "output_type": "execute_result",
          "data": {
            "text/plain": [
              "True"
            ]
          },
          "metadata": {},
          "execution_count": 3
        }
      ],
      "source": [
        "import warnings; warnings.simplefilter('ignore')\n",
        "import nltk\n",
        "\n",
        "!wget https://raw.githubusercontent.com/taudata-indonesia/eLearning/master/taudataNlpTm.py\n",
        "!mkdir data\n",
        "!wget -P data/ https://raw.githubusercontent.com/taudata-indonesia/eLearning/master/data/slang.txt\n",
        "!wget -P data/ https://raw.githubusercontent.com/taudata-indonesia/eLearning/master/data/stopwords_id.txt\n",
        "!wget -P data/ https://raw.githubusercontent.com/taudata-indonesia/eLearning/master/data/stopwords_en.txt\n",
        "!wget -P data/ https://raw.githubusercontent.com/taudata-indonesia/eLearning/master/data/kata_dasar.txt\n",
        "!wget -P data/ https://raw.githubusercontent.com/taudata-indonesia/eLearning/master/data/wn-ind-def.tab\n",
        "!wget -P data/ https://raw.githubusercontent.com/taudata-indonesia/eLearning/master/data/wn-msa-all.tab\n",
        "!wget -P data/ https://raw.githubusercontent.com/taudata-indonesia/eLearning/master/data/ind_SA.csv\n",
        "!wget -P data/ https://raw.githubusercontent.com/taudata-indonesia/eLearning/master/data/all_indo_man_tag_corpus_model.crf.tagger\n",
        "!wget https://raw.githubusercontent.com/taudata-indonesia/eLearning/master/taudata_sna.py\n",
        "\n",
        "!pip install spacy python-crfsuite unidecode textblob sastrawi\n",
        "!python -m spacy download en\n",
        "!python -m spacy download xx\n",
        "!python -m spacy download en_core_web_sm\n",
        "\n",
        "nltk.download('popular')"
      ]
    },
    {
      "cell_type": "code",
      "execution_count": 4,
      "metadata": {
        "colab": {
          "base_uri": "https://localhost:8080/",
          "height": 194
        },
        "id": "VkjpI8I84hw7",
        "outputId": "305afde1-6c5f-490b-e07a-7098eb20f2f4"
      },
      "outputs": [
        {
          "output_type": "stream",
          "name": "stderr",
          "text": [
            "/usr/local/lib/python3.7/dist-packages/past/types/oldstr.py:5: DeprecationWarning: Using or importing the ABCs from 'collections' instead of from 'collections.abc' is deprecated since Python 3.3,and in 3.9 it will stop working\n",
            "  from collections import Iterable\n",
            "/usr/local/lib/python3.7/dist-packages/past/builtins/misc.py:4: DeprecationWarning: Using or importing the ABCs from 'collections' instead of from 'collections.abc' is deprecated since Python 3.3,and in 3.9 it will stop working\n",
            "  from collections import Mapping\n",
            "/usr/local/lib/python3.7/dist-packages/jsonschema/compat.py:6: DeprecationWarning: Using or importing the ABCs from 'collections' instead of from 'collections.abc' is deprecated since Python 3.3,and in 3.9 it will stop working\n",
            "  from collections import MutableMapping, Sequence  # noqa\n",
            "/usr/local/lib/python3.7/dist-packages/jsonschema/compat.py:6: DeprecationWarning: Using or importing the ABCs from 'collections' instead of from 'collections.abc' is deprecated since Python 3.3,and in 3.9 it will stop working\n",
            "  from collections import MutableMapping, Sequence  # noqa\n"
          ]
        },
        {
          "output_type": "execute_result",
          "data": {
            "application/vnd.google.colaboratory.intrinsic+json": {
              "type": "string"
            },
            "text/plain": [
              "'Done'"
            ]
          },
          "metadata": {},
          "execution_count": 4
        }
      ],
      "source": [
        "import warnings; warnings.simplefilter('ignore')\n",
        "import taudataNlpTm as tau, itertools, re, pickle, pyLDAvis, pyLDAvis.sklearn, spacy, urllib.request\n",
        "import time, numpy as np, matplotlib.pyplot as plt, networkx as nx, pandas as pd, seaborn as sns, taudata_sna as tauSNA\n",
        "from matplotlib.colors import ListedColormap\n",
        "from tqdm import tqdm\n",
        "from sklearn.feature_extraction.text import TfidfVectorizer, CountVectorizer\n",
        "from nltk.tag import CRFTagger\n",
        "from gensim.models import Phrases\n",
        "from gensim.corpora.dictionary import Dictionary\n",
        "from gensim.models.coherencemodel import CoherenceModel\n",
        "from gensim.models.ldamodel import LdaModel\n",
        "from nltk.corpus import stopwords\n",
        "from gensim.models import Word2Vec, FastText\n",
        "import tweepy, json, nltk, urllib.request, requests\n",
        "from urllib.request import Request, urlopen\n",
        "from twython import TwythonStreamer\n",
        "from bs4 import BeautifulSoup as bs\n",
        "\n",
        "pyLDAvis.enable_notebook()\n",
        "sns.set(style=\"ticks\", color_codes=True)\n",
        "random_state = 99\n",
        "'Done'"
      ]
    },
    {
      "cell_type": "code",
      "execution_count": 5,
      "metadata": {
        "id": "7ooThUa-C9Gz"
      },
      "outputs": [],
      "source": [
        "import taudataNlpTm as tau, seaborn as sns; sns.set()\n",
        "import warnings; warnings.simplefilter('ignore')\n",
        "import tweepy, json, nltk, urllib.request, requests\n",
        "from urllib.request import Request, urlopen\n",
        "from twython import TwythonStreamer\n",
        "from bs4 import BeautifulSoup as bs\n",
        "import pandas as pd\n",
        "import matplotlib.pyplot as plt\n",
        "import seaborn as sns\n",
        "import plotly.express as px"
      ]
    },
    {
      "cell_type": "code",
      "execution_count": 6,
      "metadata": {
        "id": "cMrCztQwFNvF"
      },
      "outputs": [],
      "source": [
        "Ck = 'N56DNKXGEnFc7njFcgSeQOOEc'\n",
        "Cs = 'C4RHNQKs2o6AgzSO5NB3H1snRPZJss8qBYWWv51DKv4NjzgZLB'\n",
        "At = '1307322137732984833-YRcHzOlfqsOXyCncmJVZLS7BpTFxkz'\n",
        "As = 'MsRo3NJQpy2CCXrlF6qMpobCNo8SDwUnVUEFlO6cvdo4U'"
      ]
    },
    {
      "cell_type": "code",
      "execution_count": 7,
      "metadata": {
        "id": "79lPx7MyJpwL"
      },
      "outputs": [],
      "source": [
        "def twitter_connect(Ck, Cs, At, As, verbose = 0):\n",
        "    try:\n",
        "        auth = tweepy.OAuthHandler(Ck, Cs)\n",
        "        auth.set_access_token(At, As)\n",
        "        twitter = tweepy.API(auth, wait_on_rate_limit=True)\n",
        "        if verbose != 0:\n",
        "            user = twitter.verify_credentials()\n",
        "            print('Welcome \"%s\" you are now connected to twitter server' %user.name)\n",
        "        return twitter\n",
        "    except:\n",
        "        print(\"Connection failed, please check your API keys or connection\")\n",
        "        return None"
      ]
    },
    {
      "cell_type": "code",
      "execution_count": 8,
      "metadata": {
        "colab": {
          "base_uri": "https://localhost:8080/"
        },
        "id": "VGR9hkAyJs7o",
        "outputId": "04d2bde0-ac00-4b15-cf8e-4a8379f2d1a8"
      },
      "outputs": [
        {
          "output_type": "stream",
          "name": "stdout",
          "text": [
            "Welcome \"¹ᴰ☘️💚\" you are now connected to twitter server\n"
          ]
        }
      ],
      "source": [
        "twitter = twitter_connect(Ck, Cs, At, As, verbose = 1)"
      ]
    },
    {
      "cell_type": "code",
      "execution_count": 9,
      "metadata": {
        "id": "sYNAHPmBJ0PJ"
      },
      "outputs": [],
      "source": [
        "#topic = 'Gizi buruk since:2015-12-10'\n",
        "#N = 100 # jumlah tweet yang ingin diambil\n",
        "#bahasa = 'id'\n",
        "#T = twitter.search(q=topic, lang=bahasa, count=N, tweet_mode = 'extended')\n",
        "#tweets = [t._json for t in T]"
      ]
    },
    {
      "cell_type": "code",
      "execution_count": 10,
      "metadata": {
        "id": "IXMd9ATAKCZY"
      },
      "outputs": [],
      "source": [
        "#def getdata(topic, T):\n",
        "#  while True:\n",
        "#    try:\n",
        "#      last_id = T[-1]._json['id'] - 1\n",
        "#      T = twitter.search(q=topic, lang=bahasa, count=N, tweet_mode = 'extended', max_id=last_id)\n",
        "#      tweets.extend([t._json for t in T])\n",
        "#      print(' Berhasil mendapatkan {} tweets'.format(len(tweets)))\n",
        "#    except IndexError:\n",
        "#      return T"
      ]
    },
    {
      "cell_type": "code",
      "execution_count": 11,
      "metadata": {
        "id": "53f-vcluKS0x"
      },
      "outputs": [],
      "source": [
        "#getdata(topic, T)"
      ]
    },
    {
      "cell_type": "code",
      "execution_count": 12,
      "metadata": {
        "id": "IsybLXqLKW-a"
      },
      "outputs": [],
      "source": [
        "#topic2='Stunting anak since:2015-12-10'"
      ]
    },
    {
      "cell_type": "code",
      "execution_count": 13,
      "metadata": {
        "id": "Jq2l_x33Ke_B"
      },
      "outputs": [],
      "source": [
        "#getdata(topic2, T)"
      ]
    },
    {
      "cell_type": "code",
      "execution_count": 14,
      "metadata": {
        "id": "zgvmjd0YKh5r"
      },
      "outputs": [],
      "source": [
        "#topic3=\"Stunting dewasa since:2015-12-10\""
      ]
    },
    {
      "cell_type": "code",
      "execution_count": 15,
      "metadata": {
        "id": "ajzEyn1fKoXe"
      },
      "outputs": [],
      "source": [
        "#getdata(topic3, T)"
      ]
    },
    {
      "cell_type": "code",
      "execution_count": 16,
      "metadata": {
        "id": "y5eHLYWLKssp"
      },
      "outputs": [],
      "source": [
        "#topic4='Upaya pemerintah stunting since:2015-12-10'"
      ]
    },
    {
      "cell_type": "code",
      "execution_count": 17,
      "metadata": {
        "id": "AhPWCYEWK2tj"
      },
      "outputs": [],
      "source": [
        "#getdata(topic4, T)"
      ]
    },
    {
      "cell_type": "code",
      "execution_count": 18,
      "metadata": {
        "id": "5jRBdPEiK5HK"
      },
      "outputs": [],
      "source": [
        "#topic5='edukasi stunting since:2015-12-10'"
      ]
    },
    {
      "cell_type": "code",
      "execution_count": 19,
      "metadata": {
        "id": "4yjlV88pLAMh"
      },
      "outputs": [],
      "source": [
        "#getdata(topic5, T)"
      ]
    },
    {
      "cell_type": "code",
      "execution_count": 20,
      "metadata": {
        "id": "dwYxbxGdLDte"
      },
      "outputs": [],
      "source": [
        "#topic6='faktor stunting since:2015-12-10'"
      ]
    },
    {
      "cell_type": "code",
      "execution_count": 21,
      "metadata": {
        "id": "bJ8RvDT4LKam"
      },
      "outputs": [],
      "source": [
        "#getdata(topic6, T)"
      ]
    },
    {
      "cell_type": "code",
      "execution_count": 22,
      "metadata": {
        "id": "JnHDunCGLSAQ"
      },
      "outputs": [],
      "source": [
        "#topic7='dampak stunting since:2015-12-10'"
      ]
    },
    {
      "cell_type": "code",
      "execution_count": 23,
      "metadata": {
        "id": "vM5fyOydLNyv"
      },
      "outputs": [],
      "source": [
        "#getdata(topic7, T)"
      ]
    },
    {
      "cell_type": "code",
      "execution_count": 24,
      "metadata": {
        "id": "lCFUZLptLYli"
      },
      "outputs": [],
      "source": [
        "#topic8='literasi gizi since:2015-12-10'"
      ]
    },
    {
      "cell_type": "code",
      "execution_count": 25,
      "metadata": {
        "id": "K-WKItC6Le0v"
      },
      "outputs": [],
      "source": [
        "#getdata(topic8, T)"
      ]
    },
    {
      "cell_type": "code",
      "execution_count": 26,
      "metadata": {
        "id": "AC6SGRqKLiZz"
      },
      "outputs": [],
      "source": [
        "#topic9='Kasus stunting since:2015-12-10'"
      ]
    },
    {
      "cell_type": "code",
      "execution_count": 27,
      "metadata": {
        "id": "b7G6oJYeLqEY"
      },
      "outputs": [],
      "source": [
        "#getdata(topic9, T)"
      ]
    },
    {
      "cell_type": "code",
      "execution_count": 28,
      "metadata": {
        "id": "-yBr62jfLsH_"
      },
      "outputs": [],
      "source": [
        "#topic10 ='angka stunting since:2015-12-10'"
      ]
    },
    {
      "cell_type": "code",
      "execution_count": 29,
      "metadata": {
        "id": "nqs4Ef_gLzJz"
      },
      "outputs": [],
      "source": [
        "#getdata(topic10, T)"
      ]
    },
    {
      "cell_type": "code",
      "execution_count": 30,
      "metadata": {
        "id": "FdLFLEHLL1PH"
      },
      "outputs": [],
      "source": [
        "#topic11 = 'Balita Stunting since:2015-12-10'"
      ]
    },
    {
      "cell_type": "code",
      "execution_count": 31,
      "metadata": {
        "id": "rz2G6B2JL7Yn"
      },
      "outputs": [],
      "source": [
        "#getdata(topic11, T)"
      ]
    },
    {
      "cell_type": "code",
      "execution_count": 32,
      "metadata": {
        "id": "I7RwH_aiL-xg"
      },
      "outputs": [],
      "source": [
        "#topic12 = 'Stunting indonesia since:2015-12-10'"
      ]
    },
    {
      "cell_type": "code",
      "execution_count": 33,
      "metadata": {
        "id": "4T4iHL_TMHsV"
      },
      "outputs": [],
      "source": [
        "#getdata(topic12, T)"
      ]
    },
    {
      "cell_type": "code",
      "execution_count": 34,
      "metadata": {
        "id": "TMhWleTLMKnu"
      },
      "outputs": [],
      "source": [
        "#topic13 = 'Stunting parenting since:2015-12-10'"
      ]
    },
    {
      "cell_type": "code",
      "execution_count": 35,
      "metadata": {
        "id": "DQZ4sLW1MU3I"
      },
      "outputs": [],
      "source": [
        "#getdata(topic13, T)"
      ]
    },
    {
      "cell_type": "code",
      "execution_count": 36,
      "metadata": {
        "id": "qbofTf_NMXsh"
      },
      "outputs": [],
      "source": [
        "#topic14 = 'Penyebab stunting since:2015-12-10'"
      ]
    },
    {
      "cell_type": "code",
      "execution_count": 37,
      "metadata": {
        "id": "TKVE056yMeD2"
      },
      "outputs": [],
      "source": [
        "#getdata(topic14, T)"
      ]
    },
    {
      "cell_type": "code",
      "execution_count": 38,
      "metadata": {
        "id": "_TyIdh_YMhfI"
      },
      "outputs": [],
      "source": [
        "#topic15 = 'Akibat stunting since:2015-12-10'"
      ]
    },
    {
      "cell_type": "code",
      "execution_count": 39,
      "metadata": {
        "id": "hDUyhEooMnGN"
      },
      "outputs": [],
      "source": [
        "#getdata(topic15, T)"
      ]
    },
    {
      "cell_type": "code",
      "execution_count": 40,
      "metadata": {
        "id": "18aSdvZHMpLy"
      },
      "outputs": [],
      "source": [
        "#topic16 = 'Resiko stunting since:2015-12-10'"
      ]
    },
    {
      "cell_type": "code",
      "execution_count": 41,
      "metadata": {
        "id": "YQJCngJ0Mtm8"
      },
      "outputs": [],
      "source": [
        "#getdata(topic16, T)"
      ]
    },
    {
      "cell_type": "code",
      "execution_count": 42,
      "metadata": {
        "id": "mKbL-rA7MwOJ"
      },
      "outputs": [],
      "source": [
        "#topic17 = 'pencegahan stunting since:2015-12-10'"
      ]
    },
    {
      "cell_type": "code",
      "execution_count": 43,
      "metadata": {
        "id": "J2VyItAVM1wJ"
      },
      "outputs": [],
      "source": [
        "#getdata(topic17, T)"
      ]
    },
    {
      "cell_type": "code",
      "execution_count": 44,
      "metadata": {
        "id": "qZhWVB2WM4F_"
      },
      "outputs": [],
      "source": [
        "#topic18 = 'malnutrisi balita since:2015-12-10'"
      ]
    },
    {
      "cell_type": "code",
      "execution_count": 45,
      "metadata": {
        "id": "SuE6wy_QM9wE"
      },
      "outputs": [],
      "source": [
        "#getdata(topic18, T)"
      ]
    },
    {
      "cell_type": "code",
      "execution_count": 46,
      "metadata": {
        "id": "5kYEmdWANAWV"
      },
      "outputs": [],
      "source": [
        "#topic19 = 'gagal tumbuh since:2015-12-10'"
      ]
    },
    {
      "cell_type": "code",
      "execution_count": 47,
      "metadata": {
        "id": "gujViA_I1Oj6"
      },
      "outputs": [],
      "source": [
        "#getdata(topic19, T)"
      ]
    },
    {
      "cell_type": "code",
      "execution_count": 48,
      "metadata": {
        "id": "nYt-Yn2Y1RPL"
      },
      "outputs": [],
      "source": [
        "#topic20 = 'angka kasus stunting since:2015-12-10'"
      ]
    },
    {
      "cell_type": "code",
      "execution_count": 49,
      "metadata": {
        "id": "BwBY9I1_1qRl"
      },
      "outputs": [],
      "source": [
        "#getdata(topic20, T)"
      ]
    },
    {
      "cell_type": "code",
      "execution_count": 50,
      "metadata": {
        "id": "q4aTi4tS1sl-"
      },
      "outputs": [],
      "source": [
        "#topic21 = 'stunting remaja since:2015-12-10'"
      ]
    },
    {
      "cell_type": "code",
      "execution_count": 51,
      "metadata": {
        "id": "iOfrcOInuE90"
      },
      "outputs": [],
      "source": [
        "#getdata(topic21, T)"
      ]
    },
    {
      "cell_type": "code",
      "execution_count": 52,
      "metadata": {
        "id": "5JrqUQC2uG9R"
      },
      "outputs": [],
      "source": [
        "#topic22 = 'stunting anemia since:2015-12-10'"
      ]
    },
    {
      "cell_type": "code",
      "execution_count": 53,
      "metadata": {
        "id": "Qk8nrkYRuLCd"
      },
      "outputs": [],
      "source": [
        "#getdata(topic22, T)"
      ]
    },
    {
      "cell_type": "code",
      "execution_count": 54,
      "metadata": {
        "id": "d34lQUZ2uNi4"
      },
      "outputs": [],
      "source": [
        "#topic23 = 'urutan stunting since:2015-12-10'"
      ]
    },
    {
      "cell_type": "code",
      "execution_count": 55,
      "metadata": {
        "id": "b2ELaTywuUJ_"
      },
      "outputs": [],
      "source": [
        "#getdata(topic23, T)"
      ]
    },
    {
      "cell_type": "code",
      "execution_count": 56,
      "metadata": {
        "id": "LenGovAmuWYf"
      },
      "outputs": [],
      "source": [
        "#topic24 = 'Tim percepatan pencegahan anak kerdil since:2015-12-10'"
      ]
    },
    {
      "cell_type": "code",
      "execution_count": 57,
      "metadata": {
        "id": "oVnkupXwu7KI"
      },
      "outputs": [],
      "source": [
        "#getdata(topic24, T)"
      ]
    },
    {
      "cell_type": "code",
      "execution_count": 58,
      "metadata": {
        "id": "oKIstQfyu_wa"
      },
      "outputs": [],
      "source": [
        "#topic25 = 'Pandemi stunting'"
      ]
    },
    {
      "cell_type": "code",
      "execution_count": 59,
      "metadata": {
        "id": "R5uS4ge2vH_p"
      },
      "outputs": [],
      "source": [
        "#getdata(topic25, T)"
      ]
    },
    {
      "cell_type": "code",
      "execution_count": 60,
      "metadata": {
        "id": "9QaoHmorvKIX"
      },
      "outputs": [],
      "source": [
        "#topic26 = 'Prevalensi stunting'"
      ]
    },
    {
      "cell_type": "code",
      "execution_count": 61,
      "metadata": {
        "id": "eqQFs_TzvV4R"
      },
      "outputs": [],
      "source": [
        "#getdata(topic26, T)"
      ]
    },
    {
      "cell_type": "code",
      "execution_count": 62,
      "metadata": {
        "id": "PctLsmxfvX8f"
      },
      "outputs": [],
      "source": [
        "#topic27 = 'masalah kurang gizi since:2015-12-10'"
      ]
    },
    {
      "cell_type": "code",
      "execution_count": 63,
      "metadata": {
        "id": "_xs57qvvwd8M"
      },
      "outputs": [],
      "source": [
        "#getdata(topic27, T)"
      ]
    },
    {
      "cell_type": "code",
      "execution_count": 64,
      "metadata": {
        "id": "UEedBebMwf9R"
      },
      "outputs": [],
      "source": [
        "#topic28 = 'stunting miskin since:2015-12-10'"
      ]
    },
    {
      "cell_type": "code",
      "execution_count": 65,
      "metadata": {
        "id": "wp4CnsEfwqeb"
      },
      "outputs": [],
      "source": [
        "#getdata(topic28, T)"
      ]
    },
    {
      "cell_type": "code",
      "execution_count": 66,
      "metadata": {
        "id": "g0ewTMMZwtA6"
      },
      "outputs": [],
      "source": [
        "#topic29 = '#lawanstunting'"
      ]
    },
    {
      "cell_type": "code",
      "execution_count": 67,
      "metadata": {
        "id": "6R4_snwXw4oI"
      },
      "outputs": [],
      "source": [
        "#getdata(topic29, T)"
      ]
    },
    {
      "cell_type": "code",
      "execution_count": 68,
      "metadata": {
        "id": "7gaaf5oWw6-V"
      },
      "outputs": [],
      "source": [
        "#topic30 = 'stunting rokok'"
      ]
    },
    {
      "cell_type": "code",
      "execution_count": 69,
      "metadata": {
        "id": "b4p14FwSxXNA"
      },
      "outputs": [],
      "source": [
        "#getdata(topic30, T)"
      ]
    },
    {
      "cell_type": "code",
      "execution_count": 70,
      "metadata": {
        "id": "t4N8OOaHxZUc"
      },
      "outputs": [],
      "source": [
        "#topic31 = 'tuntaskan stunting since:2015-12-10'"
      ]
    },
    {
      "cell_type": "code",
      "execution_count": 71,
      "metadata": {
        "id": "s41FJdYfxztT"
      },
      "outputs": [],
      "source": [
        "#getdata(topic31, T)"
      ]
    },
    {
      "cell_type": "code",
      "execution_count": 72,
      "metadata": {
        "id": "0B1_GpSjx2eK"
      },
      "outputs": [],
      "source": [
        "#topic32 = '#cegahstunting since:2015-12-10'"
      ]
    },
    {
      "cell_type": "code",
      "execution_count": 73,
      "metadata": {
        "id": "nuTB5rhTyaiV"
      },
      "outputs": [],
      "source": [
        "#getdata(topic32, T)"
      ]
    },
    {
      "cell_type": "code",
      "execution_count": 74,
      "metadata": {
        "id": "73zm83HYycYj"
      },
      "outputs": [],
      "source": [
        "#topic33 = 'stunting asi since:2015-12-10'"
      ]
    },
    {
      "cell_type": "code",
      "execution_count": 75,
      "metadata": {
        "id": "9jva76F-yvw7"
      },
      "outputs": [],
      "source": [
        "#getdata(topic33, T)"
      ]
    },
    {
      "cell_type": "code",
      "execution_count": 76,
      "metadata": {
        "id": "v3fkdTwxyyJ_"
      },
      "outputs": [],
      "source": [
        "#topic34 = 'stunting ekonomi since:2015-12-10'"
      ]
    },
    {
      "cell_type": "code",
      "execution_count": 77,
      "metadata": {
        "id": "Aj9UztLuziDd"
      },
      "outputs": [],
      "source": [
        "#getdata(topic34, T)"
      ]
    },
    {
      "cell_type": "code",
      "execution_count": 78,
      "metadata": {
        "id": "Memm-zE_zjkr"
      },
      "outputs": [],
      "source": [
        "#topic35 = 'bayi stunting since:2015-12-10'"
      ]
    },
    {
      "cell_type": "code",
      "execution_count": 79,
      "metadata": {
        "id": "URj7Z9Hr7uu8"
      },
      "outputs": [],
      "source": [
        "#getdata(topic35, T)"
      ]
    },
    {
      "cell_type": "code",
      "execution_count": 80,
      "metadata": {
        "id": "za-p1RaU7wjt"
      },
      "outputs": [],
      "source": [
        "#topic37 = 'kemenkes stunting since:2015-12-10'"
      ]
    },
    {
      "cell_type": "code",
      "execution_count": 81,
      "metadata": {
        "id": "UrdCQukH8Omz"
      },
      "outputs": [],
      "source": [
        "#getdata(topic37, T)"
      ]
    },
    {
      "cell_type": "code",
      "execution_count": 82,
      "metadata": {
        "id": "mfZKP-6s8SO-"
      },
      "outputs": [],
      "source": [
        "#topic36 = 'kenaikan stunting since:2015-12-10'"
      ]
    },
    {
      "cell_type": "code",
      "execution_count": 83,
      "metadata": {
        "id": "t0-WYL7u8XNv"
      },
      "outputs": [],
      "source": [
        "#getdata(topic36, T)"
      ]
    },
    {
      "cell_type": "code",
      "execution_count": 84,
      "metadata": {
        "id": "ReTLSWTv8Zbh"
      },
      "outputs": [],
      "source": [
        "#topic38 = 'penurunan stunting since:2015-12-10'"
      ]
    },
    {
      "cell_type": "code",
      "execution_count": 85,
      "metadata": {
        "id": "YF73USm680zG"
      },
      "outputs": [],
      "source": [
        "#getdata(topic38, T)"
      ]
    },
    {
      "cell_type": "code",
      "execution_count": 86,
      "metadata": {
        "id": "JE1r-Px282t5"
      },
      "outputs": [],
      "source": [
        "#topic39 = 'malnutrisi stunting since:2015-12-10'"
      ]
    },
    {
      "cell_type": "code",
      "execution_count": 87,
      "metadata": {
        "id": "MT8Okw3k921-"
      },
      "outputs": [],
      "source": [
        "#getdata(topic39, T)"
      ]
    },
    {
      "cell_type": "code",
      "execution_count": 88,
      "metadata": {
        "id": "PeSk8q-M95A1"
      },
      "outputs": [],
      "source": [
        "#topic40 = 'malnutrisi indonesia since:2015-12-10'"
      ]
    },
    {
      "cell_type": "code",
      "execution_count": 89,
      "metadata": {
        "id": "yoQkmgp0-CV0"
      },
      "outputs": [],
      "source": [
        "#getdata(topic40, T)"
      ]
    },
    {
      "cell_type": "code",
      "execution_count": 90,
      "metadata": {
        "id": "9jxZscBQ-FRL"
      },
      "outputs": [],
      "source": [
        "#topic41 = 'kelaparan stunting since:2015-12-10'"
      ]
    },
    {
      "cell_type": "code",
      "execution_count": 91,
      "metadata": {
        "id": "FU8fCnLh-gGG"
      },
      "outputs": [],
      "source": [
        "#getdata(topic41, T)"
      ]
    },
    {
      "cell_type": "code",
      "execution_count": 92,
      "metadata": {
        "id": "jzNV79RE-h-Q"
      },
      "outputs": [],
      "source": [
        "#topic42 = 'desa stunting since:2015-12-10'"
      ]
    },
    {
      "cell_type": "code",
      "execution_count": 93,
      "metadata": {
        "id": "tLgJ17LF-nUN"
      },
      "outputs": [],
      "source": [
        "#getdata(topic42, T)"
      ]
    },
    {
      "cell_type": "code",
      "execution_count": 94,
      "metadata": {
        "id": "ocTnCnXo-pOh"
      },
      "outputs": [],
      "source": [
        "#topic43 = 'nikah stunting since:2015-12-10'"
      ]
    },
    {
      "cell_type": "code",
      "execution_count": 95,
      "metadata": {
        "id": "0LzugiNv_IQb"
      },
      "outputs": [],
      "source": [
        "#getdata(topic43, T)"
      ]
    },
    {
      "cell_type": "code",
      "execution_count": 96,
      "metadata": {
        "id": "ZsZgaXu9_KVe"
      },
      "outputs": [],
      "source": [
        "#topic44 = 'balita kekurangan gizi since:2015-12-10'"
      ]
    },
    {
      "cell_type": "code",
      "execution_count": 97,
      "metadata": {
        "id": "6gwR86vO_wQU"
      },
      "outputs": [],
      "source": [
        "#getdata(topic44, T)"
      ]
    },
    {
      "cell_type": "code",
      "execution_count": 98,
      "metadata": {
        "id": "Vff56mEz_0CP"
      },
      "outputs": [],
      "source": [
        "#topic45 = 'bayi kekurangan gizi since:2015-12-10'"
      ]
    },
    {
      "cell_type": "code",
      "execution_count": 99,
      "metadata": {
        "id": "4QifV6_7_8vQ"
      },
      "outputs": [],
      "source": [
        "#getdata(topic45, T)"
      ]
    },
    {
      "cell_type": "code",
      "execution_count": 100,
      "metadata": {
        "id": "eY2w5gN5__9-"
      },
      "outputs": [],
      "source": [
        "#topic46 = 'penanggulangan stunting since:2015-12-10'"
      ]
    },
    {
      "cell_type": "code",
      "execution_count": 101,
      "metadata": {
        "id": "RlbHMWCzASZ6"
      },
      "outputs": [],
      "source": [
        "#getdata(topic46, T)"
      ]
    },
    {
      "cell_type": "code",
      "execution_count": 102,
      "metadata": {
        "id": "O4xNbzGnAUVq"
      },
      "outputs": [],
      "source": [
        "#topic47 = 'hari gizi stunting since:2015-12-10'"
      ]
    },
    {
      "cell_type": "code",
      "execution_count": 103,
      "metadata": {
        "id": "6XX3YZICAoNj"
      },
      "outputs": [],
      "source": [
        "#getdata(topic47, T)"
      ]
    },
    {
      "cell_type": "code",
      "execution_count": 104,
      "metadata": {
        "id": "246uqsh2Aqn8"
      },
      "outputs": [],
      "source": [
        "#topic48 = 'tangani stunting since:2015-12-10'"
      ]
    },
    {
      "cell_type": "code",
      "execution_count": 105,
      "metadata": {
        "id": "TIw0AB9_AxCB"
      },
      "outputs": [],
      "source": [
        "#getdata(topic48, T)"
      ]
    },
    {
      "cell_type": "code",
      "execution_count": 106,
      "metadata": {
        "id": "c-MmSCFfAzHG"
      },
      "outputs": [],
      "source": [
        "#topic49 = 'bahaya stunting since:2015-12-10'"
      ]
    },
    {
      "cell_type": "code",
      "execution_count": 107,
      "metadata": {
        "id": "qX0AwM7kBlpa"
      },
      "outputs": [],
      "source": [
        "#getdata(topic49, T)"
      ]
    },
    {
      "cell_type": "code",
      "execution_count": 108,
      "metadata": {
        "id": "jaHTiwQtBoKV"
      },
      "outputs": [],
      "source": [
        "#topic50 = 'asupan gizi anak since:2015-12-10'"
      ]
    },
    {
      "cell_type": "code",
      "execution_count": 109,
      "metadata": {
        "id": "gEBtcXysB9AI"
      },
      "outputs": [],
      "source": [
        "#getdata(topic50, T)"
      ]
    },
    {
      "cell_type": "code",
      "execution_count": 110,
      "metadata": {
        "id": "drBPMVcmCAI0"
      },
      "outputs": [],
      "source": [
        "#topic51 = 'asupan gizi bayi since:2015-12-10'"
      ]
    },
    {
      "cell_type": "code",
      "execution_count": 111,
      "metadata": {
        "id": "kGjX_flkCF5s"
      },
      "outputs": [],
      "source": [
        "#getdata(topic51, T)"
      ]
    },
    {
      "cell_type": "code",
      "execution_count": 112,
      "metadata": {
        "id": "fPwizF7kCII7"
      },
      "outputs": [],
      "source": [
        "#topic52 = 'asupan gizi balita since:2015-12-10'"
      ]
    },
    {
      "cell_type": "code",
      "execution_count": 113,
      "metadata": {
        "id": "rLfb3BptCODq"
      },
      "outputs": [],
      "source": [
        "#getdata(topic52, T)"
      ]
    },
    {
      "cell_type": "code",
      "execution_count": 114,
      "metadata": {
        "id": "scr8ZQdTCRZw"
      },
      "outputs": [],
      "source": [
        "#topic53 = 'stunting negara berkembang since:2015-12-10'"
      ]
    },
    {
      "cell_type": "code",
      "execution_count": 115,
      "metadata": {
        "id": "ck_Sw-DMD5MA"
      },
      "outputs": [],
      "source": [
        "#getdata(topic53, T)"
      ]
    },
    {
      "cell_type": "code",
      "execution_count": 116,
      "metadata": {
        "id": "EJHnzsIHD7Ud"
      },
      "outputs": [],
      "source": [
        "#topic54 = 'masa depan stunting since:2015-12-10'"
      ]
    },
    {
      "cell_type": "code",
      "execution_count": 117,
      "metadata": {
        "id": "za3J9VEoEENa"
      },
      "outputs": [],
      "source": [
        "#getdata(topic54, T)"
      ]
    },
    {
      "cell_type": "code",
      "execution_count": 118,
      "metadata": {
        "id": "hGjnJen7EGWk"
      },
      "outputs": [],
      "source": [
        "#topic55 = 'tanda stunting anak since:2015-12-10'"
      ]
    },
    {
      "cell_type": "code",
      "execution_count": 119,
      "metadata": {
        "id": "Ct8U-w13EyyP"
      },
      "outputs": [],
      "source": [
        "#getdata(topic55, T)"
      ]
    },
    {
      "cell_type": "code",
      "execution_count": 120,
      "metadata": {
        "id": "MRg-rWHcE0vv"
      },
      "outputs": [],
      "source": [
        "#topic56 = 'strategi stunting since:2015-12-10'"
      ]
    },
    {
      "cell_type": "code",
      "execution_count": 121,
      "metadata": {
        "id": "lxdCWQh-FPIV"
      },
      "outputs": [],
      "source": [
        "#getdata(topic56, T)"
      ]
    },
    {
      "cell_type": "code",
      "execution_count": 122,
      "metadata": {
        "id": "e1zJZuaIFRJ7"
      },
      "outputs": [],
      "source": [
        "#topic57 = 'who stunting anak since:2015-12-10'"
      ]
    },
    {
      "cell_type": "code",
      "execution_count": 123,
      "metadata": {
        "id": "CQj060knGDo0"
      },
      "outputs": [],
      "source": [
        "#getdata(topic57, T)"
      ]
    },
    {
      "cell_type": "code",
      "execution_count": 124,
      "metadata": {
        "id": "RptCTnD7GFz2"
      },
      "outputs": [],
      "source": [
        "#topic58 = 'covid angka stunting'"
      ]
    },
    {
      "cell_type": "code",
      "execution_count": 125,
      "metadata": {
        "id": "h6au9-m9GOKa"
      },
      "outputs": [],
      "source": [
        "#getdata(topic58, T)"
      ]
    },
    {
      "cell_type": "code",
      "execution_count": 126,
      "metadata": {
        "id": "4J7WmHYnGP_X"
      },
      "outputs": [],
      "source": [
        "#topic59 = 'ancaman stunting since:2015-12-10'"
      ]
    },
    {
      "cell_type": "code",
      "execution_count": 127,
      "metadata": {
        "id": "tjv-fQpFGrF-"
      },
      "outputs": [],
      "source": [
        "#getdata(topic59, T)"
      ]
    },
    {
      "cell_type": "code",
      "execution_count": 128,
      "metadata": {
        "id": "HZ4OnEFSGtyo"
      },
      "outputs": [],
      "source": [
        "#topic60 = 'status gizi anak since:2015-12-10'"
      ]
    },
    {
      "cell_type": "code",
      "execution_count": 129,
      "metadata": {
        "id": "1ysfGgmSHI9S"
      },
      "outputs": [],
      "source": [
        "#getdata(topic60, T)"
      ]
    },
    {
      "cell_type": "code",
      "execution_count": 130,
      "metadata": {
        "id": "LcFhAVPVHLR9"
      },
      "outputs": [],
      "source": [
        "#topic61 = 'status gizi balita since:2015-12-10'"
      ]
    },
    {
      "cell_type": "code",
      "execution_count": 131,
      "metadata": {
        "id": "v41V1rviH0q1"
      },
      "outputs": [],
      "source": [
        "#getdata(topic61, T)"
      ]
    },
    {
      "cell_type": "code",
      "execution_count": 132,
      "metadata": {
        "id": "cKBlLKFpH4Nt"
      },
      "outputs": [],
      "source": [
        "#topic62 = 'status gizi bayi since:2015-12-10'"
      ]
    },
    {
      "cell_type": "code",
      "execution_count": 133,
      "metadata": {
        "id": "vtb8u8gUIdVD"
      },
      "outputs": [],
      "source": [
        "#getdata(topic62, T)"
      ]
    },
    {
      "cell_type": "code",
      "execution_count": 134,
      "metadata": {
        "id": "O7UzA8KXIf8F"
      },
      "outputs": [],
      "source": [
        "#topic63 = 'masalah stunting since:2015-12-10'"
      ]
    },
    {
      "cell_type": "code",
      "execution_count": 135,
      "metadata": {
        "id": "9HN8vTUtI41b"
      },
      "outputs": [],
      "source": [
        "#getdata(topic63, T)"
      ]
    },
    {
      "cell_type": "code",
      "execution_count": 136,
      "metadata": {
        "id": "kbS57dciJAm-"
      },
      "outputs": [],
      "source": [
        "#topic64 = 'isu stunting since:2015-12-10'"
      ]
    },
    {
      "cell_type": "code",
      "execution_count": 137,
      "metadata": {
        "id": "HGofZDwnJXMv"
      },
      "outputs": [],
      "source": [
        "#getdata(topic64, T)"
      ]
    },
    {
      "cell_type": "code",
      "execution_count": 138,
      "metadata": {
        "id": "dhotYqsZJZpu"
      },
      "outputs": [],
      "source": [
        "#topic65 = 'lawan stunting since:2015-12-10'"
      ]
    },
    {
      "cell_type": "code",
      "execution_count": 139,
      "metadata": {
        "id": "OwTnWaxvJl9O"
      },
      "outputs": [],
      "source": [
        "#getdata(topic65, T)"
      ]
    },
    {
      "cell_type": "code",
      "execution_count": 140,
      "metadata": {
        "id": "PZfputsBJok2"
      },
      "outputs": [],
      "source": [
        "#topic66 = 'parenting stunting anak since:2015-12-10'"
      ]
    },
    {
      "cell_type": "code",
      "execution_count": 141,
      "metadata": {
        "id": "yrC8oZCPKBLN"
      },
      "outputs": [],
      "source": [
        "#getdata(topic66, T)"
      ]
    },
    {
      "cell_type": "code",
      "execution_count": 142,
      "metadata": {
        "id": "fMaMdf0iKFBt"
      },
      "outputs": [],
      "source": [
        "#topic67 = 'kebutuhan gizi anak since:2015-12-10'"
      ]
    },
    {
      "cell_type": "code",
      "execution_count": 143,
      "metadata": {
        "id": "FBu5dJ-fKYDp"
      },
      "outputs": [],
      "source": [
        "#getdata(topic67, T)"
      ]
    },
    {
      "cell_type": "code",
      "execution_count": 144,
      "metadata": {
        "id": "coS5jYleK1ud"
      },
      "outputs": [],
      "source": [
        "#topic68 = 'kebutuhan gizi balita since:2015-12-10'"
      ]
    },
    {
      "cell_type": "code",
      "execution_count": 145,
      "metadata": {
        "id": "o2V5nZ__K73m"
      },
      "outputs": [],
      "source": [
        "#getdata(topic68, T)"
      ]
    },
    {
      "cell_type": "code",
      "execution_count": 146,
      "metadata": {
        "id": "kLyVHzoRK90m"
      },
      "outputs": [],
      "source": [
        "#topic69 = 'makanan stunting since:2015-12-10'"
      ]
    },
    {
      "cell_type": "code",
      "execution_count": 147,
      "metadata": {
        "id": "xaT77LRcLcGC"
      },
      "outputs": [],
      "source": [
        "#getdata(topic69, T)"
      ]
    },
    {
      "cell_type": "code",
      "execution_count": 148,
      "metadata": {
        "id": "ABaqxn_6LeYW"
      },
      "outputs": [],
      "source": [
        "#topic70 = 'gizi buruk indonesia since:2015-12-10'"
      ]
    },
    {
      "cell_type": "code",
      "execution_count": 149,
      "metadata": {
        "id": "5SamRIgmMfTX"
      },
      "outputs": [],
      "source": [
        "#getdata(topic70, T)"
      ]
    },
    {
      "cell_type": "code",
      "execution_count": 150,
      "metadata": {
        "id": "4RLqJTGCMhbB"
      },
      "outputs": [],
      "source": [
        "#topic71 = 'masalah gizi anak since:2015-12-10'"
      ]
    },
    {
      "cell_type": "code",
      "execution_count": 151,
      "metadata": {
        "id": "axc2dHEfMneo"
      },
      "outputs": [],
      "source": [
        "#getdata(topic71, T)"
      ]
    },
    {
      "cell_type": "code",
      "execution_count": 152,
      "metadata": {
        "id": "j48crBtiMsy_"
      },
      "outputs": [],
      "source": [
        "#topic72 = 'penangan stunting since:2015-12-10'"
      ]
    },
    {
      "cell_type": "code",
      "execution_count": 153,
      "metadata": {
        "id": "v8gygBHhO9Sk"
      },
      "outputs": [],
      "source": [
        "#getdata(topic72, T)"
      ]
    },
    {
      "cell_type": "code",
      "execution_count": 154,
      "metadata": {
        "id": "pTKpD5ZKPAMU"
      },
      "outputs": [],
      "source": [
        "#def saveTweets(tweets, file='Tweets.json', orients='record'): #in Json Format\n",
        "#    with open(file, 'w') as f:\n",
        "#        for t in tweets:\n",
        "#            try:\n",
        "#                f.write(json.dumps(t)+'\\n')\n",
        "#            except:\n",
        "#                pass"
      ]
    },
    {
      "cell_type": "code",
      "execution_count": 155,
      "metadata": {
        "id": "ZeoXJ8zMQbk3"
      },
      "outputs": [],
      "source": [
        "#fileName = 'data/stunting.json'\n",
        "#saveTweets(tweets, file=fileName)\n",
        "#print('Saved to '+fileName)"
      ]
    },
    {
      "cell_type": "markdown",
      "metadata": {
        "id": "_4lIdmJ179HD"
      },
      "source": [
        "# EDA"
      ]
    },
    {
      "cell_type": "code",
      "execution_count": 156,
      "metadata": {
        "colab": {
          "base_uri": "https://localhost:8080/"
        },
        "id": "xjElJmWDQl0e",
        "outputId": "462c2c7a-2546-4d48-d8b9-32277a16e14c"
      },
      "outputs": [
        {
          "output_type": "stream",
          "name": "stdout",
          "text": [
            "mkdir: cannot create directory ‘dataset’: File exists\n"
          ]
        }
      ],
      "source": [
        "!mkdir dataset"
      ]
    },
    {
      "cell_type": "code",
      "execution_count": 157,
      "metadata": {
        "colab": {
          "base_uri": "https://localhost:8080/"
        },
        "id": "QggIA4BE8sqz",
        "outputId": "51929ff0-1ad1-4370-9303-45e7bb44af81"
      },
      "outputs": [
        {
          "output_type": "stream",
          "name": "stdout",
          "text": [
            "--2021-12-13 20:41:27--  https://raw.githubusercontent.com/dewirizki/UASKapsel_Stunting/main/data/stunting.json\n",
            "Resolving raw.githubusercontent.com (raw.githubusercontent.com)... 185.199.111.133, 185.199.110.133, 185.199.108.133, ...\n",
            "Connecting to raw.githubusercontent.com (raw.githubusercontent.com)|185.199.111.133|:443... connected.\n",
            "HTTP request sent, awaiting response... 200 OK\n",
            "Length: 22030363 (21M) [text/plain]\n",
            "Saving to: ‘dataset/stunting.json.1’\n",
            "\n",
            "stunting.json.1     100%[===================>]  21.01M  81.8MB/s    in 0.3s    \n",
            "\n",
            "2021-12-13 20:41:27 (81.8 MB/s) - ‘dataset/stunting.json.1’ saved [22030363/22030363]\n",
            "\n"
          ]
        }
      ],
      "source": [
        "!wget -P dataset/ https://raw.githubusercontent.com/dewirizki/UASKapsel_Stunting/main/data/stunting.json"
      ]
    },
    {
      "cell_type": "code",
      "source": [
        "#pip install pandas --upgrade"
      ],
      "metadata": {
        "id": "Vzllv8FexqOh"
      },
      "execution_count": 158,
      "outputs": []
    },
    {
      "cell_type": "markdown",
      "source": [
        "## Pada proses read data pertama kali akan terjadi `import_optional_dependency() got an unexpected keyword argument 'errors'` yang disebabkan oleh perbedaan dependensi pandas dalam requirements saat menginstall pyLDAvis maka perlu melakukan restart runtime and run all"
      ],
      "metadata": {
        "id": "xKzCIvJJiWBn"
      }
    },
    {
      "cell_type": "code",
      "execution_count": 159,
      "metadata": {
        "id": "Jk_0DzKy80JV"
      },
      "outputs": [],
      "source": [
        "data = pd.read_json('/content/dataset/stunting.json', lines=True)"
      ]
    },
    {
      "cell_type": "code",
      "execution_count": 160,
      "metadata": {
        "colab": {
          "base_uri": "https://localhost:8080/",
          "height": 895
        },
        "id": "wM1Pnit69meo",
        "outputId": "7ba4faac-b40e-42e4-c026-d428b228b11a"
      },
      "outputs": [
        {
          "output_type": "execute_result",
          "data": {
            "text/html": [
              "<div>\n",
              "<style scoped>\n",
              "    .dataframe tbody tr th:only-of-type {\n",
              "        vertical-align: middle;\n",
              "    }\n",
              "\n",
              "    .dataframe tbody tr th {\n",
              "        vertical-align: top;\n",
              "    }\n",
              "\n",
              "    .dataframe thead th {\n",
              "        text-align: right;\n",
              "    }\n",
              "</style>\n",
              "<table border=\"1\" class=\"dataframe\">\n",
              "  <thead>\n",
              "    <tr style=\"text-align: right;\">\n",
              "      <th></th>\n",
              "      <th>created_at</th>\n",
              "      <th>id</th>\n",
              "      <th>id_str</th>\n",
              "      <th>full_text</th>\n",
              "      <th>truncated</th>\n",
              "      <th>display_text_range</th>\n",
              "      <th>entities</th>\n",
              "      <th>metadata</th>\n",
              "      <th>source</th>\n",
              "      <th>in_reply_to_status_id</th>\n",
              "      <th>in_reply_to_status_id_str</th>\n",
              "      <th>in_reply_to_user_id</th>\n",
              "      <th>in_reply_to_user_id_str</th>\n",
              "      <th>in_reply_to_screen_name</th>\n",
              "      <th>user</th>\n",
              "      <th>geo</th>\n",
              "      <th>coordinates</th>\n",
              "      <th>place</th>\n",
              "      <th>contributors</th>\n",
              "      <th>is_quote_status</th>\n",
              "      <th>retweet_count</th>\n",
              "      <th>favorite_count</th>\n",
              "      <th>favorited</th>\n",
              "      <th>retweeted</th>\n",
              "      <th>lang</th>\n",
              "      <th>retweeted_status</th>\n",
              "      <th>extended_entities</th>\n",
              "      <th>possibly_sensitive</th>\n",
              "      <th>quoted_status_id</th>\n",
              "      <th>quoted_status_id_str</th>\n",
              "      <th>quoted_status</th>\n",
              "    </tr>\n",
              "  </thead>\n",
              "  <tbody>\n",
              "    <tr>\n",
              "      <th>0</th>\n",
              "      <td>2021-12-10 13:06:03+00:00</td>\n",
              "      <td>1469292328577687553</td>\n",
              "      <td>1469292328577687552</td>\n",
              "      <td>@DeeRose78248851 @asepnakatepemah @AANG_BEY @b...</td>\n",
              "      <td>False</td>\n",
              "      <td>[202, 227]</td>\n",
              "      <td>{'hashtags': [], 'symbols': [], 'user_mentions...</td>\n",
              "      <td>{'iso_language_code': 'in', 'result_type': 're...</td>\n",
              "      <td>&lt;a href=\"http://twitter.com/download/android\" ...</td>\n",
              "      <td>1.469292e+18</td>\n",
              "      <td>1.469292e+18</td>\n",
              "      <td>1.393180e+18</td>\n",
              "      <td>1.393180e+18</td>\n",
              "      <td>DeeRose78248851</td>\n",
              "      <td>{'id': 1393554076474904578, 'id_str': '1393554...</td>\n",
              "      <td>NaN</td>\n",
              "      <td>NaN</td>\n",
              "      <td>None</td>\n",
              "      <td>NaN</td>\n",
              "      <td>False</td>\n",
              "      <td>0</td>\n",
              "      <td>4</td>\n",
              "      <td>False</td>\n",
              "      <td>False</td>\n",
              "      <td>in</td>\n",
              "      <td>NaN</td>\n",
              "      <td>NaN</td>\n",
              "      <td>NaN</td>\n",
              "      <td>NaN</td>\n",
              "      <td>NaN</td>\n",
              "      <td>NaN</td>\n",
              "    </tr>\n",
              "    <tr>\n",
              "      <th>1</th>\n",
              "      <td>2021-12-10 11:25:26+00:00</td>\n",
              "      <td>1469267007463821314</td>\n",
              "      <td>1469267007463821312</td>\n",
              "      <td>Cuman pngn blng kalo udh kerja gua harus bener...</td>\n",
              "      <td>False</td>\n",
              "      <td>[0, 149]</td>\n",
              "      <td>{'hashtags': [], 'symbols': [], 'user_mentions...</td>\n",
              "      <td>{'iso_language_code': 'in', 'result_type': 're...</td>\n",
              "      <td>&lt;a href=\"http://twitter.com/download/android\" ...</td>\n",
              "      <td>NaN</td>\n",
              "      <td>NaN</td>\n",
              "      <td>NaN</td>\n",
              "      <td>NaN</td>\n",
              "      <td>None</td>\n",
              "      <td>{'id': 1139502660929724417, 'id_str': '1139502...</td>\n",
              "      <td>NaN</td>\n",
              "      <td>NaN</td>\n",
              "      <td>None</td>\n",
              "      <td>NaN</td>\n",
              "      <td>False</td>\n",
              "      <td>0</td>\n",
              "      <td>0</td>\n",
              "      <td>False</td>\n",
              "      <td>False</td>\n",
              "      <td>in</td>\n",
              "      <td>NaN</td>\n",
              "      <td>NaN</td>\n",
              "      <td>NaN</td>\n",
              "      <td>NaN</td>\n",
              "      <td>NaN</td>\n",
              "      <td>NaN</td>\n",
              "    </tr>\n",
              "    <tr>\n",
              "      <th>2</th>\n",
              "      <td>2021-12-10 09:49:08+00:00</td>\n",
              "      <td>1469242771684958208</td>\n",
              "      <td>1469242771684958208</td>\n",
              "      <td>RT @NurazizaShima: Serangan Saudi terhadap Yam...</td>\n",
              "      <td>False</td>\n",
              "      <td>[0, 140]</td>\n",
              "      <td>{'hashtags': [], 'symbols': [], 'user_mentions...</td>\n",
              "      <td>{'iso_language_code': 'in', 'result_type': 're...</td>\n",
              "      <td>&lt;a href=\"http://twitter.com/download/android\" ...</td>\n",
              "      <td>NaN</td>\n",
              "      <td>NaN</td>\n",
              "      <td>NaN</td>\n",
              "      <td>NaN</td>\n",
              "      <td>None</td>\n",
              "      <td>{'id': 1331862278120071169, 'id_str': '1331862...</td>\n",
              "      <td>NaN</td>\n",
              "      <td>NaN</td>\n",
              "      <td>None</td>\n",
              "      <td>NaN</td>\n",
              "      <td>False</td>\n",
              "      <td>6</td>\n",
              "      <td>0</td>\n",
              "      <td>False</td>\n",
              "      <td>False</td>\n",
              "      <td>in</td>\n",
              "      <td>{'created_at': 'Fri Dec 10 05:14:15 +0000 2021...</td>\n",
              "      <td>NaN</td>\n",
              "      <td>NaN</td>\n",
              "      <td>NaN</td>\n",
              "      <td>NaN</td>\n",
              "      <td>NaN</td>\n",
              "    </tr>\n",
              "    <tr>\n",
              "      <th>3</th>\n",
              "      <td>2021-12-10 07:46:09+00:00</td>\n",
              "      <td>1469211823312277509</td>\n",
              "      <td>1469211823312277504</td>\n",
              "      <td>RT @NurazizaShima: Anak-anak Yaman menjadi kor...</td>\n",
              "      <td>False</td>\n",
              "      <td>[0, 139]</td>\n",
              "      <td>{'hashtags': [], 'symbols': [], 'user_mentions...</td>\n",
              "      <td>{'iso_language_code': 'in', 'result_type': 're...</td>\n",
              "      <td>&lt;a href=\"https://mobile.twitter.com\" rel=\"nofo...</td>\n",
              "      <td>NaN</td>\n",
              "      <td>NaN</td>\n",
              "      <td>NaN</td>\n",
              "      <td>NaN</td>\n",
              "      <td>None</td>\n",
              "      <td>{'id': 1341385911632838656, 'id_str': '1341385...</td>\n",
              "      <td>NaN</td>\n",
              "      <td>NaN</td>\n",
              "      <td>None</td>\n",
              "      <td>NaN</td>\n",
              "      <td>False</td>\n",
              "      <td>3</td>\n",
              "      <td>0</td>\n",
              "      <td>False</td>\n",
              "      <td>False</td>\n",
              "      <td>in</td>\n",
              "      <td>{'created_at': 'Fri Dec 10 05:55:15 +0000 2021...</td>\n",
              "      <td>NaN</td>\n",
              "      <td>NaN</td>\n",
              "      <td>NaN</td>\n",
              "      <td>NaN</td>\n",
              "      <td>NaN</td>\n",
              "    </tr>\n",
              "    <tr>\n",
              "      <th>4</th>\n",
              "      <td>2021-12-10 07:28:39+00:00</td>\n",
              "      <td>1469207417644740608</td>\n",
              "      <td>1469207417644740608</td>\n",
              "      <td>Berkesempatan memberikan sambutan, Panewu mend...</td>\n",
              "      <td>False</td>\n",
              "      <td>[0, 272]</td>\n",
              "      <td>{'hashtags': [], 'symbols': [], 'user_mentions...</td>\n",
              "      <td>{'iso_language_code': 'in', 'result_type': 're...</td>\n",
              "      <td>&lt;a href=\"http://twitter.com/download/android\" ...</td>\n",
              "      <td>1.469207e+18</td>\n",
              "      <td>1.469207e+18</td>\n",
              "      <td>1.276198e+18</td>\n",
              "      <td>1.276198e+18</td>\n",
              "      <td>kecpiyungan1</td>\n",
              "      <td>{'id': 1276198351856263170, 'id_str': '1276198...</td>\n",
              "      <td>NaN</td>\n",
              "      <td>NaN</td>\n",
              "      <td>None</td>\n",
              "      <td>NaN</td>\n",
              "      <td>False</td>\n",
              "      <td>0</td>\n",
              "      <td>1</td>\n",
              "      <td>False</td>\n",
              "      <td>False</td>\n",
              "      <td>in</td>\n",
              "      <td>NaN</td>\n",
              "      <td>NaN</td>\n",
              "      <td>NaN</td>\n",
              "      <td>NaN</td>\n",
              "      <td>NaN</td>\n",
              "      <td>NaN</td>\n",
              "    </tr>\n",
              "    <tr>\n",
              "      <th>...</th>\n",
              "      <td>...</td>\n",
              "      <td>...</td>\n",
              "      <td>...</td>\n",
              "      <td>...</td>\n",
              "      <td>...</td>\n",
              "      <td>...</td>\n",
              "      <td>...</td>\n",
              "      <td>...</td>\n",
              "      <td>...</td>\n",
              "      <td>...</td>\n",
              "      <td>...</td>\n",
              "      <td>...</td>\n",
              "      <td>...</td>\n",
              "      <td>...</td>\n",
              "      <td>...</td>\n",
              "      <td>...</td>\n",
              "      <td>...</td>\n",
              "      <td>...</td>\n",
              "      <td>...</td>\n",
              "      <td>...</td>\n",
              "      <td>...</td>\n",
              "      <td>...</td>\n",
              "      <td>...</td>\n",
              "      <td>...</td>\n",
              "      <td>...</td>\n",
              "      <td>...</td>\n",
              "      <td>...</td>\n",
              "      <td>...</td>\n",
              "      <td>...</td>\n",
              "      <td>...</td>\n",
              "      <td>...</td>\n",
              "    </tr>\n",
              "    <tr>\n",
              "      <th>3045</th>\n",
              "      <td>2021-12-05 05:19:05+00:00</td>\n",
              "      <td>1467362872049078275</td>\n",
              "      <td>1467362872049078272</td>\n",
              "      <td>[[ INIZIATIF ]]\\n\\nHallo, Nutrifolks!!! \\n\\nSt...</td>\n",
              "      <td>False</td>\n",
              "      <td>[0, 206]</td>\n",
              "      <td>{'hashtags': [], 'symbols': [], 'user_mentions...</td>\n",
              "      <td>{'iso_language_code': 'in', 'result_type': 're...</td>\n",
              "      <td>&lt;a href=\"http://twitter.com/download/android\" ...</td>\n",
              "      <td>NaN</td>\n",
              "      <td>NaN</td>\n",
              "      <td>NaN</td>\n",
              "      <td>NaN</td>\n",
              "      <td>None</td>\n",
              "      <td>{'id': 1306766886, 'id_str': '1306766886', 'na...</td>\n",
              "      <td>NaN</td>\n",
              "      <td>NaN</td>\n",
              "      <td>None</td>\n",
              "      <td>NaN</td>\n",
              "      <td>False</td>\n",
              "      <td>0</td>\n",
              "      <td>0</td>\n",
              "      <td>False</td>\n",
              "      <td>False</td>\n",
              "      <td>in</td>\n",
              "      <td>NaN</td>\n",
              "      <td>{'media': [{'id': 1467362865766014976, 'id_str...</td>\n",
              "      <td>0.0</td>\n",
              "      <td>NaN</td>\n",
              "      <td>NaN</td>\n",
              "      <td>NaN</td>\n",
              "    </tr>\n",
              "    <tr>\n",
              "      <th>3046</th>\n",
              "      <td>2021-12-03 12:49:44+00:00</td>\n",
              "      <td>1466751507445927936</td>\n",
              "      <td>1466751507445927936</td>\n",
              "      <td>RT @ForumAnakID: 🥛[MY BREAKFAST CHALLENGE] 🥪\\n...</td>\n",
              "      <td>False</td>\n",
              "      <td>[0, 140]</td>\n",
              "      <td>{'hashtags': [], 'symbols': [], 'user_mentions...</td>\n",
              "      <td>{'iso_language_code': 'in', 'result_type': 're...</td>\n",
              "      <td>&lt;a href=\"http://twitter.com/download/iphone\" r...</td>\n",
              "      <td>NaN</td>\n",
              "      <td>NaN</td>\n",
              "      <td>NaN</td>\n",
              "      <td>NaN</td>\n",
              "      <td>None</td>\n",
              "      <td>{'id': 79084956, 'id_str': '79084956', 'name':...</td>\n",
              "      <td>NaN</td>\n",
              "      <td>NaN</td>\n",
              "      <td>None</td>\n",
              "      <td>NaN</td>\n",
              "      <td>False</td>\n",
              "      <td>1</td>\n",
              "      <td>0</td>\n",
              "      <td>False</td>\n",
              "      <td>False</td>\n",
              "      <td>in</td>\n",
              "      <td>{'created_at': 'Fri Dec 03 12:37:48 +0000 2021...</td>\n",
              "      <td>NaN</td>\n",
              "      <td>NaN</td>\n",
              "      <td>NaN</td>\n",
              "      <td>NaN</td>\n",
              "      <td>NaN</td>\n",
              "    </tr>\n",
              "    <tr>\n",
              "      <th>3047</th>\n",
              "      <td>2021-12-03 12:37:48+00:00</td>\n",
              "      <td>1466748501501485058</td>\n",
              "      <td>1466748501501485056</td>\n",
              "      <td>🥛[MY BREAKFAST CHALLENGE] 🥪\\n\\nHalo Sobat Foru...</td>\n",
              "      <td>False</td>\n",
              "      <td>[0, 170]</td>\n",
              "      <td>{'hashtags': [], 'symbols': [], 'user_mentions...</td>\n",
              "      <td>{'iso_language_code': 'in', 'result_type': 're...</td>\n",
              "      <td>&lt;a href=\"http://twitter.com/download/android\" ...</td>\n",
              "      <td>NaN</td>\n",
              "      <td>NaN</td>\n",
              "      <td>NaN</td>\n",
              "      <td>NaN</td>\n",
              "      <td>None</td>\n",
              "      <td>{'id': 302989186, 'id_str': '302989186', 'name...</td>\n",
              "      <td>NaN</td>\n",
              "      <td>NaN</td>\n",
              "      <td>None</td>\n",
              "      <td>NaN</td>\n",
              "      <td>False</td>\n",
              "      <td>1</td>\n",
              "      <td>1</td>\n",
              "      <td>False</td>\n",
              "      <td>False</td>\n",
              "      <td>in</td>\n",
              "      <td>NaN</td>\n",
              "      <td>NaN</td>\n",
              "      <td>NaN</td>\n",
              "      <td>NaN</td>\n",
              "      <td>NaN</td>\n",
              "      <td>NaN</td>\n",
              "    </tr>\n",
              "    <tr>\n",
              "      <th>3048</th>\n",
              "      <td>2021-12-02 09:55:36+00:00</td>\n",
              "      <td>1466345293943697413</td>\n",
              "      <td>1466345293943697408</td>\n",
              "      <td>Stunting adalah masalah kurang gizi pada anak ...</td>\n",
              "      <td>False</td>\n",
              "      <td>[0, 112]</td>\n",
              "      <td>{'hashtags': [], 'symbols': [], 'user_mentions...</td>\n",
              "      <td>{'iso_language_code': 'in', 'result_type': 're...</td>\n",
              "      <td>&lt;a href=\"https://dlvrit.com/\" rel=\"nofollow\"&gt;d...</td>\n",
              "      <td>NaN</td>\n",
              "      <td>NaN</td>\n",
              "      <td>NaN</td>\n",
              "      <td>NaN</td>\n",
              "      <td>None</td>\n",
              "      <td>{'id': 2661838418, 'id_str': '2661838418', 'na...</td>\n",
              "      <td>NaN</td>\n",
              "      <td>NaN</td>\n",
              "      <td>None</td>\n",
              "      <td>NaN</td>\n",
              "      <td>False</td>\n",
              "      <td>0</td>\n",
              "      <td>0</td>\n",
              "      <td>False</td>\n",
              "      <td>False</td>\n",
              "      <td>in</td>\n",
              "      <td>NaN</td>\n",
              "      <td>NaN</td>\n",
              "      <td>0.0</td>\n",
              "      <td>NaN</td>\n",
              "      <td>NaN</td>\n",
              "      <td>NaN</td>\n",
              "    </tr>\n",
              "    <tr>\n",
              "      <th>3049</th>\n",
              "      <td>2021-12-07 02:46:28+00:00</td>\n",
              "      <td>1468049237967622146</td>\n",
              "      <td>1468049237967622144</td>\n",
              "      <td>Rakor Lintas Sektor Kecamatan Pageruyung denga...</td>\n",
              "      <td>False</td>\n",
              "      <td>[0, 233]</td>\n",
              "      <td>{'hashtags': [{'text': 'cegahstunting', 'indic...</td>\n",
              "      <td>{'iso_language_code': 'in', 'result_type': 're...</td>\n",
              "      <td>&lt;a href=\"http://instagram.com\" rel=\"nofollow\"&gt;...</td>\n",
              "      <td>NaN</td>\n",
              "      <td>NaN</td>\n",
              "      <td>NaN</td>\n",
              "      <td>NaN</td>\n",
              "      <td>None</td>\n",
              "      <td>{'id': 1143121401030701057, 'id_str': '1143121...</td>\n",
              "      <td>NaN</td>\n",
              "      <td>NaN</td>\n",
              "      <td>None</td>\n",
              "      <td>NaN</td>\n",
              "      <td>False</td>\n",
              "      <td>0</td>\n",
              "      <td>0</td>\n",
              "      <td>False</td>\n",
              "      <td>False</td>\n",
              "      <td>in</td>\n",
              "      <td>NaN</td>\n",
              "      <td>NaN</td>\n",
              "      <td>0.0</td>\n",
              "      <td>NaN</td>\n",
              "      <td>NaN</td>\n",
              "      <td>NaN</td>\n",
              "    </tr>\n",
              "  </tbody>\n",
              "</table>\n",
              "<p>3050 rows × 31 columns</p>\n",
              "</div>"
            ],
            "text/plain": [
              "                    created_at  ...  quoted_status\n",
              "0    2021-12-10 13:06:03+00:00  ...            NaN\n",
              "1    2021-12-10 11:25:26+00:00  ...            NaN\n",
              "2    2021-12-10 09:49:08+00:00  ...            NaN\n",
              "3    2021-12-10 07:46:09+00:00  ...            NaN\n",
              "4    2021-12-10 07:28:39+00:00  ...            NaN\n",
              "...                        ...  ...            ...\n",
              "3045 2021-12-05 05:19:05+00:00  ...            NaN\n",
              "3046 2021-12-03 12:49:44+00:00  ...            NaN\n",
              "3047 2021-12-03 12:37:48+00:00  ...            NaN\n",
              "3048 2021-12-02 09:55:36+00:00  ...            NaN\n",
              "3049 2021-12-07 02:46:28+00:00  ...            NaN\n",
              "\n",
              "[3050 rows x 31 columns]"
            ]
          },
          "metadata": {},
          "execution_count": 160
        }
      ],
      "source": [
        "data"
      ]
    },
    {
      "cell_type": "code",
      "execution_count": 161,
      "metadata": {
        "colab": {
          "base_uri": "https://localhost:8080/"
        },
        "id": "8nBFsgs498jp",
        "outputId": "71ce6d5d-959c-456d-d2bb-c3fd2d1c06d9"
      },
      "outputs": [
        {
          "output_type": "execute_result",
          "data": {
            "text/plain": [
              "Index(['created_at', 'id', 'id_str', 'full_text', 'truncated',\n",
              "       'display_text_range', 'entities', 'metadata', 'source',\n",
              "       'in_reply_to_status_id', 'in_reply_to_status_id_str',\n",
              "       'in_reply_to_user_id', 'in_reply_to_user_id_str',\n",
              "       'in_reply_to_screen_name', 'user', 'geo', 'coordinates', 'place',\n",
              "       'contributors', 'is_quote_status', 'retweet_count', 'favorite_count',\n",
              "       'favorited', 'retweeted', 'lang', 'retweeted_status',\n",
              "       'extended_entities', 'possibly_sensitive', 'quoted_status_id',\n",
              "       'quoted_status_id_str', 'quoted_status'],\n",
              "      dtype='object')"
            ]
          },
          "metadata": {},
          "execution_count": 161
        }
      ],
      "source": [
        "data.keys()"
      ]
    },
    {
      "cell_type": "code",
      "execution_count": 162,
      "metadata": {
        "colab": {
          "base_uri": "https://localhost:8080/",
          "height": 320
        },
        "id": "51hLk4sC-Anj",
        "outputId": "d81cb663-eeb5-4273-c837-bb17077d4d9a"
      },
      "outputs": [
        {
          "output_type": "execute_result",
          "data": {
            "text/html": [
              "<div>\n",
              "<style scoped>\n",
              "    .dataframe tbody tr th:only-of-type {\n",
              "        vertical-align: middle;\n",
              "    }\n",
              "\n",
              "    .dataframe tbody tr th {\n",
              "        vertical-align: top;\n",
              "    }\n",
              "\n",
              "    .dataframe thead th {\n",
              "        text-align: right;\n",
              "    }\n",
              "</style>\n",
              "<table border=\"1\" class=\"dataframe\">\n",
              "  <thead>\n",
              "    <tr style=\"text-align: right;\">\n",
              "      <th></th>\n",
              "      <th>id</th>\n",
              "      <th>id_str</th>\n",
              "      <th>in_reply_to_status_id</th>\n",
              "      <th>in_reply_to_status_id_str</th>\n",
              "      <th>in_reply_to_user_id</th>\n",
              "      <th>in_reply_to_user_id_str</th>\n",
              "      <th>geo</th>\n",
              "      <th>coordinates</th>\n",
              "      <th>contributors</th>\n",
              "      <th>retweet_count</th>\n",
              "      <th>favorite_count</th>\n",
              "      <th>possibly_sensitive</th>\n",
              "      <th>quoted_status_id</th>\n",
              "      <th>quoted_status_id_str</th>\n",
              "    </tr>\n",
              "  </thead>\n",
              "  <tbody>\n",
              "    <tr>\n",
              "      <th>count</th>\n",
              "      <td>3.050000e+03</td>\n",
              "      <td>3.050000e+03</td>\n",
              "      <td>2.230000e+02</td>\n",
              "      <td>2.230000e+02</td>\n",
              "      <td>2.270000e+02</td>\n",
              "      <td>2.270000e+02</td>\n",
              "      <td>0.0</td>\n",
              "      <td>0.0</td>\n",
              "      <td>0.0</td>\n",
              "      <td>3050.000000</td>\n",
              "      <td>3050.000000</td>\n",
              "      <td>1056.000000</td>\n",
              "      <td>1.210000e+02</td>\n",
              "      <td>1.210000e+02</td>\n",
              "    </tr>\n",
              "    <tr>\n",
              "      <th>mean</th>\n",
              "      <td>1.467231e+18</td>\n",
              "      <td>1.467231e+18</td>\n",
              "      <td>1.467352e+18</td>\n",
              "      <td>1.467352e+18</td>\n",
              "      <td>6.017626e+17</td>\n",
              "      <td>6.017626e+17</td>\n",
              "      <td>NaN</td>\n",
              "      <td>NaN</td>\n",
              "      <td>NaN</td>\n",
              "      <td>56.062951</td>\n",
              "      <td>1.997049</td>\n",
              "      <td>0.043561</td>\n",
              "      <td>1.461025e+18</td>\n",
              "      <td>1.461025e+18</td>\n",
              "    </tr>\n",
              "    <tr>\n",
              "      <th>std</th>\n",
              "      <td>5.495143e+14</td>\n",
              "      <td>5.495143e+14</td>\n",
              "      <td>7.291390e+14</td>\n",
              "      <td>7.291390e+14</td>\n",
              "      <td>6.219757e+17</td>\n",
              "      <td>6.219757e+17</td>\n",
              "      <td>NaN</td>\n",
              "      <td>NaN</td>\n",
              "      <td>NaN</td>\n",
              "      <td>97.859837</td>\n",
              "      <td>24.954961</td>\n",
              "      <td>0.204212</td>\n",
              "      <td>4.841890e+16</td>\n",
              "      <td>4.841890e+16</td>\n",
              "    </tr>\n",
              "    <tr>\n",
              "      <th>min</th>\n",
              "      <td>1.466162e+18</td>\n",
              "      <td>1.466162e+18</td>\n",
              "      <td>1.465967e+18</td>\n",
              "      <td>1.465967e+18</td>\n",
              "      <td>2.697030e+07</td>\n",
              "      <td>2.697030e+07</td>\n",
              "      <td>NaN</td>\n",
              "      <td>NaN</td>\n",
              "      <td>NaN</td>\n",
              "      <td>0.000000</td>\n",
              "      <td>0.000000</td>\n",
              "      <td>0.000000</td>\n",
              "      <td>1.089126e+18</td>\n",
              "      <td>1.089126e+18</td>\n",
              "    </tr>\n",
              "    <tr>\n",
              "      <th>25%</th>\n",
              "      <td>1.466954e+18</td>\n",
              "      <td>1.466954e+18</td>\n",
              "      <td>1.466777e+18</td>\n",
              "      <td>1.466777e+18</td>\n",
              "      <td>4.331473e+08</td>\n",
              "      <td>4.331473e+08</td>\n",
              "      <td>NaN</td>\n",
              "      <td>NaN</td>\n",
              "      <td>NaN</td>\n",
              "      <td>1.000000</td>\n",
              "      <td>0.000000</td>\n",
              "      <td>0.000000</td>\n",
              "      <td>1.466717e+18</td>\n",
              "      <td>1.466717e+18</td>\n",
              "    </tr>\n",
              "    <tr>\n",
              "      <th>50%</th>\n",
              "      <td>1.467069e+18</td>\n",
              "      <td>1.467069e+18</td>\n",
              "      <td>1.467334e+18</td>\n",
              "      <td>1.467334e+18</td>\n",
              "      <td>4.780649e+09</td>\n",
              "      <td>4.780649e+09</td>\n",
              "      <td>NaN</td>\n",
              "      <td>NaN</td>\n",
              "      <td>NaN</td>\n",
              "      <td>32.000000</td>\n",
              "      <td>0.000000</td>\n",
              "      <td>0.000000</td>\n",
              "      <td>1.467430e+18</td>\n",
              "      <td>1.467430e+18</td>\n",
              "    </tr>\n",
              "    <tr>\n",
              "      <th>75%</th>\n",
              "      <td>1.467791e+18</td>\n",
              "      <td>1.467791e+18</td>\n",
              "      <td>1.467790e+18</td>\n",
              "      <td>1.467790e+18</td>\n",
              "      <td>1.266504e+18</td>\n",
              "      <td>1.266504e+18</td>\n",
              "      <td>NaN</td>\n",
              "      <td>NaN</td>\n",
              "      <td>NaN</td>\n",
              "      <td>65.000000</td>\n",
              "      <td>0.000000</td>\n",
              "      <td>0.000000</td>\n",
              "      <td>1.467778e+18</td>\n",
              "      <td>1.467778e+18</td>\n",
              "    </tr>\n",
              "    <tr>\n",
              "      <th>max</th>\n",
              "      <td>1.469292e+18</td>\n",
              "      <td>1.469292e+18</td>\n",
              "      <td>1.469292e+18</td>\n",
              "      <td>1.469292e+18</td>\n",
              "      <td>1.464956e+18</td>\n",
              "      <td>1.464956e+18</td>\n",
              "      <td>NaN</td>\n",
              "      <td>NaN</td>\n",
              "      <td>NaN</td>\n",
              "      <td>3606.000000</td>\n",
              "      <td>657.000000</td>\n",
              "      <td>1.000000</td>\n",
              "      <td>1.469078e+18</td>\n",
              "      <td>1.469078e+18</td>\n",
              "    </tr>\n",
              "  </tbody>\n",
              "</table>\n",
              "</div>"
            ],
            "text/plain": [
              "                 id        id_str  ...  quoted_status_id  quoted_status_id_str\n",
              "count  3.050000e+03  3.050000e+03  ...      1.210000e+02          1.210000e+02\n",
              "mean   1.467231e+18  1.467231e+18  ...      1.461025e+18          1.461025e+18\n",
              "std    5.495143e+14  5.495143e+14  ...      4.841890e+16          4.841890e+16\n",
              "min    1.466162e+18  1.466162e+18  ...      1.089126e+18          1.089126e+18\n",
              "25%    1.466954e+18  1.466954e+18  ...      1.466717e+18          1.466717e+18\n",
              "50%    1.467069e+18  1.467069e+18  ...      1.467430e+18          1.467430e+18\n",
              "75%    1.467791e+18  1.467791e+18  ...      1.467778e+18          1.467778e+18\n",
              "max    1.469292e+18  1.469292e+18  ...      1.469078e+18          1.469078e+18\n",
              "\n",
              "[8 rows x 14 columns]"
            ]
          },
          "metadata": {},
          "execution_count": 162
        }
      ],
      "source": [
        "data.describe()"
      ]
    },
    {
      "cell_type": "code",
      "execution_count": 163,
      "metadata": {
        "colab": {
          "base_uri": "https://localhost:8080/"
        },
        "id": "hKDzgKNX-UgM",
        "outputId": "39f286d4-4df2-48e2-d615-c5b2a13c3544"
      },
      "outputs": [
        {
          "output_type": "stream",
          "name": "stdout",
          "text": [
            "Ukuran data: (3050, 31)\n"
          ]
        }
      ],
      "source": [
        "print('Ukuran data: {}' .format(data.shape))"
      ]
    },
    {
      "cell_type": "code",
      "execution_count": 164,
      "metadata": {
        "colab": {
          "base_uri": "https://localhost:8080/"
        },
        "id": "wPBvW2RK-X5X",
        "outputId": "497801cb-6029-4953-e964-9c6420643a57"
      },
      "outputs": [
        {
          "output_type": "stream",
          "name": "stdout",
          "text": [
            "<class 'pandas.core.frame.DataFrame'>\n",
            "RangeIndex: 3050 entries, 0 to 3049\n",
            "Data columns (total 31 columns):\n",
            " #   Column                     Non-Null Count  Dtype              \n",
            "---  ------                     --------------  -----              \n",
            " 0   created_at                 3050 non-null   datetime64[ns, UTC]\n",
            " 1   id                         3050 non-null   int64              \n",
            " 2   id_str                     3050 non-null   int64              \n",
            " 3   full_text                  3050 non-null   object             \n",
            " 4   truncated                  3050 non-null   bool               \n",
            " 5   display_text_range         3050 non-null   object             \n",
            " 6   entities                   3050 non-null   object             \n",
            " 7   metadata                   3050 non-null   object             \n",
            " 8   source                     3050 non-null   object             \n",
            " 9   in_reply_to_status_id      223 non-null    float64            \n",
            " 10  in_reply_to_status_id_str  223 non-null    float64            \n",
            " 11  in_reply_to_user_id        227 non-null    float64            \n",
            " 12  in_reply_to_user_id_str    227 non-null    float64            \n",
            " 13  in_reply_to_screen_name    227 non-null    object             \n",
            " 14  user                       3050 non-null   object             \n",
            " 15  geo                        0 non-null      float64            \n",
            " 16  coordinates                0 non-null      float64            \n",
            " 17  place                      4 non-null      object             \n",
            " 18  contributors               0 non-null      float64            \n",
            " 19  is_quote_status            3050 non-null   bool               \n",
            " 20  retweet_count              3050 non-null   int64              \n",
            " 21  favorite_count             3050 non-null   int64              \n",
            " 22  favorited                  3050 non-null   bool               \n",
            " 23  retweeted                  3050 non-null   bool               \n",
            " 24  lang                       3050 non-null   object             \n",
            " 25  retweeted_status           2145 non-null   object             \n",
            " 26  extended_entities          789 non-null    object             \n",
            " 27  possibly_sensitive         1056 non-null   float64            \n",
            " 28  quoted_status_id           121 non-null    float64            \n",
            " 29  quoted_status_id_str       121 non-null    float64            \n",
            " 30  quoted_status              64 non-null     object             \n",
            "dtypes: bool(4), datetime64[ns, UTC](1), float64(10), int64(4), object(12)\n",
            "memory usage: 655.4+ KB\n"
          ]
        }
      ],
      "source": [
        "data.info()"
      ]
    },
    {
      "cell_type": "code",
      "execution_count": 165,
      "metadata": {
        "id": "3o6LChiX-ksE"
      },
      "outputs": [],
      "source": [
        "data = data.rename(columns={\"full_text\": \"tweet\"})"
      ]
    },
    {
      "cell_type": "code",
      "execution_count": 166,
      "metadata": {
        "colab": {
          "base_uri": "https://localhost:8080/"
        },
        "id": "gWHPIKOA-max",
        "outputId": "9a976f92-f73a-4813-c371-9987a488c0fd"
      },
      "outputs": [
        {
          "output_type": "execute_result",
          "data": {
            "text/plain": [
              "Index(['created_at', 'id', 'id_str', 'tweet', 'truncated',\n",
              "       'display_text_range', 'entities', 'metadata', 'source',\n",
              "       'in_reply_to_status_id', 'in_reply_to_status_id_str',\n",
              "       'in_reply_to_user_id', 'in_reply_to_user_id_str',\n",
              "       'in_reply_to_screen_name', 'user', 'geo', 'coordinates', 'place',\n",
              "       'contributors', 'is_quote_status', 'retweet_count', 'favorite_count',\n",
              "       'favorited', 'retweeted', 'lang', 'retweeted_status',\n",
              "       'extended_entities', 'possibly_sensitive', 'quoted_status_id',\n",
              "       'quoted_status_id_str', 'quoted_status'],\n",
              "      dtype='object')"
            ]
          },
          "metadata": {},
          "execution_count": 166
        }
      ],
      "source": [
        "data.keys()"
      ]
    },
    {
      "cell_type": "code",
      "execution_count": 167,
      "metadata": {
        "colab": {
          "base_uri": "https://localhost:8080/"
        },
        "id": "t_vJLIfq-q1y",
        "outputId": "264a901d-173b-45d7-f0aa-f763e84be099"
      },
      "outputs": [
        {
          "output_type": "execute_result",
          "data": {
            "text/plain": [
              "0    @DeeRose78248851 @asepnakatepemah @AANG_BEY @b...\n",
              "1    Cuman pngn blng kalo udh kerja gua harus bener...\n",
              "2    RT @NurazizaShima: Serangan Saudi terhadap Yam...\n",
              "3    RT @NurazizaShima: Anak-anak Yaman menjadi kor...\n",
              "4    Berkesempatan memberikan sambutan, Panewu mend...\n",
              "Name: tweet, dtype: object"
            ]
          },
          "metadata": {},
          "execution_count": 167
        }
      ],
      "source": [
        "data['tweet'].head()"
      ]
    },
    {
      "cell_type": "code",
      "execution_count": 168,
      "metadata": {
        "colab": {
          "base_uri": "https://localhost:8080/"
        },
        "id": "9fsi-M8p-y0E",
        "outputId": "eb1a9b49-3d9a-43e7-91f0-0662376e7526"
      },
      "outputs": [
        {
          "output_type": "stream",
          "name": "stdout",
          "text": [
            "(3050, 31)\n"
          ]
        },
        {
          "output_type": "execute_result",
          "data": {
            "text/plain": [
              "2458"
            ]
          },
          "metadata": {},
          "execution_count": 168
        }
      ],
      "source": [
        "#Memeriksa Duplikasi pada Data\n",
        "print(data.shape)\n",
        "data.duplicated(subset=['tweet']).sum()"
      ]
    },
    {
      "cell_type": "code",
      "execution_count": 169,
      "metadata": {
        "colab": {
          "base_uri": "https://localhost:8080/"
        },
        "id": "KtCsFqCv-5Xr",
        "outputId": "df199e47-bf34-4d40-fbd7-d5ccd7848e29"
      },
      "outputs": [
        {
          "output_type": "stream",
          "name": "stdout",
          "text": [
            "(592, 31)\n"
          ]
        }
      ],
      "source": [
        "#Menghilangkan Duplikasi pada Data\n",
        "df = data.drop_duplicates(subset=['tweet'])\n",
        "print(df.shape)"
      ]
    },
    {
      "cell_type": "code",
      "execution_count": 170,
      "metadata": {
        "colab": {
          "base_uri": "https://localhost:8080/",
          "height": 860
        },
        "id": "OQMggs3f--y9",
        "outputId": "541d29c0-91ba-48b8-db42-2e5232038193"
      },
      "outputs": [
        {
          "output_type": "execute_result",
          "data": {
            "text/html": [
              "<div>\n",
              "<style scoped>\n",
              "    .dataframe tbody tr th:only-of-type {\n",
              "        vertical-align: middle;\n",
              "    }\n",
              "\n",
              "    .dataframe tbody tr th {\n",
              "        vertical-align: top;\n",
              "    }\n",
              "\n",
              "    .dataframe thead th {\n",
              "        text-align: right;\n",
              "    }\n",
              "</style>\n",
              "<table border=\"1\" class=\"dataframe\">\n",
              "  <thead>\n",
              "    <tr style=\"text-align: right;\">\n",
              "      <th></th>\n",
              "      <th>created_at</th>\n",
              "      <th>id</th>\n",
              "      <th>id_str</th>\n",
              "      <th>tweet</th>\n",
              "      <th>truncated</th>\n",
              "      <th>display_text_range</th>\n",
              "      <th>entities</th>\n",
              "      <th>metadata</th>\n",
              "      <th>source</th>\n",
              "      <th>in_reply_to_status_id</th>\n",
              "      <th>in_reply_to_status_id_str</th>\n",
              "      <th>in_reply_to_user_id</th>\n",
              "      <th>in_reply_to_user_id_str</th>\n",
              "      <th>in_reply_to_screen_name</th>\n",
              "      <th>user</th>\n",
              "      <th>geo</th>\n",
              "      <th>coordinates</th>\n",
              "      <th>place</th>\n",
              "      <th>contributors</th>\n",
              "      <th>is_quote_status</th>\n",
              "      <th>retweet_count</th>\n",
              "      <th>favorite_count</th>\n",
              "      <th>favorited</th>\n",
              "      <th>retweeted</th>\n",
              "      <th>lang</th>\n",
              "      <th>retweeted_status</th>\n",
              "      <th>extended_entities</th>\n",
              "      <th>possibly_sensitive</th>\n",
              "      <th>quoted_status_id</th>\n",
              "      <th>quoted_status_id_str</th>\n",
              "      <th>quoted_status</th>\n",
              "    </tr>\n",
              "  </thead>\n",
              "  <tbody>\n",
              "    <tr>\n",
              "      <th>0</th>\n",
              "      <td>2021-12-10 13:06:03+00:00</td>\n",
              "      <td>1469292328577687553</td>\n",
              "      <td>1469292328577687552</td>\n",
              "      <td>@DeeRose78248851 @asepnakatepemah @AANG_BEY @b...</td>\n",
              "      <td>False</td>\n",
              "      <td>[202, 227]</td>\n",
              "      <td>{'hashtags': [], 'symbols': [], 'user_mentions...</td>\n",
              "      <td>{'iso_language_code': 'in', 'result_type': 're...</td>\n",
              "      <td>&lt;a href=\"http://twitter.com/download/android\" ...</td>\n",
              "      <td>1.469292e+18</td>\n",
              "      <td>1.469292e+18</td>\n",
              "      <td>1.393180e+18</td>\n",
              "      <td>1.393180e+18</td>\n",
              "      <td>DeeRose78248851</td>\n",
              "      <td>{'id': 1393554076474904578, 'id_str': '1393554...</td>\n",
              "      <td>NaN</td>\n",
              "      <td>NaN</td>\n",
              "      <td>None</td>\n",
              "      <td>NaN</td>\n",
              "      <td>False</td>\n",
              "      <td>0</td>\n",
              "      <td>4</td>\n",
              "      <td>False</td>\n",
              "      <td>False</td>\n",
              "      <td>in</td>\n",
              "      <td>NaN</td>\n",
              "      <td>NaN</td>\n",
              "      <td>NaN</td>\n",
              "      <td>NaN</td>\n",
              "      <td>NaN</td>\n",
              "      <td>NaN</td>\n",
              "    </tr>\n",
              "    <tr>\n",
              "      <th>1</th>\n",
              "      <td>2021-12-10 11:25:26+00:00</td>\n",
              "      <td>1469267007463821314</td>\n",
              "      <td>1469267007463821312</td>\n",
              "      <td>Cuman pngn blng kalo udh kerja gua harus bener...</td>\n",
              "      <td>False</td>\n",
              "      <td>[0, 149]</td>\n",
              "      <td>{'hashtags': [], 'symbols': [], 'user_mentions...</td>\n",
              "      <td>{'iso_language_code': 'in', 'result_type': 're...</td>\n",
              "      <td>&lt;a href=\"http://twitter.com/download/android\" ...</td>\n",
              "      <td>NaN</td>\n",
              "      <td>NaN</td>\n",
              "      <td>NaN</td>\n",
              "      <td>NaN</td>\n",
              "      <td>None</td>\n",
              "      <td>{'id': 1139502660929724417, 'id_str': '1139502...</td>\n",
              "      <td>NaN</td>\n",
              "      <td>NaN</td>\n",
              "      <td>None</td>\n",
              "      <td>NaN</td>\n",
              "      <td>False</td>\n",
              "      <td>0</td>\n",
              "      <td>0</td>\n",
              "      <td>False</td>\n",
              "      <td>False</td>\n",
              "      <td>in</td>\n",
              "      <td>NaN</td>\n",
              "      <td>NaN</td>\n",
              "      <td>NaN</td>\n",
              "      <td>NaN</td>\n",
              "      <td>NaN</td>\n",
              "      <td>NaN</td>\n",
              "    </tr>\n",
              "    <tr>\n",
              "      <th>2</th>\n",
              "      <td>2021-12-10 09:49:08+00:00</td>\n",
              "      <td>1469242771684958208</td>\n",
              "      <td>1469242771684958208</td>\n",
              "      <td>RT @NurazizaShima: Serangan Saudi terhadap Yam...</td>\n",
              "      <td>False</td>\n",
              "      <td>[0, 140]</td>\n",
              "      <td>{'hashtags': [], 'symbols': [], 'user_mentions...</td>\n",
              "      <td>{'iso_language_code': 'in', 'result_type': 're...</td>\n",
              "      <td>&lt;a href=\"http://twitter.com/download/android\" ...</td>\n",
              "      <td>NaN</td>\n",
              "      <td>NaN</td>\n",
              "      <td>NaN</td>\n",
              "      <td>NaN</td>\n",
              "      <td>None</td>\n",
              "      <td>{'id': 1331862278120071169, 'id_str': '1331862...</td>\n",
              "      <td>NaN</td>\n",
              "      <td>NaN</td>\n",
              "      <td>None</td>\n",
              "      <td>NaN</td>\n",
              "      <td>False</td>\n",
              "      <td>6</td>\n",
              "      <td>0</td>\n",
              "      <td>False</td>\n",
              "      <td>False</td>\n",
              "      <td>in</td>\n",
              "      <td>{'created_at': 'Fri Dec 10 05:14:15 +0000 2021...</td>\n",
              "      <td>NaN</td>\n",
              "      <td>NaN</td>\n",
              "      <td>NaN</td>\n",
              "      <td>NaN</td>\n",
              "      <td>NaN</td>\n",
              "    </tr>\n",
              "    <tr>\n",
              "      <th>3</th>\n",
              "      <td>2021-12-10 07:46:09+00:00</td>\n",
              "      <td>1469211823312277509</td>\n",
              "      <td>1469211823312277504</td>\n",
              "      <td>RT @NurazizaShima: Anak-anak Yaman menjadi kor...</td>\n",
              "      <td>False</td>\n",
              "      <td>[0, 139]</td>\n",
              "      <td>{'hashtags': [], 'symbols': [], 'user_mentions...</td>\n",
              "      <td>{'iso_language_code': 'in', 'result_type': 're...</td>\n",
              "      <td>&lt;a href=\"https://mobile.twitter.com\" rel=\"nofo...</td>\n",
              "      <td>NaN</td>\n",
              "      <td>NaN</td>\n",
              "      <td>NaN</td>\n",
              "      <td>NaN</td>\n",
              "      <td>None</td>\n",
              "      <td>{'id': 1341385911632838656, 'id_str': '1341385...</td>\n",
              "      <td>NaN</td>\n",
              "      <td>NaN</td>\n",
              "      <td>None</td>\n",
              "      <td>NaN</td>\n",
              "      <td>False</td>\n",
              "      <td>3</td>\n",
              "      <td>0</td>\n",
              "      <td>False</td>\n",
              "      <td>False</td>\n",
              "      <td>in</td>\n",
              "      <td>{'created_at': 'Fri Dec 10 05:55:15 +0000 2021...</td>\n",
              "      <td>NaN</td>\n",
              "      <td>NaN</td>\n",
              "      <td>NaN</td>\n",
              "      <td>NaN</td>\n",
              "      <td>NaN</td>\n",
              "    </tr>\n",
              "    <tr>\n",
              "      <th>4</th>\n",
              "      <td>2021-12-10 07:28:39+00:00</td>\n",
              "      <td>1469207417644740608</td>\n",
              "      <td>1469207417644740608</td>\n",
              "      <td>Berkesempatan memberikan sambutan, Panewu mend...</td>\n",
              "      <td>False</td>\n",
              "      <td>[0, 272]</td>\n",
              "      <td>{'hashtags': [], 'symbols': [], 'user_mentions...</td>\n",
              "      <td>{'iso_language_code': 'in', 'result_type': 're...</td>\n",
              "      <td>&lt;a href=\"http://twitter.com/download/android\" ...</td>\n",
              "      <td>1.469207e+18</td>\n",
              "      <td>1.469207e+18</td>\n",
              "      <td>1.276198e+18</td>\n",
              "      <td>1.276198e+18</td>\n",
              "      <td>kecpiyungan1</td>\n",
              "      <td>{'id': 1276198351856263170, 'id_str': '1276198...</td>\n",
              "      <td>NaN</td>\n",
              "      <td>NaN</td>\n",
              "      <td>None</td>\n",
              "      <td>NaN</td>\n",
              "      <td>False</td>\n",
              "      <td>0</td>\n",
              "      <td>1</td>\n",
              "      <td>False</td>\n",
              "      <td>False</td>\n",
              "      <td>in</td>\n",
              "      <td>NaN</td>\n",
              "      <td>NaN</td>\n",
              "      <td>NaN</td>\n",
              "      <td>NaN</td>\n",
              "      <td>NaN</td>\n",
              "      <td>NaN</td>\n",
              "    </tr>\n",
              "    <tr>\n",
              "      <th>...</th>\n",
              "      <td>...</td>\n",
              "      <td>...</td>\n",
              "      <td>...</td>\n",
              "      <td>...</td>\n",
              "      <td>...</td>\n",
              "      <td>...</td>\n",
              "      <td>...</td>\n",
              "      <td>...</td>\n",
              "      <td>...</td>\n",
              "      <td>...</td>\n",
              "      <td>...</td>\n",
              "      <td>...</td>\n",
              "      <td>...</td>\n",
              "      <td>...</td>\n",
              "      <td>...</td>\n",
              "      <td>...</td>\n",
              "      <td>...</td>\n",
              "      <td>...</td>\n",
              "      <td>...</td>\n",
              "      <td>...</td>\n",
              "      <td>...</td>\n",
              "      <td>...</td>\n",
              "      <td>...</td>\n",
              "      <td>...</td>\n",
              "      <td>...</td>\n",
              "      <td>...</td>\n",
              "      <td>...</td>\n",
              "      <td>...</td>\n",
              "      <td>...</td>\n",
              "      <td>...</td>\n",
              "      <td>...</td>\n",
              "    </tr>\n",
              "    <tr>\n",
              "      <th>3013</th>\n",
              "      <td>2021-12-02 04:59:15+00:00</td>\n",
              "      <td>1466270714915278851</td>\n",
              "      <td>1466270714915278848</td>\n",
              "      <td>@collegemenfess -c kesehatan dan gizi anak, bu...</td>\n",
              "      <td>False</td>\n",
              "      <td>[16, 229]</td>\n",
              "      <td>{'hashtags': [], 'symbols': [], 'user_mentions...</td>\n",
              "      <td>{'iso_language_code': 'in', 'result_type': 're...</td>\n",
              "      <td>&lt;a href=\"http://twitter.com/download/android\" ...</td>\n",
              "      <td>1.466270e+18</td>\n",
              "      <td>1.466270e+18</td>\n",
              "      <td>4.282384e+08</td>\n",
              "      <td>4.282384e+08</td>\n",
              "      <td>kisahrenjana</td>\n",
              "      <td>{'id': 428238435, 'id_str': '428238435', 'name...</td>\n",
              "      <td>NaN</td>\n",
              "      <td>NaN</td>\n",
              "      <td>None</td>\n",
              "      <td>NaN</td>\n",
              "      <td>False</td>\n",
              "      <td>0</td>\n",
              "      <td>2</td>\n",
              "      <td>False</td>\n",
              "      <td>False</td>\n",
              "      <td>in</td>\n",
              "      <td>NaN</td>\n",
              "      <td>NaN</td>\n",
              "      <td>NaN</td>\n",
              "      <td>NaN</td>\n",
              "      <td>NaN</td>\n",
              "      <td>NaN</td>\n",
              "    </tr>\n",
              "    <tr>\n",
              "      <th>3017</th>\n",
              "      <td>2021-12-04 10:26:53+00:00</td>\n",
              "      <td>1467077944434737154</td>\n",
              "      <td>1467077944434737152</td>\n",
              "      <td>@marlonisve kebutuhan gizi balita dan efeknya ...</td>\n",
              "      <td>False</td>\n",
              "      <td>[12, 67]</td>\n",
              "      <td>{'hashtags': [], 'symbols': [], 'user_mentions...</td>\n",
              "      <td>{'iso_language_code': 'in', 'result_type': 're...</td>\n",
              "      <td>&lt;a href=\"http://twitter.com/download/android\" ...</td>\n",
              "      <td>1.467077e+18</td>\n",
              "      <td>1.467077e+18</td>\n",
              "      <td>1.090419e+18</td>\n",
              "      <td>1.090419e+18</td>\n",
              "      <td>marlonisve</td>\n",
              "      <td>{'id': 1251502530783109121, 'id_str': '1251502...</td>\n",
              "      <td>NaN</td>\n",
              "      <td>NaN</td>\n",
              "      <td>None</td>\n",
              "      <td>NaN</td>\n",
              "      <td>False</td>\n",
              "      <td>0</td>\n",
              "      <td>0</td>\n",
              "      <td>False</td>\n",
              "      <td>False</td>\n",
              "      <td>in</td>\n",
              "      <td>NaN</td>\n",
              "      <td>NaN</td>\n",
              "      <td>NaN</td>\n",
              "      <td>NaN</td>\n",
              "      <td>NaN</td>\n",
              "      <td>NaN</td>\n",
              "    </tr>\n",
              "    <tr>\n",
              "      <th>3022</th>\n",
              "      <td>2021-12-04 15:22:21+00:00</td>\n",
              "      <td>1467152301274005507</td>\n",
              "      <td>1467152301274005504</td>\n",
              "      <td>Dia itu kurus banget, pendek juga. Gak tau deh...</td>\n",
              "      <td>False</td>\n",
              "      <td>[0, 253]</td>\n",
              "      <td>{'hashtags': [], 'symbols': [], 'user_mentions...</td>\n",
              "      <td>{'iso_language_code': 'in', 'result_type': 're...</td>\n",
              "      <td>&lt;a href=\"http://twitter.com/download/android\" ...</td>\n",
              "      <td>1.467151e+18</td>\n",
              "      <td>1.467151e+18</td>\n",
              "      <td>8.446869e+07</td>\n",
              "      <td>8.446869e+07</td>\n",
              "      <td>sekarmiira_h</td>\n",
              "      <td>{'id': 84468687, 'id_str': '84468687', 'name':...</td>\n",
              "      <td>NaN</td>\n",
              "      <td>NaN</td>\n",
              "      <td>None</td>\n",
              "      <td>NaN</td>\n",
              "      <td>False</td>\n",
              "      <td>0</td>\n",
              "      <td>0</td>\n",
              "      <td>False</td>\n",
              "      <td>False</td>\n",
              "      <td>in</td>\n",
              "      <td>NaN</td>\n",
              "      <td>NaN</td>\n",
              "      <td>NaN</td>\n",
              "      <td>NaN</td>\n",
              "      <td>NaN</td>\n",
              "      <td>NaN</td>\n",
              "    </tr>\n",
              "    <tr>\n",
              "      <th>3027</th>\n",
              "      <td>2021-12-03 05:32:52+00:00</td>\n",
              "      <td>1466641565116366852</td>\n",
              "      <td>1466641565116366848</td>\n",
              "      <td>Peningkatan kualitas konsumsi pangan masyaraka...</td>\n",
              "      <td>False</td>\n",
              "      <td>[0, 237]</td>\n",
              "      <td>{'hashtags': [{'text': 'bpskotapekalongan', 'i...</td>\n",
              "      <td>{'iso_language_code': 'in', 'result_type': 're...</td>\n",
              "      <td>&lt;a href=\"http://twitter.com/download/android\" ...</td>\n",
              "      <td>1.466642e+18</td>\n",
              "      <td>1.466642e+18</td>\n",
              "      <td>9.668656e+17</td>\n",
              "      <td>9.668656e+17</td>\n",
              "      <td>bpspklkota</td>\n",
              "      <td>{'id': 966865648042131456, 'id_str': '96686564...</td>\n",
              "      <td>NaN</td>\n",
              "      <td>NaN</td>\n",
              "      <td>None</td>\n",
              "      <td>NaN</td>\n",
              "      <td>False</td>\n",
              "      <td>0</td>\n",
              "      <td>0</td>\n",
              "      <td>False</td>\n",
              "      <td>False</td>\n",
              "      <td>in</td>\n",
              "      <td>NaN</td>\n",
              "      <td>NaN</td>\n",
              "      <td>NaN</td>\n",
              "      <td>NaN</td>\n",
              "      <td>NaN</td>\n",
              "      <td>NaN</td>\n",
              "    </tr>\n",
              "    <tr>\n",
              "      <th>3030</th>\n",
              "      <td>2021-12-02 14:56:29+00:00</td>\n",
              "      <td>1466421014041088005</td>\n",
              "      <td>1466421014041088000</td>\n",
              "      <td>Rakor Tahunan BBPOM Manado-Pemda bahas pengawa...</td>\n",
              "      <td>False</td>\n",
              "      <td>[0, 124]</td>\n",
              "      <td>{'hashtags': [{'text': 'rakor', 'indices': [10...</td>\n",
              "      <td>{'iso_language_code': 'in', 'result_type': 're...</td>\n",
              "      <td>&lt;a href=\"https://mobile.twitter.com\" rel=\"nofo...</td>\n",
              "      <td>NaN</td>\n",
              "      <td>NaN</td>\n",
              "      <td>NaN</td>\n",
              "      <td>NaN</td>\n",
              "      <td>None</td>\n",
              "      <td>{'id': 1380552259474362371, 'id_str': '1380552...</td>\n",
              "      <td>NaN</td>\n",
              "      <td>NaN</td>\n",
              "      <td>None</td>\n",
              "      <td>NaN</td>\n",
              "      <td>False</td>\n",
              "      <td>0</td>\n",
              "      <td>0</td>\n",
              "      <td>False</td>\n",
              "      <td>False</td>\n",
              "      <td>in</td>\n",
              "      <td>NaN</td>\n",
              "      <td>NaN</td>\n",
              "      <td>0.0</td>\n",
              "      <td>NaN</td>\n",
              "      <td>NaN</td>\n",
              "      <td>NaN</td>\n",
              "    </tr>\n",
              "  </tbody>\n",
              "</table>\n",
              "<p>592 rows × 31 columns</p>\n",
              "</div>"
            ],
            "text/plain": [
              "                    created_at  ...  quoted_status\n",
              "0    2021-12-10 13:06:03+00:00  ...            NaN\n",
              "1    2021-12-10 11:25:26+00:00  ...            NaN\n",
              "2    2021-12-10 09:49:08+00:00  ...            NaN\n",
              "3    2021-12-10 07:46:09+00:00  ...            NaN\n",
              "4    2021-12-10 07:28:39+00:00  ...            NaN\n",
              "...                        ...  ...            ...\n",
              "3013 2021-12-02 04:59:15+00:00  ...            NaN\n",
              "3017 2021-12-04 10:26:53+00:00  ...            NaN\n",
              "3022 2021-12-04 15:22:21+00:00  ...            NaN\n",
              "3027 2021-12-03 05:32:52+00:00  ...            NaN\n",
              "3030 2021-12-02 14:56:29+00:00  ...            NaN\n",
              "\n",
              "[592 rows x 31 columns]"
            ]
          },
          "metadata": {},
          "execution_count": 170
        }
      ],
      "source": [
        "df"
      ]
    },
    {
      "cell_type": "code",
      "source": [
        "df.keys()"
      ],
      "metadata": {
        "id": "SpOlbuCb4NFt",
        "colab": {
          "base_uri": "https://localhost:8080/"
        },
        "outputId": "828bc4d2-1cef-46e4-9dfa-52ffd52f1da4"
      },
      "execution_count": 171,
      "outputs": [
        {
          "output_type": "execute_result",
          "data": {
            "text/plain": [
              "Index(['created_at', 'id', 'id_str', 'tweet', 'truncated',\n",
              "       'display_text_range', 'entities', 'metadata', 'source',\n",
              "       'in_reply_to_status_id', 'in_reply_to_status_id_str',\n",
              "       'in_reply_to_user_id', 'in_reply_to_user_id_str',\n",
              "       'in_reply_to_screen_name', 'user', 'geo', 'coordinates', 'place',\n",
              "       'contributors', 'is_quote_status', 'retweet_count', 'favorite_count',\n",
              "       'favorited', 'retweeted', 'lang', 'retweeted_status',\n",
              "       'extended_entities', 'possibly_sensitive', 'quoted_status_id',\n",
              "       'quoted_status_id_str', 'quoted_status'],\n",
              "      dtype='object')"
            ]
          },
          "metadata": {},
          "execution_count": 171
        }
      ]
    },
    {
      "cell_type": "code",
      "execution_count": 172,
      "metadata": {
        "id": "QHGKcdqHCyyN",
        "colab": {
          "base_uri": "https://localhost:8080/",
          "height": 240
        },
        "outputId": "f20d90d9-ff42-48b4-d9ec-f0f5be03a215"
      },
      "outputs": [
        {
          "output_type": "stream",
          "name": "stdout",
          "text": [
            "Tweet dari User dengan Retweet Terbanyak\n",
            "RT @sdenta: Banyak testimoni para praktisi puasa di thread kemaren, dan banyak yg nanya emangnya bisa cukup nutrisinya kalo puasa terus? We…\n"
          ]
        },
        {
          "output_type": "execute_result",
          "data": {
            "text/html": [
              "<div>\n",
              "<style scoped>\n",
              "    .dataframe tbody tr th:only-of-type {\n",
              "        vertical-align: middle;\n",
              "    }\n",
              "\n",
              "    .dataframe tbody tr th {\n",
              "        vertical-align: top;\n",
              "    }\n",
              "\n",
              "    .dataframe thead th {\n",
              "        text-align: right;\n",
              "    }\n",
              "</style>\n",
              "<table border=\"1\" class=\"dataframe\">\n",
              "  <thead>\n",
              "    <tr style=\"text-align: right;\">\n",
              "      <th></th>\n",
              "      <th>created_at</th>\n",
              "      <th>id</th>\n",
              "      <th>id_str</th>\n",
              "      <th>tweet</th>\n",
              "      <th>truncated</th>\n",
              "      <th>display_text_range</th>\n",
              "      <th>entities</th>\n",
              "      <th>metadata</th>\n",
              "      <th>source</th>\n",
              "      <th>in_reply_to_status_id</th>\n",
              "      <th>in_reply_to_status_id_str</th>\n",
              "      <th>in_reply_to_user_id</th>\n",
              "      <th>in_reply_to_user_id_str</th>\n",
              "      <th>in_reply_to_screen_name</th>\n",
              "      <th>user</th>\n",
              "      <th>geo</th>\n",
              "      <th>coordinates</th>\n",
              "      <th>place</th>\n",
              "      <th>contributors</th>\n",
              "      <th>is_quote_status</th>\n",
              "      <th>retweet_count</th>\n",
              "      <th>favorite_count</th>\n",
              "      <th>favorited</th>\n",
              "      <th>retweeted</th>\n",
              "      <th>lang</th>\n",
              "      <th>retweeted_status</th>\n",
              "      <th>extended_entities</th>\n",
              "      <th>possibly_sensitive</th>\n",
              "      <th>quoted_status_id</th>\n",
              "      <th>quoted_status_id_str</th>\n",
              "      <th>quoted_status</th>\n",
              "    </tr>\n",
              "  </thead>\n",
              "  <tbody>\n",
              "    <tr>\n",
              "      <th>117</th>\n",
              "      <td>2021-12-06 15:44:38+00:00</td>\n",
              "      <td>1467882684210769924</td>\n",
              "      <td>1467882684210769920</td>\n",
              "      <td>RT @sdenta: Banyak testimoni para praktisi pua...</td>\n",
              "      <td>False</td>\n",
              "      <td>[0, 140]</td>\n",
              "      <td>{'hashtags': [], 'symbols': [], 'user_mentions...</td>\n",
              "      <td>{'iso_language_code': 'in', 'result_type': 're...</td>\n",
              "      <td>&lt;a href=\"http://twitter.com/download/android\" ...</td>\n",
              "      <td>NaN</td>\n",
              "      <td>NaN</td>\n",
              "      <td>NaN</td>\n",
              "      <td>NaN</td>\n",
              "      <td>None</td>\n",
              "      <td>{'id': 1236103396647567360, 'id_str': '1236103...</td>\n",
              "      <td>NaN</td>\n",
              "      <td>NaN</td>\n",
              "      <td>None</td>\n",
              "      <td>NaN</td>\n",
              "      <td>False</td>\n",
              "      <td>3606</td>\n",
              "      <td>0</td>\n",
              "      <td>False</td>\n",
              "      <td>False</td>\n",
              "      <td>in</td>\n",
              "      <td>{'created_at': 'Tue Feb 09 03:07:18 +0000 2021...</td>\n",
              "      <td>NaN</td>\n",
              "      <td>NaN</td>\n",
              "      <td>NaN</td>\n",
              "      <td>NaN</td>\n",
              "      <td>NaN</td>\n",
              "    </tr>\n",
              "  </tbody>\n",
              "</table>\n",
              "</div>"
            ],
            "text/plain": [
              "                   created_at  ...  quoted_status\n",
              "117 2021-12-06 15:44:38+00:00  ...            NaN\n",
              "\n",
              "[1 rows x 31 columns]"
            ]
          },
          "metadata": {},
          "execution_count": 172
        }
      ],
      "source": [
        "print(\"Tweet dari User dengan Retweet Terbanyak\")\n",
        "d_ = df[df['retweet_count'] == df['retweet_count'].max()]\n",
        "print(d_.iloc[0].tweet)\n",
        "d_.head(1)"
      ]
    },
    {
      "cell_type": "code",
      "execution_count": 173,
      "metadata": {
        "id": "f0ff_jH4DAs0",
        "colab": {
          "base_uri": "https://localhost:8080/",
          "height": 573
        },
        "outputId": "26f1e2ef-7f60-49cc-8b27-63c704ee8777"
      },
      "outputs": [
        {
          "output_type": "execute_result",
          "data": {
            "text/html": [
              "<div>\n",
              "<style scoped>\n",
              "    .dataframe tbody tr th:only-of-type {\n",
              "        vertical-align: middle;\n",
              "    }\n",
              "\n",
              "    .dataframe tbody tr th {\n",
              "        vertical-align: top;\n",
              "    }\n",
              "\n",
              "    .dataframe thead th {\n",
              "        text-align: right;\n",
              "    }\n",
              "</style>\n",
              "<table border=\"1\" class=\"dataframe\">\n",
              "  <thead>\n",
              "    <tr style=\"text-align: right;\">\n",
              "      <th></th>\n",
              "      <th>created_at</th>\n",
              "      <th>id</th>\n",
              "      <th>id_str</th>\n",
              "      <th>tweet</th>\n",
              "      <th>truncated</th>\n",
              "      <th>display_text_range</th>\n",
              "      <th>entities</th>\n",
              "      <th>metadata</th>\n",
              "      <th>source</th>\n",
              "      <th>in_reply_to_status_id</th>\n",
              "      <th>in_reply_to_status_id_str</th>\n",
              "      <th>in_reply_to_user_id</th>\n",
              "      <th>in_reply_to_user_id_str</th>\n",
              "      <th>in_reply_to_screen_name</th>\n",
              "      <th>user</th>\n",
              "      <th>geo</th>\n",
              "      <th>coordinates</th>\n",
              "      <th>place</th>\n",
              "      <th>contributors</th>\n",
              "      <th>is_quote_status</th>\n",
              "      <th>retweet_count</th>\n",
              "      <th>favorite_count</th>\n",
              "      <th>favorited</th>\n",
              "      <th>retweeted</th>\n",
              "      <th>lang</th>\n",
              "      <th>retweeted_status</th>\n",
              "      <th>extended_entities</th>\n",
              "      <th>possibly_sensitive</th>\n",
              "      <th>quoted_status_id</th>\n",
              "      <th>quoted_status_id_str</th>\n",
              "      <th>quoted_status</th>\n",
              "    </tr>\n",
              "  </thead>\n",
              "  <tbody>\n",
              "    <tr>\n",
              "      <th>117</th>\n",
              "      <td>2021-12-06 15:44:38+00:00</td>\n",
              "      <td>1467882684210769924</td>\n",
              "      <td>1467882684210769920</td>\n",
              "      <td>RT @sdenta: Banyak testimoni para praktisi pua...</td>\n",
              "      <td>False</td>\n",
              "      <td>[0, 140]</td>\n",
              "      <td>{'hashtags': [], 'symbols': [], 'user_mentions...</td>\n",
              "      <td>{'iso_language_code': 'in', 'result_type': 're...</td>\n",
              "      <td>&lt;a href=\"http://twitter.com/download/android\" ...</td>\n",
              "      <td>NaN</td>\n",
              "      <td>NaN</td>\n",
              "      <td>NaN</td>\n",
              "      <td>NaN</td>\n",
              "      <td>None</td>\n",
              "      <td>{'id': 1236103396647567360, 'id_str': '1236103...</td>\n",
              "      <td>NaN</td>\n",
              "      <td>NaN</td>\n",
              "      <td>None</td>\n",
              "      <td>NaN</td>\n",
              "      <td>False</td>\n",
              "      <td>3606</td>\n",
              "      <td>0</td>\n",
              "      <td>False</td>\n",
              "      <td>False</td>\n",
              "      <td>in</td>\n",
              "      <td>{'created_at': 'Tue Feb 09 03:07:18 +0000 2021...</td>\n",
              "      <td>NaN</td>\n",
              "      <td>NaN</td>\n",
              "      <td>NaN</td>\n",
              "      <td>NaN</td>\n",
              "      <td>NaN</td>\n",
              "    </tr>\n",
              "    <tr>\n",
              "      <th>308</th>\n",
              "      <td>2021-12-06 09:36:41+00:00</td>\n",
              "      <td>1467790085768634375</td>\n",
              "      <td>1467790085768634368</td>\n",
              "      <td>Permasalahan stunting alias gagal tumbuh pada ...</td>\n",
              "      <td>False</td>\n",
              "      <td>[0, 93]</td>\n",
              "      <td>{'hashtags': [], 'symbols': [], 'user_mentions...</td>\n",
              "      <td>{'iso_language_code': 'in', 'result_type': 're...</td>\n",
              "      <td>&lt;a href=\"http://twitter.com/download/iphone\" r...</td>\n",
              "      <td>NaN</td>\n",
              "      <td>NaN</td>\n",
              "      <td>NaN</td>\n",
              "      <td>NaN</td>\n",
              "      <td>None</td>\n",
              "      <td>{'id': 829366551446818816, 'id_str': '82936655...</td>\n",
              "      <td>NaN</td>\n",
              "      <td>NaN</td>\n",
              "      <td>None</td>\n",
              "      <td>NaN</td>\n",
              "      <td>False</td>\n",
              "      <td>219</td>\n",
              "      <td>657</td>\n",
              "      <td>False</td>\n",
              "      <td>False</td>\n",
              "      <td>in</td>\n",
              "      <td>NaN</td>\n",
              "      <td>{'media': [{'id': 1467790077669429250, 'id_str...</td>\n",
              "      <td>0.0</td>\n",
              "      <td>NaN</td>\n",
              "      <td>NaN</td>\n",
              "      <td>NaN</td>\n",
              "    </tr>\n",
              "    <tr>\n",
              "      <th>184</th>\n",
              "      <td>2021-12-07 03:52:54+00:00</td>\n",
              "      <td>1468065958027677697</td>\n",
              "      <td>1468065958027677696</td>\n",
              "      <td>RT @asumsico: Permasalahan stunting alias gaga...</td>\n",
              "      <td>False</td>\n",
              "      <td>[0, 131]</td>\n",
              "      <td>{'hashtags': [], 'symbols': [], 'user_mentions...</td>\n",
              "      <td>{'iso_language_code': 'in', 'result_type': 're...</td>\n",
              "      <td>&lt;a href=\"http://twitter.com/download/android\" ...</td>\n",
              "      <td>NaN</td>\n",
              "      <td>NaN</td>\n",
              "      <td>NaN</td>\n",
              "      <td>NaN</td>\n",
              "      <td>None</td>\n",
              "      <td>{'id': 814764697693999104, 'id_str': '81476469...</td>\n",
              "      <td>NaN</td>\n",
              "      <td>NaN</td>\n",
              "      <td>None</td>\n",
              "      <td>NaN</td>\n",
              "      <td>False</td>\n",
              "      <td>219</td>\n",
              "      <td>0</td>\n",
              "      <td>False</td>\n",
              "      <td>False</td>\n",
              "      <td>in</td>\n",
              "      <td>{'created_at': 'Mon Dec 06 09:36:41 +0000 2021...</td>\n",
              "      <td>{'media': [{'id': 1467790077669429250, 'id_str...</td>\n",
              "      <td>0.0</td>\n",
              "      <td>NaN</td>\n",
              "      <td>NaN</td>\n",
              "      <td>NaN</td>\n",
              "    </tr>\n",
              "    <tr>\n",
              "      <th>678</th>\n",
              "      <td>2021-12-05 01:36:30+00:00</td>\n",
              "      <td>1467306857848999939</td>\n",
              "      <td>1467306857848999936</td>\n",
              "      <td>RT @Lima8Satu: Pemerintah tengah gencar-gencar...</td>\n",
              "      <td>False</td>\n",
              "      <td>[0, 140]</td>\n",
              "      <td>{'hashtags': [], 'symbols': [], 'user_mentions...</td>\n",
              "      <td>{'iso_language_code': 'in', 'result_type': 're...</td>\n",
              "      <td>&lt;a href=\"http://twitter.com/download/android\" ...</td>\n",
              "      <td>NaN</td>\n",
              "      <td>NaN</td>\n",
              "      <td>NaN</td>\n",
              "      <td>NaN</td>\n",
              "      <td>None</td>\n",
              "      <td>{'id': 1377809135312412673, 'id_str': '1377809...</td>\n",
              "      <td>NaN</td>\n",
              "      <td>NaN</td>\n",
              "      <td>None</td>\n",
              "      <td>NaN</td>\n",
              "      <td>False</td>\n",
              "      <td>72</td>\n",
              "      <td>0</td>\n",
              "      <td>False</td>\n",
              "      <td>False</td>\n",
              "      <td>in</td>\n",
              "      <td>{'created_at': 'Sat Dec 04 05:45:36 +0000 2021...</td>\n",
              "      <td>NaN</td>\n",
              "      <td>NaN</td>\n",
              "      <td>NaN</td>\n",
              "      <td>NaN</td>\n",
              "      <td>NaN</td>\n",
              "    </tr>\n",
              "    <tr>\n",
              "      <th>787</th>\n",
              "      <td>2021-12-04 05:45:36+00:00</td>\n",
              "      <td>1467007157576949764</td>\n",
              "      <td>1467007157576949760</td>\n",
              "      <td>Pemerintah tengah gencar-gencarnya menangani u...</td>\n",
              "      <td>False</td>\n",
              "      <td>[0, 265]</td>\n",
              "      <td>{'hashtags': [], 'symbols': [], 'user_mentions...</td>\n",
              "      <td>{'iso_language_code': 'in', 'result_type': 're...</td>\n",
              "      <td>&lt;a href=\"http://twitter.com/download/android\" ...</td>\n",
              "      <td>NaN</td>\n",
              "      <td>NaN</td>\n",
              "      <td>NaN</td>\n",
              "      <td>NaN</td>\n",
              "      <td>None</td>\n",
              "      <td>{'id': 1237012707481550848, 'id_str': '1237012...</td>\n",
              "      <td>NaN</td>\n",
              "      <td>NaN</td>\n",
              "      <td>None</td>\n",
              "      <td>NaN</td>\n",
              "      <td>False</td>\n",
              "      <td>72</td>\n",
              "      <td>95</td>\n",
              "      <td>False</td>\n",
              "      <td>False</td>\n",
              "      <td>in</td>\n",
              "      <td>NaN</td>\n",
              "      <td>{'media': [{'id': 1467007116636348418, 'id_str...</td>\n",
              "      <td>0.0</td>\n",
              "      <td>NaN</td>\n",
              "      <td>NaN</td>\n",
              "      <td>NaN</td>\n",
              "    </tr>\n",
              "  </tbody>\n",
              "</table>\n",
              "</div>"
            ],
            "text/plain": [
              "                   created_at  ...  quoted_status\n",
              "117 2021-12-06 15:44:38+00:00  ...            NaN\n",
              "308 2021-12-06 09:36:41+00:00  ...            NaN\n",
              "184 2021-12-07 03:52:54+00:00  ...            NaN\n",
              "678 2021-12-05 01:36:30+00:00  ...            NaN\n",
              "787 2021-12-04 05:45:36+00:00  ...            NaN\n",
              "\n",
              "[5 rows x 31 columns]"
            ]
          },
          "metadata": {},
          "execution_count": 173
        }
      ],
      "source": [
        "df.sort_values(by=['retweet_count'], ascending=False).head(5)"
      ]
    },
    {
      "cell_type": "code",
      "execution_count": 174,
      "metadata": {
        "id": "hbANvmzKDnzm",
        "colab": {
          "base_uri": "https://localhost:8080/",
          "height": 188
        },
        "outputId": "5dc49387-70ac-4c2d-eead-23b54cd4794e"
      },
      "outputs": [
        {
          "output_type": "stream",
          "name": "stdout",
          "text": [
            "Tweet dari User dengan Like Terbanyak\n",
            "Permasalahan stunting alias gagal tumbuh pada anak masih menjadi masalah serius di Indonesia. https://t.co/LpmMdal3rT\n"
          ]
        },
        {
          "output_type": "execute_result",
          "data": {
            "text/html": [
              "<div>\n",
              "<style scoped>\n",
              "    .dataframe tbody tr th:only-of-type {\n",
              "        vertical-align: middle;\n",
              "    }\n",
              "\n",
              "    .dataframe tbody tr th {\n",
              "        vertical-align: top;\n",
              "    }\n",
              "\n",
              "    .dataframe thead th {\n",
              "        text-align: right;\n",
              "    }\n",
              "</style>\n",
              "<table border=\"1\" class=\"dataframe\">\n",
              "  <thead>\n",
              "    <tr style=\"text-align: right;\">\n",
              "      <th></th>\n",
              "      <th>created_at</th>\n",
              "      <th>id</th>\n",
              "      <th>id_str</th>\n",
              "      <th>tweet</th>\n",
              "      <th>truncated</th>\n",
              "      <th>display_text_range</th>\n",
              "      <th>entities</th>\n",
              "      <th>metadata</th>\n",
              "      <th>source</th>\n",
              "      <th>in_reply_to_status_id</th>\n",
              "      <th>in_reply_to_status_id_str</th>\n",
              "      <th>in_reply_to_user_id</th>\n",
              "      <th>in_reply_to_user_id_str</th>\n",
              "      <th>in_reply_to_screen_name</th>\n",
              "      <th>user</th>\n",
              "      <th>geo</th>\n",
              "      <th>coordinates</th>\n",
              "      <th>place</th>\n",
              "      <th>contributors</th>\n",
              "      <th>is_quote_status</th>\n",
              "      <th>retweet_count</th>\n",
              "      <th>favorite_count</th>\n",
              "      <th>favorited</th>\n",
              "      <th>retweeted</th>\n",
              "      <th>lang</th>\n",
              "      <th>retweeted_status</th>\n",
              "      <th>extended_entities</th>\n",
              "      <th>possibly_sensitive</th>\n",
              "      <th>quoted_status_id</th>\n",
              "      <th>quoted_status_id_str</th>\n",
              "      <th>quoted_status</th>\n",
              "    </tr>\n",
              "  </thead>\n",
              "  <tbody>\n",
              "    <tr>\n",
              "      <th>308</th>\n",
              "      <td>2021-12-06 09:36:41+00:00</td>\n",
              "      <td>1467790085768634375</td>\n",
              "      <td>1467790085768634368</td>\n",
              "      <td>Permasalahan stunting alias gagal tumbuh pada ...</td>\n",
              "      <td>False</td>\n",
              "      <td>[0, 93]</td>\n",
              "      <td>{'hashtags': [], 'symbols': [], 'user_mentions...</td>\n",
              "      <td>{'iso_language_code': 'in', 'result_type': 're...</td>\n",
              "      <td>&lt;a href=\"http://twitter.com/download/iphone\" r...</td>\n",
              "      <td>NaN</td>\n",
              "      <td>NaN</td>\n",
              "      <td>NaN</td>\n",
              "      <td>NaN</td>\n",
              "      <td>None</td>\n",
              "      <td>{'id': 829366551446818816, 'id_str': '82936655...</td>\n",
              "      <td>NaN</td>\n",
              "      <td>NaN</td>\n",
              "      <td>None</td>\n",
              "      <td>NaN</td>\n",
              "      <td>False</td>\n",
              "      <td>219</td>\n",
              "      <td>657</td>\n",
              "      <td>False</td>\n",
              "      <td>False</td>\n",
              "      <td>in</td>\n",
              "      <td>NaN</td>\n",
              "      <td>{'media': [{'id': 1467790077669429250, 'id_str...</td>\n",
              "      <td>0.0</td>\n",
              "      <td>NaN</td>\n",
              "      <td>NaN</td>\n",
              "      <td>NaN</td>\n",
              "    </tr>\n",
              "  </tbody>\n",
              "</table>\n",
              "</div>"
            ],
            "text/plain": [
              "                   created_at  ...  quoted_status\n",
              "308 2021-12-06 09:36:41+00:00  ...            NaN\n",
              "\n",
              "[1 rows x 31 columns]"
            ]
          },
          "metadata": {},
          "execution_count": 174
        }
      ],
      "source": [
        "print(\"Tweet dari User dengan Like Terbanyak\")\n",
        "d_2 = df[df['favorite_count'] == df['favorite_count'].max()]\n",
        "print(d_2.iloc[0].tweet)\n",
        "d_2.head(1)"
      ]
    },
    {
      "cell_type": "code",
      "execution_count": 175,
      "metadata": {
        "id": "3NLbSPOCEL9q",
        "colab": {
          "base_uri": "https://localhost:8080/",
          "height": 417
        },
        "outputId": "9d4e2fd6-051c-437b-ccfd-9089dacd23eb"
      },
      "outputs": [
        {
          "output_type": "display_data",
          "data": {
            "text/html": [
              "<html>\n",
              "<head><meta charset=\"utf-8\" /></head>\n",
              "<body>\n",
              "    <div>\n",
              "            <script src=\"https://cdnjs.cloudflare.com/ajax/libs/mathjax/2.7.5/MathJax.js?config=TeX-AMS-MML_SVG\"></script><script type=\"text/javascript\">if (window.MathJax) {MathJax.Hub.Config({SVG: {font: \"STIX-Web\"}});}</script>\n",
              "                <script type=\"text/javascript\">window.PlotlyConfig = {MathJaxConfig: 'local'};</script>\n",
              "        <script src=\"https://cdn.plot.ly/plotly-latest.min.js\"></script>    \n",
              "            <div id=\"a1d02e34-0742-4286-86aa-1a7bd888bf4a\" class=\"plotly-graph-div\" style=\"height:400px; width:100%;\"></div>\n",
              "            <script type=\"text/javascript\">\n",
              "                \n",
              "                    window.PLOTLYENV=window.PLOTLYENV || {};\n",
              "                    \n",
              "                if (document.getElementById(\"a1d02e34-0742-4286-86aa-1a7bd888bf4a\")) {\n",
              "                    Plotly.newPlot(\n",
              "                        'a1d02e34-0742-4286-86aa-1a7bd888bf4a',\n",
              "                        [{\"alignmentgroup\": \"True\", \"hoverlabel\": {\"namelength\": 0}, \"hovertemplate\": \"Username=%{x}<br>Banyak Reply Tweet=%{y}\", \"legendgroup\": \"Username=txtdrorangsusah\", \"marker\": {\"color\": \"#636efa\"}, \"name\": \"Username=txtdrorangsusah\", \"offsetgroup\": \"Username=txtdrorangsusah\", \"orientation\": \"v\", \"showlegend\": true, \"textposition\": \"auto\", \"type\": \"bar\", \"x\": [\"txtdrorangsusah\"], \"xaxis\": \"x\", \"y\": [6], \"yaxis\": \"y\"}, {\"alignmentgroup\": \"True\", \"hoverlabel\": {\"namelength\": 0}, \"hovertemplate\": \"Username=%{x}<br>Banyak Reply Tweet=%{y}\", \"legendgroup\": \"Username=afidbrilliana\", \"marker\": {\"color\": \"#EF553B\"}, \"name\": \"Username=afidbrilliana\", \"offsetgroup\": \"Username=afidbrilliana\", \"orientation\": \"v\", \"showlegend\": true, \"textposition\": \"auto\", \"type\": \"bar\", \"x\": [\"afidbrilliana\"], \"xaxis\": \"x\", \"y\": [5], \"yaxis\": \"y\"}, {\"alignmentgroup\": \"True\", \"hoverlabel\": {\"namelength\": 0}, \"hovertemplate\": \"Username=%{x}<br>Banyak Reply Tweet=%{y}\", \"legendgroup\": \"Username=Sofianpalupi\", \"marker\": {\"color\": \"#00cc96\"}, \"name\": \"Username=Sofianpalupi\", \"offsetgroup\": \"Username=Sofianpalupi\", \"orientation\": \"v\", \"showlegend\": true, \"textposition\": \"auto\", \"type\": \"bar\", \"x\": [\"Sofianpalupi\"], \"xaxis\": \"x\", \"y\": [4], \"yaxis\": \"y\"}, {\"alignmentgroup\": \"True\", \"hoverlabel\": {\"namelength\": 0}, \"hovertemplate\": \"Username=%{x}<br>Banyak Reply Tweet=%{y}\", \"legendgroup\": \"Username=lupaudahmakan\", \"marker\": {\"color\": \"#ab63fa\"}, \"name\": \"Username=lupaudahmakan\", \"offsetgroup\": \"Username=lupaudahmakan\", \"orientation\": \"v\", \"showlegend\": true, \"textposition\": \"auto\", \"type\": \"bar\", \"x\": [\"lupaudahmakan\"], \"xaxis\": \"x\", \"y\": [3], \"yaxis\": \"y\"}, {\"alignmentgroup\": \"True\", \"hoverlabel\": {\"namelength\": 0}, \"hovertemplate\": \"Username=%{x}<br>Banyak Reply Tweet=%{y}\", \"legendgroup\": \"Username=kec_kasihan\", \"marker\": {\"color\": \"#FFA15A\"}, \"name\": \"Username=kec_kasihan\", \"offsetgroup\": \"Username=kec_kasihan\", \"orientation\": \"v\", \"showlegend\": true, \"textposition\": \"auto\", \"type\": \"bar\", \"x\": [\"kec_kasihan\"], \"xaxis\": \"x\", \"y\": [3], \"yaxis\": \"y\"}, {\"alignmentgroup\": \"True\", \"hoverlabel\": {\"namelength\": 0}, \"hovertemplate\": \"Username=%{x}<br>Banyak Reply Tweet=%{y}\", \"legendgroup\": \"Username=bdngfess\", \"marker\": {\"color\": \"#19d3f3\"}, \"name\": \"Username=bdngfess\", \"offsetgroup\": \"Username=bdngfess\", \"orientation\": \"v\", \"showlegend\": true, \"textposition\": \"auto\", \"type\": \"bar\", \"x\": [\"bdngfess\"], \"xaxis\": \"x\", \"y\": [3], \"yaxis\": \"y\"}, {\"alignmentgroup\": \"True\", \"hoverlabel\": {\"namelength\": 0}, \"hovertemplate\": \"Username=%{x}<br>Banyak Reply Tweet=%{y}\", \"legendgroup\": \"Username=teentionid\", \"marker\": {\"color\": \"#FF6692\"}, \"name\": \"Username=teentionid\", \"offsetgroup\": \"Username=teentionid\", \"orientation\": \"v\", \"showlegend\": true, \"textposition\": \"auto\", \"type\": \"bar\", \"x\": [\"teentionid\"], \"xaxis\": \"x\", \"y\": [3], \"yaxis\": \"y\"}, {\"alignmentgroup\": \"True\", \"hoverlabel\": {\"namelength\": 0}, \"hovertemplate\": \"Username=%{x}<br>Banyak Reply Tweet=%{y}\", \"legendgroup\": \"Username=amanpulungan\", \"marker\": {\"color\": \"#B6E880\"}, \"name\": \"Username=amanpulungan\", \"offsetgroup\": \"Username=amanpulungan\", \"orientation\": \"v\", \"showlegend\": true, \"textposition\": \"auto\", \"type\": \"bar\", \"x\": [\"amanpulungan\"], \"xaxis\": \"x\", \"y\": [3], \"yaxis\": \"y\"}, {\"alignmentgroup\": \"True\", \"hoverlabel\": {\"namelength\": 0}, \"hovertemplate\": \"Username=%{x}<br>Banyak Reply Tweet=%{y}\", \"legendgroup\": \"Username=kedungkandang01\", \"marker\": {\"color\": \"#FF97FF\"}, \"name\": \"Username=kedungkandang01\", \"offsetgroup\": \"Username=kedungkandang01\", \"orientation\": \"v\", \"showlegend\": true, \"textposition\": \"auto\", \"type\": \"bar\", \"x\": [\"kedungkandang01\"], \"xaxis\": \"x\", \"y\": [2], \"yaxis\": \"y\"}, {\"alignmentgroup\": \"True\", \"hoverlabel\": {\"namelength\": 0}, \"hovertemplate\": \"Username=%{x}<br>Banyak Reply Tweet=%{y}\", \"legendgroup\": \"Username=chitaglorya__\", \"marker\": {\"color\": \"#FECB52\"}, \"name\": \"Username=chitaglorya__\", \"offsetgroup\": \"Username=chitaglorya__\", \"orientation\": \"v\", \"showlegend\": true, \"textposition\": \"auto\", \"type\": \"bar\", \"x\": [\"chitaglorya__\"], \"xaxis\": \"x\", \"y\": [2], \"yaxis\": \"y\"}],\n",
              "                        {\"barmode\": \"relative\", \"height\": 400, \"legend\": {\"tracegroupgap\": 0}, \"template\": {\"data\": {\"bar\": [{\"error_x\": {\"color\": \"#2a3f5f\"}, \"error_y\": {\"color\": \"#2a3f5f\"}, \"marker\": {\"line\": {\"color\": \"#E5ECF6\", \"width\": 0.5}}, \"type\": \"bar\"}], \"barpolar\": [{\"marker\": {\"line\": {\"color\": \"#E5ECF6\", \"width\": 0.5}}, \"type\": \"barpolar\"}], \"carpet\": [{\"aaxis\": {\"endlinecolor\": \"#2a3f5f\", \"gridcolor\": \"white\", \"linecolor\": \"white\", \"minorgridcolor\": \"white\", \"startlinecolor\": \"#2a3f5f\"}, \"baxis\": {\"endlinecolor\": \"#2a3f5f\", \"gridcolor\": \"white\", \"linecolor\": \"white\", \"minorgridcolor\": \"white\", \"startlinecolor\": \"#2a3f5f\"}, \"type\": \"carpet\"}], \"choropleth\": [{\"colorbar\": {\"outlinewidth\": 0, \"ticks\": \"\"}, \"type\": \"choropleth\"}], \"contour\": [{\"colorbar\": {\"outlinewidth\": 0, \"ticks\": \"\"}, \"colorscale\": [[0.0, \"#0d0887\"], [0.1111111111111111, \"#46039f\"], [0.2222222222222222, \"#7201a8\"], [0.3333333333333333, \"#9c179e\"], [0.4444444444444444, \"#bd3786\"], [0.5555555555555556, \"#d8576b\"], [0.6666666666666666, \"#ed7953\"], [0.7777777777777778, \"#fb9f3a\"], [0.8888888888888888, \"#fdca26\"], [1.0, \"#f0f921\"]], \"type\": \"contour\"}], \"contourcarpet\": [{\"colorbar\": {\"outlinewidth\": 0, \"ticks\": \"\"}, \"type\": \"contourcarpet\"}], \"heatmap\": [{\"colorbar\": {\"outlinewidth\": 0, \"ticks\": \"\"}, \"colorscale\": [[0.0, \"#0d0887\"], [0.1111111111111111, \"#46039f\"], [0.2222222222222222, \"#7201a8\"], [0.3333333333333333, \"#9c179e\"], [0.4444444444444444, \"#bd3786\"], [0.5555555555555556, \"#d8576b\"], [0.6666666666666666, \"#ed7953\"], [0.7777777777777778, \"#fb9f3a\"], [0.8888888888888888, \"#fdca26\"], [1.0, \"#f0f921\"]], \"type\": \"heatmap\"}], \"heatmapgl\": [{\"colorbar\": {\"outlinewidth\": 0, \"ticks\": \"\"}, \"colorscale\": [[0.0, \"#0d0887\"], [0.1111111111111111, \"#46039f\"], [0.2222222222222222, \"#7201a8\"], [0.3333333333333333, \"#9c179e\"], [0.4444444444444444, \"#bd3786\"], [0.5555555555555556, \"#d8576b\"], [0.6666666666666666, \"#ed7953\"], [0.7777777777777778, \"#fb9f3a\"], [0.8888888888888888, \"#fdca26\"], [1.0, \"#f0f921\"]], \"type\": \"heatmapgl\"}], \"histogram\": [{\"marker\": {\"colorbar\": {\"outlinewidth\": 0, \"ticks\": \"\"}}, \"type\": \"histogram\"}], \"histogram2d\": [{\"colorbar\": {\"outlinewidth\": 0, \"ticks\": \"\"}, \"colorscale\": [[0.0, \"#0d0887\"], [0.1111111111111111, \"#46039f\"], [0.2222222222222222, \"#7201a8\"], [0.3333333333333333, \"#9c179e\"], [0.4444444444444444, \"#bd3786\"], [0.5555555555555556, \"#d8576b\"], [0.6666666666666666, \"#ed7953\"], [0.7777777777777778, \"#fb9f3a\"], [0.8888888888888888, \"#fdca26\"], [1.0, \"#f0f921\"]], \"type\": \"histogram2d\"}], \"histogram2dcontour\": [{\"colorbar\": {\"outlinewidth\": 0, \"ticks\": \"\"}, \"colorscale\": [[0.0, \"#0d0887\"], [0.1111111111111111, \"#46039f\"], [0.2222222222222222, \"#7201a8\"], [0.3333333333333333, \"#9c179e\"], [0.4444444444444444, \"#bd3786\"], [0.5555555555555556, \"#d8576b\"], [0.6666666666666666, \"#ed7953\"], [0.7777777777777778, \"#fb9f3a\"], [0.8888888888888888, \"#fdca26\"], [1.0, \"#f0f921\"]], \"type\": \"histogram2dcontour\"}], \"mesh3d\": [{\"colorbar\": {\"outlinewidth\": 0, \"ticks\": \"\"}, \"type\": \"mesh3d\"}], \"parcoords\": [{\"line\": {\"colorbar\": {\"outlinewidth\": 0, \"ticks\": \"\"}}, \"type\": \"parcoords\"}], \"pie\": [{\"automargin\": true, \"type\": \"pie\"}], \"scatter\": [{\"marker\": {\"colorbar\": {\"outlinewidth\": 0, \"ticks\": \"\"}}, \"type\": \"scatter\"}], \"scatter3d\": [{\"line\": {\"colorbar\": {\"outlinewidth\": 0, \"ticks\": \"\"}}, \"marker\": {\"colorbar\": {\"outlinewidth\": 0, \"ticks\": \"\"}}, \"type\": \"scatter3d\"}], \"scattercarpet\": [{\"marker\": {\"colorbar\": {\"outlinewidth\": 0, \"ticks\": \"\"}}, \"type\": \"scattercarpet\"}], \"scattergeo\": [{\"marker\": {\"colorbar\": {\"outlinewidth\": 0, \"ticks\": \"\"}}, \"type\": \"scattergeo\"}], \"scattergl\": [{\"marker\": {\"colorbar\": {\"outlinewidth\": 0, \"ticks\": \"\"}}, \"type\": \"scattergl\"}], \"scattermapbox\": [{\"marker\": {\"colorbar\": {\"outlinewidth\": 0, \"ticks\": \"\"}}, \"type\": \"scattermapbox\"}], \"scatterpolar\": [{\"marker\": {\"colorbar\": {\"outlinewidth\": 0, \"ticks\": \"\"}}, \"type\": \"scatterpolar\"}], \"scatterpolargl\": [{\"marker\": {\"colorbar\": {\"outlinewidth\": 0, \"ticks\": \"\"}}, \"type\": \"scatterpolargl\"}], \"scatterternary\": [{\"marker\": {\"colorbar\": {\"outlinewidth\": 0, \"ticks\": \"\"}}, \"type\": \"scatterternary\"}], \"surface\": [{\"colorbar\": {\"outlinewidth\": 0, \"ticks\": \"\"}, \"colorscale\": [[0.0, \"#0d0887\"], [0.1111111111111111, \"#46039f\"], [0.2222222222222222, \"#7201a8\"], [0.3333333333333333, \"#9c179e\"], [0.4444444444444444, \"#bd3786\"], [0.5555555555555556, \"#d8576b\"], [0.6666666666666666, \"#ed7953\"], [0.7777777777777778, \"#fb9f3a\"], [0.8888888888888888, \"#fdca26\"], [1.0, \"#f0f921\"]], \"type\": \"surface\"}], \"table\": [{\"cells\": {\"fill\": {\"color\": \"#EBF0F8\"}, \"line\": {\"color\": \"white\"}}, \"header\": {\"fill\": {\"color\": \"#C8D4E3\"}, \"line\": {\"color\": \"white\"}}, \"type\": \"table\"}]}, \"layout\": {\"annotationdefaults\": {\"arrowcolor\": \"#2a3f5f\", \"arrowhead\": 0, \"arrowwidth\": 1}, \"coloraxis\": {\"colorbar\": {\"outlinewidth\": 0, \"ticks\": \"\"}}, \"colorscale\": {\"diverging\": [[0, \"#8e0152\"], [0.1, \"#c51b7d\"], [0.2, \"#de77ae\"], [0.3, \"#f1b6da\"], [0.4, \"#fde0ef\"], [0.5, \"#f7f7f7\"], [0.6, \"#e6f5d0\"], [0.7, \"#b8e186\"], [0.8, \"#7fbc41\"], [0.9, \"#4d9221\"], [1, \"#276419\"]], \"sequential\": [[0.0, \"#0d0887\"], [0.1111111111111111, \"#46039f\"], [0.2222222222222222, \"#7201a8\"], [0.3333333333333333, \"#9c179e\"], [0.4444444444444444, \"#bd3786\"], [0.5555555555555556, \"#d8576b\"], [0.6666666666666666, \"#ed7953\"], [0.7777777777777778, \"#fb9f3a\"], [0.8888888888888888, \"#fdca26\"], [1.0, \"#f0f921\"]], \"sequentialminus\": [[0.0, \"#0d0887\"], [0.1111111111111111, \"#46039f\"], [0.2222222222222222, \"#7201a8\"], [0.3333333333333333, \"#9c179e\"], [0.4444444444444444, \"#bd3786\"], [0.5555555555555556, \"#d8576b\"], [0.6666666666666666, \"#ed7953\"], [0.7777777777777778, \"#fb9f3a\"], [0.8888888888888888, \"#fdca26\"], [1.0, \"#f0f921\"]]}, \"colorway\": [\"#636efa\", \"#EF553B\", \"#00cc96\", \"#ab63fa\", \"#FFA15A\", \"#19d3f3\", \"#FF6692\", \"#B6E880\", \"#FF97FF\", \"#FECB52\"], \"font\": {\"color\": \"#2a3f5f\"}, \"geo\": {\"bgcolor\": \"white\", \"lakecolor\": \"white\", \"landcolor\": \"#E5ECF6\", \"showlakes\": true, \"showland\": true, \"subunitcolor\": \"white\"}, \"hoverlabel\": {\"align\": \"left\"}, \"hovermode\": \"closest\", \"mapbox\": {\"style\": \"light\"}, \"paper_bgcolor\": \"white\", \"plot_bgcolor\": \"#E5ECF6\", \"polar\": {\"angularaxis\": {\"gridcolor\": \"white\", \"linecolor\": \"white\", \"ticks\": \"\"}, \"bgcolor\": \"#E5ECF6\", \"radialaxis\": {\"gridcolor\": \"white\", \"linecolor\": \"white\", \"ticks\": \"\"}}, \"scene\": {\"xaxis\": {\"backgroundcolor\": \"#E5ECF6\", \"gridcolor\": \"white\", \"gridwidth\": 2, \"linecolor\": \"white\", \"showbackground\": true, \"ticks\": \"\", \"zerolinecolor\": \"white\"}, \"yaxis\": {\"backgroundcolor\": \"#E5ECF6\", \"gridcolor\": \"white\", \"gridwidth\": 2, \"linecolor\": \"white\", \"showbackground\": true, \"ticks\": \"\", \"zerolinecolor\": \"white\"}, \"zaxis\": {\"backgroundcolor\": \"#E5ECF6\", \"gridcolor\": \"white\", \"gridwidth\": 2, \"linecolor\": \"white\", \"showbackground\": true, \"ticks\": \"\", \"zerolinecolor\": \"white\"}}, \"shapedefaults\": {\"line\": {\"color\": \"#2a3f5f\"}}, \"ternary\": {\"aaxis\": {\"gridcolor\": \"white\", \"linecolor\": \"white\", \"ticks\": \"\"}, \"baxis\": {\"gridcolor\": \"white\", \"linecolor\": \"white\", \"ticks\": \"\"}, \"bgcolor\": \"#E5ECF6\", \"caxis\": {\"gridcolor\": \"white\", \"linecolor\": \"white\", \"ticks\": \"\"}}, \"title\": {\"x\": 0.05}, \"xaxis\": {\"automargin\": true, \"gridcolor\": \"white\", \"linecolor\": \"white\", \"ticks\": \"\", \"title\": {\"standoff\": 15}, \"zerolinecolor\": \"white\", \"zerolinewidth\": 2}, \"yaxis\": {\"automargin\": true, \"gridcolor\": \"white\", \"linecolor\": \"white\", \"ticks\": \"\", \"title\": {\"standoff\": 15}, \"zerolinecolor\": \"white\", \"zerolinewidth\": 2}}}, \"title\": {\"text\": \"10 Akun Twitter yang Tweet nya Paling Banyak Direply\"}, \"xaxis\": {\"anchor\": \"y\", \"categoryarray\": [\"txtdrorangsusah\", \"afidbrilliana\", \"Sofianpalupi\", \"lupaudahmakan\", \"kec_kasihan\", \"bdngfess\", \"teentionid\", \"amanpulungan\", \"kedungkandang01\", \"chitaglorya__\"], \"categoryorder\": \"array\", \"domain\": [0.0, 1.0], \"title\": {\"text\": \"Username\"}}, \"yaxis\": {\"anchor\": \"x\", \"domain\": [0.0, 1.0], \"title\": {\"text\": \"Banyak Reply Tweet\"}}},\n",
              "                        {\"responsive\": true}\n",
              "                    ).then(function(){\n",
              "                            \n",
              "var gd = document.getElementById('a1d02e34-0742-4286-86aa-1a7bd888bf4a');\n",
              "var x = new MutationObserver(function (mutations, observer) {{\n",
              "        var display = window.getComputedStyle(gd).display;\n",
              "        if (!display || display === 'none') {{\n",
              "            console.log([gd, 'removed!']);\n",
              "            Plotly.purge(gd);\n",
              "            observer.disconnect();\n",
              "        }}\n",
              "}});\n",
              "\n",
              "// Listen for the removal of the full notebook cells\n",
              "var notebookContainer = gd.closest('#notebook-container');\n",
              "if (notebookContainer) {{\n",
              "    x.observe(notebookContainer, {childList: true});\n",
              "}}\n",
              "\n",
              "// Listen for the clearing of the current output cell\n",
              "var outputEl = gd.closest('.output');\n",
              "if (outputEl) {{\n",
              "    x.observe(outputEl, {childList: true});\n",
              "}}\n",
              "\n",
              "                        })\n",
              "                };\n",
              "                \n",
              "            </script>\n",
              "        </div>\n",
              "</body>\n",
              "</html>"
            ]
          },
          "metadata": {}
        }
      ],
      "source": [
        "d_3 = df['in_reply_to_screen_name'].value_counts().head(10)\n",
        "d_3 = pd.DataFrame(data=d_3)\n",
        "d_3.reset_index(inplace=True)\n",
        "d_3 = d_3.rename(columns = {'index':'Username', 'in_reply_to_screen_name':'Banyak Reply Tweet'})\n",
        "d_3\n",
        "\n",
        "fig = px.bar(d_3, x='Username', y='Banyak Reply Tweet', color='Username', title = '10 Akun Twitter yang Tweet nya Paling Banyak Direply', height=400)\n",
        "fig.show()"
      ]
    },
    {
      "cell_type": "code",
      "execution_count": 176,
      "metadata": {
        "id": "KVNXCe3sHUWr",
        "colab": {
          "base_uri": "https://localhost:8080/"
        },
        "outputId": "f715a1f5-823b-4a7a-a3f1-e929e2c8133a"
      },
      "outputs": [
        {
          "output_type": "execute_result",
          "data": {
            "text/plain": [
              "0       DeeRose78248851\n",
              "1                  None\n",
              "2                  None\n",
              "3                  None\n",
              "4          kecpiyungan1\n",
              "             ...       \n",
              "3013       kisahrenjana\n",
              "3017         marlonisve\n",
              "3022       sekarmiira_h\n",
              "3027         bpspklkota\n",
              "3030               None\n",
              "Name: in_reply_to_screen_name, Length: 592, dtype: object"
            ]
          },
          "metadata": {},
          "execution_count": 176
        }
      ],
      "source": [
        "df['in_reply_to_screen_name']"
      ]
    },
    {
      "cell_type": "code",
      "execution_count": 177,
      "metadata": {
        "id": "8PT1TKpBHF95",
        "colab": {
          "base_uri": "https://localhost:8080/",
          "height": 483
        },
        "outputId": "b9de0c80-8e66-4320-f658-0483d577dde2"
      },
      "outputs": [
        {
          "output_type": "execute_result",
          "data": {
            "text/html": [
              "<div>\n",
              "<style scoped>\n",
              "    .dataframe tbody tr th:only-of-type {\n",
              "        vertical-align: middle;\n",
              "    }\n",
              "\n",
              "    .dataframe tbody tr th {\n",
              "        vertical-align: top;\n",
              "    }\n",
              "\n",
              "    .dataframe thead th {\n",
              "        text-align: right;\n",
              "    }\n",
              "</style>\n",
              "<table border=\"1\" class=\"dataframe\">\n",
              "  <thead>\n",
              "    <tr style=\"text-align: right;\">\n",
              "      <th></th>\n",
              "      <th>created_at</th>\n",
              "      <th>id</th>\n",
              "      <th>id_str</th>\n",
              "      <th>tweet</th>\n",
              "      <th>truncated</th>\n",
              "      <th>display_text_range</th>\n",
              "      <th>entities</th>\n",
              "      <th>metadata</th>\n",
              "      <th>source</th>\n",
              "      <th>in_reply_to_status_id</th>\n",
              "      <th>in_reply_to_status_id_str</th>\n",
              "      <th>in_reply_to_user_id</th>\n",
              "      <th>in_reply_to_user_id_str</th>\n",
              "      <th>in_reply_to_screen_name</th>\n",
              "      <th>user</th>\n",
              "      <th>geo</th>\n",
              "      <th>coordinates</th>\n",
              "      <th>place</th>\n",
              "      <th>contributors</th>\n",
              "      <th>is_quote_status</th>\n",
              "      <th>retweet_count</th>\n",
              "      <th>favorite_count</th>\n",
              "      <th>favorited</th>\n",
              "      <th>retweeted</th>\n",
              "      <th>lang</th>\n",
              "      <th>retweeted_status</th>\n",
              "      <th>extended_entities</th>\n",
              "      <th>possibly_sensitive</th>\n",
              "      <th>quoted_status_id</th>\n",
              "      <th>quoted_status_id_str</th>\n",
              "      <th>quoted_status</th>\n",
              "    </tr>\n",
              "  </thead>\n",
              "  <tbody>\n",
              "    <tr>\n",
              "      <th>26</th>\n",
              "      <td>2021-12-09 13:05:59+00:00</td>\n",
              "      <td>1468929921959428097</td>\n",
              "      <td>1468929921959428096</td>\n",
              "      <td>@txtdrorangsusah yang kaya gini pemerintah har...</td>\n",
              "      <td>False</td>\n",
              "      <td>[17, 84]</td>\n",
              "      <td>{'hashtags': [], 'symbols': [], 'user_mentions...</td>\n",
              "      <td>{'iso_language_code': 'in', 'result_type': 're...</td>\n",
              "      <td>&lt;a href=\"http://twitter.com/download/android\" ...</td>\n",
              "      <td>1.468515e+18</td>\n",
              "      <td>1.468515e+18</td>\n",
              "      <td>1.278532e+18</td>\n",
              "      <td>1.278532e+18</td>\n",
              "      <td>txtdrorangsusah</td>\n",
              "      <td>{'id': 1256613545351041025, 'id_str': '1256613...</td>\n",
              "      <td>NaN</td>\n",
              "      <td>NaN</td>\n",
              "      <td>None</td>\n",
              "      <td>NaN</td>\n",
              "      <td>False</td>\n",
              "      <td>0</td>\n",
              "      <td>0</td>\n",
              "      <td>False</td>\n",
              "      <td>False</td>\n",
              "      <td>in</td>\n",
              "      <td>NaN</td>\n",
              "      <td>NaN</td>\n",
              "      <td>NaN</td>\n",
              "      <td>NaN</td>\n",
              "      <td>NaN</td>\n",
              "      <td>NaN</td>\n",
              "    </tr>\n",
              "    <tr>\n",
              "      <th>35</th>\n",
              "      <td>2021-12-09 05:09:24+00:00</td>\n",
              "      <td>1468809985287094273</td>\n",
              "      <td>1468809985287094272</td>\n",
              "      <td>@txtdrorangsusah Anjir gizi buruk</td>\n",
              "      <td>False</td>\n",
              "      <td>[17, 33]</td>\n",
              "      <td>{'hashtags': [], 'symbols': [], 'user_mentions...</td>\n",
              "      <td>{'iso_language_code': 'in', 'result_type': 're...</td>\n",
              "      <td>&lt;a href=\"https://mobile.twitter.com\" rel=\"nofo...</td>\n",
              "      <td>1.468515e+18</td>\n",
              "      <td>1.468515e+18</td>\n",
              "      <td>1.278532e+18</td>\n",
              "      <td>1.278532e+18</td>\n",
              "      <td>txtdrorangsusah</td>\n",
              "      <td>{'id': 2899898801, 'id_str': '2899898801', 'na...</td>\n",
              "      <td>NaN</td>\n",
              "      <td>NaN</td>\n",
              "      <td>None</td>\n",
              "      <td>NaN</td>\n",
              "      <td>False</td>\n",
              "      <td>0</td>\n",
              "      <td>0</td>\n",
              "      <td>False</td>\n",
              "      <td>False</td>\n",
              "      <td>in</td>\n",
              "      <td>NaN</td>\n",
              "      <td>NaN</td>\n",
              "      <td>NaN</td>\n",
              "      <td>NaN</td>\n",
              "      <td>NaN</td>\n",
              "      <td>NaN</td>\n",
              "    </tr>\n",
              "    <tr>\n",
              "      <th>36</th>\n",
              "      <td>2021-12-09 04:55:41+00:00</td>\n",
              "      <td>1468806534536646658</td>\n",
              "      <td>1468806534536646656</td>\n",
              "      <td>@txtdrorangsusah Stanting, gizi buruk ternyata...</td>\n",
              "      <td>False</td>\n",
              "      <td>[17, 80]</td>\n",
              "      <td>{'hashtags': [], 'symbols': [], 'user_mentions...</td>\n",
              "      <td>{'iso_language_code': 'in', 'result_type': 're...</td>\n",
              "      <td>&lt;a href=\"http://twitter.com/download/android\" ...</td>\n",
              "      <td>1.468515e+18</td>\n",
              "      <td>1.468515e+18</td>\n",
              "      <td>1.278532e+18</td>\n",
              "      <td>1.278532e+18</td>\n",
              "      <td>txtdrorangsusah</td>\n",
              "      <td>{'id': 1973573347, 'id_str': '1973573347', 'na...</td>\n",
              "      <td>NaN</td>\n",
              "      <td>NaN</td>\n",
              "      <td>None</td>\n",
              "      <td>NaN</td>\n",
              "      <td>False</td>\n",
              "      <td>0</td>\n",
              "      <td>0</td>\n",
              "      <td>False</td>\n",
              "      <td>False</td>\n",
              "      <td>in</td>\n",
              "      <td>NaN</td>\n",
              "      <td>NaN</td>\n",
              "      <td>NaN</td>\n",
              "      <td>NaN</td>\n",
              "      <td>NaN</td>\n",
              "      <td>NaN</td>\n",
              "    </tr>\n",
              "    <tr>\n",
              "      <th>37</th>\n",
              "      <td>2021-12-09 02:30:43+00:00</td>\n",
              "      <td>1468770052463751170</td>\n",
              "      <td>1468770052463751168</td>\n",
              "      <td>@txtdrorangsusah iki ngono iwak e gizi buruk</td>\n",
              "      <td>False</td>\n",
              "      <td>[17, 44]</td>\n",
              "      <td>{'hashtags': [], 'symbols': [], 'user_mentions...</td>\n",
              "      <td>{'iso_language_code': 'in', 'result_type': 're...</td>\n",
              "      <td>&lt;a href=\"http://twitter.com/download/iphone\" r...</td>\n",
              "      <td>1.468515e+18</td>\n",
              "      <td>1.468515e+18</td>\n",
              "      <td>1.278532e+18</td>\n",
              "      <td>1.278532e+18</td>\n",
              "      <td>txtdrorangsusah</td>\n",
              "      <td>{'id': 1455895608095506432, 'id_str': '1455895...</td>\n",
              "      <td>NaN</td>\n",
              "      <td>NaN</td>\n",
              "      <td>None</td>\n",
              "      <td>NaN</td>\n",
              "      <td>False</td>\n",
              "      <td>0</td>\n",
              "      <td>0</td>\n",
              "      <td>False</td>\n",
              "      <td>False</td>\n",
              "      <td>in</td>\n",
              "      <td>NaN</td>\n",
              "      <td>NaN</td>\n",
              "      <td>NaN</td>\n",
              "      <td>NaN</td>\n",
              "      <td>NaN</td>\n",
              "      <td>NaN</td>\n",
              "    </tr>\n",
              "    <tr>\n",
              "      <th>39</th>\n",
              "      <td>2021-12-09 02:13:49+00:00</td>\n",
              "      <td>1468765800639053824</td>\n",
              "      <td>1468765800639053824</td>\n",
              "      <td>@txtdrorangsusah Kasian lelenya kena gizi buruk 😭</td>\n",
              "      <td>False</td>\n",
              "      <td>[17, 49]</td>\n",
              "      <td>{'hashtags': [], 'symbols': [], 'user_mentions...</td>\n",
              "      <td>{'iso_language_code': 'in', 'result_type': 're...</td>\n",
              "      <td>&lt;a href=\"http://twitter.com/download/android\" ...</td>\n",
              "      <td>1.468515e+18</td>\n",
              "      <td>1.468515e+18</td>\n",
              "      <td>1.278532e+18</td>\n",
              "      <td>1.278532e+18</td>\n",
              "      <td>txtdrorangsusah</td>\n",
              "      <td>{'id': 401361717, 'id_str': '401361717', 'name...</td>\n",
              "      <td>NaN</td>\n",
              "      <td>NaN</td>\n",
              "      <td>None</td>\n",
              "      <td>NaN</td>\n",
              "      <td>False</td>\n",
              "      <td>0</td>\n",
              "      <td>1</td>\n",
              "      <td>False</td>\n",
              "      <td>False</td>\n",
              "      <td>in</td>\n",
              "      <td>NaN</td>\n",
              "      <td>NaN</td>\n",
              "      <td>NaN</td>\n",
              "      <td>NaN</td>\n",
              "      <td>NaN</td>\n",
              "      <td>NaN</td>\n",
              "    </tr>\n",
              "    <tr>\n",
              "      <th>44</th>\n",
              "      <td>2021-12-08 17:17:17+00:00</td>\n",
              "      <td>1468630777243967488</td>\n",
              "      <td>1468630777243967488</td>\n",
              "      <td>@txtdrorangsusah Gizi buruk ikannya😭</td>\n",
              "      <td>False</td>\n",
              "      <td>[17, 36]</td>\n",
              "      <td>{'hashtags': [], 'symbols': [], 'user_mentions...</td>\n",
              "      <td>{'iso_language_code': 'in', 'result_type': 're...</td>\n",
              "      <td>&lt;a href=\"http://twitter.com/download/android\" ...</td>\n",
              "      <td>1.468515e+18</td>\n",
              "      <td>1.468515e+18</td>\n",
              "      <td>1.278532e+18</td>\n",
              "      <td>1.278532e+18</td>\n",
              "      <td>txtdrorangsusah</td>\n",
              "      <td>{'id': 1295926875219324929, 'id_str': '1295926...</td>\n",
              "      <td>NaN</td>\n",
              "      <td>NaN</td>\n",
              "      <td>None</td>\n",
              "      <td>NaN</td>\n",
              "      <td>False</td>\n",
              "      <td>0</td>\n",
              "      <td>0</td>\n",
              "      <td>False</td>\n",
              "      <td>False</td>\n",
              "      <td>in</td>\n",
              "      <td>NaN</td>\n",
              "      <td>NaN</td>\n",
              "      <td>NaN</td>\n",
              "      <td>NaN</td>\n",
              "      <td>NaN</td>\n",
              "      <td>NaN</td>\n",
              "    </tr>\n",
              "  </tbody>\n",
              "</table>\n",
              "</div>"
            ],
            "text/plain": [
              "                  created_at  ...  quoted_status\n",
              "26 2021-12-09 13:05:59+00:00  ...            NaN\n",
              "35 2021-12-09 05:09:24+00:00  ...            NaN\n",
              "36 2021-12-09 04:55:41+00:00  ...            NaN\n",
              "37 2021-12-09 02:30:43+00:00  ...            NaN\n",
              "39 2021-12-09 02:13:49+00:00  ...            NaN\n",
              "44 2021-12-08 17:17:17+00:00  ...            NaN\n",
              "\n",
              "[6 rows x 31 columns]"
            ]
          },
          "metadata": {},
          "execution_count": 177
        }
      ],
      "source": [
        "df[df['in_reply_to_screen_name'] == 'txtdrorangsusah']"
      ]
    },
    {
      "cell_type": "markdown",
      "metadata": {
        "id": "R3iHV-VMUEP8"
      },
      "source": [
        "# Preprocess Data"
      ]
    },
    {
      "cell_type": "code",
      "execution_count": 178,
      "metadata": {
        "id": "NRozYwsTSwN1"
      },
      "outputs": [],
      "source": [
        "import warnings; warnings.simplefilter('ignore')\n",
        "import re\n",
        "from nltk.tokenize import TweetTokenizer; Tokenizer = TweetTokenizer(reduce_len=True)\n",
        "from tqdm import tqdm#, trange\n",
        "from textblob import TextBlob\n",
        "from Sastrawi.StopWordRemover.StopWordRemoverFactory import StopWordRemoverFactory\n",
        "from Sastrawi.Stemmer.StemmerFactory import StemmerFactory"
      ]
    },
    {
      "cell_type": "code",
      "execution_count": 179,
      "metadata": {
        "id": "x83WkEeVS2Yn"
      },
      "outputs": [],
      "source": [
        "D = df[\"tweet\"].tolist()"
      ]
    },
    {
      "cell_type": "code",
      "execution_count": 180,
      "metadata": {
        "id": "5DduekNKTGxI",
        "colab": {
          "base_uri": "https://localhost:8080/",
          "height": 53
        },
        "outputId": "72c49ab8-f0d4-4630-eca7-b3c369555d27"
      },
      "outputs": [
        {
          "output_type": "execute_result",
          "data": {
            "application/vnd.google.colaboratory.intrinsic+json": {
              "type": "string"
            },
            "text/plain": [
              "'@DeeRose78248851 @asepnakatepemah @AANG_BEY @bob_rahmat @BangDuyTea @dd9966 @Razzzz___81 @utunback @UdinSam78807473 @uu_sutari13 @evan_saepudin @DeniSoeprijadie @januar_malki @aniesygmanies @surasujaya Gizi buruk boled na tamah'"
            ]
          },
          "metadata": {},
          "execution_count": 180
        }
      ],
      "source": [
        "D[0]"
      ]
    },
    {
      "cell_type": "code",
      "execution_count": 181,
      "metadata": {
        "id": "QsVa5h7dTPbU",
        "colab": {
          "base_uri": "https://localhost:8080/"
        },
        "outputId": "cc3d1d82-5b91-4c14-9ec3-399ef412e869"
      },
      "outputs": [
        {
          "output_type": "stream",
          "name": "stderr",
          "text": [
            "592it [00:00, 623.61it/s]"
          ]
        },
        {
          "output_type": "stream",
          "name": "stdout",
          "text": [
            "deerose78248851 asepnakatepemah aang_bey bob_rahmat bangduytea dd9966 razz__81 utunback udinsam78807473 uu_sutari13 evan_saepudin denisoeprijadie januar_malki aniesygmanies surasujaya gizi buruk boled na tamah\n"
          ]
        },
        {
          "output_type": "stream",
          "name": "stderr",
          "text": [
            "\n"
          ]
        }
      ],
      "source": [
        "stops, lemmatizer = tau.LoadStopWords(lang='id')\n",
        "stops.add('rt'); stops.add('..')\n",
        "for i,d in tqdm(enumerate(D)):\n",
        "    D[i] = tau.cleanText(d, lemma=lemmatizer, stops = stops, symbols_remove = True, min_charLen = 2)\n",
        "    \n",
        "print(D[0])"
      ]
    },
    {
      "cell_type": "code",
      "execution_count": 182,
      "metadata": {
        "id": "faI7n4uybgOW",
        "colab": {
          "base_uri": "https://localhost:8080/",
          "height": 35
        },
        "outputId": "e75ecdc3-4035-489a-f587-411290b5c710"
      },
      "outputs": [
        {
          "output_type": "execute_result",
          "data": {
            "application/vnd.google.colaboratory.intrinsic+json": {
              "type": "string"
            },
            "text/plain": [
              "'Done'"
            ]
          },
          "metadata": {},
          "execution_count": 182
        }
      ],
      "source": [
        "file = 'data/cleanedTweet_stunting.txt'\n",
        "with open(file, 'w') as f:\n",
        "    for d in D:\n",
        "        f.write(d+'\\n')\n",
        "'Done'"
      ]
    },
    {
      "cell_type": "code",
      "execution_count": 183,
      "metadata": {
        "id": "wUAeEGGmT3JP",
        "colab": {
          "base_uri": "https://localhost:8080/"
        },
        "outputId": "25049550-9378-4cf6-dc0d-9c36a33d4b76"
      },
      "outputs": [
        {
          "output_type": "execute_result",
          "data": {
            "text/plain": [
              "['deerose78248851 asepnakatepemah aang_bey bob_rahmat bangduytea dd9966 razz__81 utunback udinsam78807473 uu_sutari13 evan_saepudin denisoeprijadie januar_malki aniesygmanies surasujaya gizi buruk boled na tamah',\n",
              " 'cuman pngn blng kalo udh kerja gua benerin gizi buruk gue si smpe sekurus sodara2 gue gemuk badannya terjamin enak makannya',\n",
              " 'nurazizashima serangan saudi yaman menyebabkan krisis kemanusiaan terburuk dunia yaman anak menderita ko',\n",
              " 'nurazizashima anak anak yaman korban utama serangan pasukan koalisi pimpinan arab saudi menteri kesehatan yaman mengumumkan',\n",
              " 'berkesempatan sambutan panewu mendukung sosialisasi b2sa diharapkan sosialisasi memahamkan warga pangan bergizi makanan bergizi membantu menjaga imunitas mencegah gizi buruk stunting',\n",
              " 'cobradental makanan sehat wortel ubi jalar jeruk membantu gizi buruk berdampak',\n",
              " 'data unicef peperangan menyebabkan 300 anak tewas juta anak balita menderita gizi buruk membutuhkan perawatan stand up human rights',\n",
              " 'anteng anteng tbtb laporan gizi buruk berentet',\n",
              " 'anak anak yaman korban utama serangan pasukan koalisi pimpinan arab saudi menteri kesehatan yaman mengumumkan 100 ribu anak yaman meninggal dunia akibat perang embargo gizi buruk kelangkaan obat obatan stand up human rights',\n",
              " 'perihalshanin        gizi buruk gizi buruk gizi gak sie nin',\n",
              " 'serangan saudi yaman menyebabkan krisis kemanusiaan terburuk dunia yaman anak menderita kolera gizi buruk stand up human rights',\n",
              " 'ismkmi 2021 sih stunting stunting gizi disebabkan kurangnya asupan gizi tubuh mengakibatkan gangguan pertumbuhan anak  permasalahan stunting dampak buruk',\n",
              " 'accioyoshi gizi buruk',\n",
              " 'plt walikota tanjungbalai kunjungi balita penderita gizi buruk',\n",
              " 'si kuning gizi buruk',\n",
              " 'soobatreceh 153 bb 68 gila montox nya gak obat nya 150 bb 53 suruh diet biar menarik lomba gizi buruk',\n",
              " 'tirta_cipeng nanya dok anak terkena gizi buruk sembuhkan gak',\n",
              " 'tapakangsa    bdngfess mah pelit kali gadis diajarin kerja keras makan enak bergizi dah berkeluarga diaj',\n",
              " 'napa sih orang bloon indonesia kena wabah gizi buruk ya nyuruh berhati hati menormalkan pelaku nyolot malu',\n",
              " 'txtdrorangsusah kaya gini pemerintah memperhatikan gizi buruk',\n",
              " 'bdngfess mere tipss nyekek uang blanja hijikeun jeung jajan budak eta emang aya warung nu ngajual beas heuh hemat abus ka rs dinyatakan gizi buruk atawa panyakit lambung usus',\n",
              " 'bdngfess mah pelit kali gadis diajarin kerja keras makan enak bergizi dah berkeluarga diajak hidup gizi buruk',\n",
              " 'bdngfess hemat gizi buruk',\n",
              " 'urbaby phoenixiee lele kena gizi buruk',\n",
              " 'dedepits gizi buruk wkkw',\n",
              " 'gktaulg syel udah liat poster gunnya kaya kena gizi buruk',\n",
              " 'jaemmind ikannya kena gizi buruk',\n",
              " 'nct_jae97 yooptaeyang lu bugar taeyang ya si taeyang gizi buruk bener',\n",
              " 'txtdrorangsusah anjir gizi buruk',\n",
              " 'txtdrorangsusah stanting gizi buruk melanda bangsa ikan ya',\n",
              " 'txtdrorangsusah iki ngono iwak gizi buruk',\n",
              " 'levi kaya orang gizi buruk   ',\n",
              " 'txtdrorangsusah kasian lelenya kena gizi buruk',\n",
              " 'stya_10 gizi buruk makan setahun yupi salam balam sound tok tok bandar lampung kak kak rang',\n",
              " 'sofianpalupi yg ku rasakan susah makan kurus drpd ukuran bayi kebanyakan ampe suka dibilang org gizi buruk ya sampe dibawa dr krn khawatir sm omongan org tp ya emg dr sehat2 aja emg pertumbuhannya aja ckckck',\n",
              " 'lelenya kena gizi buruk',\n",
              " 'gizi buruk iwak   ',\n",
              " 'txtdrorangsusah gizi buruk ikannya',\n",
              " 'nek ngene yo keserang gizi buruk no boskuu',\n",
              " 'iaridlo ery stunting gizi buruk gizi buruk diintervensi intensif',\n",
              " 'ryvthiokato zam_s82 kamuskecil01 fnazy14 terperangkap dnxvx dayatia iya pekerjaan dibidang gizi kak ketemu narsum spt istri dilarang kb tp ekonomi keluarga tergolong tdk anak gizi buruk udah ky lingkaran setan',\n",
              " 'ryvthiokato mardiasih habis ketemu dg narsum spt anak kecil2 yg balita gizi buruk posyandu dpt bantuan biskuit pmt dilarang kb istri sdh kewalahan tp tdk kekuatan utk menentang sdh smpai tahap merelakan suami nikah',\n",
              " 'ariannejustia zoo_fess pas gizi buruk kemaren kali liat wujudnya kaca shock mematung ga nyangka skg udah kyk foto diatas gendutan',\n",
              " 'zam_s82 ryvthiokato kamuskecil01 fnazy14 terperangkap dnxvx dayatia mon maaf tau istrinya ga kb anaknya istri udah ga sanggup utk hamil dsuruh nikah anak2nya yg balita gizi buruk dikasih biskuit pmt posyandu mas suami ky gini bertanggungjawab dzolim',\n",
              " 'diyahpuspitarin dpp_persagi bkkbn ppnasyiah stunting pelik prakonsepsi pendekatannya intervensi gizi buruk stunting didefinisikan gizi buruk intervensinya melahirkan generasi kuntet',\n",
              " 'for the information since live in indonesia stunting gagal tumbuh indonesia menduduki posisi no dunia penyebab stunting salah satunya gizi buruk gizi buruk    stunting kurangnya makanan sehat bergizi',\n",
              " 'ery stunting gizi buruk gizi buruk diintervensi intensif stunting intervensinya dlm hmm teman2 gizi kesmas klinis yg penjelasan',\n",
              " 'kevnimoom gizi buruk diabetes aja sih',\n",
              " 'makanan sehat wortel ubi jalar jeruk membantu gizi buruk berdampak negatif sistem kekebalan tubuh',\n",
              " 'iniiniaa kucingnya gizi buruk disitu',\n",
              " 'konon 90an 200an angka bayi yg stunting indonesia meningkat menyebabkan gizi buruk intelektual rendah menurunnya kualitas sdm bayi2 yg lahir skrg dewasa',\n",
              " 'asing memandang foto nampak kurus kering gizi buruk    busung lapar',\n",
              " '    lupa asupan member gak gizi buruk',\n",
              " 'detikcom wkwkwkwk kayak gizi buruk',\n",
              " 'otak seimbang    gizi buruk',\n",
              " 'kunci utama menekan angka kematian gizi buruk stunting anak kental manis diseduh',\n",
              " 'pencegahan stunting gizi buruk hamil nih kental manis diseduh',\n",
              " 'mengutip laman who stunting disebabkan gizi buruk infeksi berulang stimulasi psikososial memadai kental manis diseduh',\n",
              " 'gizi buruk stunting teratasi meningkatnya penyakit menular trend kematian tertinggi indonesia 66 berdasarkan data who miris kental manis diseduh',\n",
              " 'gizi buruk stunting teratasi meningkatnya penyakit menular trend kematian tertinggi indonesia 66 berdasarkan data who miris kental manis diseduh',\n",
              " 'gizi buruk stunting teratasi meningkatnya penyakit menular trend kematian tertinggi indonesia 66 berdasarkan data who kental manis diseduh',\n",
              " 'gizi buruk stunting teratasi meningkatnya penyakit menular trend kematian tertinggi indonesia 66 berdasarkan data who kental manis diseduh',\n",
              " 'gizi buruk stunting teratasi meningkatnya penyakit menular trend kematian tertinggi indonesia 66 berdasarkan data who miris kental manis diseduh',\n",
              " 'gizi buruk stunting teratasi meningkatnya penyakit menular trend kematian tertinggi indonesia 66 berdasarkan data who kental manis diseduh',\n",
              " 'poin upaya menekan angka kematian gizi buruk stunting anak kental manis diseduh',\n",
              " 'kunci utama upaya menekan angka kematian gizi buruk stunting anak kental manis diseduh',\n",
              " 'kunci utama upaya menekan angka kematian gizi buruk stunting anak kental manis diseduh',\n",
              " 'gizi buruk stunting teratasi meningkatnya penyakit menular trend kematian tertinggi indonesia 66 berdasarkan data who kental manis diseduh',\n",
              " 'kunci utama menekan angka kematian gizi buruk stunting anak kental manis diseduh',\n",
              " 'gizi buruk stunting teratasi miningkatnya penyakit menular trend kematian tertinggi indonesia 66 berdasarkan data who kental manis diseduh',\n",
              " 'kunci utama menekan angka kematian angka gizi buruk stunting anak kental manis diseduh',\n",
              " 'jangandiaa phail bantengpasundan fyudiwibowo4 dokternya jahat udah tau gizi buruk gak bantu kasih makanan',\n",
              " 'gajahnya gizi buruk',\n",
              " 'innalillah pasca taliban berkuasa bayi bayi afghanistan terjangkit gizi buruk',\n",
              " 'sdenta testimoni praktisi puasa thread kemaren yg nanya emangnya nutrisinya kalo puasa we',\n",
              " 'halleluhellyeah kali liat isilop kena gizi buruk',\n",
              " 'badanku kurus banget mama bilang dikatain gizi perkataan perbuatan buruk buruk bener bener mamaku telen gak coba bales apapun',\n",
              " 'aja si perempuan buncit kena gizi buruk hh pengakuan perempuan indonesia sebal disangka hamil niatnya    via vice_id',\n",
              " '42.3 kg kaga gizi buruk ya',\n",
              " 'amet keburu gizi buruk nu',\n",
              " 'ekokuntadhi dadang2505 efek gizi buruk balita gak bikin kuntet muka jelek otak ikutan gak berkembang',\n",
              " 'nyari data jam segini lancar dilanjut sampe beres yuhuu besok tinggal ngumpulin ss data unicef anak indonesia banget anak gizi buruk   ',\n",
              " 'teentionid timor leste negara provinsi ntt ntb penduduk mengalami kelaparan',\n",
              " 'timor leste negara provinsi ntt ntb penduduk mengalami kelaparan serius 47,1 balita mengalami gizi buruk makanan aman',\n",
              " 'iongiess     lupa bilang makasih tomdholland menyediakan makan anak ef holland',\n",
              " '    lupa bilang makasih tomdholland menyediakan makan anak ef holland catering gizi buruk',\n",
              " 'bangari04 sibukmncarilham mungillicious tris__12 harykopter cigeerette ninaseptia mauslurpee runawayyuk greeyact sulit kak gizi buruk',\n",
              " 'kemaren gw makan mulu katain gendut udah kurus dibilang gizi buruk',\n",
              " 'trybestronger pas sampe bilang gizi buruk badannya tulang doang wwkwk',\n",
              " 'azaman6104 klo dh kebal kek gini anak dicap gizi buruk ama petugas posyandu anak2 minum asi asi minum sufor sskit hati dikata2 in anaknya penyakitan gemuk.sumpah mulut2 org2 tu emang yg bener',\n",
              " 'adekku dikatain gizi buruk saking kurusnya ibunya gak ngasih makan ibunya gak becus gak tau aja gimana perjuangan ibukku biar adekku mempertahankan makanan dimakan biar gak dimuntahin macem dilakuin tpi cocot menungso tetep kyo sampah',\n",
              " 'scrpsofparadise sarah78703989 areajulid jgn ga ortu menelantarkan anaknya lu idup smpe skrg ga gizi buruk ga cacat jg ortu lu pls banyakin bersyukur memaki',\n",
              " 'jumat nemenin temen kunjungan rumah balita gizi buruk dgn berboncengan motor sekumpulan pemuda tanggung catcalling bersiul memanggil cewe pakaian dinas badan tertutup barang bawaan',\n",
              " 'kalo ga temenin aja dengerin aja karna kadang ibu2 cuman didengerin    ibuku kader kesehatan yg jg ngurus perihal gizi buruk gizi ya nyaranin rujukan ngelakuin konseling ya tugasnya dengerin dr si kayak gt',\n",
              " 'rossityari lupaudahmakan sofianpalupi tb bb lk sesuai usia tumbuh kembang udh bagus engk kelebihan kekurangan dibilang kekurngan gizi kelebihan oun standar bakunya hsil pengukurn yg menntukan gizinya baek buruk',\n",
              " 'sofianpalupi istriku wonderwoman sih anak prtama gizi buruk gra2 trlambatnya tumbuh kembang sistem pencernaannya alhamdulillah skrang dah normal telaten istrku',\n",
              " 'ateehyung gizi buruk',\n",
              " 'nebulanadita hahaha yg kaya org gizi buruk ya',\n",
              " 'arinabila    selfmirror semoga mslh stunting gizi buruk teratasi erick thohir',\n",
              " 'selfmirror semoga mslh stunting gizi buruk teratasi erick thohir',\n",
              " 'jeogninz    nozep chyaeng iongiess nggak akhlak buruk gizi buruk',\n",
              " 'nozep chyaeng iongiess nggak akhlak buruk gizi buruk',\n",
              " 'akibaryou hambaerger yes kalo terdeteksi most of the time tiba2 suaminya meninggal duluan anak istri clueless tau2 si udah parah deathbednya anaknya smp gizi buruk infeksi   ',\n",
              " 'wrotesin rl ku baikk sksk stress sampe turun bb dikatain gizi buruk but issokayy skrng nyoba naikin bb nya biar ngga dibilang gizi buruk kak rigel mam yaa lupa ',\n",
              " 'susipudjiastuti republikaonline gizi buruk obatnya bu',\n",
              " '1.pelatnis pencegahan penanganan gizi buruk bip 2.pelatnis manaj pengelolaan pemerintah desa bip 3.penyusunan angka kredit guru sd smp scr full learning    ',\n",
              " 'eh iya berat badan idealnya segitu gizi buruk',\n",
              " 'akun_keduaa bm ndulang mbak ailaw gizi buruk soale',\n",
              " 'syeefaarunika gizi buruk lambung memburuk cip',\n",
              " 'politisi pdi perjuangan yeremia mendrofa stunting gizi buruk mengancam generasi bangsa pdiperjuangan',\n",
              " 'ngerti anak alami gizi buruk medsos kandinkes sumenep langsung bertindak',\n",
              " 'bulog peduli gizi pemeriksaan kesehatan rumah rumah desa bokong kupang program mencegah gizi buruk stunting',\n",
              " 'ngerti anak alami gizi buruk medsos kandinkes sumenep langsung bertindak',\n",
              " 'giat kel margasari kec buahbatu giat membuka acara kerjabakti masal penanaman pohon pembagian bahan pangan penanganan balita gizi buruk 25 paket rangka rangkaian kegiatan bbgrm tk kel margasari th 2021 kolaborasi tp pkk lpm    karta kel margasari',\n",
              " 'ayam kayaknya gizi buruk',\n",
              " 'taeyncg anjrittr elo ya bang yg gizi buruk',\n",
              " 'food_fess pas ibuk bikin indomi trs bilang lha ena sorenya beli sekerdus ibuk gw bikin tipes ato gizi buruk',\n",
              " 'yourpetsfess mpus dlu jg gt sblm steril birahi ampe kurus kek gizi buruk pdhl pakan dll tercukupi steril krn coba kawinkan dgn betina dianya kalah takut gt yaudh steril solusinya wkwk',\n",
              " 'baby_alien28 anis mesin cadangan jdi hrs kasih asupan asupanya gizi buruk biarin yg jdi cadangan',\n",
              " 'manusia ga normal gitu ngingetin makan emang susah banget disuruh makan sampe kadang kesel gizi buruk kalo ga makan makan',\n",
              " 'chitaglorya rsud kak cek biar anak ku dapet tindakan medis mumpung umur 2tahun kak anakku didiagnosa gagal tumbuh gizi buruk',\n",
              " 'chitaglorya bissmilahh semoga notif kk chita beli susu pediasure anakku krna dokter spesialis anak diharuskan susu pediasure anakku flek berat badan digaris mendekati merah kya gizi gtu gizi buruk susu tinggal sehari besok mgkin',\n",
              " 'missufe mak ji anak yg gizi buruk yg susah mkn suka ngemil',\n",
              " 'ketua pkk bantaeng gencar sosialisasi pencegahan gizi buruk',\n",
              " 'convomfs semangat sendernimm maaf oot isi survey ku kesehatan masyarakat terganggu pilih option gizi buruk wabah yaa thankss',\n",
              " 'jowoshitpost gajah gizi buruk',\n",
              " 'yg dikhawatirkan adl anak mengalami stunting utk edukasi gizi calon orang tua pemberian gizi yg mengandung si anak lahir kental manis diseduh',\n",
              " 'asumsico permasalahan stunting alias gagal tumbuh anak serius indonesia',\n",
              " 'pemprov ntt mebgaku fokus menurunkan angka stunting terbilang',\n",
              " 'harapan edukasi pencegahan sedini menghindari stunting anak cegah stunting ',\n",
              " 'edukasi cegah stunting    salah fokus pemerintah pencegahan stunting upaya bertujuan anak anak indonesia tumbuh berkembang optimal maksimal pemkotmalang diskes_komal kec_kdkd infomalang',\n",
              " 'kegiatan hasil pemeriksaan anak anak kategori aman berkembang kegiatan meliputi pemeriksaan gizi anak edukasi pencegahan stunting anak pemberian makanan asupan gizi tambahan anak mnc peduli mengajak',\n",
              " 'peduli tumbuh kembang anak pencegahan stunting mnc peduli menggelar kegiatan rutin pemeriksaan gizi anak hamil posyandu durian kampung ciletuh girang cigombong bogor senin desember 2021    siti saripah peserta penyuluhan',\n",
              " 'stunting sawangan depok capai 67 anak puskesmas bertindak cepat',\n",
              " 'mari melawan stunting anak anak dek',\n",
              " 'permasalahan stunting alias gagal tumbuh anak serius indonesia',\n",
              " 'anak susah makan dibiarkan kebutuhan nutrisinya terpenuhi berisiko stunting bijak menerapkan feeding rule aturan pemberian makan bayi memasuki fase i. simak infonya video',\n",
              " 'selena_selenong    kemenbumn erickthohir dlm kunjungannya sungai tohor beliau menyempatkan utk kondisi masy nelayan',\n",
              " 'tanda anak stunting perhatikan',\n",
              " 'pahlawan gizi tau gimana donasi memperbaiki gizi cek gambar tau yappikaactionaid lakukan program desa sehat klik pahlawan gizi',\n",
              " 'sembilan daerah penyumbang stunting tertinggi sumbar angkat gizi anak tepian negeri',\n",
              " 'isu menarik dibalik stunting definisi stunting anak anak hasil plotting growth chartnya dikategorikan pendek    pendek score    sd grafik tb dicatat grafik diplot who chart cdc',\n",
              " 'pandji bersyukur pemerintah memprioritaskan stunting namanya tim percepatan pencegahan anak kerdil program sekretaris wakil presiden monitoring data tersedia lengkap',\n",
              " 'pandji keresahan diangkat mas pandji kualitas manusia indonesia bonus demografi beban demografi data dikutip mas pandji 40 anak indonesia stunting mengejutkan',\n",
              " 'jgn heran kalo partai teratas wkwk berubah revolusi jalannya yg benahi stunting kalo stunting udah bener ga gizi anak tercukupi bicara revolusi mental bro',\n",
              " 'lombokitacom ketua ppi lobar bersinergi cegah kematian anak stunting',\n",
              " 'ketua ppi lobar bersinergi cegah kematian anak stunting',\n",
              " 'amanpulungan lihat pb penurunan perlambatan pb lihat chart bb stunting bandingkan chart bb penurunan bb simpulkan anak laki2 tsb pendek stunting',\n",
              " 'amanpulungan bismillah stunting prof anak usia 18 diagnosa berturut2 berat badan badan berjalan mandiri      fisioterapi terapi wicara mohon doanya',\n",
              " 'amanpulungan hipotiroid umur 11 dgn pendek growth hormon normal tiroid rendah anemia def vit d. hipotiroid nya',\n",
              " 'stunting kondisi gagal tumbuh anak balita akibat kekurangan gizi kronis utama indonesia semarang perjuangan solid bergerak',\n",
              " 'smart listners 20 juta rakyat indonesia hidup dibawah garis kemiskinan salah dampaknya juta anak indonesia mengalami stunting ayo dukung operasi gizi anak indonesia simak pembahasan lengkapnya program    smart community tema',\n",
              " 'mira_sasmiita    kemarin sungai tohor balita stunting sisanya teratasi',\n",
              " 'kemenbumn erickthohir dlm kunjungannya sungai tohor beliau menyempatkan utk kondisi masy nelayan yg mendptkan perhatian adlh msh balita stunting    yayasan erick bantuan susu anak bln utk pemenuhan gizi anak stunting',\n",
              " 'denni_sauya keharuan erickthohir anak anak indonesia       kepulauan meranti titipkan susu mendukung penc',\n",
              " 'queen_emina menteri bumn erick thohir anak indonesia memiliki hak pendidikan',\n",
              " 'menteri bumn erick thohir anak indonesia memiliki hak pendidikan kesehatan asupan gizi pemerintah gencar menangani urusan balita stunting yg indonesia',\n",
              " 'kemarin sungai tohor balita stunting sisanya teratasi sang menceritakan membutuhkan susu formula usia anak enam bantu yayasan yg susu enam ya balas erickthohir',\n",
              " '    iniziatif      hallo nutrifolks stunting salah gizi indonesia stunting dimana badan anak pendek dibandingkan anak seusianya',\n",
              " 'lupaudahmakan tamba_richy gakbakaldeak sofianpalupi anak bayi beda sm orang dewasa mas anak bayi butuh lemak karna pembentukan otak kalo orang dewasa menghindari lemak mencegah stunting bayi makannya bb bayi nambah',\n",
              " 'orang yg blm anak anak tp yg makan memahami feeding rules pencegahan stunting dsb mikirnya halah lebay urusan makan doang but kalo paham fase sulit yg dihadapi ditambah nyinyiran2 orang',\n",
              " 'eka_dutajaladri erick thohir bantu balita stunting anak indonesia hak yg pendidikan',\n",
              " 'sofianpalupi ngerti bgt perjuangannya aja sakit hati denger celoteh2 org yg ga ngerti proses tumbuh kembang anak gimana maknya yg struggle biar anak ga stunting andil engga bacot doang iya kataku si mending diem krn diam tu emas',\n",
              " 'selfmirror wilayah sungai tohor kep meranti balita yg mengalami stunting anak indonesia hak yg ',\n",
              " 'bias_suara    keluhan pesan erick thohir dikabarkan wilayah sungai tohor kepulauan meranti',\n",
              " 'gladiolims td yg rep kalo gendut tuh sehat kalo kurus aja gizi stunting pdhl anak gendut jg stunting makanannya yg manis2 kalori jd vitamin huftt cmiiw udh lupa matkulnya wkwk',\n",
              " 'indibuzz dlm unggahannyabdi instagram erick thohir menyisipkan pesan anak indonesia hak pend',\n",
              " 'mulanbilqis pesan erick thohir anak2 kepulauan meranti kepulauan meranti titipkan susu mendukung pencegahan',\n",
              " 'keharuan erickthohir anak anak indonesia       kepulauan meranti titipkan susu mendukung pencegahan mengatasi stunting doa tumbuh anak anak sehat peluk cium erick thohir',\n",
              " 'wilayah sungai tohor kep meranti balita yg mengalami stunting anak indonesia hak yg pendidikan kesehatan    asupan gizinya doa tumbuh anak2 yg sehat peluk    cium tutup menteri erick thohir amin',\n",
              " 'dlm unggahannyabdi instagram erick thohir menyisipkan pesan anak indonesia hak pendidikan kesehatan asupan gizinya ',\n",
              " 'anak gtm ga makan emang bikin stress krn nutrisi anak tumbuh kembang gw ga ngalamin tp adek anak no gtm stunting patah hatinya ya ga tau lg deh dibawa dsa kemana2 konsul tetep nihil gw sedih liatnya hny bs semangatin',\n",
              " 'outstandjing udah kaya gini ortu udah dsa nglakuin yg disaranin dsa udah dicoba tp grafik anak kms target udah parno resiko stunting udah habis uang cek lab darah kencing ginjal paru suaminya jg pusing',\n",
              " 'keluhan pesan erick thohir dikabarkan wilayah sungai tohor kepulauan meranti balita mengalami stunting kondisi anak yg badannya lbh pendek anak normal akibat kekurangan gizi',\n",
              " 'erick thohir bantu balita stunting anak indonesia hak yg pendidikan kesehatan asupan gizinya erickthohir berpesan titipkan susu utk pencegahan mengatasi stunting semoga tumbuh anak anak sehat',\n",
              " 'pesan erick thohir anak2 kepulauan meranti kepulauan meranti titipkan susu mendukung pencegahan mengatasi stunting haru anak anak indonesia doa tumbuh anak anak sehat peluk cium menteri erick',\n",
              " 'ta_k3n anak indonesia hak yg pendidikan kesehatan    asupan gizi kepulauan meranti titipkan',\n",
              " 'dateng dsa vaksin aja eh pas cek aja pr nya     disuruh potong tongue tie    cek alergi gamau anak stunting emang cobaannya    mahall',\n",
              " 'stunting kondisi gagal tubuh anak menyebabkan keterlambatan pertumbuhan menurunkan kemampuan kognitif kecerdasan',\n",
              " 'forumanakid    my breakfast challenge     halo sobat forum anak stunting dipengaruhi rendahnya akses terha',\n",
              " 'my breakfast challenge forum anak nasional forum genre indonesia berupaya pemahaman terkait stunting ayo daftarkan',\n",
              " 'my breakfast challenge     halo sobat forum anak stunting dipengaruhi rendahnya akses makanan segi kualitas gizi',\n",
              " '6.522 anak aceh utara menderita stunting',\n",
              " 'stunting kondisi gagal pertumbuhan anak pertumbuhan tubuh perkembangan otak akibat kekurangan gizi anak pendek anak normal seusianya memiliki keterlambatan berpikir',\n",
              " 'mahdavia1    jerry_0fficiai areajulid resiko nya anak lahir cacat kematian stunting gizi dll',\n",
              " 'tergelitik pas presentasi kemarin bahas child marriage negara berkembang negara maju sekelas us ya minimnya pemahaman sexual education kesehatan reproduksi resiko kematian hamil bayi prematur kdrt     stunting miris perkawinan anak thread',\n",
              " '   sekilas info    lomba konten kreatif instagram     halo sahabat psikologi rangka mendukung strategi nasional percepatan pencegahan anak kerdil stunting kampanye nasional komunikasi perubahan perilaku asisten deputi ketahanan kesejahteraan   ',\n",
              " 'tp pkk bhayangkari bateng kunjungi posyandu dahlia kulur ilir eva cegah stunting kematian anak',\n",
              " 'dampak pandemi covid 19 berkepanjangan kasihan anak gizi mengalami stunting',\n",
              " 'uwiiuw huluira idih anak stunting',\n",
              " 'cirebon upaya percepatan penurunan prevalensi angka stunting dinas pemberdayaan perempuan perlindungan anak pengendalian penduduk keluarga berencana dp3appkb kota cirebon berupaya',\n",
              " 'anak indonesia hak yg pendidikan kesehatan    asupan gizi kepulauan meranti titipkan susu utk mendukung pencegahan    mengatasi stunting haru anak2 doa tumbuh anak2 sehat erickthohir',\n",
              " 'saran bkkbn cegah anak lahir stunting',\n",
              " 'bkkbn ajak komponen masyarakat menerapkan slogan mencegah anak lahir stunting ',\n",
              " 'top news koran rakyat merdeka dampak pandemi covid 19 berkepanjangan kasihan anak gizi mengalami stunting stunting corona coronavirus 19 rakyat merdeka mid',\n",
              " 'pandemi tantangan dihadapi anak target penanggulangan hambatan kesehatan stunting terbebani pandemi salah faktor utama penyebab stunting rendahnya akses keluarga keluarga berpenghasilan renda',\n",
              " 'beritarienews program dapur sehat anak stunting',\n",
              " 'jerry_0fficiai areajulid resiko nya anak lahir cacat kematian stunting gizi dll',\n",
              " 'kehamilan asupan gizi memadai menerapkan pola hidup bersih resiko stunting stunting',\n",
              " 'pendampingan kegiatan posyandu balita desa penyeladi meningkatkan kesehatan anak pencegahan stunting desa desa sehat negara kuat',\n",
              " 'salah indikator anak stunting bertubuh pendek indikasi faktor stunting',\n",
              " 'blessgimang samaliboi yg parlay anak stunting smua ya ga sie',\n",
              " 'stunting gizi anak disebabkan kurangnya asupan gizi',\n",
              " 'sembilan daerah penyumbang stunting tertinggi sumbar angkat gizi anak tepian negeri',\n",
              " 'bupati landak karolin margret natasa anggota dpr ri dapil kalbar cornelis sosialisasi stunting asi eksklusif pelatihan pemberian makan bayi anak pmba berbahan dasar lokal pdiperjuangan',\n",
              " 'sembilan daerah penyumbang stunting tertinggi sumbar angkat gizi anak tepian negeri',\n",
              " 'samaliboi anjink dpt anak stunting chance gede drpd maen parlay bangsat',\n",
              " 'anak indonesia terlahir stunting terhoror yg gue tau dengar',\n",
              " 'mamamunnie indonesia darurat stunting tp tetep aja anak disuruhnya makan nasi sayur nasi sayur mbuh proteinnya kemana lemaknya kemana',\n",
              " 'stunting kondisi gagal tubuh anak menyebabkan keterlambatan pertumbuhan menurunkan kemampuan kognitif kecerdasan',\n",
              " 'faktor utama penyebab stunting anak',\n",
              " 'beritakbr baby ih gemes gemesnya nih lupa perhatikan asupan gizinya kekurangan gizi 100',\n",
              " 'pemerintah trs berupaya menurunkan angka stunting anak prokes redakan pandemi',\n",
              " 'kemarin posisi posisi bayinya berat turun bgt bener bener    susaah makan sampe daftarin dewasa stunting posyandu ku sampe nangis nangis gpp minum energen aja maaf kalo masakan mamah gaenak',\n",
              " 'baiqhan lupaudahmakan tamba_richy sofianpalupi yess krn kalo salah gizi 100 kehidupan keburu stunting ngefek sampe dewasa ahlinya sih yg tau baca2 buku aja googling2',\n",
              " 'diperhatikan pencegahan stunting perbaikan pola makan pola asuh perbaikan sanitasi akses air bersih edukasi posyandu sasaran balita tokoh masyarakat',\n",
              " 'edukasi kelompok rentan mencegah stunting',\n",
              " 'kumparan prevalensi stunting provinsi ntt masuk kategori tertinggi indonesia 22,6 persen kumparan htt',\n",
              " 'prevalensi stunting provinsi ntt masuk kategori tertinggi indonesia 22,6 persen kumparan',\n",
              " 'melawan stunting edukasi pengasuhan 100 hpk desa boyolali kecamatan gajah',\n",
              " 'edukasi kelompok rentan dinilai mencegah stunting stunting',\n",
              " 'edukasi 1.00 hpk lokus stunting',\n",
              " 'memicu hipertensi tekanan darah stress    depresi ekonomi    bayi rentan gizi stunting faktor ekonomi keluarga pola asuh yg salah parenting sanitasi kebersihan bermukim wilayah kumuh    krisis air bersih psikologi kdrt pasangan yg abusive',\n",
              " 'penyebab utamanya faktor kemiskinan kondisi daerah terisolir stunting ditemukan kalangan menengah dipicu kurangnya pengetahuan asupan makanan bergizi',\n",
              " 'rlnjani memiliki dampak jangka individu makro data world bank 54 persen angkatan kerja bayinya mengalami stunting how have you been jani',\n",
              " 'vaksinasi covid 19 hamil agustus 2021 salah upaya keselamatan bayi upaya meningkatkan pengetahuan literasi gizi kehamilan tumbuh kembang anak kental manis diseduh',\n",
              " 'vaksinasi covid 19 hamil agustus 2021 upaya menyelamatkan bayi meningkatkan pengetahuan literasi gizi kehamilan kehamilan melahirkan tumbuh kembang anak kental manis diseduh',\n",
              " 'upaya meningkatkan pengetahuan literasi gizi kehamilan kehamilan melahirkan tumbuh kembang anak kental manis diseduh',\n",
              " 'webinar alam rangka kesehatan nasional yg jatuh tgl 12 november 2021 tema kesehatan literasi gizi era pandemi covid mencapai bonus demografi kental manis diseduh',\n",
              " 'hai salam sehat ikuti kultwit yuk berbagi info webinar publik rangka kesehatan nasional tema kesehatan literasi gizi era pandemi covid kental manis diseduh',\n",
              " 'literasi baca tulis numerisasi memahami yg tersirat yg tersurat sprti ttg kesehatan gizi literasi gizi utk yg konsumsi sbg contoh membedakan krimer kental manis kental manis diseduh',\n",
              " 'webinar publik tema     kesehatan literasi gizi era pandemi covid mencapai bonus demografi    kejasama yaici ibi prov banten sahabatyaici ibi bonusdemografi',\n",
              " 'pengurus bimgi 2021 2022    selamat pengurus bimgi 2021 2022 salam literasi instagram    official_bimgi linkedin berkala ilmiah mahasiswa gizi indonesia email bimgi.bimkes gmail.com twitter    official_bimgi website',\n",
              " 'optimistis angka stunting turun signifikan',\n",
              " 'tp pkk wujudkan kota surabaya nol balita stunting',\n",
              " 'kabar stunting surabaya turun 300 persen',\n",
              " 'banggasurabaya cak ericahyadi mentarget surabaya nol stunting ayo rek bareng bareng bantu cak eri wuj',\n",
              " 'banggasurabaya stunting problem diselesaikan pemkot surabaya ditemui 1.785',\n",
              " 'program jago ceting pemkot surabaya sukses menekan stunting',\n",
              " 'cak ericahyadi mentarget surabaya nol stunting ayo rek bareng bareng bantu cak eri wujudkan surabaya zero stunting ya stunting balita kesehatan pemkot surabaya eri cahyadi rini eri cahyadi bangga surabaya',\n",
              " 'gambaran selengkapnya perkembangan balita stunting surabaya dicek creative multipost ya rek oiya menjumpai balita stunting sekitarmu ragu melapor kecamatan kelurahan puskesmas terdekat',\n",
              " 'stunting problem diselesaikan pemkot surabaya ditemui 1.785 balita stunting surabaya angka penurunan dibanding mencapai 5.727',\n",
              " ' stunting kota kabupaten tasikmalaya      jabarnews beritalokal beritahiperlokal harianjabar jabartoday beritajabar beritajawabarat stunting tasikmalaya staf khusus menteri bappenas stunting tasikmalaya',\n",
              " 'pemerintah kabupaten cirebon mengklaim 2019 stunting kekurangan gizi kronis menurun 14.00 balita mengalami stunting wilayah',\n",
              " 'ikan pemahaman keliru halaman liputan khusus desember 2021 kabupaten cirebon salah 14 daerah jawa barat fokus intervensi penurunan stunting indonesia',\n",
              " 'permata63x    sofianpalupi bikin petugas pemantau gizi mumet gara gara target bebas stunting',\n",
              " 'lima8satu pemerintah gencar gencarnya menangani urusan stunting balita indonesia stunting',\n",
              " 'permata63x sofianpalupi maksudnya petugas suka kalo nemu stunting kl ga ktmu jd mumet gitu gmn sih',\n",
              " 'relasi searah pertumbuhan ekonomi dana desa stunting nusa tenggara timur     via indoprogress',\n",
              " 'arindra pemerintah gencar2nya menangani urusan stunting balita indonesia.beberapa stunting ditemukan',\n",
              " 'panca1945 stunting ditemukan kepulauan meranti riau wilayah sungai tohor balita mengalami te',\n",
              " 'rilovebird pemerintah gencar gencarnya menangani urusan stunting balita indonesia stunting diantarany',\n",
              " 'sofianpalupi bikin petugas pemantau gizi mumet gara gara target bebas stunting',\n",
              " 'stunting ditemukan kepulauan meranti riau wilayah sungai tohor balita mengalami terungkap video unggah menteri bumn erick thohir beliau tmbh susu balita erickthohir',\n",
              " 'pemerintah gencar gencarnya menangani urusan stunting balita indonesia stunting ditemukan kepulauan meranti erick thohir langsung mengunjungi mendengarkan langsung keluhan masyarakat',\n",
              " 'pemerintah gencar gencarnya menangani urusan stunting balita indonesia stunting ditemukan kepulauan meranti wilayah sungai tohor kepulauan meranti balita mengalami stunting erickthohir',\n",
              " 'pemerintah gencar2nya menangani urusan stunting balita indonesia.beberapa stunting ditemukan kepulauan meranti.di wilayah sungai tohor kepulauan meranti balita yg mengalami stunting erickthohir',\n",
              " 'jaga tren penurunan stunting dewan kewaspadaan perhatian pemkot',\n",
              " 'kiyai_marufamin bkkbn memetakan daerah daerah memiliki stunting penang',\n",
              " 'wapres bkkbn memetakan daerah daerah memiliki stunting penanganan khusus',\n",
              " 'wapres bkkbn intensif koordinasi kementerian lembaga terkait pemerintah daerah pemda daerah daerah memiliki stunting',\n",
              " 'berita sampit tim pendamping berperan bantu percepatan penurunan stunting kotim sampit    menekan stunting kabupaten kotawaringin timur salah',\n",
              " 'wapres bkkbn intesif koordinasi kementerian lembaga terkait pemda khusus daerah yg memiliki stunting prokes redakan pandemi',\n",
              " 'wapres bkkbn intesif koordinasi kementerian lembaga terkait pemda khusus daerah yg memiliki stunting prokes redakan pandemi',\n",
              " 'bkkbn intesif koordinasi terkait stunting prokes redakan pandemi',\n",
              " 'dinkes klaim stunting banten menurun',\n",
              " 'wapres ma ruf amin bkkbn berkoordinasi kementerian lembaga terkait stunting      prokes redakan pandemi prokes redakan pandemi',\n",
              " 'wapres ma ruf amin bkkbn berkoordinasi kementerian lembaga terkait stunting      prokes redakan pandemi prokes redakan pandemi',\n",
              " 'dinkes klaim stunting banten menurun',\n",
              " 'tekan angka balita stunting nol program jago ceting',\n",
              " 'program kesehatan karanganyar 2022 fokus penurunan stunting aki stunting kabupaten karanganyar angka kematian aki',\n",
              " 'tekan angka stunting masyarakat didukung santiasi',\n",
              " 'tekan angka stunting 66 kader tpk nagan raya orientasi',\n",
              " 'aki akb stunting garut menurun angka kemiskinan     gosip garut',\n",
              " 'aki akb stunting garut menurun angka kemiskinan     gosip garut via gosipgarut',\n",
              " 'warsel tertinggi angka stunting via palopo pos',\n",
              " 'mozambik negara sebelah tenggara benua afrika tingkat gizi negara mencapai 32,6 angka permasalahan stunting 42',\n",
              " 'madagascar negara terletak timur benua afrika tepatnya samudra hindia kelaparan negara kunjung 2017 2019 angka gizi madagascar mencapai 42    angka stunting mencapai 41,6',\n",
              " 'berharap angka balita stunting ga bertambah pesat',\n",
              " 'reses dprd jabar sosialisasikan penanganan stunting optimal sumedang tingginya angka stunting indonesia provinsi jawa barat perhatian serius pemerintah selengkapnya      perjuangan perjuanganjabar',\n",
              " 'seruyan kaya sda dijadikan upaya pengentasan angka stunting',\n",
              " 'angka stunting wabup aceh utara kerahkan tenaga kesehatan desa',\n",
              " 'ny antari jaya negara serahkan bantuan pmt upaya mencegah angka stunting kota denpasar ketua tim penggerak pkk kota denpasar ny sagung antari jaya negara ketua dwp kota denpasar ida ayu widnyani wiradana menyerahkan',\n",
              " 'puskesmas sawangan berusaha tekan angka stunting',\n",
              " 'dafitnr10 wakil ketua dprd jabar ineu purwadewi upaya menurunkan angka stunting te',\n",
              " 'wakil ketua dprd jabar ineu purwadewi upaya menurunkan angka stunting peran legislatif elemen masyarakat kegiatan reses sidang gor desa cisempur jatinangor kab sumedang kamis 12',\n",
              " 'reseprahasiabln varian muncul afrika who     kelaparan afrika angka stunting krisis air bersih pangan',\n",
              " 'semangat membangun indonesia wujudkan sdm unggul desa utamanya turunkan angka stunting sinergikolaborasi jokowi halimiskandarnu kemendespdtt kpw4jatim kemenkesri malik_haramain tppkemendes tulungagunginfo jatimpemprov',\n",
              " 'pandemi covid 19 angka stunting sumedang 3,28 persen jatinangor menyumbang kenaikan terbesar',\n",
              " 'menakjubkan kabupaten kubu raya angka stunting kisaran 10',\n",
              " 'cegah percepat penurunan angka stunting antari jaya negara serahkan bantuan pmt antari jaya negara balita bayi denpasar hamil gizi pemberian makanan tambahan stunting',\n",
              " 'memparihatinkan angka stunting kota tangerang',\n",
              " 'memparihatinkan angka stunting kota tangerang',\n",
              " 'kiyai_marufamin bkkbn langkah percepatan penanganan stunting target angka prevalensi 14 dala',\n",
              " 'fatayat kader nu fokus menurunkan angka stunting sumsel',\n",
              " 'target angka prevalensi 14 persen wapres percepatan penanganan stunting',\n",
              " 'pemkab luwu tp pkk tekan angka stunting',\n",
              " 'babinsa koramil 1429 01 kulisusu serda dores abadi melaksanakan pertemuan lintas sektor optimalisasi pelayanan vaksinasi covid 19 menurunkan angka kematian bayi penanggulangan penurunan gizi stunting puskesmas bone rombo kec kulisusu kab butur 12 2021',\n",
              " 'angka stunting 12 persen pauhkamba unand tawarkan roti sorgum fla dadih',\n",
              " 'santri probolinggo penyuluhan kesehatan reproduksi pendewasaan usia perkawinan penurunan angka stunting',\n",
              " 'ragilhadiwibowo berhasil turunkan angka stunting natuna raih tingkat kinerja terbaik kepri',\n",
              " 'ketua tim penggerak pemberdayaan kesejahteraan keluarga tp pkk hj a. nurhilda daramata seto kunjungan kerja desa gunung perak kecamatan sinjai barat kamis 02 12 2021',\n",
              " 'dinkes pinrang klaim angka stunting turun 0,47',\n",
              " 'dinas kesehatan pinrang trend prevalensi stunting angka ',\n",
              " 'target angka prevalensi 14 wapres percepatan penanganan stunting via beritairn',\n",
              " 'wapres ma ruf amin bkkbn upaya percepatan penanganan stunting mencapai target angka prevalensi 14    2024 prokes redakan pandemi',\n",
              " 'ketua tp pkk prov kalbar dorong penurunan angka stunting humas_provkalbar',\n",
              " 'wapres bkkbn upaya percepatan penanganan stunting mencapai target angka prevalensi 14 2024      prokes redakan pandemi prokes redakan pandemi',\n",
              " 'wapres bkkbn upaya percepatan penanganan stunting mencapai target angka prevalensi 14 2024      prokes redakan pandemi prokes redakan pandemi',\n",
              " 'pemkot tangerang tangsel pemkab tangerang berupaya menurunkan stunting',\n",
              " 'tsur4r4 wapres ma ruf amin bkkbn upaya percepatan penanganan stunting mencapai target angka prevalensi 14   ',\n",
              " 'wapres ma ruf amin bkkbn upaya percepatan penanganan stunting mencapai target angka prevalensi 14       prokes redakan pandemi',\n",
              " 'wapres ma ruf amin bkkbn upaya percepatan penanganan stunting mencapai target angka prevalensi 14       prokes redakan pandemi',\n",
              " 'wapres ma ruf amin bkkbn upaya percepatan penanganan stunting mencapai target angka prevalensi 14 2024  prokes redakan pandemi',\n",
              " 'wapres ma ruf amin bkkbn upaya percepatan penanganan stunting tercapai target angka prevalensi 14 2024 prokes redakan pandemi',\n",
              " 'wapres ma ruf amin bkkbn upaya percepatan penanganan stunting mencapai target angka prevalensi 14 persen 2024 prokes redakan pandemi',\n",
              " 'wakil presiden ma ruf amin bkkbn upaya percepatan penanganan stunting mencapai target angka prevalensi 14 persen 2024 prokes redakan pandemi',\n",
              " 'hmmurahmurahhm2 kekayaan pejabat berkuasa rata2 meningkat 70 pandemi lhkpn kpk rakyat ekonomi nyungsep kentet kur',\n",
              " 'kekayaan pejabat berkuasa rata2 meningkat 70 pandemi lhkpn kpk rakyat ekonomi nyungsep kentet gizi bayi balita stunting bertambah bps jml rakyat miskin meningkat',\n",
              " 'cegah stunting bulog peduli gelontorkan beras bervitamin balita ntt',\n",
              " 'rumah warga miliki balita stunting klego boyolali ditanami pohon kelor',\n",
              " 'lupaudahmakan tamba_richy gakbakaldeak sofianpalupi gak lu blg balita gapapa kurus sehat kenaikan berat badan badan lingkar kepala garis normal silent disease stunting kelak perkembangan otaknya gak sempurna',\n",
              " 'pandji coba lihat persisnya ya hasil riset kesehatan dasar riskesdas 2018 prevalensi stunting balita tingkat nasional turun 6,4 37,2    2013 30,8    2018',\n",
              " 'bwinsandi3 menteri bumn erickthohir bantu balita stunting kepulauan meranti wilayah sungai tohor kepulauan meran',\n",
              " 'menteri bumn erickthohir bantu balita stunting kepulauan meranti wilayah sungai tohor kepulauan meranti balita mengalami stunting',\n",
              " 'undang2_ite permata63x sofianpalupi kayaknya maksudnya klo balita susah makan nutrisionisnya mumet puter otak gimana biar target bebas stuntingnya tercapai krn target bebas stunting taun cmiiw',\n",
              " 'willona_007      menteri bumn erick thohir bantu balita stunting kepulauan meranti membutuhkan susu formula menambah asup',\n",
              " 'abdi_nagari stunting program pemerintah pemerintah gencar gencarnya menangani urusan stunting balita indones',\n",
              " 'sydneyx5w yayasannya menteri erick thohir membantu balita mengalami stunting kepulauan meranti erickthohir https',\n",
              " 'chusnulch mendukung program pemerintah yg gencar gencarnya menangani urusan stunting balita indonesia erick th',\n",
              " '0l4h    kemarin sungai tohor balita stunting sisanya teratasi     bant',\n",
              " 'idnenek77 erick thohir yayasannya membantu balita stunting kepulauan meranti terimakasih erickthohir https',\n",
              " 'erick thohir yayasannya membantu balita stunting kepulauan meranti terimakasih erickthohir',\n",
              " 'kegiatan plkb kap kasihan    wiwik kartiningsih    rangka pemberian pmt bumil bufas baduta balita pencegahan stunting dusun ngewotan janten kal ngestiharjo',\n",
              " 'kemarin sungai tohor balita stunting sisanya teratasi     bantu yayasan susu enam ya terimakasih ya erickthohir erick thohir',\n",
              " 'mendukung program pemerintah yg gencar gencarnya menangani urusan stunting balita indonesia erick thohir yayasannya membantu balita stunting kepulauan meranti terimakasih erickthohir',\n",
              " '    menteri bumn erick thohir bantu balita stunting kepulauan meranti membutuhkan susu formula menambah asupan gizi    erickthohir',\n",
              " 'stunting program pemerintah pemerintah gencar gencarnya menangani urusan stunting balita indonesia yayasan erick thohir membantu susu enam balita kepulauan meranti',\n",
              " 'yayasannya menteri erick thohir membantu balita mengalami stunting kepulauan meranti erickthohir',\n",
              " 'minimalisir stunting pandemi sagung antari jaya negara gencar serahkan bantuan pmt hamil balita gizi antari jaya negara balita bayi covid 19 desa padang sambian kaja hamil kelurahan padang sambian gizi',\n",
              " 'cegah stunting bulog peduli bantuan beras bervitamin balita ntt',\n",
              " 'bentuk komitmen nyata perusahaan menciptakan nilai masyarakat menunjang gizi pertumbuhan balita garis merah bgm perum bulog menghadirkan program bulog peduli gizi',\n",
              " '11 balita penderita stunting pradah kali kendal komisi perhatian pemkot',\n",
              " 'bulog membagikan beras anti stunting bers fortivit masyarakat kupang ntt',\n",
              " 'stunting terdata kota pekalongan persen balita terdata kesuksesan penurunan stunting kota pekalongan terlepas peran dinas dinas tertuang pilar penanganan stunting',\n",
              " 'ketua tim penggerak pkk luwu timur bagikan makanan tambahan balita stunting',\n",
              " 'Ketua Tim Penggerak PKK Luwu Timur Bagikan Makanan Tambahan Bagi Balita Stunting baca berita lengkapnya     ayolawancorona jagakesehatan pakemasker tetapwaspada ayosukseskanvaksin',\n",
              " 'berita lutim des 2021    ketua tim penggerak pkk luwu timur bagikan makanan tambahan balita stunting',\n",
              " 'erick thohir bantu balita stunting kepulauan meranti',\n",
              " 'bulog menggelontorkan ribuan beras fortivit balita stunting desa bokong kecamatan taebenu nusa tenggara timur ntt kamis 12 2021',\n",
              " 'peduli kesehatan balita babinsa koramil 0819 04 kejayan dampingi kegiatan konfergensi stunting desa',\n",
              " 'bantuan makanan tambahan balita penderita stunting hamil ketua tp pkk kabupaten sinjai hj a. nurhilda daramata seto menyempatkan mengunjungi warga penyandang disabilitas desa gunung perak',\n",
              " 'asumsico riset riskesdas 2018 batita balita indonesia menderita stunting kali rayestu memb',\n",
              " 'pilar gelar giat perbaikan gizi balita terkena stunting bhabinkamtibmas polsek asemrowo polres pelabuhan tanjung perak unsur pilar melaksanakan giat pemberian makanan bergizi puluhan balita mengalami stunting perakpastibisa polrihumanis',\n",
              " 'pilar gelar giat perbaikan gizi balita terkena stunting bhabinkamtibmas polsek asemrowo polres pelabuhan tanjung perak unsur pilar melaksanakan giat pemberian makanan bergizi puluhan balita mengalami stunting perakpastibisa polrihumanis',\n",
              " 'pilar gelar giat perbaikan gizi balita terkena stunting bhabinkamtibmas polsek asemrowo polres pelabuhan tanjung perak unsur pilar melaksanakan giat pemberian makanan bergizi puluhan balita mengalami stunting perakpastibisa polrihumanis',\n",
              " 'pilar gelar giat perbaikan gizi balita terkena stunting bhabinkamtibmas polsek asemrowo polres pelabuhan tanjung perak unsur pilar melaksanakan giat pemberian makanan bergizi puluhan balita mengalami stunting perakpastibisa polrihumanis',\n",
              " 'pilar gelar giat perbaikan gizi balita terkena stunting bhabinkamtibmas polsek asemrowo polres pelabuhan tanjung perak unsur pilar melaksanakan giat pemberian makanan bergizi puluhan balita mengalami stunting perakpastibisa polrihumanis',\n",
              " 'jalannya kegiatan peringatan kesehatan nasional 57 dinas kesehatan kota batu pemberian sertifikat idl imunisasi dasar lengkap balita lulus vaksin launching pozting pos gizi penanganan stunting',\n",
              " 'buruk stunting teratasi miningkatnya penyakit menular trend kematian tertinggi indonesia 66 berdasarkan data who kental manis diseduh',\n",
              " 'rakor lintas sektor kecamatan pageruyung tema    penangan pengentasan stunting wilayah kecamatan pageruyung 12 21 cegahstunting pageruyung kendallebihbaik    pagerruyung jawa indonesia',\n",
              " 'asumsico berdasarkan riset kesehatan dasar kemenkes ri 2018 bayi bayi indonesia',\n",
              " 'berdasarkan riset kesehatan dasar kemenkes ri 2018 bayi bayi indonesia menderita stunting selengkapnya',\n",
              " 'kementerian pupr dorong pencegahan pengentasan stunting indonesia pembangunan infrastruktur perumahan layak masyarakat selengkapnya    kementerian',\n",
              " 'afidbrilliana prof amanpulungan sdh mempublikasikan indonesia national growth chart yg disintesis data anak2 indonesia',\n",
              " 'prof amanpulungan sdh mempublikasikan indonesia national growth chart yg disintesis data anak2 indonesia singapura negara jg  chart insyaallah interpretasi stunting',\n",
              " 'special show kemarin sore pandji topik menarik stunting patut diapresiasi stunting berkaitan kualitas generasi indonesia',\n",
              " 'cegah stunting ditjen perumahan kementrian pupr salurkan bsps mewujudkan hunian layak huni keluarga indonesia',\n",
              " 'halo nitizen twitter mengikuti lomba diadakan deputi kemenko pmk bantu like share yaa terima kasih    malnutrisi indonesia     cegah stunting',\n",
              " 'rafikabayu stunting mmg hrs diatasi spy generasi emas indonesia optimal pertumbuhannya melanjutkan pembangunan',\n",
              " 'stunting mmg hrs diatasi spy generasi emas indonesia optimal pertumbuhannya melanjutkan pembangunan negeri tercinta mentri bumn erick thohir berjanji utk bantu penanganan stunting sungai tohor erickthohir',\n",
              " 'kondisi stunting indonesia penyebab bahayanya mencegahnya yuk simak poster    sdan stunting igemilang gotong royong wujudkan indonesia sehat 2021',\n",
              " 'bkkbn membentuk tim pendamping keluarga tpk percepatan penurunan stunting indonesia',\n",
              " 'berdasarkan riset kesehatan dasar kemenkes ri 2018 bayi bayi indonesia menderita stunting stunting',\n",
              " 'kepri terbaik prevelansi stunting indonesia',\n",
              " 'child marriage berimplikasi sektor sosial struktural sih  stunting alami bayi terputusnya pendidikan istri suami menurunkan kualitas generasi bangsa stunting erat kaitannya dgn ekonomi sanitasi parenting',\n",
              " 'firzahusainid akibat stunting alias gizi otak2 kadrun nggak tumbuh',\n",
              " 'penyuluhan penanganan pencegahan stunting desa labokong kec donri donri kab soppeng jokowi    halimiskandarnu kemendespdtt malik_haramain imansyukri taufikmadjid71 yusradaridesa    azzameldzikrie    tppkemendes    kemendesapdtt',\n",
              " 'pwn 2021 kampanyekan pencegahan stunting       berita jambi digital',\n",
              " 'rapat koordinasi percepatan konvergensi program kegiatan pencegahan penurunan stunting provinsi ntb 2021',\n",
              " 'alhasil tragedi kekurangan santan berkepanjangan selengkapnya baca koran pikiran rakyat koran pikiran rakyat pikiran rakyat berita stunting mitos pencegahan kontraproduktif pemenuhan gizi hamil anak balita interaksi sosial makanan',\n",
              " 'pencegahan stunting bangga kencana rahmad handoyo',\n",
              " 'babinsa koramil muara bungo hadiri sosialisasi penanganan pencegahan stunting',\n",
              " 'violetinureyes    denni_sauya erickthohir haloo tolong bantu like share video terkait pencegahan stunting',\n",
              " 'cherry_bg haloo tolong bantu like share video terkait pencegahan stunting teknologi digital like kakak bayi2 terhindar stunting terima kasih    linknya',\n",
              " 'denni_sauya erickthohir haloo tolong bantu like share video terkait pencegahan stunting teknologi digital like kakak bayi2 terhindar stunting terima kasih    linknya',\n",
              " 'chozinmas kemendesapdtt halimiskandarnu haloo tolong bantu like share video terkait pencegahan stunting teknologi digital like kakak bayi2 terhindar stunting terima kasih    linknya',\n",
              " 'kec_kasihan haloo tolong bantu like share video terkait pencegahan stunting teknologi digital like kakak bayi2 terhindar stunting terima kasih    linknya',\n",
              " 'treasurex17 haloo tolong bantu like share video terkait pencegahan stunting teknologi digital like kakak bayi2 terhindar stunting terima kasih    linknya',\n",
              " 'gladiolims jeonanay haloo tolong bantu like share video terkait pencegahan stunting teknologi digital like kakak bayi2 terhindar stunting terima kasih    linknya',\n",
              " 'dewipoe2811 rilovebird denni_sauya erickthohir haloo tolong bantu like share video terkait pencegahan stunting teknologi digital like kakak bayi2 terhindar stunting terima kasih    linknya',\n",
              " 'byrubima rilovebird erickthohir haloo tolong bantu like share video terkait pencegahan stunting teknologi digital like kakak bayi2 terhindar stunting terima kasih    linknya',\n",
              " 'rilovebird erickthohir haloo tolong bantu like share video terkait pencegahan stunting teknologi digital like kakak bayi2 terhindar stunting terima kasih    linknya',\n",
              " '10 kawat sosial medi siswantara m.pd menghadiri penyerahan bantuan sembako kalurahan ngestiharjo 12 keluarga    bumil baduta rangka pencegahan stunting padukuhan sidorejo kal ngestigarjo kap kasihan',\n",
              " 'anggota komisi dprd mura olivia siswanti    dukung upaya pencegahan stunting',\n",
              " 'dukung pencegahan stunting sarangge baca bima nasi bungkus',\n",
              " 'peran masyarakat mendukung upaya pencegahan stunting',\n",
              " 'peran masyarakat mendukung upaya pencegahan stunting',\n",
              " 'berita sampit peran masyarakat mendukung upaya pencegahan stunting puruk cahu    pencegahan potensi stunting diawali',\n",
              " 'komisi ix berharap kolaborasi intitusi pendidikan pencegahan stunting',\n",
              " 'sumsel prioritaskan pencegahan stunting',\n",
              " 'bupati landak karolin margret natasa organisasi perangkat daerah opd terkait beraksi percepatan pencegahan penurunan stunting terintegrasi aksi konvergensi pdiperjuangan',\n",
              " 'gerindra anggota dpr_ri komisi ix fraksi gerindra drg. putih sari rapat program penanganan pencegahan stunting pemerinta',\n",
              " 'kendalhandal pendampingan rakor linsek bidang kesehatan percepatan pencegahan stunting kec weleri jokowi halimiskandarnu',\n",
              " 'menyangga mari dukung pencegahan stunting quora',\n",
              " 'syamsul_odut sosialisasi pencegahan stunting pemda konawe dinas ppkb kab konawe balai pertemuan desa sambaraas',\n",
              " 'dr. novitria dwinanda spa dokter anak    konsultan nutrisi metabolik gagal tumbuh prediktor gangguan kecerdasan kental manis diseduh',\n",
              " 'ngeri anak mengalami maal nutrisi berkaitan bangsa gagal tumbuh kental manis diseduh',\n",
              " 'gyu berusaha bersembunyi tp gagal tumbuh hatinya',\n",
              " 'pikiran ketekunan tumbuh gagal    sukses',\n",
              " 'duh 80.900 anak ntt mengalami gagal tumbuh',\n",
              " 'sarchotlc     gagal akar tumbuh menguat tumbuh setin',\n",
              " '   gagal akar tumbuh menguat tumbuh apapun kelak tumbuhnya goyah akar kegagalan kuat mencengkram',\n",
              " 'didikan yg gagal gak dididik menjadikan anak laki2 tumbuh pria2 brengsek yg jd ancaman perempuan',\n",
              " 'adriandanarw pertama2 dl kalo anak beneran sehat kalo gagal tumbuh ya jgn denial jg kalo yg nyinyir ortu mertua bawa pas kontrol bulanan dsa biar dsa yg bilang matanya kalo anak sehat kalo yg nyinyir tetangga kerabat nyolotin aja',\n",
              " 'lg nunggu tumbuh kembang adonan liat vid tutorial     kalo gagal bikin donat kali it okay and it normal guys    gak ya gak gagal waktuku mentalku ga terbuang siasia',\n",
              " 'nak umik gagal istri semoga umik gagal ibumu biarkan tumbuh lingkunganmu karna hati sekuat baja hidup umi menangis',\n",
              " '0448mor spesies landak edisi gagal duriny tumbuh dipantat doang',\n",
              " 'widyamelati2311 antibuzzrp botolaqua2020 4bd03ld04n9 cempluk1_erna m4dda0 ricki_mo me_miwon gondhzz thalomoan1 ridhima2_mey namakoen3y hu um rang2 gagal tumbuh',\n",
              " 'lisaapvnta halo lisa gagal yg wajar mangats ya pintu rezeki yg mati tumbuh seribu',\n",
              " 'tasyayouth orang bertumbuhnya tanaman bayam cepat tumbuh panen padi',\n",
              " 'orang bertumbuhnya tanaman bayam cepat tumbuh panen padi padi gagal memiliki berjaya nya',\n",
              " 'selamat pagi mimpi memperjuangkanmu jatuh gagal berkali kali keras kepalaku keyakinanku mencapainya goyah harapanku kerap kali patah semoga semangat semangat tumbuh',\n",
              " 'msjxgknw happy birthday anak    makasih udah lahir tumbuh gulf sekarang.gulf hebat ga gagal bikin',\n",
              " 'happy birthday anak    makasih udah lahir tumbuh gulf sekarang.gulf hebat ga gagal bikin ngerasa beruntung ketemu orang sehebat semoga semogakan tercapai dikelilingi orang 24 th day',\n",
              " 'samaa mikirnya penanam benih tuh yg masuk sc benih apel kontribusi bangak yg gagal meninggal berusaha dapetin freedom tumbuh pohon paradis negara makmur tumbuh hutan',\n",
              " 'interpretasiku baca tuh hange    benih yg gagal tumbuh anak 104    benih kalo interpretasiku yg hange tuh sbg benih gagal seandainya nggak benih yg menggantikan peran read anak 104',\n",
              " 'iya kasian banget kakk untung tumbuh ceria aneh nda ancur kayaknya biskuit percobaan mutan gagal dibuang laut',\n",
              " 'dennysiregar7 gagal tumbuh gigi',\n",
              " 'gagal tumbuh bayi mengakibatkan kesehatan ciri ciri faltering growth bayidanmenyusui falteringgrowth gagaltumbuh',\n",
              " 'bun minggu tanggal desember webinar nutrisi mencegah gagal tumbuh mendukung imunitas anak gratis',\n",
              " 'radenrauf pembunuh gagal membuatmu tumbuh sehat kuat cerdas energen',\n",
              " 'kayaknya seru nih kalok tumbuh badan hj gagal bertahan masuk rs op gak sadar2 lino baku hantam chris',\n",
              " 'convomfs berusaha ngelawan penyakit gagal ginjalnya    bertahan hidup 10 thn liat anak ny tumbuh gw nyerah gitu aja trus klo skrng gw nyerah gw tega banget sih ningalin kk gw dunia kejam banget gak hati bngt gw klo gw lakuin',\n",
              " 'wapres ma ruf amin bkkbn percepatan penanganan stunting prokes redakan pandemi',\n",
              " 'wapres bkkbn upaya percepatan penanganan stunting  prokes redakan pandemi',\n",
              " 'wapres ma ruf amin bkkbn upaya percepatan stunting prokes redakan pandemi',\n",
              " 'wapres ma ruf amin bkkbn upaya percepatan stunting prokes redakan pandemi',\n",
              " 'wapres ma ruf amin bkkbn percepat penanganan stunting prokes redakan pandemi',\n",
              " 'bkkbn atasi stunting prokes redakan pandemi',\n",
              " 'wapres bkkbn percepat penanganan stunting prokes redakan pandemi',\n",
              " 'prevalensi stunting tingginya kepatuhan mitos halaman liputan khsuus desember 2021    mohon maaf kelompok dapet santan perempuan',\n",
              " 'trend prevalensi stunting kabupetan pinrang turun 0,47 dyah keberhasilan konvergensi lintas sektor kabupaten pinrang intervensi stunting selengkapnya tautan',\n",
              " 'julianmj iya ih kesel bgt klo dibilang kmu kurusan    ya emng nape lo gue kurus kek gemuk kek jrawatan mulus kinclong kek yng pnting sehat ga gizi awkwk',\n",
              " 'bunxtel pertumbuhan bayi bb tb cukupnya asupan gizi',\n",
              " 'rajaguguk14 nggak mikir kesehatan    yg bener kerja sesuai panggilan jiwa menikmati kerjaan dicukupkan duit',\n",
              " 'nggak mikir kesehatan    yg bener kerja sesuai panggilan jiwa menikmati kerjaan dicukupkan duit hasil kerjaan yg duit hasil kerjaan nggak hidup minim negara nggak hadir membantu anak2 gizi otak berkembang',\n",
              " 'gizi masuk jurusan gizi udah ngitung kebutuhan gizi kebutuhan gizi terpenuhi yukk ann perbaiki gizi nya gak dikatain tetangga lambenya jahat',\n",
              " 'glassyfaggy sih industri tp buruh doang gaada akses sdmnya ngehandle pendidikannya kurikulumnya didesain provide buruh provide penemu susul stunting karna miskin otagnya kapasitasnya beda hadeeh',\n",
              " 'stafsuscolonial mengutip bang obiwan_catnobi efek stunting terpapar asap rokok bund dikritik kultur patriarki diframing ga suka agamanya iqra ayat relevan',\n",
              " 'tuntaskan stunting alokasi anggaran dikucur',\n",
              " 'pembahasan stunting bupati landak opd terkait beraksi pemkablandak kabupatenlandak landakhebat cegahstunting',\n",
              " 'atasi stunting bupati landak demo makanan bayi pemkablandak kabupatenlandak bupatilandak karolinmargretnatasa landakhebat cegahstunting',\n",
              " 'cegah stunting bulog peduli gelontorkan bantuan beras bervitamin ntt',\n",
              " 'target eri cahyadi surabaya nol bayi stunting',\n",
              " 'mainul_f pandji efek stunting bayi dikasih gadget kayak orang kepinteran dikasih senjata dike',\n",
              " 'pandji efek stunting bayi dikasih gadget kayak orang kepinteran dikasih senjata diketik bar bar cc habis ngajakin nobar standup akmlhakim',\n",
              " 'mencegah bayi stunting kehamilan',\n",
              " 'dxta jujur ga suka bgt mamanya bayi aja gaslighting sedih anaknya dikatain kurus khawatir anaknya stunting gitu wkwkwk',\n",
              " 'tanah ambles rob banjir warga tambaklorok hadapi bayi stunting',\n",
              " 'afrkml ners batita bb tb masuk kategori stunting kah lingkungan toxic berpengaruh tumbuh kembang bayi',\n",
              " 'ketua tp pkk sinjai bantuan makanan tambahan bayi stunting hamil',\n",
              " 'pemkab luwu tp pkk targetkan penekanan bayi lahir stunting',\n",
              " 'setuju banget longgar thread pengalaman project fakultas kolaborasi kemenkes ri penanganan stunting posyandu posyandu mencerahkan ngerti paham kondisi dialami lapangan',\n",
              " 'kegiatan evaluasi aksi konvergensi percepatan penurunan stunting kabupaten tangerang',\n",
              " 'melebihi target nasional sulsel pilih 240 desa lokus penurunan stunting',\n",
              " '12 fasilitator dp2 kb lutim pelatihan percepatan penurunan stunting',\n",
              " '12 Fasilitator DP2 KB Lutim Ikut Pelatihan Percepatan Penurunan Stunting baca selengkapnya     ayolawancorona jagakesehatan pakemasker tetapwaspada jangantakutdivaksin ayosukseskanvaksin',\n",
              " 'reses jatinangor wakil ketua dprd jabar ineu purwadewi prioritaskan penurunan stunting',\n",
              " 'giat oreintasi tim pendamping keluarga tpk perceparan penurunan stunting kabupaten sumedang kamis 12',\n",
              " 'penurunan stunting target 2022 pendataan keluarga dasar intervensi program',\n",
              " 'tim pendamping berperan bantu percepatan penurunan stunting kotim',\n",
              " 'tim pendamping berperan bantu percepatan penurunan stunting kotim',\n",
              " 'penurunan stunting prioritas anggota dprd provinsi sidang reses',\n",
              " 'kamis 12 dinkes dinpermades dinsosppkb mengikuti rakorpusda terkait percepatan penurunan stunting virtual bappedarembang rembang rembanggemilang stunting',\n",
              " 'alhamdulillah ga sakit hati omongan orang dikelilingi orang2 yg care zay bantu zay makan khawatir kesehatan tumbuh kembang gizi zay sampe turun 7ons lemas takut banget stunting malnutrisi',\n",
              " 'unicefindonesia unicef merayakan 75 hak hak kesejahteraan anak indonesia unicef mengawali keha',\n",
              " 'unicef merayakan 75 hak hak kesejahteraan anak indonesia unicef mengawali kehadirannya membantu anak anak mengalami malnutrisi',\n",
              " '5.00 anak menerima bantuan 2019 sabang mencatat kenaikan kunjungan posyandu',\n",
              " 'dppkb ppa jombang launching desa bebas stunting',\n",
              " 'puan maharani lembaga sosialnya halopuan menggerakan warga desa cisempur kecamatan jatinangor kabupaten sumedang jawa barat melawan stunting kekerdilan pdiperjuangan',\n",
              " 'gerakan melawan stunting diinisiasi puan maharani halopuan memasuki kabupaten sumedang jawa barat jabar gerakan desa cisempur kecamatan jatinangor kamis 12',\n",
              " 'gerakan melawan stunting diinisiasi puan maharani halopuan memasuki kabupaten sumedang jawa barat gerakan desa cisempur kecamatan jatinangor kamis 12 2021',\n",
              " 'bupati landak karolin margret natasa dewan pembina tim penggerak pkk kabupaten landak kunjungan kerja desa pakumbang pdiperjuangan',\n",
              " '20 desa bolmong prioritas pencegahaan penanganan stunting',\n",
              " 'gerakan melawan stunting diinisiasi puan maharani halopuan memasuki kabupaten sumedang jawa barat gerakan desa cisempur kecamatan jatinangor kamis desember 2021',\n",
              " 'stunting engga gatau tp emang yg pendek banget karna menu makanan karna kecilnya sakit2an kalo makanan anak2 seangkatanku desa menunya',\n",
              " 'mendes pdtt abdul halim iskandar penanggulangan stunting desa salah program prioritas pembangunan desa kumparan',\n",
              " 'puan maharani lembaga sosialnya halopuan menggerakan warga desa cisempur kecamatan jatinangor kabupaten sumedang jawa barat melawan stunting kekerdilan',\n",
              " 'sosialisasikan kespro stunting calon pengantin balai desa bumirejo kecamatan karangawen',\n",
              " 'raisha_al kemendes pdtt ri idi berkolaborasi wujudkan desa sehat sejahatera salah satunya penanganan stunting sasa',\n",
              " 'klanadestin ya pengen nangis masi bayi kalo susah mkn tuh bikin was2 kalo kekurangan gizi bs bahaya that why bayi tuh gembul2 karna asupannya bnyk bbrp orang tua ngomel pas anak cewenya diet2 karna kl salah ya bawa penyakit',\n",
              " 'janjipalsuu gtm tuh gerakan tutup mulut kalo bayi disuapin mpasi tuh ngasih responnya ditelen bikin orang tua khawatir panik kalo kekurangan gizi sampe videonya dibilang bayi nya keliatan kurus bikin sakit hati udah nyobain',\n",
              " 'pupr_bpiw happy weekend sahabat santai lho klik link dibawah    ',\n",
              " 'happy weekend sahabat santai lho klik link dibawah',\n",
              " 'bulog siapkan ton beras fortivit tangani stunting kupang',\n",
              " 'perusahaan badan urusan logistik bulog kantor wilayah nusa tenggara timur ton beras fortivit membantu menanggulangi stunting kekerdilan kabupaten kupang',\n",
              " 'salah bit bahaya dieksekusi stunting bahaya menyinggung orang hahaha',\n",
              " 'makanan berpengaruh daya pikir anak anak mengalami mal nutrisi bener bener asupan gizi anak kental manis diseduh',\n",
              " 'jihyelee    obiwan_catnobi bunda asupan gizi jalur halal buah hati anak tumbuh',\n",
              " '06 12 2021 21 00 28 meningkatkan daya tahan tubuh    melancarkan asi asupan gizi anak anak hamil menyusui    membersihkan racun tubuh    atasi maag sembelit',\n",
              " '06 12 2021 21 00 23 meningkatkan daya tahan tubuh    melancarkan asi asupan gizi anak anak hamil menyusui    membersihkan racun tubuh    atasi maag sembelit',\n",
              " '06 12 2021 21 00 05 meningkatkan daya tahan tubuh    melancarkan asi asupan gizi anak anak hamil menyusui    membersihkan racun tubuh    atasi maag sembelit',\n",
              " '06 12 2021 18 00 21 meningkatkan daya tahan tubuh    melancarkan asi asupan gizi anak anak hamil menyusui    membersihkan racun tubuh    atasi maag sembelit',\n",
              " '06 12 2021 18 00 08 meningkatkan daya tahan tubuh    melancarkan asi asupan gizi anak anak hamil menyusui    membersihkan racun tubuh    atasi maag sembelit',\n",
              " '06 12 2021 15 00 18 meningkatkan daya tahan tubuh    melancarkan asi asupan gizi anak anak hamil menyusui    membersihkan racun tubuh    atasi maag sembelit',\n",
              " '06 12 2021 15 00 05 meningkatkan daya tahan tubuh    melancarkan asi asupan gizi anak anak hamil menyusui    membersihkan racun tubuh    atasi maag sembelit',\n",
              " 'beli yg mahalan dikit langsung mikir fungsi nggak keperluan anak no maknya ngalah dikit asupan gizi anak tercukupi',\n",
              " 'istriceyee tntrwlnd yg bikin statement kyk gini mgkin blm utk anak klo ga makan otomatis ga asupan gizi yg masuk yg gak stres posisi ntar anak gizi tetep aja yg disalahin ntar timbul penelantaran anak dll',\n",
              " 'obiwan_catnobi bunda asupan gizi jalur halal buah hati anak tumbuh sehat cerdas berperilaku setan',\n",
              " 'outstandjing sekitarku suami gamau direpotkan urusan gizi asupan anak tau nafkahin',\n",
              " '04 12 2021 15 01 18 meningkatkan daya tahan tubuh    melancarkan asi asupan gizi anak anak hamil menyusui    membersihkan racun tubuh    atasi maag sembelit',\n",
              " '04 12 2021 15 00 10 meningkatkan daya tahan tubuh    melancarkan asi asupan gizi anak anak hamil menyusui    membersihkan racun tubuh    atasi maag sembelit',\n",
              " '03 12 2021 21 00 59 meningkatkan daya tahan tubuh    melancarkan asi asupan gizi anak anak hamil menyusui    membersihkan racun tubuh    atasi maag sembelit',\n",
              " '03 12 2021 21 00 07 meningkatkan daya tahan tubuh    melancarkan asi asupan gizi anak anak hamil menyusui    membersihkan racun tubuh    atasi maag sembelit',\n",
              " '03 12 2021 18 01 15 meningkatkan daya tahan tubuh    melancarkan asi asupan gizi anak anak hamil menyusui    membersihkan racun tubuh    atasi maag sembelit',\n",
              " '03 12 2021 18 00 06 meningkatkan daya tahan tubuh    melancarkan asi asupan gizi anak anak hamil menyusui    membersihkan racun tubuh    atasi maag sembelit',\n",
              " '03 12 2021 15 01 22 meningkatkan daya tahan tubuh    melancarkan asi asupan gizi anak anak hamil menyusui    membersihkan racun tubuh    atasi maag sembelit',\n",
              " '03 12 2021 15 00 07 meningkatkan daya tahan tubuh    melancarkan asi asupan gizi anak anak hamil menyusui    membersihkan racun tubuh    atasi maag sembelit',\n",
              " 'jaga asupan gizi anak bepergian nataru',\n",
              " 'balita mengalami gizi akibat mengonsumsi asupan makanan kandungan glukosa salah sumbernya susu kental manis',\n",
              " 'ayo sobat siapkan dgn terencana    adlh bebas stunting keluarga hebat terencana berencana keren keluarga indonesia cegah stunting keluarga keren cegah stunting indonesia cegah stunting',\n",
              " 'yourhellbunny privilege fasilitas sifatnya drip down bicara kuliah deh makan bergizi nggak stunting orang tua orang tua kerja bikin perencanaan keuangan privilege',\n",
              " 'strategi pendampingan calon pasutri cegah stunting mencapai 20 persen',\n",
              " 'ketua tp pkk gowa priska paramita adnan strategi penanganan stunting priska paramita stunting',\n",
              " 'terlintas anak balita gizi nutrisi kebutuhan gizi balita butuh asi pengganti asi ya susu kental manis skm    pengganti asi kental manis diseduh',\n",
              " 'hai selamat siang ppkm nataru dibatalkan kah semoga prokes tuntaskan pandemi normal ya kesehatan orang dewasa anak anak butuh perhatian gizi nutrisi pandemi kental manis diseduh',\n",
              " 'suka heran temen gue anak akuatik anak keperawatan anak gizi tugas kewirausahaan tugas berbau pemasaran ekonomi gue ditodong',\n",
              " 'aksi cepat tanggap kalimantan timur menggelar operasi gizi anak indonesia ogai sd alam balikpapan aksi cepat tanggap mengadakan acara ogai masjid jabal rahmah kelurahan prapatan balikpapan kota indonesiadermawan operasigizianakindonesia',\n",
              " 'dibilang kmrn ni beasiswa terkenal anak pangan gizi',\n",
              " 'ohmybeautybank not real pic sih punyaku kek gt pas danusan trus beli anak gizi bgt just like mine',\n",
              " 'ppaisyiyah    aisyiyah jatim berupaya memenuhi kebutuhan gizi anak balita lokasi pengungsian bencana erupsi gunung',\n",
              " 'aisyiyah jatim berupaya memenuhi kebutuhan gizi anak balita lokasi pengungsian bencana erupsi gunung semeru mendirikan dapur balita terpusat dapur tertutup aisyiyah',\n",
              " 'yg anak tekpang gizi coba    kalo belajar bahasa jepang gue hahaha',\n",
              " 'anak pend bhs inggris yg gada hubungannya tekpang ilmu gizi mundur aluss',\n",
              " 'ngajar les asisten praktikum bantuin penelitian anak s2 s3 nebeng makan kostan neni puput bantuin prof singgih uji organoleptik anak teknologi pangan gizi waah ku kangen kuliah offline',\n",
              " 'ga sibuk normal 3kali anak kos neken budget pinter kebutuhan gizi',\n",
              " 'sam_ardi standar anak tk gizi kasih ceramah kemampuan menangkap utas aja rendah',\n",
              " 'ibu2 yg sedih dg orang anak kurus pede aja bu masook kurva gizi anaknya ngga dikit2 sakit nyediain sesuai isi piringku harinya nggabisa todong uang belanja suami semangat',\n",
              " 'sam_ardi standarnya sepertimu standar anak tk gizi wajar sih paham',\n",
              " 'sam_ardi ah argumen kuat ga berubah pake standar anak tk gizi wkwkkwkwkw naikin stand',\n",
              " 'sam_ardi ya emang susah sih kalo standarnya pake standar anak tk gizi macem gini korslet dikit',\n",
              " 'makasih lo udah pake cw mantan anak gizi',\n",
              " 'standar anak tk gizi kasih ceramah kemampuan menangkap utas aja rendah',\n",
              " 'ah argumen kuat ga berubah pake standar anak tk gizi wkwkkwkwkw naikin standar ntar maju',\n",
              " ' paham standar anak tk gizi ya sepertimu muter muter',\n",
              " 'standarnya sepertimu standar anak tk gizi wajar sih paham',\n",
              " 'ya emang susah sih kalo standarnya pake standar anak tk gizi macem gini korslet dikit',\n",
              " 'rossityari    lupaudahmakan sofianpalupi konsep yg salah anak gemuk cenderung gemuk dewasa mending statu',\n",
              " 'campus hai gais anak gizi ga yaa nanya ngitung makanan hehe berkenan ditanyain repp aja yaa ntar dm makasii',\n",
              " 'denger ponakan dikatain gizi aja marah ntar anak astaga pls lambe orang orang suka ga direm deh gatau usaha ortunya sekeras eh komen mulu bantuin kaga',\n",
              " 'pas pkl dapet pasien anak dg kondisi gizi konseling ibunya cerita bgt dr anaknya gamau makan materi sukanya udh ketemu dokter anak pijetin minum jamu dkk udh dilakuin',\n",
              " 'ga kebayang nyokap anak ga gendut sampe dibilang gizi orang orang sampe gede badannya mentok segini segini doang makan',\n",
              " 'lupaudahmakan sofianpalupi konsep yg salah anak gemuk cenderung gemuk dewasa mending status gizi normal deh gemuk bgt nih kakek neneknya bangga klo cucunya gemuk tau risknya ky gimana obesitas ncds dewasa',\n",
              " 'ah cerita dibilang anak gizi dibilang ornag ortunya gimana si bpk udah coba macem2 nyoba macem2 penafsu makan dibeliin susu merk susah cocok susunya ',\n",
              " 'this cari ilmu parenting sulit ilmu kesehatan ilmu gizi anak sulit gampang banget tinggal geser2 explore ig aja udh ketemu bgt valid narsum yg terpercaya jd udah ga alesan kalo orang jaman blablabla',\n",
              " 'miris banget ga si percaya omongan org2 yg bilang anak gendut sehat hasil pemantauan kia yg dilakuin langsung petugas kesehatan bentuk tubuh orang beda2 pengukuran status gizi status gizi normal balita',\n",
              " 'polisi listyosigitp anak buahnya gizi ayang_utriza kayaknya polri rekrut ahli gizi deh',\n",
              " 'oot salah alasan orang indo jarang yg ya gini gizi kecilnya ngga terpenuhi mindsetnya ngajak susah mulu yg susah beneran ujung ujungnya pas anak kebutuhan gizi anaknya ngga terpenuhi gara gara dikasih nasi kerupuknya doang   ',\n",
              " 'fakhriilhamp anak kurus gizi anak gemuk sehat semangat',\n",
              " 'anak kurus gizi anak gemuk sehat semangat mengasuh anak cinta kasih kintil mlinjit orang orang suka julid',\n",
              " 'just my opinion anak gendut sehat gizi seimbang emak emak ngasih makan anak porsi orang dewasa semangkok gede makan tuh piye si',\n",
              " 'thanks this twt my doubt to childbirth gettin more and more    yg ih gemes ya anak eksperimen gizi parenting lampiasan yg belom gue dpt in ortu but its dummbb tu anak nyawa jiwa nya tanggung dunia akhirat',\n",
              " 'wantu anak sih galau bgt anak gtm anak udah selow iya pengalaman yg namanya gtm tuh normal fase anak gw sehat2 aja anak ke2 dituduh mal gizi',\n",
              " 'lupa yg ngeshare intinya temen w. org2 tu emg suka sopan kali ngomong ih anaknya kurus catatan gizi buku kianya ijo ya alhamdulillaah anak sehat',\n",
              " 'kumorowl    ringkasan    hak anak    memilih calon yg solehah berdoa dianugerahi anak soleh ',\n",
              " 'ngalamin jamannya kk gtm sampe setrauma nyeri pasca oprasi aja ga setrauma anak gendut motivasinya tp takut bgt anak gizi kalo ga makan     anak jauuh santai',\n",
              " 'huwa melajari ilmu kesehatan masyarakat knp dokter puskesmas jd manajer puskesmas knp ga profesi yg jd ketua manajer puskesmas dokter melajari bidang profesi yg puskesmas ikm gizi bidan anak laborat farmasi gigi penyakitdalam dll',\n",
              " 'dokter anak hits ahli gizi beradu argumen pendapat dipertentangkan emak2 netizen ngopi bareng',\n",
              " 'windterheat galeri anak gizi makanan',\n",
              " 'uhamkapmb halo hamka muda anak gizi masuk jurusan gizi uhamka menyediakan fasilitas lengkap loh',\n",
              " 'halo hamka muda anak gizi masuk jurusan gizi uhamka menyediakan fasilitas lengkap loh salah satunya lab gizi nih huhu udah ga sabar kuliah offline    labgizi gizi giziuhamka uhamka jinggadan senja jumat berkah 11h',\n",
              " 'perbaikan gizi anak kos malam gak nyesel ww feat mengie yg cantik',\n",
              " 'inget pasienku mtbs ibunya si balita curhat sampe nangis2 karna anaknya dikatain gizi orang beliau udah usaha biar bb anaknya mulut orang2 yg gak dikontrol gt pengen hiihh',\n",
              " 'bulog peduli gizi bantuan beras fortivit beras bervitamin melaksanakan pemeriksaan kesehatan gratis balita keluarganya kupang nusa tenggara timur jum at 03 12',\n",
              " 'nenekku cerita pas bayi tuh kurus banget emang dasarnya tuh susah makan ortuku kasih makanan serba enak mahal nenekku terbaik anaknya eh pas posyandu tuh dikatain kurus gizi',\n",
              " 'bayi teh susah makan sampe dokter marahin mamake ogut gizi emang ogutnya susah makan teu dibere dahar',\n",
              " 'amanpulungan nutrisi 15 dicek mpasi nya spt stunting asupan makanan iya',\n",
              " 'arinabila stunting msh mslh yg butuh perhatian erick thohir',\n",
              " 'stunting msh mslh yg butuh perhatian erick thohir',\n",
              " 'dennysiregar7 literasinya rendah bang stunting kemampuan yg memadai utk membaca menulis akibatnya kemauan penyalurannya marah2 komunikasi yg efektif',\n",
              " 'dpd pdi perjuangan ntt mengagendakan menggelar rapat koordinasi anggota dprd membahas agenda membantu mengatasi kemanusiaan provinsi ntt pdiperjuangan',\n",
              " 'puan gerakan warga jatinangor lawan stunting        pdi_perjuangan iperjuangan perjuangan lampung solid bergerak',\n",
              " 'halopuan ajak warga jatinangor lawan stunting',\n",
              " 'convomf klo nyukupin kebutuhan keluarganya gapapa biaya persalinan kebutuhan bulanan poya istrinye ngasi makan anak gizi yg biaya sekula anak rumah yg nyaman kga pape gua kga kerja',\n",
              " 'sedih bgt bgt seliweran berita skrang baca lg yg open donasi utk kebutuhan pasca melahirkan mental gizi si anak skrang usia kandungannya dah masuk lohh semoga kuat sehat lahiran ya dek',\n",
              " 'anandamuchtar skedush kochengfess bey saran tunggu setahun bae utk dikasih rc utk hair cian anak karna kebutuhan gizi dibawah thun beda sm kebutuhan gizi adult',\n",
              " 'collegemenfess kesehatan gizi anak rancangan pembelajaran sesuai kebutuhan perkembangan si anak media pembelajaran semenarik seinovatif pokoknya kompleks banget deh',\n",
              " 'marlonisve kebutuhan gizi balita efeknya usia pertumbuhan',\n",
              " 'kurus banget pendek gak tau deh stunting gak gak berani periksa     batuk batuk kering berdahak pokoknya banget batuk udah berdahak muntah makanan yg susah payah suapin gitu aja',\n",
              " 'peningkatan kualitas konsumsi pangan masyarakat salah upaya mengatasi stunting salah meningkatkan kualitas konsumsi memperbanyak serat makanan bergizi azm bpskotapekalongan',\n",
              " 'rakor tahunan bbpom manado pemda bahas pengawasan obat makanan stunting    rakor makanan obat']"
            ]
          },
          "metadata": {},
          "execution_count": 183
        }
      ],
      "source": [
        "D"
      ]
    },
    {
      "cell_type": "code",
      "execution_count": 184,
      "metadata": {
        "id": "-SsMEnS9vV3k"
      },
      "outputs": [],
      "source": [
        "from sklearn.feature_extraction.text import CountVectorizer\n",
        "tf_vectorizer = CountVectorizer()\n",
        "\n",
        "data = D.copy()\n",
        "tf = tf_vectorizer.fit_transform(data)\n",
        "tf_terms = tf_vectorizer.get_feature_names()\n"
      ]
    },
    {
      "cell_type": "code",
      "execution_count": 185,
      "metadata": {
        "id": "nw9s4zmQwXlm",
        "colab": {
          "base_uri": "https://localhost:8080/"
        },
        "outputId": "5538c0ea-ec27-4e60-a801-d5e0120d5cd9"
      },
      "outputs": [
        {
          "output_type": "execute_result",
          "data": {
            "text/plain": [
              "(592, 2908)"
            ]
          },
          "metadata": {},
          "execution_count": 185
        }
      ],
      "source": [
        "tf.shape"
      ]
    },
    {
      "cell_type": "code",
      "execution_count": 186,
      "metadata": {
        "id": "ELpeNeT4wsf0"
      },
      "outputs": [],
      "source": [
        "from spacy.lang.id import Indonesian\n",
        "from nltk.tag import CRFTagger\n",
        "nlp_id = Indonesian()  # Language Model\n",
        "ct = CRFTagger()\n",
        "ct.set_model_file('data/all_indo_man_tag_corpus_model.crf.tagger')\n",
        "\n",
        "def NLPfilter(t, filters):\n",
        "    tokens = nlp_id(t)\n",
        "    tokens = [str(k) for k in tokens if len(k)>2]\n",
        "    hasil = ct.tag_sents([tokens])\n",
        "    return [k[0] for k in hasil[0] if k[1] in filters]"
      ]
    },
    {
      "cell_type": "code",
      "execution_count": 187,
      "metadata": {
        "id": "U5MsdKmtxzBW",
        "colab": {
          "base_uri": "https://localhost:8080/",
          "height": 53
        },
        "outputId": "7c26611e-45ee-4c54-d99f-91b023dd84c7"
      },
      "outputs": [
        {
          "output_type": "stream",
          "name": "stderr",
          "text": [
            "592it [00:00, 931.07it/s]\n"
          ]
        },
        {
          "output_type": "execute_result",
          "data": {
            "application/vnd.google.colaboratory.intrinsic+json": {
              "type": "string"
            },
            "text/plain": [
              "'cuman kerja benerin gizi buruk gemuk enak'"
            ]
          },
          "metadata": {},
          "execution_count": 187
        }
      ],
      "source": [
        "filters = set(['NN', 'NNP', 'NNS', 'NNPS', 'JJ'])\n",
        "\n",
        "for i, d in tqdm(enumerate(D)):\n",
        "    D[i] = NLPfilter(d,filters)\n",
        "\n",
        "' '.join(D[1])"
      ]
    },
    {
      "cell_type": "code",
      "execution_count": 188,
      "metadata": {
        "id": "6Krd1s6F1lM3",
        "colab": {
          "base_uri": "https://localhost:8080/"
        },
        "outputId": "c7bd791d-89f7-44b6-9bd8-bce3e54ed883"
      },
      "outputs": [
        {
          "output_type": "stream",
          "name": "stdout",
          "text": [
            "Number of unique tokens: 783\n",
            "Number of documents: 592\n",
            "[[(0, 1), (1, 1), (2, 3)]]\n"
          ]
        }
      ],
      "source": [
        "bigram_t = Phrases(D, min_count=2)\n",
        "trigram_t = Phrases(bigram_t[D])\n",
        "for idx, d in enumerate(D):\n",
        "    for token in bigram_t[d]:\n",
        "        if '_' in token:# Token is a bigram, add to document.\n",
        "            D[idx].append(token)\n",
        "    for token in trigram_t[d]:\n",
        "        if '_' in token:# Token is a bigram, add to document.\n",
        "            D[idx].append(token)\n",
        "dictionary_t = Dictionary(D)\n",
        "dictionary_t.filter_extremes(no_below=2, no_above=0.9)\n",
        "#Create dictionary and corpus required for Topic Modeling\n",
        "corpus_t = [dictionary_t.doc2bow(doc) for doc in D]\n",
        "print('Number of unique tokens: %d' % len(dictionary_t))\n",
        "print('Number of documents: %d' % len(corpus_t))\n",
        "print(corpus_t[:1])"
      ]
    },
    {
      "cell_type": "code",
      "execution_count": 189,
      "metadata": {
        "id": "0-qHZBDk3pU2"
      },
      "outputs": [],
      "source": [
        "def compute_coherence_values(dictionary, corpus, texts, limit, coherence='c_v', start=2, step=3):\n",
        "    coherence_values = []\n",
        "    model_list = []\n",
        "    for num_topics in range(start, limit, step):\n",
        "        model=LdaModel(corpus=corpus, id2word=dictionary, num_topics=num_topics)\n",
        "        model_list.append(model)\n",
        "        coherencemodel = CoherenceModel(model=model, texts=texts, dictionary=dictionary, coherence=coherence)\n",
        "        coherence_values.append(coherencemodel.get_coherence())\n",
        "\n",
        "    return model_list, coherence_values"
      ]
    },
    {
      "cell_type": "code",
      "execution_count": 190,
      "metadata": {
        "id": "ZQF2ua9a56Ve",
        "colab": {
          "base_uri": "https://localhost:8080/",
          "height": 35
        },
        "outputId": "ed09875b-d6cb-457e-891e-ea752dd6a382"
      },
      "outputs": [
        {
          "output_type": "stream",
          "name": "stdout",
          "text": [
            "iterasi ke:  1, 2, 3, 4, 5, 6, 7, 8, 9, 10, "
          ]
        },
        {
          "output_type": "execute_result",
          "data": {
            "application/vnd.google.colaboratory.intrinsic+json": {
              "type": "string"
            },
            "text/plain": [
              "'Done'"
            ]
          },
          "metadata": {},
          "execution_count": 190
        }
      ],
      "source": [
        "start, step, limit = 2, 1, 10 # Ganti dengan berapa banyak Topic yang ingin di hitung/explore\n",
        "coh_t, kCV = [], 10 # hati-hati sangat LAMBAT karena cross validation pada metode yang memang tidak efisien (LDA)\n",
        "\n",
        "print('iterasi ke: ', end = ' ')\n",
        "for i in range(kCV):\n",
        "    print(i+1, end = ', ', flush=True)\n",
        "    model_list, c = compute_coherence_values(dictionary=dictionary_t, corpus=corpus_t, texts=D, start=start, limit=limit, step=step)\n",
        "    coh_t.append(c)\n",
        "    \n",
        "coherence_t = np.mean(np.array(coh_t), axis=0)\n",
        "'Done'"
      ]
    },
    {
      "cell_type": "code",
      "execution_count": 191,
      "metadata": {
        "id": "v2bxVRbo8YVB",
        "colab": {
          "base_uri": "https://localhost:8080/",
          "height": 611
        },
        "outputId": "bf91a615-d4c6-41d7-ed83-4a6d99046e5d"
      },
      "outputs": [
        {
          "output_type": "display_data",
          "data": {
            "image/png": "[encoded data removed]",
            "text/plain": [
              "<Figure size 1440x720 with 1 Axes>"
            ]
          },
          "metadata": {}
        }
      ],
      "source": [
        "x = range(start, limit, step)\n",
        "plt.figure(figsize=(20,10))\n",
        "for c in coh_t:\n",
        "    plt.plot(x, c, '--', color = 'lawngreen', linewidth = 2)\n",
        "plt.plot(x, coherence_t, '-', color = 'black', linewidth = 5)\n",
        "plt.xlabel(\"Num Topics\")\n",
        "plt.ylabel(\"Coherence score\")\n",
        "plt.legend((\"coherence_values\"), loc='best')\n",
        "plt.show()"
      ]
    },
    {
      "cell_type": "code",
      "execution_count": 192,
      "metadata": {
        "id": "A8kOW5i9BkP3",
        "colab": {
          "base_uri": "https://localhost:8080/"
        },
        "outputId": "3d079080-2099-4497-a4ae-d013e5142227"
      },
      "outputs": [
        {
          "output_type": "execute_result",
          "data": {
            "text/plain": [
              "LatentDirichletAllocation(n_components=6, random_state=0)"
            ]
          },
          "metadata": {},
          "execution_count": 192
        }
      ],
      "source": [
        "from sklearn.decomposition import LatentDirichletAllocation as LDA\n",
        "\n",
        "n_topics = 6\n",
        "lda = LDA(n_components=n_topics, learning_method='batch', random_state=0).fit(tf)   \n",
        "lda"
      ]
    },
    {
      "cell_type": "code",
      "execution_count": 193,
      "metadata": {
        "id": "jQQyrJTpENFF",
        "colab": {
          "base_uri": "https://localhost:8080/"
        },
        "outputId": "1b098ae5-b295-42ac-c774-02d6e5761a23"
      },
      "outputs": [
        {
          "output_type": "stream",
          "name": "stdout",
          "text": [
            "(592, 6)\n"
          ]
        },
        {
          "output_type": "execute_result",
          "data": {
            "text/plain": [
              "array([[0.00794578, 0.00795621, 0.00794831, 0.0079411 , 0.96025897,\n",
              "        0.00794964],\n",
              "       [0.0076435 , 0.96193713, 0.0075929 , 0.00763676, 0.00759299,\n",
              "        0.00759672],\n",
              "       [0.01191374, 0.9402919 , 0.01191665, 0.0119204 , 0.01202606,\n",
              "        0.01193126],\n",
              "       ...,\n",
              "       [0.00578091, 0.00578287, 0.97106272, 0.00579062, 0.00578582,\n",
              "        0.00579706],\n",
              "       [0.00835399, 0.95790718, 0.00849471, 0.00838948, 0.00836901,\n",
              "        0.00848563],\n",
              "       [0.01191779, 0.01191958, 0.01192774, 0.94031994, 0.01193848,\n",
              "        0.01197646]])"
            ]
          },
          "metadata": {},
          "execution_count": 193
        }
      ],
      "source": [
        "vsm_topics = lda.transform(tf)\n",
        "print(vsm_topics.shape)\n",
        "vsm_topics"
      ]
    },
    {
      "cell_type": "code",
      "execution_count": 194,
      "metadata": {
        "id": "cA3-31cLEWkO",
        "colab": {
          "base_uri": "https://localhost:8080/",
          "height": 861
        },
        "outputId": "7aab2dee-7f13-47d3-f2d6-ba088fac5ef6"
      },
      "outputs": [
        {
          "output_type": "execute_result",
          "data": {
            "text/html": [
              "\n",
              "<link rel=\"stylesheet\" type=\"text/css\" href=\"https://cdn.jsdelivr.net/gh/bmabey/pyLDAvis@3.3.1/pyLDAvis/js/ldavis.v1.0.0.css\">\n",
              "\n",
              "\n",
              "<div id=\"ldavis_el3571398062856859689785275278\"></div>\n",
              "<script type=\"text/javascript\">\n",
              "\n",
              "var ldavis_el3571398062856859689785275278_data = {\"mdsDat\": {\"x\": [0.1511356778247305, 0.10094063255116102, -0.06213298749476368, -0.028797436574101082, -0.07187171919627602, -0.08927416711075117], \"y\": [0.12247610627597545, -0.1657364719890932, 0.008799491449078104, 0.02018948514463825, 0.0356987402178675, -0.021427351098466395], \"topics\": [1, 2, 3, 4, 5, 6], \"cluster\": [1, 1, 1, 1, 1, 1], \"Freq\": [39.65035573945348, 18.96613492577174, 14.243715925320762, 9.332712687428792, 8.922750798343861, 8.884329923681364]}, \"tinfo\": {\"Term\": [\"pandemi\", \"bkkbn\", \"gizi\", \"prokes\", \"redakan\", \"angka\", \"wapres\", \"like\", \"indonesia\", \"upaya\", \"tubuh\", \"balita\", \"anak\", \"tumbuh\", \"erick\", \"kental\", \"manis\", \"orang\", \"bayi\", \"meranti\", \"buruk\", \"gagal\", \"terkait\", \"kepulauan\", \"diseduh\", \"target\", \"tuh\", \"thohir\", \"bikin\", \"ma\", \"tubuh\", \"erick\", \"meranti\", \"kepulauan\", \"thohir\", \"sungai\", \"tohor\", \"atasi\", \"daya\", \"maag\", \"melancarkan\", \"membersihkan\", \"menyusui\", \"racun\", \"sembelit\", \"tahan\", \"teratasi\", \"menangani\", \"gencar\", \"pilar\", \"menular\", \"06\", \"gencarnya\", \"bumn\", \"kamis\", \"ketua\", \"perak\", \"21\", \"18\", \"meningkatnya\", \"cegah\", \"00\", \"pemerintah\", \"tertinggi\", \"balita\", \"asi\", \"hak\", \"indonesia\", \"2021\", \"stunting\", \"hamil\", \"asupan\", \"anak\", \"12\", \"mengalami\", \"gizi\", \"buruk\", \"erickthohir\", \"yg\", \"makanan\", \"pencegahan\", \"desa\", \"meningkatkan\", \"sehat\", \"penurunan\", \"ya\", \"bkkbn\", \"prokes\", \"redakan\", \"wapres\", \"like\", \"ma\", \"ruf\", \"share\", \"pandemi\", \"haloo\", \"tolong\", \"bayi2\", \"digital\", \"terima\", \"covid\", \"kakak\", \"linknya\", \"terhindar\", \"19\", \"2024\", \"kehamilan\", \"amin\", \"kunci\", \"video\", \"teknologi\", \"pengetahuan\", \"denni_sauya\", \"kasihan\", \"14\", \"literasi\", \"target\", \"terkait\", \"upaya\", \"mencapai\", \"angka\", \"percepatan\", \"penanganan\", \"prevalensi\", \"stunting\", \"kental\", \"manis\", \"diseduh\", \"anak\", \"gizi\", \"yg\", \"buruk\", \"kasih\", \"pencegahan\", \"bantu\", \"mas\", \"kayak\", \"sam_ardi\", \"kumparan\", \"kk\", \"pasca\", \"konsumsi\", \"skrang\", \"rendahnya\", \"nu\", \"iongiess\", \"kualitas\", \"dewasa\", \"standar\", \"nyerah\", \"pediasure\", \"dengerin\", \"lemak\", \"balikpapan\", \"ogai\", \"tanggap\", \"it\", \"merah\", \"setrauma\", \"cuman\", \"bertahan\", \"kadang\", \"makannya\", \"smp\", \"donasi\", \"pandji\", \"pake\", \"tk\", \"bulog\", \"dikasih\", \"peduli\", \"akses\", \"gemuk\", \"menderita\", \"lupaudahmakan\", \"bervitamin\", \"gw\", \"beras\", \"buruk\", \"aksi\", \"gizi\", \"bayi\", \"salah\", \"kalo\", \"anak\", \"ga\", \"stunting\", \"aja\", \"sih\", \"ntt\", \"yg\", \"sampe\", \"ya\", \"orang\", \"desa\", \"indonesia\", \"makan\", \"kesehatan\", \"gak\", \"tumbuh\", \"balita\", \"kerjaan\", \"kelaparan\", \"pinrang\", \"afrika\", \"duit\", \"mikir\", \"47\", \"padi\", \"akar\", \"penduduk\", \"rapat\", \"ntb\", \"knp\", \"manajer\", \"melajari\", \"profesi\", \"macem2\", \"madagascar\", \"donri\", \"dicukupkan\", \"menikmati\", \"panggilan\", \"maksudnya\", \"bidang\", \"menggerakan\", \"sosialnya\", \"disintesis\", \"mempublikasikan\", \"national\", \"gerindra\", \"ilmu\", \"provinsi\", \"jd\", \"prof\", \"rakor\", \"nggak\", \"kerja\", \"negara\", \"ntt\", \"puskesmas\", \"turun\", \"tumbuh\", \"stunting\", \"prevalensi\", \"kali\", \"anak2\", \"gagal\", \"angka\", \"gizi\", \"yg\", \"kesehatan\", \"makan\", \"makanan\", \"anak\", \"bener\", \"udah\", \"ga\", \"indonesia\", \"pencegahan\", \"desa\", \"balita\", \"mengalami\", \"kel\", \"margasari\", \"aisyiyah\", \"pohon\", \"zay\", \"sepertimu\", \"biaya\", \"kga\", \"keluarganya\", \"arab\", \"koalisi\", \"korban\", \"mengumumkan\", \"pasukan\", \"pimpinan\", \"pembelajaran\", \"umur\", \"bencana\", \"erupsi\", \"jatim\", \"lokasi\", \"memenuhi\", \"pengungsian\", \"hipotiroid\", \"buah\", \"bunda\", \"halal\", \"jalur\", \"ciri\", \"ef\", \"rumah\", \"nusa\", \"berusaha\", \"yaman\", \"kebutuhan\", \"tumbuh\", \"anak\", \"nya\", \"growth\", \"fortivit\", \"beras\", \"cek\", \"gizi\", \"hati\", \"tenggara\", \"paham\", \"gagal\", \"yg\", \"stunting\", \"kesehatan\", \"buruk\", \"ekonomi\", \"bulog\", \"tp\", \"balita\", \"makan\", \"pendek\", \"utk\", \"aja\", \"biar\", \"asupan\", \"gara\", \"gulf\", \"pikiran\", \"tuh\", \"uhamka\", \"fasilitas\", \"gendut\", \"kelebihan\", \"104\", \"hange\", \"interpretasiku\", \"nenekku\", \"emak\", \"privilege\", \"hamka\", \"loh\", \"muda\", \"birthday\", \"sekarang\", \"ibuk\", \"70\", \"kekayaan\", \"kentet\", \"kpk\", \"lhkpn\", \"nyungsep\", \"pejabat\", \"rata2\", \"umik\", \"pemantau\", \"bikin\", \"tua\", \"rakyat\", \"pas\", \"benih\", \"udh\", \"tb\", \"meningkat\", \"orang\", \"kekurangan\", \"kurus\", \"gizi\", \"makasih\", \"ketemu\", \"yaa\", \"udah\", \"petugas\", \"dibilang\", \"bayi\", \"gagal\", \"anak\", \"ga\", \"makan\", \"tumbuh\", \"kalo\", \"yg\", \"sofianpalupi\", \"anaknya\", \"stunting\", \"buruk\", \"ya\", \"sampe\", \"susah\"], \"Freq\": [30.0, 24.0, 228.0, 21.0, 21.0, 48.0, 18.0, 17.0, 67.0, 25.0, 31.0, 83.0, 215.0, 41.0, 28.0, 26.0, 26.0, 23.0, 32.0, 27.0, 102.0, 28.0, 16.0, 26.0, 24.0, 17.0, 9.0, 25.0, 10.0, 11.0, 30.988757611912664, 27.561381901385282, 26.70457536163547, 25.84772092604889, 24.99087161897713, 14.708716813346008, 14.708716813346008, 14.708089408790944, 13.85213964678086, 12.995306205612298, 12.995306205612298, 12.995306205612298, 12.995306205612298, 12.995306205612298, 12.995306205612298, 12.995306205612298, 12.995305004387712, 9.56797119831265, 9.56787744417606, 9.56709296369583, 7.854304666937971, 6.997471750532725, 6.997470627968772, 6.9970126905760495, 6.995676398782723, 13.805472780637261, 6.14063842218604, 6.140638193584867, 6.1406381724265335, 6.1406376918846055, 12.991755770993066, 12.139608254339239, 16.424211657918043, 12.14003500435197, 70.00181699816942, 16.422996964699408, 12.131534606106115, 56.30143674393392, 24.275100247351215, 201.29403117999541, 20.319033553102386, 25.580570630580144, 116.07122566588363, 20.50459266825957, 18.94378656675749, 98.42972748874267, 42.47349881884928, 17.128491837971833, 34.15135462120503, 18.36255074270278, 20.115404439167794, 16.233449841418473, 14.136629825216984, 15.27811861975098, 14.574057515659273, 14.398503223331815, 23.55793828655167, 21.21522212354253, 20.434446517341712, 18.091650499730275, 16.528923833313634, 11.063268790615338, 11.063268790615338, 8.719869466616695, 28.798976928989543, 7.939522253728234, 7.939522253728234, 7.939458740335534, 7.9390555528460505, 7.938870244345224, 7.938050749195455, 7.158585610421866, 7.158585610421866, 7.158585610421866, 6.360228793519466, 5.596712051183635, 5.596524506093332, 11.065209316761514, 4.034838094464783, 8.722442227875986, 7.1588647190913, 3.253705880417869, 3.252949133444641, 3.251734650850787, 10.284673704595921, 6.372707212092274, 14.187326476738441, 13.291538473205991, 17.90953105767118, 9.500843351547966, 27.224747871124002, 15.414810109255333, 14.892749851638715, 10.636384446828805, 74.91139082080755, 14.145842803770671, 14.145842803728073, 13.368532396156692, 37.007951455467285, 36.477105751822265, 19.511472953503326, 20.563345128520034, 9.296640714000757, 13.815143101238915, 9.500015743385367, 3.0817426567307464, 3.0813012859031352, 3.081096457963777, 3.0778366054633794, 2.3421243850601154, 2.3421239912112854, 2.341863513159521, 2.3417009330149927, 2.341614309793067, 2.3411477725299443, 2.3314930861598544, 4.560638972205113, 6.038477124825518, 6.462685637427972, 1.6025060820992343, 1.6025060174444985, 1.602506002449743, 1.602505948504437, 1.6025059401247557, 1.6025059401247557, 1.6025059401247557, 1.602505902838588, 1.602505875491158, 1.6025058611565273, 1.6025058605890088, 1.6025058415049802, 1.6025058410457822, 1.6025058336162694, 1.6025057959532232, 1.6025057818937423, 4.562278957824674, 3.082264435651679, 5.411751518845433, 5.830463932053811, 3.8216262145595645, 5.073453910810996, 2.925559104189555, 5.303295428580179, 3.7691518680223846, 3.081585018134047, 2.3417099788468523, 4.56161775427905, 3.820290848673043, 25.78928931018915, 2.3424130042174127, 44.61092109127391, 10.713025949796132, 6.480484730699563, 7.7208160407635775, 23.90306484078198, 7.972179835489183, 26.217700490766024, 6.223610903669736, 4.708654337390513, 4.275134201037555, 8.891921389165311, 4.244417426015755, 5.567814058857515, 5.300559815850809, 5.302046655791628, 6.483224555184327, 5.076282404737226, 5.14383239287577, 4.562742540312479, 4.859746425378277, 4.327551759009343, 2.774694040716561, 2.7746937976966155, 2.7746935219007183, 2.774594480302189, 2.108767341860658, 2.1087672667823716, 2.1087669654665975, 2.1087669425810645, 2.1087668444500904, 2.1086212235046, 2.1086052282653247, 2.108605100868808, 1.4428408157570733, 1.4428408157570733, 1.4428408157570733, 1.4428408157570733, 1.4428406897529424, 1.4428406816108619, 1.442840643951767, 1.4428405977189398, 1.4428405977189398, 1.4428405977189398, 1.4428405939633564, 1.4428405831423292, 1.4428405817706178, 1.4428405817706178, 1.442840514908009, 1.442840514908009, 1.442840514908009, 1.4428404982871776, 2.7766222639718694, 3.8598443301130057, 2.7756974213125956, 2.1095942021877727, 2.1095488410111467, 3.441724200606131, 3.442780918281952, 5.060128662801722, 3.7023174809113715, 2.7770738206901497, 2.739357385106574, 6.718712991812734, 18.089793009255274, 3.805376239361664, 2.7016428167088526, 2.7756439969972746, 4.773133385884371, 5.8699144586321195, 11.100932329171217, 6.772189539583966, 4.774498723649818, 4.023286597620991, 4.071105226564658, 5.963945381208722, 2.7760173551277503, 3.147930894296073, 3.440828540018961, 3.832230729444733, 2.9906925827824256, 2.9068131870501452, 2.919134761610281, 2.776611624036861, 2.0881900847074957, 2.0881900847074957, 2.088189841311104, 2.0878601382043183, 2.087679817477049, 2.0875839294899117, 1.4287614710264944, 1.4287614710264944, 1.4287614262590527, 1.4287613763811962, 1.4287613763811962, 1.4287613763811962, 1.4287613763811962, 1.4287613763811962, 1.4287613763811962, 1.4287613145430529, 1.4287612851808633, 1.4287612569801302, 1.4287612569801302, 1.4287612569801302, 1.4287612569801302, 1.4287612569801302, 1.4287612569801302, 1.4287612301695485, 1.428761046855481, 1.428761046855481, 1.428761046855481, 1.428761046855481, 1.4287610290733304, 1.4287088561615975, 2.392512751820285, 2.0886815876756843, 2.0879600841396977, 3.407510582314537, 4.731825598804459, 7.876224054064746, 19.780429518164947, 3.4087424638987796, 2.088295981234605, 2.088677284138074, 2.748369500978244, 2.0887381625497783, 16.167767921747537, 2.6990251623635113, 2.064570360947404, 2.025301412760096, 4.728414209023351, 6.644947364216671, 10.412131969223001, 4.187049969679204, 6.182329066053033, 2.0892607053435532, 2.2750436185679193, 2.7496380434928405, 4.350164749968805, 2.3722712061286235, 2.0893470655152586, 2.0889556268212983, 2.088871957735157, 2.088847828162446, 2.08854731815931, 4.080539044053046, 2.7571209259581573, 2.7564467997224846, 7.391056309327465, 2.0954118560705806, 2.0954118109615028, 4.080472678634759, 1.4337027944211238, 1.4337027828253393, 1.4337027828253393, 1.4337027828253393, 1.4337027821911414, 1.433702695352615, 1.4337026917872737, 1.4337026478120605, 1.4337026478120605, 1.4337026478120605, 1.4337026396090542, 1.4337026396090542, 1.433702634268498, 1.4337026100708363, 1.4337026100708363, 1.4337026100708363, 1.4337026100708363, 1.4337026100708363, 1.4337026100708363, 1.4337026100708363, 1.4337026100708363, 1.4337026062572724, 1.433702296273488, 6.729198132650794, 2.7582238510949435, 4.033086325987369, 4.697681188032401, 2.7572699633850775, 2.757385003122032, 2.0955207533076856, 2.0959148043293854, 7.833820828762165, 3.333423521084837, 4.467717131415854, 21.777207978099717, 2.095644828868357, 2.0956314497652198, 2.1962812984700966, 4.742949756582706, 2.095461251600335, 2.9339173418142503, 6.070053570067771, 5.407756596756526, 13.151607206813932, 5.166085456647998, 4.744770222010416, 5.4069190500683115, 4.131727900965223, 5.220191843841219, 2.7579155317496067, 2.7583593180180186, 6.448385671637789, 4.605232406451259, 3.2763980899320115, 2.7716009593380653, 2.7579697031482726], \"Total\": [30.0, 24.0, 228.0, 21.0, 21.0, 48.0, 18.0, 17.0, 67.0, 25.0, 31.0, 83.0, 215.0, 41.0, 28.0, 26.0, 26.0, 23.0, 32.0, 27.0, 102.0, 28.0, 16.0, 26.0, 24.0, 17.0, 9.0, 25.0, 10.0, 11.0, 31.573402274228627, 28.146059302213068, 27.289240622177108, 26.432405271091064, 25.57555665187141, 15.293530697850395, 15.293530697850395, 15.2934992385503, 14.436744293340386, 13.579910813675626, 13.579910813675626, 13.579910813675626, 13.579910813675626, 13.579910813675626, 13.579910813675626, 13.579910813675626, 13.579910581740693, 10.152576654787687, 10.152568323469097, 10.152498927699218, 8.438909764629734, 7.582076385397915, 7.5820761682384115, 7.581983789244755, 7.5816645648034875, 15.092319133101652, 6.7252429273777805, 6.725242883319772, 6.725242879118182, 6.725242787457526, 14.238750908219203, 13.462843964505641, 18.408948915633115, 13.504054146641028, 83.25319553713956, 18.569149706415143, 13.50339908523297, 67.95969303681676, 29.1548166833675, 337.3734331416851, 24.309639776591972, 33.38110997654463, 215.8782240683205, 25.72612299125282, 24.293106770931033, 228.5636625608573, 102.20734165746869, 21.755367154410777, 81.19207771151554, 28.377472714417177, 40.10628074199785, 26.370294619668254, 17.544414362778607, 22.436335139753407, 22.870679893557263, 27.552513833153625, 24.155536302129594, 21.812680645748348, 21.031769119111395, 18.68895763871888, 17.127097205515334, 11.660522587041411, 11.660522587041411, 9.317632732384244, 30.911066635796647, 8.536775787563869, 8.536775787563869, 8.536772429534695, 8.536820805834628, 8.536687537090543, 8.536714356143996, 7.755839086556183, 7.755839086556183, 7.755839086556183, 6.972409709393176, 6.193965652837461, 6.193983620903072, 12.517167126158713, 4.63209217407946, 10.174352777549124, 8.421806867285358, 3.8511745004684705, 3.85124765648343, 3.850922877530791, 12.593014746744885, 7.832108466767601, 17.4397157257879, 16.58496442509937, 25.44431552093676, 12.762426377812861, 48.19005594081757, 24.90790966575089, 25.089991318649833, 15.589074365312102, 337.3734331416851, 26.78362429163443, 26.78362429162905, 24.28870367477561, 215.8782240683205, 228.5636625608573, 81.19207771151554, 102.20734165746869, 13.066877288114163, 40.10628074199785, 23.45639552314945, 3.6858822652696213, 3.6858383485006536, 3.6858122544604934, 3.6857486359990768, 2.946263899340896, 2.9462638752302985, 2.946278430151638, 2.9463308689805077, 2.9462923050622916, 2.9463181145230433, 2.9451115340088125, 5.824599393568329, 7.96770566802204, 8.67075404626222, 2.206645531716254, 2.206645527909059, 2.206645527079242, 2.2066455236247062, 2.206645523373208, 2.206645523373208, 2.206645523373208, 2.2066455202926067, 2.2066455193624304, 2.206645518437568, 2.2066455180759132, 2.2066455168551675, 2.206645517041179, 2.2066455163486385, 2.206645515380331, 2.20664551367218, 6.490828015949664, 4.34764978713155, 7.8950977935831075, 8.599946779501142, 5.746666847441906, 8.291218975197395, 4.475543930198429, 9.179829075555453, 6.147077690452257, 5.0092835621424445, 3.605728651529452, 8.83137934639763, 7.063159322531585, 102.20734165746869, 3.7271842911405693, 228.5636625608573, 32.76075111998277, 17.781112671823912, 23.807933318317566, 215.8782240683205, 30.16195689863831, 337.3734331416851, 21.212437161705544, 12.011333175286428, 9.906140064355412, 81.19207771151554, 11.674891968216961, 27.552513833153625, 23.94108201168112, 26.370294619668254, 67.95969303681676, 26.939872833943095, 33.69194503540135, 20.8184927721952, 41.02462171007156, 83.25319553713956, 3.391115475275397, 3.39111549211481, 3.391115511941256, 3.3911439344183516, 2.7251888185377644, 2.7251888238433186, 2.725188845215648, 2.7251888449781436, 2.725188851518873, 2.7252140223217016, 2.725235181308019, 2.725235189855141, 2.0592621501885744, 2.0592621501885744, 2.0592621501885744, 2.0592621501885744, 2.0592621586187523, 2.059262159426499, 2.0592621622147784, 2.0592621648730454, 2.0592621648730454, 2.0592621648730454, 2.0592621651190504, 2.0592621666513584, 2.059262166376769, 2.059262166376769, 2.0592621709023, 2.0592621709023, 2.0592621709023, 2.059262172568951, 4.247395525911776, 6.507330097934758, 5.10425146109545, 3.5817848163508006, 3.5817978042132634, 7.599178952612349, 7.8309804573833235, 14.534329838688912, 9.906140064355412, 6.383556451719946, 6.587213812487637, 41.02462171007156, 337.3734331416851, 15.589074365312102, 7.769628545452487, 8.455987142530436, 28.419822618799834, 48.19005594081757, 228.5636625608573, 81.19207771151554, 33.69194503540135, 26.939872833943095, 28.377472714417177, 215.8782240683205, 9.084925962441819, 17.986751962978087, 30.16195689863831, 67.95969303681676, 40.10628074199785, 26.370294619668254, 83.25319553713956, 24.293106770931033, 2.7056943923713397, 2.7056943923713397, 2.70569441218564, 2.705792943946451, 2.7057564327134926, 2.705794678916713, 2.046265879276758, 2.046265879276758, 2.046265883296544, 2.0462658873681314, 2.0462658873681314, 2.0462658873681314, 2.0462658873681314, 2.0462658873681314, 2.0462658873681314, 2.046265892122526, 2.0462658945745535, 2.0462658971106147, 2.0462658971106147, 2.0462658971106147, 2.0462658971106147, 2.0462658971106147, 2.0462658971106147, 2.046265899122445, 2.0462659142530764, 2.0462659142530764, 2.0462659142530764, 2.0462659142530764, 2.0462659152830356, 2.0462722531991773, 4.147972259661831, 3.445264538988591, 3.445357153191815, 6.982968525487156, 11.350318945910317, 41.02462171007156, 215.8782240683205, 9.438871207367635, 4.03754673063284, 4.184883426801515, 7.063159322531585, 4.226169706374219, 228.5636625608573, 7.071328954309158, 4.307060208038007, 4.362217753128601, 28.419822618799834, 81.19207771151554, 337.3734331416851, 33.69194503540135, 102.20734165746869, 6.211080716127629, 8.599946779501142, 16.875525231466405, 83.25319553713956, 26.939872833943095, 8.436442850717567, 12.490393242099417, 21.212437161705544, 7.538436068411253, 33.38110997654463, 4.6976636027366085, 3.374245343021008, 3.374386676003352, 9.44635665715627, 2.7125362144186083, 2.7125362178634083, 5.437388414067503, 2.050827085082694, 2.0508270859063877, 2.0508270859063877, 2.0508270859063877, 2.0508270861405453, 2.050827092898116, 2.0508270928819456, 2.0508270964418727, 2.0508270964418727, 2.0508270964418727, 2.0508270969776525, 2.0508270969776525, 2.0508270975954654, 2.0508270997942297, 2.0508270997942297, 2.0508270997942297, 2.0508270997942297, 2.0508270997942297, 2.0508270997942297, 2.0508270997942297, 2.0508270997942297, 2.0508270992393927, 2.0508271246240057, 10.426661413827166, 4.230753265445357, 6.887480430378938, 9.255111902563542, 4.693102915793212, 4.7798207672645265, 3.371965167954109, 3.493335023844928, 23.94108201168112, 7.4884595700791206, 13.629171836900863, 228.5636625608573, 4.031400479714512, 4.037891001914801, 4.396446619126129, 17.986751962978087, 4.159467797668721, 7.8883467930101006, 32.76075111998277, 28.419822618799834, 215.8782240683205, 30.16195689863831, 26.939872833943095, 41.02462171007156, 23.807933318317566, 81.19207771151554, 9.840254102799818, 10.388768283002893, 337.3734331416851, 102.20734165746869, 27.552513833153625, 11.674891968216961, 11.569151699590556], \"Category\": [\"Default\", \"Default\", \"Default\", \"Default\", \"Default\", \"Default\", \"Default\", \"Default\", \"Default\", \"Default\", \"Default\", \"Default\", \"Default\", \"Default\", \"Default\", \"Default\", \"Default\", \"Default\", \"Default\", \"Default\", \"Default\", \"Default\", \"Default\", \"Default\", \"Default\", \"Default\", \"Default\", \"Default\", \"Default\", \"Default\", \"Topic1\", \"Topic1\", \"Topic1\", \"Topic1\", \"Topic1\", \"Topic1\", \"Topic1\", \"Topic1\", \"Topic1\", \"Topic1\", \"Topic1\", \"Topic1\", \"Topic1\", \"Topic1\", \"Topic1\", \"Topic1\", \"Topic1\", \"Topic1\", \"Topic1\", \"Topic1\", \"Topic1\", \"Topic1\", \"Topic1\", \"Topic1\", \"Topic1\", \"Topic1\", \"Topic1\", \"Topic1\", \"Topic1\", \"Topic1\", \"Topic1\", \"Topic1\", \"Topic1\", \"Topic1\", \"Topic1\", \"Topic1\", \"Topic1\", \"Topic1\", \"Topic1\", \"Topic1\", \"Topic1\", \"Topic1\", \"Topic1\", \"Topic1\", \"Topic1\", \"Topic1\", \"Topic1\", \"Topic1\", \"Topic1\", \"Topic1\", \"Topic1\", \"Topic1\", \"Topic1\", \"Topic1\", \"Topic1\", \"Topic1\", \"Topic2\", \"Topic2\", \"Topic2\", \"Topic2\", \"Topic2\", \"Topic2\", \"Topic2\", \"Topic2\", \"Topic2\", \"Topic2\", \"Topic2\", \"Topic2\", \"Topic2\", \"Topic2\", \"Topic2\", \"Topic2\", \"Topic2\", \"Topic2\", \"Topic2\", \"Topic2\", \"Topic2\", \"Topic2\", \"Topic2\", \"Topic2\", \"Topic2\", \"Topic2\", \"Topic2\", \"Topic2\", \"Topic2\", \"Topic2\", \"Topic2\", \"Topic2\", \"Topic2\", \"Topic2\", \"Topic2\", \"Topic2\", \"Topic2\", \"Topic2\", \"Topic2\", \"Topic2\", \"Topic2\", \"Topic2\", \"Topic2\", \"Topic2\", \"Topic2\", \"Topic2\", \"Topic2\", \"Topic2\", \"Topic2\", \"Topic3\", \"Topic3\", \"Topic3\", \"Topic3\", \"Topic3\", \"Topic3\", \"Topic3\", \"Topic3\", \"Topic3\", \"Topic3\", \"Topic3\", \"Topic3\", \"Topic3\", \"Topic3\", \"Topic3\", \"Topic3\", \"Topic3\", \"Topic3\", \"Topic3\", \"Topic3\", \"Topic3\", \"Topic3\", \"Topic3\", \"Topic3\", \"Topic3\", \"Topic3\", \"Topic3\", \"Topic3\", \"Topic3\", \"Topic3\", \"Topic3\", \"Topic3\", \"Topic3\", \"Topic3\", \"Topic3\", \"Topic3\", \"Topic3\", \"Topic3\", \"Topic3\", \"Topic3\", \"Topic3\", \"Topic3\", \"Topic3\", \"Topic3\", \"Topic3\", \"Topic3\", \"Topic3\", \"Topic3\", \"Topic3\", \"Topic3\", \"Topic3\", \"Topic3\", \"Topic3\", \"Topic3\", \"Topic3\", \"Topic3\", \"Topic3\", \"Topic3\", \"Topic3\", \"Topic3\", \"Topic3\", \"Topic3\", \"Topic3\", \"Topic3\", \"Topic3\", \"Topic3\", \"Topic4\", \"Topic4\", \"Topic4\", \"Topic4\", \"Topic4\", \"Topic4\", \"Topic4\", \"Topic4\", \"Topic4\", \"Topic4\", \"Topic4\", \"Topic4\", \"Topic4\", \"Topic4\", \"Topic4\", \"Topic4\", \"Topic4\", \"Topic4\", \"Topic4\", \"Topic4\", \"Topic4\", \"Topic4\", \"Topic4\", \"Topic4\", \"Topic4\", \"Topic4\", \"Topic4\", \"Topic4\", \"Topic4\", \"Topic4\", \"Topic4\", \"Topic4\", \"Topic4\", \"Topic4\", \"Topic4\", \"Topic4\", \"Topic4\", \"Topic4\", \"Topic4\", \"Topic4\", \"Topic4\", \"Topic4\", \"Topic4\", \"Topic4\", \"Topic4\", \"Topic4\", \"Topic4\", \"Topic4\", \"Topic4\", \"Topic4\", \"Topic4\", \"Topic4\", \"Topic4\", \"Topic4\", \"Topic4\", \"Topic4\", \"Topic4\", \"Topic4\", \"Topic4\", \"Topic4\", \"Topic4\", \"Topic4\", \"Topic5\", \"Topic5\", \"Topic5\", \"Topic5\", \"Topic5\", \"Topic5\", \"Topic5\", \"Topic5\", \"Topic5\", \"Topic5\", \"Topic5\", \"Topic5\", \"Topic5\", \"Topic5\", \"Topic5\", \"Topic5\", \"Topic5\", \"Topic5\", \"Topic5\", \"Topic5\", \"Topic5\", \"Topic5\", \"Topic5\", \"Topic5\", \"Topic5\", \"Topic5\", \"Topic5\", \"Topic5\", \"Topic5\", \"Topic5\", \"Topic5\", \"Topic5\", \"Topic5\", \"Topic5\", \"Topic5\", \"Topic5\", \"Topic5\", \"Topic5\", \"Topic5\", \"Topic5\", \"Topic5\", \"Topic5\", \"Topic5\", \"Topic5\", \"Topic5\", \"Topic5\", \"Topic5\", \"Topic5\", \"Topic5\", \"Topic5\", \"Topic5\", \"Topic5\", \"Topic5\", \"Topic5\", \"Topic5\", \"Topic5\", \"Topic5\", \"Topic5\", \"Topic5\", \"Topic5\", \"Topic5\", \"Topic6\", \"Topic6\", \"Topic6\", \"Topic6\", \"Topic6\", \"Topic6\", \"Topic6\", \"Topic6\", \"Topic6\", \"Topic6\", \"Topic6\", \"Topic6\", \"Topic6\", \"Topic6\", \"Topic6\", \"Topic6\", \"Topic6\", \"Topic6\", \"Topic6\", \"Topic6\", \"Topic6\", \"Topic6\", \"Topic6\", \"Topic6\", \"Topic6\", \"Topic6\", \"Topic6\", \"Topic6\", \"Topic6\", \"Topic6\", \"Topic6\", \"Topic6\", \"Topic6\", \"Topic6\", \"Topic6\", \"Topic6\", \"Topic6\", \"Topic6\", \"Topic6\", \"Topic6\", \"Topic6\", \"Topic6\", \"Topic6\", \"Topic6\", \"Topic6\", \"Topic6\", \"Topic6\", \"Topic6\", \"Topic6\", \"Topic6\", \"Topic6\", \"Topic6\", \"Topic6\", \"Topic6\", \"Topic6\", \"Topic6\", \"Topic6\", \"Topic6\", \"Topic6\", \"Topic6\", \"Topic6\", \"Topic6\", \"Topic6\"], \"logprob\": [30.0, 29.0, 28.0, 27.0, 26.0, 25.0, 24.0, 23.0, 22.0, 21.0, 20.0, 19.0, 18.0, 17.0, 16.0, 15.0, 14.0, 13.0, 12.0, 11.0, 10.0, 9.0, 8.0, 7.0, 6.0, 5.0, 4.0, 3.0, 2.0, 1.0, -4.7944, -4.9116, -4.9432, -4.9758, -5.0096, -5.5396, -5.5396, -5.5397, -5.5996, -5.6635, -5.6635, -5.6635, -5.6635, -5.6635, -5.6635, -5.6635, -5.6635, -5.9696, -5.9697, -5.9697, -6.167, -6.2825, -6.2825, -6.2826, -6.2828, -5.603, -6.4131, -6.4131, -6.4131, -6.4131, -5.6637, -5.7316, -5.4293, -5.7316, -3.9795, -5.4294, -5.7323, -4.1973, -5.0386, -2.9233, -5.2165, -4.9862, -3.4739, -5.2074, -5.2866, -3.6387, -4.4792, -5.3873, -4.6973, -5.3178, -5.2266, -5.441, -5.5793, -5.5016, -5.5488, -5.5609, -4.3312, -4.4359, -4.4734, -4.5952, -4.6855, -5.087, -5.087, -5.325, -4.1303, -5.4188, -5.4188, -5.4188, -5.4188, -5.4188, -5.419, -5.5223, -5.5223, -5.5223, -5.6406, -5.7684, -5.7685, -5.0868, -6.0957, -5.3247, -5.5223, -6.3108, -6.3111, -6.3114, -5.16, -5.6386, -4.8383, -4.9035, -4.6053, -5.2392, -4.1865, -4.7553, -4.7897, -5.1263, -3.1743, -4.8412, -4.8412, -4.8977, -3.8795, -3.8939, -4.5196, -4.4671, -5.261, -4.8649, -5.2393, -6.0788, -6.0789, -6.079, -6.0801, -6.3532, -6.3532, -6.3533, -6.3534, -6.3534, -6.3536, -6.3578, -5.6868, -5.4061, -5.3382, -6.7327, -6.7327, -6.7327, -6.7327, -6.7327, -6.7327, -6.7327, -6.7327, -6.7327, -6.7327, -6.7327, -6.7327, -6.7327, -6.7327, -6.7327, -6.7327, -5.6865, -6.0786, -5.5157, -5.4412, -5.8636, -5.5803, -6.1308, -5.536, -5.8774, -6.0788, -6.3534, -5.6866, -5.864, -3.9543, -6.3531, -3.4063, -4.8328, -5.3355, -5.1604, -4.0303, -5.1283, -3.9378, -5.3759, -5.6549, -5.7515, -5.0191, -5.7587, -5.4873, -5.5365, -5.5362, -5.3351, -5.5797, -5.5665, -5.6864, -5.6233, -5.7393, -5.7609, -5.761, -5.761, -5.761, -6.0354, -6.0354, -6.0354, -6.0354, -6.0354, -6.0355, -6.0355, -6.0355, -6.4149, -6.4149, -6.4149, -6.4149, -6.4149, -6.4149, -6.4149, -6.4149, -6.4149, -6.4149, -6.4149, -6.4149, -6.4149, -6.4149, -6.4149, -6.4149, -6.4149, -6.4149, -5.7603, -5.4309, -5.7606, -6.035, -6.035, -5.5455, -5.5452, -5.1601, -5.4725, -5.7601, -5.7738, -4.8766, -3.8861, -5.4451, -5.7876, -5.7606, -5.2185, -5.0117, -4.3745, -4.8687, -5.2182, -5.3894, -5.3776, -4.9958, -5.7605, -5.6347, -5.5458, -5.438, -5.686, -5.7144, -5.7102, -5.7603, -6.0003, -6.0003, -6.0003, -6.0004, -6.0005, -6.0006, -6.3798, -6.3798, -6.3798, -6.3798, -6.3798, -6.3798, -6.3798, -6.3798, -6.3798, -6.3798, -6.3798, -6.3798, -6.3798, -6.3798, -6.3798, -6.3798, -6.3798, -6.3798, -6.3798, -6.3798, -6.3798, -6.3798, -6.3798, -6.3798, -5.8642, -6.0, -6.0004, -5.5106, -5.1823, -4.6727, -3.7519, -5.5102, -6.0002, -6.0, -5.7256, -6.0, -3.9535, -5.7437, -6.0116, -6.0309, -5.183, -4.8427, -4.3936, -5.3046, -4.9149, -5.9998, -5.9146, -5.7251, -5.2664, -5.8727, -5.9997, -5.9999, -5.9999, -6.0, -6.0001, -5.326, -5.7181, -5.7183, -4.732, -5.9925, -5.9925, -5.326, -6.372, -6.372, -6.372, -6.372, -6.372, -6.372, -6.372, -6.372, -6.372, -6.372, -6.372, -6.372, -6.372, -6.372, -6.372, -6.372, -6.372, -6.372, -6.372, -6.372, -6.372, -6.372, -6.372, -4.8258, -5.7177, -5.3377, -5.1852, -5.718, -5.718, -5.9925, -5.9923, -4.6738, -5.5283, -5.2354, -3.6514, -5.9924, -5.9924, -5.9455, -5.1756, -5.9925, -5.6559, -4.9289, -5.0444, -4.1557, -5.0901, -5.1752, -5.0446, -5.3136, -5.0797, -5.7178, -5.7176, -4.8684, -5.2051, -5.5455, -5.7128, -5.7178], \"loglift\": [30.0, 29.0, 28.0, 27.0, 26.0, 25.0, 24.0, 23.0, 22.0, 21.0, 20.0, 19.0, 18.0, 17.0, 16.0, 15.0, 14.0, 13.0, 12.0, 11.0, 10.0, 9.0, 8.0, 7.0, 6.0, 5.0, 4.0, 3.0, 2.0, 1.0, 0.9064, 0.9041, 0.9034, 0.9027, 0.9019, 0.8861, 0.8861, 0.886, 0.8837, 0.8811, 0.8811, 0.8811, 0.8811, 0.8811, 0.8811, 0.8811, 0.8811, 0.8658, 0.8658, 0.8657, 0.8533, 0.8448, 0.8448, 0.8448, 0.8446, 0.8359, 0.8341, 0.8341, 0.8341, 0.8341, 0.8334, 0.8216, 0.811, 0.8186, 0.7517, 0.8023, 0.8179, 0.7369, 0.7419, 0.4086, 0.7458, 0.6589, 0.3046, 0.6982, 0.6764, 0.0826, 0.0469, 0.686, 0.0591, 0.4898, 0.235, 0.4399, 0.7091, 0.5408, 0.4745, 0.2761, 1.6375, 1.6347, 1.6337, 1.63, 1.627, 1.6099, 1.6099, 1.5962, 1.5917, 1.59, 1.59, 1.59, 1.5899, 1.5899, 1.5898, 1.5824, 1.5824, 1.5824, 1.5706, 1.5611, 1.5611, 1.5392, 1.5245, 1.5085, 1.5, 1.4939, 1.4937, 1.4934, 1.46, 1.4563, 1.4561, 1.4411, 1.3114, 1.3674, 1.0915, 1.1827, 1.1409, 1.2802, 0.1576, 1.0241, 1.0241, 1.0654, -0.1011, -0.1726, 0.2367, 0.059, 1.3221, 0.5967, 0.7587, 1.7698, 1.7697, 1.7696, 1.7686, 1.7194, 1.7194, 1.7193, 1.7192, 1.7191, 1.7189, 1.7152, 1.7042, 1.6716, 1.6549, 1.6289, 1.6289, 1.6289, 1.6289, 1.6289, 1.6289, 1.6289, 1.6289, 1.6289, 1.6289, 1.6289, 1.6289, 1.6289, 1.6289, 1.6289, 1.6289, 1.5963, 1.6049, 1.5712, 1.5602, 1.5409, 1.4577, 1.5237, 1.4002, 1.4597, 1.463, 1.5172, 1.2882, 1.3343, 0.5718, 1.4844, 0.315, 0.8311, 0.9395, 0.8228, -0.2519, 0.6182, -0.6059, 0.7226, 1.0124, 1.1085, -0.2628, 0.937, 0.3498, 0.4411, 0.3447, -0.4008, 0.2798, 0.0694, 0.4309, -0.1843, -1.008, 2.171, 2.171, 2.171, 2.171, 2.1152, 2.1152, 2.1152, 2.1152, 2.1152, 2.1151, 2.1151, 2.1151, 2.0159, 2.0159, 2.0159, 2.0159, 2.0159, 2.0159, 2.0159, 2.0159, 2.0159, 2.0159, 2.0159, 2.0159, 2.0159, 2.0159, 2.0159, 2.0159, 2.0159, 2.0159, 1.9466, 1.8493, 1.7625, 1.8423, 1.8423, 1.5796, 1.5498, 1.3165, 1.3874, 1.5393, 1.4942, 0.5624, -0.5542, 0.9615, 1.3153, 1.2577, 0.5876, 0.2663, -0.6531, -0.1123, 0.4177, 0.4701, 0.43, -1.2173, 1.186, 0.6288, 0.2008, -0.5038, -0.2244, 0.1665, -0.979, 0.2027, 2.1575, 2.1575, 2.1575, 2.1573, 2.1572, 2.1572, 2.0574, 2.0574, 2.0574, 2.0574, 2.0574, 2.0574, 2.0574, 2.0574, 2.0574, 2.0574, 2.0574, 2.0574, 2.0574, 2.0574, 2.0574, 2.0574, 2.0574, 2.0574, 2.0574, 2.0574, 2.0574, 2.0574, 2.0574, 2.0573, 1.8663, 1.9161, 1.9157, 1.6991, 1.5416, 0.7662, 0.0265, 1.3981, 1.7573, 1.7216, 1.4727, 1.7118, -0.2322, 1.4534, 1.6812, 1.6493, 0.6231, -0.0864, -1.0617, 0.3313, -0.3887, 1.327, 1.0868, 0.6022, -0.5351, -0.0132, 1.0209, 0.6283, 0.0986, 1.1332, -0.355, 2.28, 2.2189, 2.2186, 2.1755, 2.1627, 2.1627, 2.1338, 2.0629, 2.0629, 2.0629, 2.0629, 2.0629, 2.0629, 2.0629, 2.0629, 2.0629, 2.0629, 2.0629, 2.0629, 2.0629, 2.0629, 2.0629, 2.0629, 2.0629, 2.0629, 2.0629, 2.0629, 2.0629, 2.0629, 2.0629, 1.983, 1.9931, 1.8857, 1.7428, 1.889, 1.8708, 1.9452, 1.91, 1.3037, 1.6115, 1.3055, 0.0699, 1.7666, 1.765, 1.7269, 1.0879, 1.7353, 1.4318, 0.735, 0.7616, -0.3773, 0.6564, 0.6843, 0.3944, 0.6696, -0.3234, 1.1489, 1.0948, -1.5365, -0.6789, 0.2915, 0.9829, 0.987]}, \"token.table\": {\"Topic\": [1, 3, 1, 6, 1, 2, 3, 5, 1, 2, 1, 2, 1, 2, 5, 6, 2, 1, 4, 6, 4, 5, 1, 2, 3, 4, 5, 6, 4, 2, 3, 2, 3, 1, 2, 1, 2, 3, 4, 5, 6, 1, 2, 4, 1, 2, 3, 6, 1, 2, 3, 4, 5, 1, 2, 1, 2, 4, 5, 6, 1, 3, 1, 3, 4, 5, 6, 1, 2, 3, 1, 2, 3, 5, 6, 2, 5, 1, 2, 4, 5, 6, 3, 5, 3, 3, 5, 3, 5, 1, 3, 4, 5, 5, 4, 2, 3, 6, 6, 2, 5, 3, 5, 1, 5, 1, 2, 3, 4, 5, 6, 1, 5, 2, 3, 5, 5, 2, 3, 1, 3, 2, 1, 2, 3, 4, 3, 6, 1, 2, 3, 4, 6, 4, 2, 3, 5, 6, 1, 2, 4, 3, 4, 4, 5, 2, 3, 5, 6, 6, 1, 1, 2, 5, 6, 3, 5, 1, 2, 3, 4, 5, 6, 1, 3, 4, 5, 6, 1, 2, 3, 4, 5, 6, 6, 1, 2, 3, 1, 1, 3, 6, 4, 1, 2, 3, 4, 5, 6, 4, 5, 6, 2, 3, 6, 1, 2, 5, 2, 1, 2, 3, 6, 6, 1, 2, 3, 5, 6, 5, 6, 1, 4, 1, 2, 3, 4, 6, 3, 3, 5, 5, 1, 4, 3, 2, 1, 2, 3, 4, 5, 6, 1, 2, 3, 4, 6, 1, 1, 2, 3, 6, 2, 3, 1, 2, 3, 4, 5, 6, 2, 6, 1, 6, 5, 4, 6, 5, 1, 2, 6, 1, 1, 3, 4, 5, 6, 4, 1, 2, 3, 4, 5, 4, 5, 6, 1, 4, 5, 3, 4, 5, 3, 5, 6, 3, 5, 3, 2, 1, 2, 6, 3, 6, 2, 2, 1, 2, 6, 5, 3, 6, 2, 1, 4, 4, 1, 2, 3, 4, 5, 6, 1, 2, 3, 4, 5, 6, 3, 5, 6, 4, 4, 1, 2, 5, 3, 4, 1, 1, 5, 4, 1, 2, 4, 1, 3, 1, 3, 4, 5, 4, 5, 4, 2, 6, 1, 2, 3, 1, 1, 1, 3, 1, 4, 6, 4, 1, 4, 5, 6, 3, 4, 6, 4, 2, 3, 4, 5, 3, 3, 5, 1, 4, 5, 6, 3, 6, 3, 1, 2, 3, 4, 6, 4, 1, 2, 5, 3, 6, 2, 6, 3, 4, 5, 4, 1, 4, 5, 6, 3, 5, 3, 1, 3, 5, 6, 6, 5, 1, 3, 6, 1, 2, 3, 4, 5, 1, 2, 3, 4, 1, 2, 4, 5, 4, 2, 5, 1, 2, 3, 1, 1, 2, 3, 4, 2, 4, 6, 6, 1, 5, 4, 5, 2, 4, 6, 6, 1, 4, 4, 2, 1, 4, 1, 2, 4, 5, 1, 1, 4, 1, 5, 6, 4, 6, 2, 3, 2, 3, 5, 1, 3, 5, 6, 3, 1, 2, 3, 4, 6, 1, 2, 3, 4, 5, 6, 6, 1, 5, 3, 2, 1, 2, 3, 4, 5, 3, 3, 2, 3, 4, 5, 6, 4, 3, 5, 6, 1, 2, 3, 4, 5, 6, 1, 2, 3, 4, 6, 1, 3, 2, 4, 6, 5, 6, 2, 4, 1, 3, 5, 1, 2, 2, 1, 2, 1, 2, 1, 3, 5, 1, 2, 1, 2, 3, 4, 5, 6, 1, 6, 1, 2, 5, 6, 1, 2, 3, 4, 5, 6, 1, 3, 4, 2, 3, 4, 6, 3, 4, 6, 6, 6, 5, 1, 2, 3, 1, 2, 3, 5, 1, 2, 2, 1, 2, 3, 4, 6, 1, 6, 3, 5, 1, 2, 3, 4, 5, 6, 5], \"Freq\": [0.8913421288724446, 0.07427851073937038, 0.9232299497115437, 0.4876081493521127, 0.8162908965000379, 0.07774199014286075, 0.07774199014286075, 0.038870995071430374, 0.15881820518926745, 0.7940910259463373, 0.8921610873906048, 0.8605346286402027, 0.8231915933702898, 0.10289894917128622, 0.03429964972376207, 0.03429964972376207, 0.9686847387103923, 0.892161086833228, 0.7338940945363136, 0.4876081460501157, 0.884657230131566, 0.73918177566269, 0.2357107748574226, 0.28285292982890714, 0.28285292982890714, 0.047142154971484516, 0.09428430994296903, 0.047142154971484516, 0.7338940928388534, 0.2234365287429239, 0.6703095862287717, 0.26829904879589045, 0.5365980975917809, 0.07989028107727132, 0.8787930918499846, 0.5373399772053371, 0.17139292376377133, 0.11117378838731114, 0.027793447096827784, 0.09264482365609261, 0.060219135376460196, 0.47303761613845224, 0.11825940403461306, 0.3547782121038392, 0.19251560392122793, 0.19251560392122793, 0.28877340588184186, 0.28877340588184186, 0.2282628601533302, 0.5602815658309014, 0.0622535073145446, 0.1245070146290892, 0.48869504504430805, 0.8616441922740506, 0.10770552403425633, 0.7788836266459984, 0.0898711876899229, 0.029957062563307633, 0.059914125126615266, 0.059914125126615266, 0.9808088891906126, 0.9063530951462846, 0.8408085665465266, 0.048046203802658664, 0.036034652851994, 0.048046203802658664, 0.024023101901329332, 0.4689552573899917, 0.42632296126362884, 0.08526459225272577, 0.18314598398631451, 0.24419464531508603, 0.33576763730824327, 0.06104866132877151, 0.18314598398631451, 0.9371223218182996, 0.48869504271758046, 0.3302173305982198, 0.3302173305982198, 0.3302173305982198, 0.21307864283879305, 0.6392359285163791, 0.5663188124951308, 0.4247391093713481, 0.9063530978234913, 0.2902456713590896, 0.5804913427181791, 0.5546729089421786, 0.2773364544710893, 0.5306140376730702, 0.13265350941826756, 0.13265350941826756, 0.2653070188365351, 0.4886950469767129, 0.48561082517537657, 0.19181595341225227, 0.09590797670612614, 0.6713558369428829, 0.4876081467197899, 0.9935610495174193, 0.48869503862356906, 0.6976787361407418, 0.23255957871358063, 0.923241224800518, 0.48869503862356906, 0.41092938451286776, 0.20546469225643388, 0.25438485707939434, 0.029352098893776272, 0.058704197787552544, 0.04892016482296045, 0.913001434170455, 0.07023087955157346, 0.23662088119455466, 0.23662088119455466, 0.4732417623891093, 0.48869503837759126, 0.937128696855399, 0.9063530973220846, 0.9697477295111576, 0.9063530936240757, 0.7789683415839573, 0.6067433159456026, 0.07584291449320033, 0.18960728623300083, 0.11376437173980049, 0.7530398649238109, 0.1255066441539685, 0.25353854901158873, 0.12676927450579437, 0.12676927450579437, 0.12676927450579437, 0.38030782351738307, 0.48561082559473456, 0.9371170113506742, 0.6960556625586493, 0.17401391563966231, 0.17401391563966231, 0.41171402697729126, 0.5352282350704787, 0.4856108241729286, 0.9063530991308651, 0.48561082622160145, 0.7338941017206749, 0.4886935247431434, 0.1610025767984966, 0.1610025767984966, 0.3220051535969932, 0.3220051535969932, 0.48760814768974753, 0.9948106660103007, 0.7814163686294463, 0.18386267497163442, 0.48869504271758046, 0.7373173441257665, 0.4779105642922507, 0.4779105642922507, 0.16577173745068677, 0.23208043243096146, 0.26523477992109884, 0.09946304247041206, 0.06630869498027471, 0.16577173745068677, 0.3518670800353609, 0.14074683201414434, 0.17593354001768044, 0.17593354001768044, 0.17593354001768044, 0.28820530216354046, 0.3362395191907972, 0.24017108513628369, 0.04803421702725674, 0.04803421702725674, 0.04803421702725674, 0.8514871089683419, 0.21786898029786944, 0.21786898029786944, 0.5446724507446736, 0.9849724406073275, 0.9232299761539261, 0.1839118201327718, 0.7356472805310872, 0.48561082377990245, 0.42876456783197786, 0.15750535144848166, 0.1968816893106021, 0.048126635164813844, 0.07000237842154741, 0.09625327032962769, 0.2476751519463556, 0.4953503038927112, 0.8890876907350367, 0.2264651898138439, 0.5661629745346097, 0.11323259490692195, 0.8886651371448352, 0.07405542809540293, 0.48869503862356906, 0.9371219531915284, 0.822718896034742, 0.0822718896034742, 0.0411359448017371, 0.48760814684717785, 0.4876081493521127, 0.14141613358131438, 0.14141613358131438, 0.14141613358131438, 0.4242484007439431, 0.14141613358131438, 0.48869504223710947, 0.48760814657289764, 0.23543839840188485, 0.7063151952056546, 0.8240178478979052, 0.014714604426748308, 0.08828762656048984, 0.05885841770699323, 0.4876081493521127, 0.6790914289339833, 0.9063530964116044, 0.48869503862356906, 0.48869504271758046, 0.3918302253021777, 0.5877453379532666, 0.9063530977470892, 0.9025458008964705, 0.12870628166455828, 0.12870628166455828, 0.12870628166455828, 0.3861188449936748, 0.12870628166455828, 0.12870628166455828, 0.21001402906958977, 0.1680112232556718, 0.3360224465113436, 0.12600841744175387, 0.1680112232556718, 0.9232800976841207, 0.07652937866873638, 0.6887644080186275, 0.15305875733747276, 0.07652937866873638, 0.7790340381793358, 0.8139260912569205, 0.17620650217240183, 0.17620650217240183, 0.08810325108620091, 0.08810325108620091, 0.4405162554310046, 0.08810325108620091, 0.9686819286624478, 0.4876081460501157, 0.5341552508318793, 0.4006164381239095, 0.739181781075855, 0.8846646500173022, 0.4876081495479555, 0.48869504601669617, 0.4480349585753437, 0.5227074516712343, 0.4876081460501157, 0.9836410925658747, 0.25539586146129756, 0.12769793073064878, 0.38309379219194634, 0.12769793073064878, 0.12769793073064878, 0.8846646544103208, 0.41552958682823715, 0.17808410864067306, 0.14840342386722755, 0.14840342386722755, 0.11872273909378205, 0.2476540351202625, 0.2476540351202625, 0.495308070240525, 0.92762416938919, 0.066258869242085, 0.4886950469767129, 0.6788258174861447, 0.48561082905759534, 0.48869504504430805, 0.6788224695712363, 0.48869504504430805, 0.4876081460501157, 0.8584281359368899, 0.17168562718737798, 0.8139459025226785, 0.8635406744242786, 0.3668601482052302, 0.29348811856418416, 0.29348811856418416, 0.9063530950429847, 0.4876081460501157, 0.9925791741595064, 0.9025458008964705, 0.12767953919983327, 0.7660772351989996, 0.48760814684717785, 0.48869504271758046, 0.5988880371381722, 0.1996293457127241, 0.9433539464367177, 0.9572964195691456, 0.4856108270696087, 0.48561082687912754, 0.14847880035128339, 0.25983790061474593, 0.18559850043910425, 0.14847880035128339, 0.07423940017564169, 0.18559850043910425, 0.6343059574454316, 0.03523921985807954, 0.07047843971615908, 0.14095687943231816, 0.03523921985807954, 0.07047843971615908, 0.906353098031542, 0.24805275611586375, 0.4961055122317275, 0.4856108255367222, 0.48561082905759534, 0.4480349585754337, 0.5227074516713393, 0.739181781075855, 0.8139163934419785, 0.48561082905759534, 0.9572964195691456, 0.9572964195691456, 0.48869504271758046, 0.4856108241729286, 0.9849716323278647, 0.7835500635979953, 0.23506501907939858, 0.32535785306673987, 0.6507157061334797, 0.782114868187023, 0.04116394043089595, 0.12349182129268783, 0.04116394043089595, 0.4856108252401296, 0.48869504504430805, 0.48561082559473456, 0.2862594034566296, 0.5725188069132592, 0.7979747690924203, 0.11399639558463147, 0.056998197792315734, 0.8921610995501765, 0.947989754971744, 0.9572964195691456, 0.9063530967936632, 0.9894009281466758, 0.7338941002918877, 0.48760814684717785, 0.4856108241729286, 0.5504209749461452, 0.3440131093413408, 0.06880262186826815, 0.48760814929643903, 0.2631863274271841, 0.3947794911407762, 0.13159316371359206, 0.7338816141245811, 0.10094749251509492, 0.4037899700603797, 0.4037899700603797, 0.10094749251509492, 0.678813326416304, 0.2902534736254433, 0.5805069472508866, 0.42377948719945957, 0.10594487179986489, 0.3178346153995947, 0.10594487179986489, 0.9063530917194788, 0.4876081460501157, 0.9063530951462846, 0.12530761970308052, 0.25061523940616104, 0.20884603283846753, 0.08353841313538701, 0.33415365254154805, 0.7338940946002735, 0.2292411925752207, 0.2292411925752207, 0.4584823851504414, 0.6900279799167796, 0.2300093266389265, 0.9381753254161883, 0.06470174658042678, 0.7703177449338806, 0.15406354898677613, 0.15406354898677613, 0.48561082559473456, 0.3241451893379096, 0.10804839644596986, 0.10804839644596986, 0.5402419822298493, 0.6788258230412805, 0.48869504504430805, 0.9063530932832383, 0.24121905427692367, 0.6030476356923091, 0.12060952713846183, 0.4876081460501157, 0.4876081401465459, 0.48869504390885, 0.8691425063607295, 0.054321406647545596, 0.054321406647545596, 0.27899571231803405, 0.5978479549672158, 0.039856530331147715, 0.07971306066229543, 0.039856530331147715, 0.49867501124472813, 0.34907250787130967, 0.07480125168670922, 0.07480125168670922, 0.47413347909537223, 0.11853336977384306, 0.11853336977384306, 0.23706673954768612, 0.7338873143974698, 0.7789831386853723, 0.48869504271758046, 0.6558615690399979, 0.1748964184106661, 0.1748964184106661, 0.8921610809885557, 0.16059155720723198, 0.6022183395271199, 0.16059155720723198, 0.040147889301807994, 0.2404153725052218, 0.2404153725052218, 0.4808307450104436, 0.8890504521411938, 0.9849791732276717, 0.48869504504430805, 0.8846646448450349, 0.7391548582734352, 0.7056223956745346, 0.2565899620634671, 0.06414749051586678, 0.4876081476935922, 0.27919041798240174, 0.5583808359648035, 0.48561082905759534, 0.96274274313429, 0.3073457116667162, 0.6146914233334324, 0.1566524879294466, 0.1566524879294466, 0.46995746378833986, 0.1566524879294466, 0.9572964195691456, 0.27918940561739736, 0.5583788112347947, 0.1451909751480748, 0.1451909751480748, 0.5807639005922992, 0.733881616426245, 0.4876081460501157, 0.9509423523400209, 0.6788192728072564, 0.9433539464367177, 0.24108165084053054, 0.4821633016810611, 0.44991560132661784, 0.33743670099496337, 0.05623945016582723, 0.11247890033165446, 0.8139318535200653, 0.17130779500527132, 0.17130779500527132, 0.34261559001054265, 0.08565389750263566, 0.256961692507907, 0.6685583856082862, 0.08914111808110482, 0.08914111808110482, 0.04457055904055241, 0.04457055904055241, 0.08914111808110482, 0.4876081467197899, 0.9572964195691456, 0.7391543843233206, 0.9063530971735393, 0.9659105760543358, 0.24976411495874276, 0.16650940997249516, 0.4162735249312379, 0.08325470498624758, 0.16650940997249516, 0.6788103878815355, 0.9063530984292627, 0.10162339199304549, 0.40649356797218195, 0.10162339199304549, 0.10162339199304549, 0.30487017597913646, 0.4856108252401296, 0.6919813395683244, 0.11533022326138741, 0.11533022326138741, 0.5957789803668002, 0.22230558968910458, 0.07706593775888958, 0.053353341525385095, 0.02964074529188061, 0.017784447175128365, 0.9808068716341837, 0.3457470438512414, 0.25931028288843105, 0.08643676096281035, 0.25931028288843105, 0.9572964195691456, 0.9063530951462846, 0.8027653787554787, 0.0573403841968199, 0.0573403841968199, 0.29656296853349035, 0.5931259370669807, 0.8311755553539955, 0.11873936505057077, 0.23217692618593078, 0.23217692618593078, 0.46435385237186155, 0.9572964359190678, 0.9025458008964705, 0.9371316409604168, 0.18088673108396044, 0.7838425013638286, 0.8886220293321955, 0.07405183577768296, 0.9774958308940934, 0.6333043783275042, 0.25332175133100165, 0.9808068716341837, 0.9371219531915284, 0.35554448929460836, 0.35554448929460836, 0.059257414882434724, 0.059257414882434724, 0.17777224464730418, 0.059257414882434724, 0.23636452831402197, 0.7090935849420659, 0.9818390723543703, 0.10586091932516974, 0.10586091932516974, 0.7410264352761882, 0.31688287321388015, 0.0731268168955108, 0.12187802815918466, 0.17062923942285854, 0.19500484505469548, 0.12187802815918466, 0.3036185035027286, 0.3036185035027286, 0.4554277552540929, 0.444771797402127, 0.11119294935053176, 0.16678942402579763, 0.27798237337632936, 0.20921286564732347, 0.20921286564732347, 0.6276385969419704, 0.7373173450621268, 0.48760814618203474, 0.4886950433232498, 0.2358090550741254, 0.7074271652223761, 0.039301509179020894, 0.4803691832356997, 0.16012306107856655, 0.16012306107856655, 0.16012306107856655, 0.0982863501850078, 0.8845771516650702, 0.9631355770590688, 0.5081206050663137, 0.10888298679992438, 0.21776597359984876, 0.036294328933308126, 0.10888298679992438, 0.45491283603883154, 0.45491283603883154, 0.4296167151620821, 0.4296167151620821, 0.41876006820278416, 0.2463294518839907, 0.11084825334779581, 0.08621530815939675, 0.08621530815939675, 0.06158236297099767, 0.739164832362343], \"Term\": [\"00\", \"00\", \"06\", \"104\", \"12\", \"12\", \"12\", \"12\", \"14\", \"14\", \"18\", \"19\", \"2021\", \"2021\", \"2021\", \"2021\", \"2024\", \"21\", \"47\", \"70\", \"afrika\", \"aisyiyah\", \"aja\", \"aja\", \"aja\", \"aja\", \"aja\", \"aja\", \"akar\", \"akses\", \"akses\", \"aksi\", \"aksi\", \"amin\", \"amin\", \"anak\", \"anak\", \"anak\", \"anak\", \"anak\", \"anak\", \"anak2\", \"anak2\", \"anak2\", \"anaknya\", \"anaknya\", \"anaknya\", \"anaknya\", \"angka\", \"angka\", \"angka\", \"angka\", \"arab\", \"asi\", \"asi\", \"asupan\", \"asupan\", \"asupan\", \"asupan\", \"asupan\", \"atasi\", \"balikpapan\", \"balita\", \"balita\", \"balita\", \"balita\", \"balita\", \"bantu\", \"bantu\", \"bantu\", \"bayi\", \"bayi\", \"bayi\", \"bayi\", \"bayi\", \"bayi2\", \"bencana\", \"bener\", \"bener\", \"bener\", \"benih\", \"benih\", \"beras\", \"beras\", \"bertahan\", \"berusaha\", \"berusaha\", \"bervitamin\", \"bervitamin\", \"biar\", \"biar\", \"biar\", \"biar\", \"biaya\", \"bidang\", \"bikin\", \"bikin\", \"bikin\", \"birthday\", \"bkkbn\", \"buah\", \"bulog\", \"bulog\", \"bumn\", \"bunda\", \"buruk\", \"buruk\", \"buruk\", \"buruk\", \"buruk\", \"buruk\", \"cegah\", \"cegah\", \"cek\", \"cek\", \"cek\", \"ciri\", \"covid\", \"cuman\", \"daya\", \"dengerin\", \"denni_sauya\", \"desa\", \"desa\", \"desa\", \"desa\", \"dewasa\", \"dewasa\", \"dibilang\", \"dibilang\", \"dibilang\", \"dibilang\", \"dibilang\", \"dicukupkan\", \"digital\", \"dikasih\", \"dikasih\", \"dikasih\", \"diseduh\", \"diseduh\", \"disintesis\", \"donasi\", \"donri\", \"duit\", \"ef\", \"ekonomi\", \"ekonomi\", \"ekonomi\", \"ekonomi\", \"emak\", \"erick\", \"erickthohir\", \"erickthohir\", \"erupsi\", \"fasilitas\", \"fortivit\", \"fortivit\", \"ga\", \"ga\", \"ga\", \"ga\", \"ga\", \"ga\", \"gagal\", \"gagal\", \"gagal\", \"gagal\", \"gagal\", \"gak\", \"gak\", \"gak\", \"gak\", \"gak\", \"gak\", \"gara\", \"gemuk\", \"gemuk\", \"gemuk\", \"gencar\", \"gencarnya\", \"gendut\", \"gendut\", \"gerindra\", \"gizi\", \"gizi\", \"gizi\", \"gizi\", \"gizi\", \"gizi\", \"growth\", \"growth\", \"gulf\", \"gw\", \"gw\", \"gw\", \"hak\", \"hak\", \"halal\", \"haloo\", \"hamil\", \"hamil\", \"hamil\", \"hamka\", \"hange\", \"hati\", \"hati\", \"hati\", \"hati\", \"hati\", \"hipotiroid\", \"ibuk\", \"ilmu\", \"ilmu\", \"indonesia\", \"indonesia\", \"indonesia\", \"indonesia\", \"interpretasiku\", \"iongiess\", \"it\", \"jalur\", \"jatim\", \"jd\", \"jd\", \"kadang\", \"kakak\", \"kali\", \"kali\", \"kali\", \"kali\", \"kali\", \"kali\", \"kalo\", \"kalo\", \"kalo\", \"kalo\", \"kalo\", \"kamis\", \"kasih\", \"kasih\", \"kasih\", \"kasih\", \"kasihan\", \"kayak\", \"kebutuhan\", \"kebutuhan\", \"kebutuhan\", \"kebutuhan\", \"kebutuhan\", \"kebutuhan\", \"kehamilan\", \"kekayaan\", \"kekurangan\", \"kekurangan\", \"kel\", \"kelaparan\", \"kelebihan\", \"keluarganya\", \"kental\", \"kental\", \"kentet\", \"kepulauan\", \"kerja\", \"kerja\", \"kerja\", \"kerja\", \"kerja\", \"kerjaan\", \"kesehatan\", \"kesehatan\", \"kesehatan\", \"kesehatan\", \"kesehatan\", \"ketemu\", \"ketemu\", \"ketemu\", \"ketua\", \"ketua\", \"kga\", \"kk\", \"knp\", \"koalisi\", \"konsumsi\", \"korban\", \"kpk\", \"kualitas\", \"kualitas\", \"kumparan\", \"kunci\", \"kurus\", \"kurus\", \"kurus\", \"lemak\", \"lhkpn\", \"like\", \"linknya\", \"literasi\", \"literasi\", \"loh\", \"lokasi\", \"lupaudahmakan\", \"lupaudahmakan\", \"ma\", \"maag\", \"macem2\", \"madagascar\", \"makan\", \"makan\", \"makan\", \"makan\", \"makan\", \"makan\", \"makanan\", \"makanan\", \"makanan\", \"makanan\", \"makanan\", \"makanan\", \"makannya\", \"makasih\", \"makasih\", \"maksudnya\", \"manajer\", \"manis\", \"manis\", \"margasari\", \"mas\", \"melajari\", \"melancarkan\", \"membersihkan\", \"memenuhi\", \"mempublikasikan\", \"menangani\", \"mencapai\", \"mencapai\", \"menderita\", \"menderita\", \"mengalami\", \"mengalami\", \"mengalami\", \"mengalami\", \"menggerakan\", \"mengumumkan\", \"menikmati\", \"meningkat\", \"meningkat\", \"meningkatkan\", \"meningkatkan\", \"meningkatkan\", \"meningkatnya\", \"menular\", \"menyusui\", \"merah\", \"meranti\", \"mikir\", \"muda\", \"national\", \"negara\", \"negara\", \"negara\", \"nenekku\", \"nggak\", \"nggak\", \"nggak\", \"ntb\", \"ntt\", \"ntt\", \"ntt\", \"ntt\", \"nu\", \"nusa\", \"nusa\", \"nya\", \"nya\", \"nya\", \"nya\", \"nyerah\", \"nyungsep\", \"ogai\", \"orang\", \"orang\", \"orang\", \"orang\", \"orang\", \"padi\", \"paham\", \"paham\", \"paham\", \"pake\", \"pake\", \"pandemi\", \"pandemi\", \"pandji\", \"pandji\", \"pandji\", \"panggilan\", \"pas\", \"pas\", \"pas\", \"pas\", \"pasca\", \"pasukan\", \"pediasure\", \"peduli\", \"peduli\", \"peduli\", \"pejabat\", \"pemantau\", \"pembelajaran\", \"pemerintah\", \"pemerintah\", \"pemerintah\", \"penanganan\", \"penanganan\", \"penanganan\", \"penanganan\", \"penanganan\", \"pencegahan\", \"pencegahan\", \"pencegahan\", \"pencegahan\", \"pendek\", \"pendek\", \"pendek\", \"pendek\", \"penduduk\", \"pengetahuan\", \"pengungsian\", \"penurunan\", \"penurunan\", \"penurunan\", \"perak\", \"percepatan\", \"percepatan\", \"percepatan\", \"percepatan\", \"petugas\", \"petugas\", \"petugas\", \"pikiran\", \"pilar\", \"pimpinan\", \"pinrang\", \"pohon\", \"prevalensi\", \"prevalensi\", \"prevalensi\", \"privilege\", \"prof\", \"prof\", \"profesi\", \"prokes\", \"provinsi\", \"provinsi\", \"puskesmas\", \"puskesmas\", \"puskesmas\", \"puskesmas\", \"racun\", \"rakor\", \"rakor\", \"rakyat\", \"rakyat\", \"rakyat\", \"rapat\", \"rata2\", \"redakan\", \"rendahnya\", \"ruf\", \"rumah\", \"rumah\", \"salah\", \"salah\", \"salah\", \"salah\", \"sam_ardi\", \"sampe\", \"sampe\", \"sampe\", \"sampe\", \"sampe\", \"sehat\", \"sehat\", \"sehat\", \"sehat\", \"sehat\", \"sehat\", \"sekarang\", \"sembelit\", \"sepertimu\", \"setrauma\", \"share\", \"sih\", \"sih\", \"sih\", \"sih\", \"sih\", \"skrang\", \"smp\", \"sofianpalupi\", \"sofianpalupi\", \"sofianpalupi\", \"sofianpalupi\", \"sofianpalupi\", \"sosialnya\", \"standar\", \"standar\", \"standar\", \"stunting\", \"stunting\", \"stunting\", \"stunting\", \"stunting\", \"stunting\", \"sungai\", \"susah\", \"susah\", \"susah\", \"susah\", \"tahan\", \"tanggap\", \"target\", \"target\", \"target\", \"tb\", \"tb\", \"teknologi\", \"teknologi\", \"tenggara\", \"tenggara\", \"tenggara\", \"teratasi\", \"terhindar\", \"terima\", \"terkait\", \"terkait\", \"tertinggi\", \"tertinggi\", \"thohir\", \"tk\", \"tk\", \"tohor\", \"tolong\", \"tp\", \"tp\", \"tp\", \"tp\", \"tp\", \"tp\", \"tua\", \"tua\", \"tubuh\", \"tuh\", \"tuh\", \"tuh\", \"tumbuh\", \"tumbuh\", \"tumbuh\", \"tumbuh\", \"tumbuh\", \"tumbuh\", \"turun\", \"turun\", \"turun\", \"udah\", \"udah\", \"udah\", \"udah\", \"udh\", \"udh\", \"udh\", \"uhamka\", \"umik\", \"umur\", \"upaya\", \"upaya\", \"upaya\", \"utk\", \"utk\", \"utk\", \"utk\", \"video\", \"video\", \"wapres\", \"ya\", \"ya\", \"ya\", \"ya\", \"ya\", \"yaa\", \"yaa\", \"yaman\", \"yaman\", \"yg\", \"yg\", \"yg\", \"yg\", \"yg\", \"yg\", \"zay\"]}, \"R\": 30, \"lambda.step\": 0.01, \"plot.opts\": {\"xlab\": \"PC1\", \"ylab\": \"PC2\"}, \"topic.order\": [6, 3, 2, 4, 5, 1]};\n",
              "\n",
              "function LDAvis_load_lib(url, callback){\n",
              "  var s = document.createElement('script');\n",
              "  s.src = url;\n",
              "  s.async = true;\n",
              "  s.onreadystatechange = s.onload = callback;\n",
              "  s.onerror = function(){console.warn(\"failed to load library \" + url);};\n",
              "  document.getElementsByTagName(\"head\")[0].appendChild(s);\n",
              "}\n",
              "\n",
              "if(typeof(LDAvis) !== \"undefined\"){\n",
              "   // already loaded: just create the visualization\n",
              "   !function(LDAvis){\n",
              "       new LDAvis(\"#\" + \"ldavis_el3571398062856859689785275278\", ldavis_el3571398062856859689785275278_data);\n",
              "   }(LDAvis);\n",
              "}else if(typeof define === \"function\" && define.amd){\n",
              "   // require.js is available: use it to load d3/LDAvis\n",
              "   require.config({paths: {d3: \"https://d3js.org/d3.v5\"}});\n",
              "   require([\"d3\"], function(d3){\n",
              "      window.d3 = d3;\n",
              "      LDAvis_load_lib(\"https://cdn.jsdelivr.net/gh/bmabey/pyLDAvis@3.3.1/pyLDAvis/js/ldavis.v3.0.0.js\", function(){\n",
              "        new LDAvis(\"#\" + \"ldavis_el3571398062856859689785275278\", ldavis_el3571398062856859689785275278_data);\n",
              "      });\n",
              "    });\n",
              "}else{\n",
              "    // require.js not available: dynamically load d3 & LDAvis\n",
              "    LDAvis_load_lib(\"https://d3js.org/d3.v5.js\", function(){\n",
              "         LDAvis_load_lib(\"https://cdn.jsdelivr.net/gh/bmabey/pyLDAvis@3.3.1/pyLDAvis/js/ldavis.v3.0.0.js\", function(){\n",
              "                 new LDAvis(\"#\" + \"ldavis_el3571398062856859689785275278\", ldavis_el3571398062856859689785275278_data);\n",
              "            })\n",
              "         });\n",
              "}\n",
              "</script>"
            ],
            "text/plain": [
              "PreparedData(topic_coordinates=              x         y  topics  cluster       Freq\n",
              "topic                                                \n",
              "5      0.151136  0.122476       1        1  39.650356\n",
              "2      0.100941 -0.165736       2        1  18.966135\n",
              "1     -0.062133  0.008799       3        1  14.243716\n",
              "3     -0.028797  0.020189       4        1   9.332713\n",
              "4     -0.071872  0.035699       5        1   8.922751\n",
              "0     -0.089274 -0.021427       6        1   8.884330, topic_info=          Term        Freq       Total Category  logprob  loglift\n",
              "1986   pandemi   30.000000   30.000000  Default  30.0000  30.0000\n",
              "397      bkkbn   24.000000   24.000000  Default  29.0000  29.0000\n",
              "885       gizi  228.000000  228.000000  Default  28.0000  28.0000\n",
              "2240    prokes   21.000000   21.000000  Default  27.0000  27.0000\n",
              "2293   redakan   21.000000   21.000000  Default  26.0000  26.0000\n",
              "...        ...         ...         ...      ...      ...      ...\n",
              "2562  stunting    6.448386  337.373433   Topic6  -4.8684  -1.5365\n",
              "452      buruk    4.605232  102.207342   Topic6  -5.2051  -0.6789\n",
              "2881        ya    3.276398   27.552514   Topic6  -5.5455   0.2915\n",
              "2367     sampe    2.771601   11.674892   Topic6  -5.7128   0.9829\n",
              "2586     susah    2.757970   11.569152   Topic6  -5.7178   0.9870\n",
              "\n",
              "[387 rows x 6 columns], token_table=      Topic      Freq Term\n",
              "term                      \n",
              "0         1  0.891342   00\n",
              "0         3  0.074279   00\n",
              "7         1  0.923230   06\n",
              "14        6  0.487608  104\n",
              "17        1  0.816291   12\n",
              "...     ...       ...  ...\n",
              "2892      3  0.110848   yg\n",
              "2892      4  0.086215   yg\n",
              "2892      5  0.086215   yg\n",
              "2892      6  0.061582   yg\n",
              "2905      5  0.739165  zay\n",
              "\n",
              "[600 rows x 3 columns], R=30, lambda_step=0.01, plot_opts={'xlab': 'PC1', 'ylab': 'PC2'}, topic_order=[6, 3, 2, 4, 5, 1])"
            ]
          },
          "metadata": {},
          "execution_count": 194
        }
      ],
      "source": [
        "import pyLDAvis, pyLDAvis.sklearn; pyLDAvis.enable_notebook()\n",
        "\n",
        "pyLDAvis.sklearn.prepare(lda, tf, tf_vectorizer) "
      ]
    },
    {
      "cell_type": "code",
      "execution_count": 195,
      "metadata": {
        "id": "aKJOhnnAEad0",
        "colab": {
          "base_uri": "https://localhost:8080/"
        },
        "outputId": "ef17a763-ddf5-4b82-df07-8de8d1f5c09c"
      },
      "outputs": [
        {
          "output_type": "execute_result",
          "data": {
            "text/plain": [
              "LatentDirichletAllocation(n_components=7, random_state=0)"
            ]
          },
          "metadata": {},
          "execution_count": 195
        }
      ],
      "source": [
        "n_topics = 7\n",
        "lda1 = LDA(n_components=n_topics, learning_method='batch', random_state=0).fit(tf)   \n",
        "lda1"
      ]
    },
    {
      "cell_type": "code",
      "execution_count": 196,
      "metadata": {
        "id": "VgHSbHtPFdFl",
        "colab": {
          "base_uri": "https://localhost:8080/"
        },
        "outputId": "b2da1d3a-1a55-4278-b6f3-3b6e824c85aa"
      },
      "outputs": [
        {
          "output_type": "stream",
          "name": "stdout",
          "text": [
            "(592, 7)\n"
          ]
        },
        {
          "output_type": "execute_result",
          "data": {
            "text/plain": [
              "array([[0.00680581, 0.00680709, 0.00680652, ..., 0.95916515, 0.0068072 ,\n",
              "        0.00680484],\n",
              "       [0.00651241, 0.00652057, 0.00650287, ..., 0.0065038 , 0.00650635,\n",
              "        0.96095314],\n",
              "       [0.01020667, 0.93874722, 0.01020883, ..., 0.010207  , 0.01021241,\n",
              "        0.01020828],\n",
              "       ...,\n",
              "       [0.00494266, 0.00495213, 0.97034773, ..., 0.00493469, 0.00494607,\n",
              "        0.00493685],\n",
              "       [0.00714644, 0.95697487, 0.00720627, ..., 0.00714369, 0.00719677,\n",
              "        0.00715039],\n",
              "       [0.01020698, 0.01020912, 0.01022167, ..., 0.01020849, 0.01021963,\n",
              "        0.01020899]])"
            ]
          },
          "metadata": {},
          "execution_count": 196
        }
      ],
      "source": [
        "vsm_topics = lda1.transform(tf)\n",
        "print(vsm_topics.shape)\n",
        "vsm_topics"
      ]
    },
    {
      "cell_type": "code",
      "execution_count": 197,
      "metadata": {
        "id": "9Mr3T9QOFmgR",
        "colab": {
          "base_uri": "https://localhost:8080/",
          "height": 861
        },
        "outputId": "f498c272-f820-4b78-dcef-54eb4905e066"
      },
      "outputs": [
        {
          "output_type": "execute_result",
          "data": {
            "text/html": [
              "\n",
              "<link rel=\"stylesheet\" type=\"text/css\" href=\"https://cdn.jsdelivr.net/gh/bmabey/pyLDAvis@3.3.1/pyLDAvis/js/ldavis.v1.0.0.css\">\n",
              "\n",
              "\n",
              "<div id=\"ldavis_el3571398062856885287027149034\"></div>\n",
              "<script type=\"text/javascript\">\n",
              "\n",
              "var ldavis_el3571398062856885287027149034_data = {\"mdsDat\": {\"x\": [-0.16634265261886327, -0.07660082236457014, 0.06523342987234945, 0.025225835495728634, -0.03473957219054573, 0.11552137452197142, 0.07170240728392999], \"y\": [0.1033839935052228, -0.18314125412827376, -0.003989834916571217, 0.026946923325295646, 0.014189753337917941, 0.004258095696733641, 0.03835232317967508], \"topics\": [1, 2, 3, 4, 5, 6, 7], \"cluster\": [1, 1, 1, 1, 1, 1, 1], \"Freq\": [36.41285559420695, 16.88254197951263, 13.310771688612189, 10.397508898614003, 8.25249618159196, 8.041254180607746, 6.702571476854521]}, \"tinfo\": {\"Term\": [\"pandemi\", \"bkkbn\", \"stunting\", \"gizi\", \"prokes\", \"redakan\", \"angka\", \"tumbuh\", \"wapres\", \"balita\", \"gagal\", \"upaya\", \"like\", \"tubuh\", \"udah\", \"yg\", \"percepatan\", \"erick\", \"orang\", \"meranti\", \"kepulauan\", \"kabupaten\", \"thohir\", \"ketua\", \"bayi\", \"terkait\", \"penanganan\", \"penurunan\", \"ga\", \"manis\", \"tubuh\", \"erick\", \"meranti\", \"kepulauan\", \"thohir\", \"sungai\", \"tohor\", \"atasi\", \"daya\", \"maag\", \"melancarkan\", \"membersihkan\", \"menyusui\", \"racun\", \"sembelit\", \"tahan\", \"teratasi\", \"daerah\", \"giat\", \"menangani\", \"gencar\", \"pendidikan\", \"menular\", \"06\", \"gencarnya\", \"15\", \"bumn\", \"meningkatnya\", \"perak\", \"titipkan\", \"asi\", \"00\", \"pemerintah\", \"asupan\", \"balita\", \"hamil\", \"indonesia\", \"stunting\", \"anak\", \"erickthohir\", \"gizi\", \"mengalami\", \"2021\", \"buruk\", \"sehat\", \"makanan\", \"yg\", \"12\", \"meningkatkan\", \"susu\", \"pencegahan\", \"kematian\", \"bkkbn\", \"prokes\", \"redakan\", \"wapres\", \"ma\", \"ruf\", \"share\", \"bayi2\", \"haloo\", \"tolong\", \"terima\", \"digital\", \"kakak\", \"linknya\", \"terhindar\", \"like\", \"pandemi\", \"2024\", \"kehamilan\", \"amin\", \"kunci\", \"video\", \"teknologi\", \"pengetahuan\", \"denni_sauya\", \"14\", \"batuk\", \"vaksinasi\", \"era\", \"menerapkan\", \"upaya\", \"covid\", \"utama\", \"terkait\", \"mencapai\", \"prevalensi\", \"target\", \"penanganan\", \"percepatan\", \"angka\", \"stunting\", \"diseduh\", \"kental\", \"gizi\", \"manis\", \"anak\", \"buruk\", \"pencegahan\", \"yg\", \"kasih\", \"bantu\", \"yaman\", \"menderita\", \"standar\", \"mas\", \"saudi\", \"serangan\", \"sam_ardi\", \"standarnya\", \"kayak\", \"stand\", \"tk\", \"kk\", \"zay\", \"rendahnya\", \"naikin\", \"tamba_richy\", \"human\", \"rights\", \"up\", \"diinisiasi\", \"lupaudahmakan\", \"nyerah\", \"pediasure\", \"dengerin\", \"lemak\", \"balikpapan\", \"ogai\", \"tanggap\", \"orang2\", \"it\", \"pandji\", \"gerakan\", \"dikasih\", \"pake\", \"kualitas\", \"dewasa\", \"riset\", \"bervitamin\", \"peduli\", \"gw\", \"bayi\", \"gizi\", \"ga\", \"gemuk\", \"tau\", \"buruk\", \"anak\", \"gak\", \"aja\", \"sih\", \"stunting\", \"kesehatan\", \"desa\", \"salah\", \"kalo\", \"sampe\", \"ya\", \"banget\", \"indonesia\", \"yg\", \"orang\", \"makan\", \"jawa\", \"barat\", \"melawan\", \"halopuan\", \"puan\", \"kecamatan\", \"maharani\", \"kerjaan\", \"serius\", \"bimgi\", \"pageruyung\", \"kekerdilan\", \"padi\", \"alias\", \"klaim\", \"mikir\", \"duit\", \"akar\", \"47\", \"cisempur\", \"adekku\", \"memahami\", \"104\", \"hange\", \"interpretasiku\", \"sbg\", \"official_bimgi\", \"pengurus\", \"privilege\", \"menggerakan\", \"sumedang\", \"nggak\", \"jatinangor\", \"bener\", \"desember\", \"kamis\", \"kabupaten\", \"benih\", \"gagal\", \"nutrisi\", \"tumbuh\", \"yg\", \"stunting\", \"gak\", \"warga\", \"orang\", \"kerja\", \"gizi\", \"anak\", \"bulog\", \"desa\", \"2021\", \"buruk\", \"kesehatan\", \"kalo\", \"12\", \"indonesia\", \"makan\", \"provinsi\", \"dprd\", \"luwu\", \"tangerang\", \"kelaparan\", \"afrika\", \"reses\", \"halimiskandarnu\", \"puskesmas\", \"jokowi\", \"bagikan\", \"lutim\", \"rapat\", \"ineu\", \"purwadewi\", \"penduduk\", \"ntb\", \"pemkab\", \"permata63x\", \"knp\", \"manajer\", \"melajari\", \"profesi\", \"macem2\", \"madagascar\", \"donri\", \"kemendespdtt\", \"malik_haramain\", \"tppkemendes\", \"maksudnya\", \"tekan\", \"anggota\", \"jabar\", \"komisi\", \"ntt\", \"rakor\", \"pola\", \"bersih\", \"kumparan\", \"jd\", \"ketua\", \"angka\", \"stunting\", \"penurunan\", \"pkk\", \"pencegahan\", \"balita\", \"percepatan\", \"makan\", \"negara\", \"timur\", \"makanan\", \"gizi\", \"anak\", \"penanganan\", \"masyarakat\", \"prevalensi\", \"indonesia\", \"upaya\", \"gara\", \"gulf\", \"happy\", \"ngga\", \"uhamka\", \"jurusan\", \"lab\", \"suaminya\", \"kelebihan\", \"nenekku\", \"emak\", \"ngitung\", \"hamka\", \"loh\", \"muda\", \"birthday\", \"sekarang\", \"umik\", \"lho\", \"link\", \"weekend\", \"70\", \"kekayaan\", \"kentet\", \"kpk\", \"lhkpn\", \"nyungsep\", \"pejabat\", \"rata2\", \"pemantau\", \"udah\", \"yaa\", \"bikin\", \"tuh\", \"tb\", \"terpenuhi\", \"meningkat\", \"masuk\", \"orang\", \"dibilang\", \"halo\", \"pas\", \"gizi\", \"ga\", \"kebutuhan\", \"semoga\", \"kekurangan\", \"bayi\", \"gagal\", \"tumbuh\", \"anak\", \"istri\", \"sampe\", \"kurus\", \"ya\", \"kalo\", \"makan\", \"susah\", \"yg\", \"buruk\", \"stunting\", \"aisyiyah\", \"biaya\", \"kga\", \"keluarganya\", \"merdeka\", \"bencana\", \"erupsi\", \"jatim\", \"lokasi\", \"memenuhi\", \"pengungsian\", \"hipotiroid\", \"buah\", \"bunda\", \"halal\", \"jalur\", \"11\", \"ciri\", \"presiden\", \"memparihatinkan\", \"berusaha\", \"andil\", \"bacot\", \"celoteh2\", \"diam\", \"diem\", \"kataku\", \"perjuangannya\", \"proses\", \"struggle\", \"obiwan_catnobi\", \"grafik\", \"growth\", \"menarik\", \"dapur\", \"berkepanjangan\", \"kebutuhan\", \"hati\", \"19\", \"tumbuh\", \"nya\", \"gizi\", \"anak\", \"gagal\", \"buruk\", \"yg\", \"balita\", \"stunting\", \"kali\", \"pendek\", \"beras\", \"utk\", \"aja\", \"kaya\", \"berupaya\", \"semangat\", \"posyandu\", \"pemkot\", \"klo\", \"tp\", \"dampak\", \"bantuan\"], \"Freq\": [30.0, 24.0, 334.0, 230.0, 21.0, 21.0, 47.0, 40.0, 18.0, 82.0, 27.0, 24.0, 17.0, 31.0, 17.0, 81.0, 24.0, 28.0, 24.0, 27.0, 26.0, 13.0, 25.0, 13.0, 33.0, 16.0, 24.0, 22.0, 30.0, 26.0, 31.191572772932428, 27.73946149479619, 26.876500554208267, 26.01348175101075, 25.15042800467977, 14.794263871828548, 14.794263871828548, 14.794091780544296, 13.931389192729853, 13.068408913360313, 13.068408913360313, 13.068408913360313, 13.068408913360313, 13.068408913360313, 13.068408913360313, 13.068408913360313, 13.068398404759083, 13.067629562442692, 11.342236410865912, 9.616376129957361, 9.616339134141867, 8.753184561026634, 7.890359894635192, 7.027351830919093, 7.027351651470894, 7.027162662643011, 7.027014318565269, 6.164343587180927, 6.164285679208364, 6.164276128547718, 16.52010666872073, 12.205699558433713, 16.322299825426224, 28.259571921334988, 64.06977010685428, 20.238185475900675, 48.36778230660006, 179.4827658350728, 114.55254502933285, 17.29553719152709, 102.88104806974117, 18.46221152774723, 20.356394315458154, 46.95771759952746, 17.334495479285966, 19.21606775340331, 30.71871921954294, 15.96283579500568, 13.931820180453618, 13.716632992531737, 15.99737784657634, 13.931254435508654, 23.665157814549904, 21.310236118808973, 20.525149217245783, 18.169772231964192, 11.103774002977154, 11.103774002977154, 8.748266614801398, 7.96331493915626, 7.963308982688153, 7.963308982688153, 7.963138088360853, 7.963163485851188, 7.178197485824106, 7.178197485824106, 7.178197485824106, 15.816152104944324, 28.111604237898888, 5.6079598710125005, 5.607847088950692, 11.104467744397507, 4.037741429820459, 8.74914420042185, 7.1675039507900244, 3.2525468705377216, 3.252311135063368, 10.3197532161545, 2.4675086860528674, 2.467508672239145, 2.4673355110449564, 2.467187926054642, 18.88146662339453, 6.486178333098997, 6.641811056709757, 12.418122101783176, 9.53457312681469, 11.05547037218087, 11.841815594567588, 14.741263301644825, 13.788873844287265, 21.080097097881445, 69.0299675624741, 12.403163855173517, 12.990952112162649, 37.06064898424584, 12.990952112162534, 35.43551078936736, 20.648815603480344, 13.77828147969397, 16.557250681120507, 8.569956874062878, 8.912901363351674, 6.910206152417206, 5.398301981999657, 7.666042660251117, 3.1312060507857824, 3.1311730807106524, 3.1311730807106524, 3.131167930379544, 3.131116504238471, 3.1310618626949975, 3.13107851631869, 6.786289021620883, 2.3753976879788885, 2.375397675576863, 2.375317635209232, 2.3752865752218018, 2.375285251331422, 2.3752220341500347, 2.375222034150034, 2.3752220341500307, 2.3724388704197157, 3.8869979223808606, 1.6195893193325996, 1.619589307972613, 1.6195893055847541, 1.619589297280337, 1.6195892945968895, 1.6195892945968895, 1.6195892945968895, 1.6195892904565377, 1.6195892897552981, 4.643112340334263, 4.640980562465504, 3.8870919593440068, 3.1322760761795188, 3.8875014363699063, 4.643162278744535, 2.791259182148129, 2.375376310695897, 4.619882979273132, 4.643309882465909, 11.428182788196333, 35.24469816717801, 9.872474171585049, 4.643942254452241, 4.643116192134951, 17.712778543998844, 26.336869165171368, 6.910105180154599, 6.910807125247996, 5.131902584962984, 24.993908924469732, 8.07847930711659, 6.749605138216974, 5.836683405259232, 6.501644051387893, 4.4524410341411516, 5.624541841893656, 4.391412030134146, 6.223814160678754, 6.261483958213967, 4.642964122410655, 4.643087322354825, 5.807374123132567, 5.807288883078697, 5.094014675389107, 4.3810357762283365, 4.381008031284654, 7.946847640547289, 3.667876775924384, 2.9546671099554156, 2.9536344386836335, 2.241519872476998, 2.241519847915423, 2.241519841125632, 2.241519774063474, 2.241519718751712, 2.2415195858808743, 2.2414907503720563, 2.241461553045565, 2.240875750599153, 2.2403933736617625, 3.667959705199645, 1.5283089941646824, 1.5283089809106294, 1.5283089800556298, 1.5283089800556298, 1.5283089800556298, 1.5283089787526911, 1.5283089778382506, 1.5283089778382506, 1.5283089599607715, 1.5283089437795152, 4.955241345473109, 5.726057264699014, 5.033827614258638, 5.585579958909156, 2.9238923187042447, 4.208694004999364, 7.664823854490189, 2.9547492251216396, 11.891532037736724, 3.6678680670422086, 13.598849393354435, 17.151469796044907, 23.173515957730977, 5.808521508413175, 3.3488000631335124, 5.681402686878742, 3.4729892252547567, 14.271544071056379, 13.72224520973681, 3.463625476666293, 5.085979433063311, 5.225918333943594, 6.666138629578048, 4.880208036658833, 4.2978335904388345, 3.7782617908913925, 3.9252964199880958, 3.668479843122664, 5.456894065075551, 4.7867199079070275, 3.446413563919657, 3.4463858589115883, 2.7763123152964075, 2.776314182172464, 2.7762570617221414, 2.7756298955975343, 4.787006874245926, 2.1061963777523016, 2.106179605430881, 2.106179592521209, 2.1061756045985573, 2.1061703792682134, 2.1061703792682134, 2.106144830262287, 2.1061239836112815, 2.1060555770361646, 2.105636806683613, 1.436042995848529, 1.436042995848529, 1.436042995848529, 1.436042995848529, 1.4360429764255254, 1.436042974910608, 1.436042968842518, 1.436042968777961, 1.436042968777961, 1.436042968777961, 1.4360429617882313, 2.7730451520044657, 2.771384451070297, 2.6712972636037815, 2.106153910187266, 4.787915129027112, 2.106273311249298, 2.106042754017336, 2.106040363683282, 2.1063529519683195, 2.710741818178497, 5.219093901310493, 10.472292398629694, 28.707953793450198, 5.669081190076123, 3.773384173443813, 4.949908790774205, 6.309870686130086, 4.036504022838325, 4.1175077256998485, 3.394208272971452, 2.763606115001024, 3.6437481274390247, 5.4669691377486105, 5.0759094561901135, 3.159143007810154, 2.6796917702335445, 2.817884211609007, 3.121149080012728, 2.7763236492001213, 4.123503584992335, 2.780997838395577, 2.780997792499486, 2.7806532479695574, 2.109722490071343, 2.1097224818229137, 1.4384471500923488, 1.438447144022138, 1.4384471431899615, 1.4384471412602668, 1.4384471268889167, 1.43844711965689, 1.4384471187918426, 1.4384471187918426, 1.4384471187918426, 1.438447117397155, 1.438447117397155, 1.4384471118898667, 1.4384470167893884, 1.4384470167893884, 1.4384470167893884, 1.4383860540091167, 1.4383860540091167, 1.4383860540091167, 1.4383860540091167, 1.4383860540091167, 1.4383860540091167, 1.4383860540091167, 1.4383860540091167, 1.4383707097771896, 10.166891772092928, 2.7420762729548316, 6.138030918114326, 5.467336751745976, 2.109751828606131, 2.1098547626289545, 2.1097721830843845, 3.4528631789366115, 7.345845257738235, 3.452982186195841, 2.7807651698027467, 3.7888567642024067, 23.248542018800276, 5.98351367991524, 3.452215519844162, 2.7816461834350386, 2.7812968125501136, 5.468031245742013, 4.847469792842855, 5.51867392728616, 11.5927476129537, 2.1100457447762095, 2.9511641871752783, 3.0683142008406605, 3.9430591826108055, 3.5318800448450167, 3.4528743212640953, 2.781309394764144, 3.6306570825590008, 3.734493000390816, 3.302947876834197, 1.9849077996331266, 1.3533462268828802, 1.3533462268828802, 1.3533462209237228, 1.353346214822097, 1.3533461983517934, 1.3533461983517934, 1.3533461983517934, 1.3533461983517934, 1.3533461983517934, 1.3533461983517934, 1.3533461950066334, 1.3533461712554449, 1.3533461712554449, 1.3533461712554449, 1.3533461712554449, 1.3533461710006351, 1.3533461672158111, 1.351926672467263, 1.3509100230789102, 1.9839956352462413, 0.7217846393658967, 0.7217846393658967, 0.7217846393658967, 0.7217846393658967, 0.7217846393658967, 0.7217846393658967, 0.7217846393658967, 0.7217846393658967, 0.7217846393658967, 1.353376666484577, 1.3533668574994693, 1.9850472866736382, 1.353447667736048, 1.3540652141859875, 1.3534231785481656, 3.880614976787452, 2.617108513922418, 2.2969628502188764, 7.039182304828617, 2.6172189882655275, 12.726347056336348, 10.862565289616354, 3.8801501000042387, 6.649944619976055, 5.143846233482608, 4.471600648863498, 6.179283630138399, 1.985563194342965, 1.985287910985854, 1.7838663633411442, 1.9853729979150614, 1.9852178377461194, 1.3541508154853334, 1.353841533312284, 1.3537485660707032, 1.3536884715292554, 1.3536727985037442, 1.3535797284805862, 1.3535775285138967, 1.3535513731189985, 1.3535335981242922], \"Total\": [30.0, 24.0, 334.0, 230.0, 21.0, 21.0, 47.0, 40.0, 18.0, 82.0, 27.0, 24.0, 17.0, 31.0, 17.0, 81.0, 24.0, 28.0, 24.0, 27.0, 26.0, 13.0, 25.0, 13.0, 33.0, 16.0, 24.0, 22.0, 30.0, 26.0, 31.795454236252443, 28.34340654274001, 27.480410035415265, 26.61739964798046, 25.754380364106822, 15.398269069658461, 15.398269069658461, 15.398270452665852, 14.535287601165113, 13.672284286014179, 13.672284286014179, 13.672284286014179, 13.672284286014179, 13.672284286014179, 13.672284286014179, 13.672284286014179, 13.672282457307974, 13.672199885999579, 11.946240866132628, 10.220251637557087, 10.220248293917962, 9.357204033985733, 8.494235344295877, 7.631227208178043, 7.631227172751302, 7.631194370166459, 7.631160003015399, 6.768219036699044, 6.768208987709299, 6.768212940756921, 18.38739195517709, 13.565125473662631, 18.458546821986065, 33.945213369531075, 82.64174524229693, 24.47803062476435, 67.53428471533171, 334.87034358017036, 217.57839255236857, 21.90495639688252, 230.89979750510662, 24.45426556675966, 28.730570922916712, 103.31691910157058, 22.994627728469187, 28.911916417168833, 81.0920208398152, 24.769529870599396, 17.646497369884294, 17.446207683086175, 39.53375713219491, 20.03109277258279, 24.280697591154198, 21.925302128809, 21.140190210358828, 18.78484275596657, 11.718789525613085, 11.718789525613085, 9.363417647276206, 8.578325098417265, 8.578324235085882, 8.578324235085882, 8.57829945610522, 8.57834006970258, 7.79320851280329, 7.79320851280329, 7.79320851280329, 17.292309795311013, 30.91995631000853, 6.222974232216133, 6.222965695530724, 12.581728793377634, 4.652744187619752, 10.226377776162263, 8.461796101354002, 3.867635505498396, 3.8676550008827193, 12.659477820221777, 3.082511329460144, 3.082511327809473, 3.0824954675084837, 3.082482576420693, 24.73980338860338, 8.289504275804502, 8.529068357593983, 16.766443214118453, 13.03801875539663, 15.8187327463288, 17.234186022290192, 24.876384490140072, 24.982093135463987, 47.39581115252568, 334.87034358017036, 24.03297591530898, 26.40373635666752, 230.89979750510662, 26.40373635666745, 217.57839255236857, 103.31691910157058, 39.53375713219491, 81.0920208398152, 13.138892707425958, 23.78852651676587, 7.529439058060208, 6.017825177636875, 8.95654421393766, 3.7503955435868646, 3.7503968162529646, 3.7503968162529646, 3.7504009177905226, 3.750408193090693, 3.750379210478811, 3.7504102183191046, 8.410026323884138, 2.9945871653280314, 2.994587164295966, 2.9945902572648673, 2.994578701488662, 2.9946030988732457, 2.994607383782452, 2.9946073837824523, 2.9946073837824527, 2.9944203925468376, 5.177493675690181, 2.2387787865897244, 2.23877878568167, 2.2387787854847914, 2.2387787847986087, 2.238778784573953, 2.238778784573953, 2.238778784573953, 2.2387787842212186, 2.23877878413114, 6.5638054941394515, 6.795764461508093, 5.8090520037605575, 4.613097666607616, 6.154274109997626, 8.136729917244267, 4.382052879334255, 3.626145267742273, 8.485628485719289, 8.960065067042795, 33.411633899171875, 230.89979750510662, 30.70270570031174, 9.117755688133222, 9.115688471800059, 103.31691910157058, 217.57839255236857, 20.0338134633157, 21.21709550957524, 12.37968685363828, 334.87034358017036, 34.06873592085968, 25.69695511631782, 17.899008436359836, 24.284612774879886, 11.785154857102107, 27.519322041294437, 12.026491928457675, 67.53428471533171, 81.0920208398152, 24.05102680220122, 27.510301459603827, 6.432856595808569, 6.432874490135267, 5.719675939743099, 5.006423307683418, 5.0064496786261925, 9.242715496414554, 4.2932203548231, 3.580018954450323, 3.5799766352069917, 2.8667947023615232, 2.8667947019030793, 2.866794701747465, 2.866794700403223, 2.8667946994457165, 2.8667946969090137, 2.8668008092789123, 2.8668069424712703, 2.866755823322778, 2.866761941536175, 4.96337878347428, 2.153583812290669, 2.153583812038681, 2.1535838119882316, 2.1535838119882316, 2.1535838119882316, 2.153583811983233, 2.153583811962807, 2.153583811962807, 2.1535838115997192, 2.1535838113012726, 7.013037005937251, 8.175986513684258, 7.684647180177247, 8.759163711994148, 4.337669894440233, 6.575755829962523, 13.80980149088227, 4.843130896287246, 27.97763559731071, 6.648552209305765, 40.5263525247545, 81.0920208398152, 334.87034358017036, 20.0338134633157, 6.939035709982099, 24.05102680220122, 7.924813878279442, 230.89979750510662, 217.57839255236857, 8.680421426267454, 25.69695511631782, 28.730570922916712, 103.31691910157058, 34.06873592085968, 24.284612774879886, 24.769529870599396, 67.53428471533171, 27.510301459603827, 6.088400088394921, 5.418245093170941, 4.077945611934832, 4.077933543048618, 3.4077817366346403, 3.407785954425719, 3.40778773753691, 3.4078991928789066, 6.203315947010402, 2.737622294643923, 2.737627114457244, 2.7376271151926708, 2.737628264845428, 2.7376239648300813, 2.7376239648300813, 2.7376305777400227, 2.737636568528861, 2.737646426555714, 2.737623239480088, 2.067468873452235, 2.067468873452235, 2.067468873452235, 2.067468873452235, 2.0674688745286254, 2.067468874643222, 2.067468874990778, 2.067468874994087, 2.067468874994087, 2.067468874994087, 2.0674688753914996, 4.121980038996596, 4.272201022186343, 4.127747981475921, 3.3692086790999283, 9.744370639652287, 3.4508282409975717, 3.450867294189139, 3.450867447716991, 3.4934106460295364, 4.988138699860096, 13.923898923458614, 47.39581115252568, 334.87034358017036, 22.050151578865414, 13.476926206978936, 39.53375713219491, 82.64174524229693, 24.982093135463987, 27.510301459603827, 15.000093285179643, 7.784712433179909, 28.911916417168833, 230.89979750510662, 217.57839255236857, 24.876384490140072, 11.387947859421281, 15.8187327463288, 67.53428471533171, 24.73980338860338, 4.754814106232258, 3.412263465176297, 3.412263467692018, 3.412321376500553, 2.740988107546398, 2.7409881080020906, 2.0697127494558174, 2.069712749790689, 2.069712749840325, 2.0697127499424477, 2.069712750745645, 2.0697127511408344, 2.069712751175805, 2.069712751175805, 2.069712751175805, 2.069712751248649, 2.069712751248649, 2.0697127515245115, 2.0697127567632982, 2.0697127567632982, 2.0697127567632982, 2.0697126499852865, 2.0697126499852865, 2.0697126499852865, 2.0697126499852865, 2.0697126499852865, 2.0697126499852865, 2.0697126499852865, 2.0697126499852865, 2.0697126279719478, 17.50589090376988, 4.203969305030983, 10.592956083246687, 9.803195907091135, 3.3725514481788053, 3.5260820972186027, 3.5260829702823413, 7.5536898401583015, 24.05102680220122, 7.934695582964941, 5.786821554596296, 9.719165187212338, 230.89979750510662, 30.70270570031174, 10.954561810506462, 7.388450586137475, 7.727207710425139, 33.411633899171875, 27.97763559731071, 40.5263525247545, 217.57839255236857, 4.991261488532838, 11.785154857102107, 14.041279660580912, 27.519322041294437, 24.284612774879886, 27.510301459603827, 11.730655953842227, 81.0920208398152, 103.31691910157058, 334.87034358017036, 2.6218468188983226, 1.9902852236600834, 1.9902852236600834, 1.9902852245052585, 1.9902852253869967, 1.990285227648667, 1.990285227648667, 1.990285227648667, 1.990285227648667, 1.990285227648667, 1.990285227648667, 1.9902852281191183, 1.9902852314482322, 1.9902852314482322, 1.9902852314482322, 1.9902852314482322, 1.9902852314778414, 1.9902852320114335, 1.9906352766288502, 1.9904342105182251, 3.3777154379180327, 1.3587236304913075, 1.3587236304913075, 1.3587236304913075, 1.3587236304913075, 1.3587236304913075, 1.3587236304913075, 1.3587236304913075, 1.3587236304913075, 1.3587236304913075, 2.6615586772598725, 2.6615592875715333, 4.192045762198148, 2.746073637091654, 2.8530296651001974, 2.853258313627019, 10.954561810506462, 6.970286433861986, 6.471605414234484, 40.5263525247545, 9.356513436549655, 230.89979750510662, 217.57839255236857, 27.97763559731071, 103.31691910157058, 81.0920208398152, 82.64174524229693, 334.87034358017036, 7.8598581340448055, 8.584871496363256, 7.097483560376609, 12.210865940127054, 21.21709550957524, 5.001786472776481, 5.056261667971132, 5.956421907244671, 9.380639496155762, 6.112381686554551, 6.57588263896741, 17.124096032395354, 3.6090222009967734, 10.191495587825608], \"Category\": [\"Default\", \"Default\", \"Default\", \"Default\", \"Default\", \"Default\", \"Default\", \"Default\", \"Default\", \"Default\", \"Default\", \"Default\", \"Default\", \"Default\", \"Default\", \"Default\", \"Default\", \"Default\", \"Default\", \"Default\", \"Default\", \"Default\", \"Default\", \"Default\", \"Default\", \"Default\", \"Default\", \"Default\", \"Default\", \"Default\", \"Topic1\", \"Topic1\", \"Topic1\", \"Topic1\", \"Topic1\", \"Topic1\", \"Topic1\", \"Topic1\", \"Topic1\", \"Topic1\", \"Topic1\", \"Topic1\", \"Topic1\", \"Topic1\", \"Topic1\", \"Topic1\", \"Topic1\", \"Topic1\", \"Topic1\", \"Topic1\", \"Topic1\", \"Topic1\", \"Topic1\", \"Topic1\", \"Topic1\", \"Topic1\", \"Topic1\", \"Topic1\", \"Topic1\", \"Topic1\", \"Topic1\", \"Topic1\", \"Topic1\", \"Topic1\", \"Topic1\", \"Topic1\", \"Topic1\", \"Topic1\", \"Topic1\", \"Topic1\", \"Topic1\", \"Topic1\", \"Topic1\", \"Topic1\", \"Topic1\", \"Topic1\", \"Topic1\", \"Topic1\", \"Topic1\", \"Topic1\", \"Topic1\", \"Topic1\", \"Topic2\", \"Topic2\", \"Topic2\", \"Topic2\", \"Topic2\", \"Topic2\", \"Topic2\", \"Topic2\", \"Topic2\", \"Topic2\", \"Topic2\", \"Topic2\", \"Topic2\", \"Topic2\", \"Topic2\", \"Topic2\", \"Topic2\", \"Topic2\", \"Topic2\", \"Topic2\", \"Topic2\", \"Topic2\", \"Topic2\", \"Topic2\", \"Topic2\", \"Topic2\", \"Topic2\", \"Topic2\", \"Topic2\", \"Topic2\", \"Topic2\", \"Topic2\", \"Topic2\", \"Topic2\", \"Topic2\", \"Topic2\", \"Topic2\", \"Topic2\", \"Topic2\", \"Topic2\", \"Topic2\", \"Topic2\", \"Topic2\", \"Topic2\", \"Topic2\", \"Topic2\", \"Topic2\", \"Topic2\", \"Topic2\", \"Topic2\", \"Topic2\", \"Topic3\", \"Topic3\", \"Topic3\", \"Topic3\", \"Topic3\", \"Topic3\", \"Topic3\", \"Topic3\", \"Topic3\", \"Topic3\", \"Topic3\", \"Topic3\", \"Topic3\", \"Topic3\", \"Topic3\", \"Topic3\", \"Topic3\", \"Topic3\", \"Topic3\", \"Topic3\", \"Topic3\", \"Topic3\", \"Topic3\", \"Topic3\", \"Topic3\", \"Topic3\", \"Topic3\", \"Topic3\", \"Topic3\", \"Topic3\", \"Topic3\", \"Topic3\", \"Topic3\", \"Topic3\", \"Topic3\", \"Topic3\", \"Topic3\", \"Topic3\", \"Topic3\", \"Topic3\", \"Topic3\", \"Topic3\", \"Topic3\", \"Topic3\", \"Topic3\", \"Topic3\", \"Topic3\", \"Topic3\", \"Topic3\", \"Topic3\", \"Topic3\", \"Topic3\", \"Topic3\", \"Topic3\", \"Topic3\", \"Topic3\", \"Topic3\", \"Topic3\", \"Topic3\", \"Topic3\", \"Topic3\", \"Topic3\", \"Topic4\", \"Topic4\", \"Topic4\", \"Topic4\", \"Topic4\", \"Topic4\", \"Topic4\", \"Topic4\", \"Topic4\", \"Topic4\", \"Topic4\", \"Topic4\", \"Topic4\", \"Topic4\", \"Topic4\", \"Topic4\", \"Topic4\", \"Topic4\", \"Topic4\", \"Topic4\", \"Topic4\", \"Topic4\", \"Topic4\", \"Topic4\", \"Topic4\", \"Topic4\", \"Topic4\", \"Topic4\", \"Topic4\", \"Topic4\", \"Topic4\", \"Topic4\", \"Topic4\", \"Topic4\", \"Topic4\", \"Topic4\", \"Topic4\", \"Topic4\", \"Topic4\", \"Topic4\", \"Topic4\", \"Topic4\", \"Topic4\", \"Topic4\", \"Topic4\", \"Topic4\", \"Topic4\", \"Topic4\", \"Topic4\", \"Topic4\", \"Topic4\", \"Topic4\", \"Topic4\", \"Topic4\", \"Topic4\", \"Topic4\", \"Topic4\", \"Topic4\", \"Topic5\", \"Topic5\", \"Topic5\", \"Topic5\", \"Topic5\", \"Topic5\", \"Topic5\", \"Topic5\", \"Topic5\", \"Topic5\", \"Topic5\", \"Topic5\", \"Topic5\", \"Topic5\", \"Topic5\", \"Topic5\", \"Topic5\", \"Topic5\", \"Topic5\", \"Topic5\", \"Topic5\", \"Topic5\", \"Topic5\", \"Topic5\", \"Topic5\", \"Topic5\", \"Topic5\", \"Topic5\", \"Topic5\", \"Topic5\", \"Topic5\", \"Topic5\", \"Topic5\", \"Topic5\", \"Topic5\", \"Topic5\", \"Topic5\", \"Topic5\", \"Topic5\", \"Topic5\", \"Topic5\", \"Topic5\", \"Topic5\", \"Topic5\", \"Topic5\", \"Topic5\", \"Topic5\", \"Topic5\", \"Topic5\", \"Topic5\", \"Topic5\", \"Topic5\", \"Topic5\", \"Topic5\", \"Topic5\", \"Topic5\", \"Topic5\", \"Topic5\", \"Topic5\", \"Topic6\", \"Topic6\", \"Topic6\", \"Topic6\", \"Topic6\", \"Topic6\", \"Topic6\", \"Topic6\", \"Topic6\", \"Topic6\", \"Topic6\", \"Topic6\", \"Topic6\", \"Topic6\", \"Topic6\", \"Topic6\", \"Topic6\", \"Topic6\", \"Topic6\", \"Topic6\", \"Topic6\", \"Topic6\", \"Topic6\", \"Topic6\", \"Topic6\", \"Topic6\", \"Topic6\", \"Topic6\", \"Topic6\", \"Topic6\", \"Topic6\", \"Topic6\", \"Topic6\", \"Topic6\", \"Topic6\", \"Topic6\", \"Topic6\", \"Topic6\", \"Topic6\", \"Topic6\", \"Topic6\", \"Topic6\", \"Topic6\", \"Topic6\", \"Topic6\", \"Topic6\", \"Topic6\", \"Topic6\", \"Topic6\", \"Topic6\", \"Topic6\", \"Topic6\", \"Topic6\", \"Topic6\", \"Topic6\", \"Topic6\", \"Topic6\", \"Topic6\", \"Topic6\", \"Topic6\", \"Topic6\", \"Topic7\", \"Topic7\", \"Topic7\", \"Topic7\", \"Topic7\", \"Topic7\", \"Topic7\", \"Topic7\", \"Topic7\", \"Topic7\", \"Topic7\", \"Topic7\", \"Topic7\", \"Topic7\", \"Topic7\", \"Topic7\", \"Topic7\", \"Topic7\", \"Topic7\", \"Topic7\", \"Topic7\", \"Topic7\", \"Topic7\", \"Topic7\", \"Topic7\", \"Topic7\", \"Topic7\", \"Topic7\", \"Topic7\", \"Topic7\", \"Topic7\", \"Topic7\", \"Topic7\", \"Topic7\", \"Topic7\", \"Topic7\", \"Topic7\", \"Topic7\", \"Topic7\", \"Topic7\", \"Topic7\", \"Topic7\", \"Topic7\", \"Topic7\", \"Topic7\", \"Topic7\", \"Topic7\", \"Topic7\", \"Topic7\", \"Topic7\", \"Topic7\", \"Topic7\", \"Topic7\", \"Topic7\", \"Topic7\", \"Topic7\", \"Topic7\", \"Topic7\", \"Topic7\", \"Topic7\", \"Topic7\", \"Topic7\"], \"logprob\": [30.0, 29.0, 28.0, 27.0, 26.0, 25.0, 24.0, 23.0, 22.0, 21.0, 20.0, 19.0, 18.0, 17.0, 16.0, 15.0, 14.0, 13.0, 12.0, 11.0, 10.0, 9.0, 8.0, 7.0, 6.0, 5.0, 4.0, 3.0, 2.0, 1.0, -4.7027, -4.82, -4.8516, -4.8843, -4.918, -5.4486, -5.4486, -5.4487, -5.5087, -5.5727, -5.5727, -5.5727, -5.5727, -5.5727, -5.5727, -5.5727, -5.5727, -5.5727, -5.7144, -5.8794, -5.8794, -5.9735, -6.0772, -6.1931, -6.1931, -6.1931, -6.1931, -6.3241, -6.3241, -6.3241, -5.3383, -5.641, -5.3504, -4.8015, -3.9829, -5.1353, -4.2641, -2.9528, -3.4019, -5.2924, -3.5093, -5.2272, -5.1295, -4.2936, -5.2902, -5.1871, -4.718, -5.3726, -5.5087, -5.5243, -5.3705, -5.5088, -4.2102, -4.3151, -4.3526, -4.4745, -4.967, -4.967, -5.2054, -5.2994, -5.2994, -5.2994, -5.2994, -5.2994, -5.4032, -5.4032, -5.4032, -4.6132, -4.0381, -5.6501, -5.6501, -4.9669, -5.9786, -5.2053, -5.4047, -6.1948, -6.1949, -5.0402, -6.471, -6.471, -6.4711, -6.4712, -4.4361, -5.5046, -5.4809, -4.8551, -5.1193, -4.9713, -4.9026, -4.6836, -4.7504, -4.3259, -3.1397, -4.8563, -4.81, -3.7617, -4.81, -3.8065, -4.3466, -4.7512, -4.5674, -5.226, -5.1867, -5.2035, -5.4505, -5.0997, -5.9951, -5.9951, -5.9951, -5.9951, -5.9951, -5.9952, -5.9952, -5.2216, -6.2714, -6.2714, -6.2714, -6.2714, -6.2714, -6.2714, -6.2714, -6.2714, -6.2726, -5.7789, -6.6544, -6.6544, -6.6544, -6.6544, -6.6544, -6.6544, -6.6544, -6.6544, -6.6544, -5.6012, -5.6016, -5.7789, -5.9948, -5.7788, -5.6011, -6.11, -6.2714, -5.6062, -5.6011, -4.7005, -3.5742, -4.8468, -5.601, -5.6012, -4.2623, -3.8656, -5.2036, -5.2035, -5.5011, -3.9179, -5.0473, -5.2271, -5.3724, -5.2645, -5.6431, -5.4094, -5.6569, -5.3082, -5.3021, -5.6012, -5.6012, -5.1304, -5.1304, -5.2615, -5.4122, -5.4123, -4.8168, -5.5899, -5.8061, -5.8065, -6.0824, -6.0824, -6.0824, -6.0824, -6.0824, -6.0824, -6.0824, -6.0824, -6.0827, -6.0829, -5.5899, -6.4654, -6.4654, -6.4654, -6.4654, -6.4654, -6.4654, -6.4654, -6.4654, -6.4654, -6.4654, -5.2891, -5.1445, -5.2734, -5.1693, -5.8166, -5.4524, -4.8529, -5.8061, -4.4137, -5.5899, -4.2795, -4.0474, -3.7465, -5.1302, -5.6809, -5.1523, -5.6445, -4.2313, -4.2705, -5.6472, -5.263, -5.2359, -4.9925, -5.3043, -5.4314, -5.5603, -5.5221, -5.5898, -4.9616, -5.0926, -5.4211, -5.4212, -5.6374, -5.6374, -5.6374, -5.6376, -5.0926, -5.9136, -5.9136, -5.9136, -5.9136, -5.9136, -5.9136, -5.9136, -5.9136, -5.9137, -5.9139, -6.2966, -6.2966, -6.2966, -6.2966, -6.2966, -6.2966, -6.2966, -6.2966, -6.2966, -6.2966, -6.2966, -5.6385, -5.6391, -5.6759, -5.9136, -5.0924, -5.9136, -5.9137, -5.9137, -5.9135, -5.6613, -5.0062, -4.3097, -3.3013, -4.9235, -5.3305, -5.0591, -4.8164, -5.2631, -5.2432, -5.4364, -5.6419, -5.3655, -4.9598, -5.034, -5.5082, -5.6728, -5.6225, -5.5203, -5.6374, -5.2158, -5.6097, -5.6097, -5.6099, -5.886, -5.886, -6.269, -6.269, -6.269, -6.269, -6.269, -6.269, -6.269, -6.269, -6.269, -6.269, -6.269, -6.269, -6.269, -6.269, -6.269, -6.269, -6.269, -6.269, -6.269, -6.269, -6.269, -6.269, -6.269, -6.269, -4.3134, -5.6238, -4.818, -4.9338, -5.886, -5.8859, -5.886, -5.3933, -4.6384, -5.3933, -5.6098, -5.3005, -3.4863, -4.8435, -5.3935, -5.6095, -5.6096, -4.9336, -5.0541, -4.9244, -4.1822, -5.8858, -5.5504, -5.5114, -5.2606, -5.3707, -5.3933, -5.6096, -5.3431, -5.3149, -5.4377, -5.7649, -6.1479, -6.1479, -6.1479, -6.1479, -6.1479, -6.1479, -6.1479, -6.1479, -6.1479, -6.1479, -6.1479, -6.1479, -6.1479, -6.1479, -6.1479, -6.1479, -6.1479, -6.1489, -6.1497, -5.7653, -6.7765, -6.7765, -6.7765, -6.7765, -6.7765, -6.7765, -6.7765, -6.7765, -6.7765, -6.1479, -6.1479, -5.7648, -6.1478, -6.1473, -6.1478, -5.0945, -5.4884, -5.6189, -4.499, -5.4883, -3.9068, -4.0651, -5.0946, -4.5558, -4.8127, -4.9527, -4.6293, -5.7646, -5.7647, -5.8717, -5.7646, -5.7647, -6.1473, -6.1475, -6.1476, -6.1476, -6.1476, -6.1477, -6.1477, -6.1477, -6.1477], \"loglift\": [30.0, 29.0, 28.0, 27.0, 26.0, 25.0, 24.0, 23.0, 22.0, 21.0, 20.0, 19.0, 18.0, 17.0, 16.0, 15.0, 14.0, 13.0, 12.0, 11.0, 10.0, 9.0, 8.0, 7.0, 6.0, 5.0, 4.0, 3.0, 2.0, 1.0, 0.9911, 0.9887, 0.988, 0.9873, 0.9865, 0.9702, 0.9702, 0.9702, 0.9678, 0.9651, 0.9651, 0.9651, 0.9651, 0.9651, 0.9651, 0.9651, 0.9651, 0.965, 0.9584, 0.9493, 0.9493, 0.9435, 0.9365, 0.9278, 0.9278, 0.9278, 0.9278, 0.9168, 0.9168, 0.9168, 0.9032, 0.9046, 0.8873, 0.8269, 0.7557, 0.82, 0.6764, 0.3866, 0.3687, 0.774, 0.2018, 0.7292, 0.6657, 0.2217, 0.7277, 0.6017, 0.0395, 0.5709, 0.7739, 0.7697, 0.1055, 0.6471, 1.7532, 1.7504, 1.7494, 1.7456, 1.725, 1.725, 1.7109, 1.7045, 1.7045, 1.7045, 1.7045, 1.7045, 1.6967, 1.6967, 1.6967, 1.6897, 1.6837, 1.6748, 1.6748, 1.654, 1.6371, 1.6229, 1.6129, 1.6057, 1.6056, 1.5745, 1.5564, 1.5564, 1.5563, 1.5562, 1.5087, 1.5336, 1.5288, 1.4787, 1.4659, 1.4206, 1.4036, 1.2556, 1.1846, 0.9687, 0.1997, 1.1174, 1.0696, -0.0505, 1.0696, -0.036, 0.1687, 0.7248, 0.1901, 1.3516, 0.7972, 1.9308, 1.908, 1.861, 1.8362, 1.8361, 1.8361, 1.8361, 1.8361, 1.8361, 1.8361, 1.8021, 1.785, 1.785, 1.7849, 1.7849, 1.7849, 1.7849, 1.7849, 1.7849, 1.7838, 1.7299, 1.6928, 1.6928, 1.6928, 1.6928, 1.6928, 1.6928, 1.6928, 1.6928, 1.6928, 1.6704, 1.6352, 1.6148, 1.6295, 1.5572, 1.4556, 1.5656, 1.5936, 1.4086, 1.3592, 0.9438, 0.1369, 0.882, 1.3419, 1.342, 0.2531, -0.095, 0.9522, 0.8949, 1.136, -0.5785, 0.5774, 0.6797, 0.896, 0.6988, 1.0432, 0.4288, 1.0091, -0.3677, -0.5446, 0.3718, 0.2374, 2.1613, 2.1613, 2.1478, 2.1302, 2.1302, 2.1125, 2.1062, 2.0716, 2.0713, 2.0176, 2.0176, 2.0176, 2.0176, 2.0176, 2.0176, 2.0175, 2.0175, 2.0173, 2.0171, 1.9612, 1.9206, 1.9206, 1.9206, 1.9206, 1.9206, 1.9206, 1.9206, 1.9206, 1.9206, 1.9206, 1.9163, 1.9074, 1.8406, 1.8137, 1.8692, 1.8174, 1.6749, 1.7695, 1.408, 1.6688, 1.1716, 0.7101, -0.4071, 1.0255, 1.535, 0.8206, 1.4386, -0.5201, -0.4999, 1.3448, 0.6437, 0.5593, -0.4772, 0.3204, 0.5319, 0.3833, -0.5816, 0.2488, 2.3851, 2.3707, 2.3264, 2.3264, 2.2897, 2.2897, 2.2897, 2.2894, 2.2355, 2.2324, 2.2324, 2.2324, 2.2324, 2.2324, 2.2324, 2.2324, 2.2324, 2.2324, 2.2322, 2.1302, 2.1302, 2.1302, 2.1302, 2.1302, 2.1302, 2.1302, 2.1302, 2.1302, 2.1302, 2.1302, 2.0983, 2.0619, 2.0595, 2.0248, 1.7841, 2.001, 2.0008, 2.0008, 1.9887, 1.8848, 1.5134, 0.9849, 0.0381, 1.1364, 1.2216, 0.4169, -0.0777, 0.6719, 0.5953, 1.0087, 1.459, 0.4234, -1.2486, -1.2634, 0.431, 1.0478, 0.7694, -0.5798, 0.3074, 2.3781, 2.316, 2.316, 2.3159, 2.2588, 2.2588, 2.1567, 2.1567, 2.1567, 2.1567, 2.1567, 2.1567, 2.1567, 2.1567, 2.1567, 2.1567, 2.1567, 2.1567, 2.1567, 2.1567, 2.1567, 2.1567, 2.1567, 2.1567, 2.1567, 2.1567, 2.1567, 2.1567, 2.1567, 2.1567, 1.9772, 2.0933, 1.9749, 1.9367, 2.0515, 2.007, 2.007, 1.7378, 1.3345, 1.6886, 1.7877, 1.5785, 0.2248, 0.8852, 1.3658, 1.5437, 1.4988, 0.7106, 0.7676, 0.5268, -0.4116, 1.6596, 1.1359, 0.9997, 0.5777, 0.5926, 0.4452, 1.0813, -0.5856, -0.7996, -2.0983, 2.4244, 2.317, 2.317, 2.317, 2.317, 2.317, 2.317, 2.317, 2.317, 2.317, 2.317, 2.317, 2.317, 2.317, 2.317, 2.317, 2.317, 2.317, 2.3158, 2.3151, 2.1706, 2.0701, 2.0701, 2.0701, 2.0701, 2.0701, 2.0701, 2.0701, 2.0701, 2.0701, 2.0264, 2.0264, 1.9551, 1.9952, 1.9574, 1.9569, 1.6649, 1.7231, 1.6668, 0.9522, 1.4287, -0.1956, -0.2946, 0.7271, -0.0405, -0.0551, -0.2141, -1.2899, 1.3268, 1.2384, 1.3217, 0.8862, 0.3336, 1.3961, 1.385, 1.2211, 0.7669, 1.1952, 1.122, 0.1649, 1.722, 0.6838]}, \"token.table\": {\"Topic\": [1, 3, 1, 4, 7, 1, 2, 3, 4, 5, 7, 1, 2, 1, 2, 7, 1, 2, 4, 2, 4, 6, 4, 5, 7, 1, 2, 3, 4, 6, 7, 4, 4, 1, 2, 1, 2, 3, 4, 5, 6, 7, 7, 1, 5, 1, 2, 3, 4, 5, 1, 7, 1, 2, 4, 6, 7, 1, 7, 5, 3, 1, 2, 3, 4, 5, 7, 1, 2, 3, 4, 5, 6, 1, 2, 3, 1, 3, 7, 4, 2, 1, 2, 3, 4, 6, 7, 2, 7, 1, 2, 4, 7, 4, 7, 3, 4, 7, 1, 7, 4, 5, 1, 5, 7, 3, 7, 3, 7, 7, 2, 3, 4, 6, 4, 6, 2, 7, 3, 4, 7, 1, 7, 1, 2, 3, 4, 5, 6, 7, 7, 7, 4, 5, 2, 7, 1, 1, 3, 7, 1, 7, 1, 3, 2, 1, 2, 3, 4, 5, 3, 4, 2, 3, 4, 6, 7, 1, 2, 5, 6, 7, 2, 3, 3, 6, 7, 1, 2, 4, 5, 5, 4, 6, 2, 1, 1, 2, 7, 1, 2, 3, 5, 6, 7, 1, 3, 4, 6, 7, 2, 3, 4, 6, 7, 6, 1, 2, 3, 4, 7, 1, 1, 1, 3, 6, 1, 1, 2, 3, 4, 5, 6, 7, 6, 7, 2, 7, 6, 2, 3, 6, 7, 5, 1, 3, 6, 2, 4, 1, 2, 3, 6, 4, 6, 1, 3, 6, 7, 7, 3, 1, 2, 3, 4, 5, 5, 4, 1, 3, 6, 7, 3, 4, 5, 7, 7, 4, 5, 7, 4, 1, 4, 5, 5, 6, 1, 4, 2, 1, 2, 3, 5, 7, 1, 2, 3, 4, 5, 6, 1, 4, 5, 1, 2, 3, 6, 7, 1, 2, 6, 7, 3, 2, 3, 6, 7, 4, 5, 2, 6, 4, 1, 6, 5, 6, 7, 1, 2, 5, 1, 2, 4, 6, 1, 1, 3, 4, 5, 7, 4, 1, 2, 3, 4, 5, 7, 1, 5, 7, 3, 4, 1, 2, 3, 5, 7, 5, 5, 7, 6, 1, 2, 3, 3, 5, 2, 1, 2, 3, 4, 6, 6, 3, 6, 6, 1, 2, 6, 2, 6, 7, 3, 6, 5, 5, 2, 1, 5, 5, 4, 1, 2, 3, 4, 5, 6, 7, 1, 2, 3, 4, 5, 6, 5, 5, 5, 1, 2, 4, 3, 2, 4, 5, 6, 7, 1, 2, 3, 5, 5, 1, 4, 4, 1, 7, 7, 1, 3, 7, 1, 2, 5, 3, 2, 1, 2, 3, 4, 5, 6, 7, 4, 2, 6, 1, 2, 3, 1, 1, 1, 1, 7, 4, 6, 3, 1, 2, 5, 7, 6, 6, 1, 4, 6, 5, 3, 5, 6, 7, 2, 4, 1, 4, 6, 7, 3, 6, 6, 7, 4, 3, 1, 2, 3, 4, 6, 3, 4, 4, 1, 3, 2, 6, 7, 3, 5, 7, 1, 2, 6, 7, 3, 1, 3, 7, 6, 6, 1, 3, 7, 5, 1, 5, 7, 1, 2, 3, 4, 5, 1, 2, 3, 4, 5, 1, 2, 7, 1, 5, 2, 7, 4, 1, 2, 4, 5, 1, 1, 2, 5, 7, 5, 1, 5, 4, 5, 1, 3, 4, 5, 6, 7, 7, 2, 4, 5, 4, 5, 2, 7, 5, 4, 5, 2, 5, 1, 4, 5, 5, 6, 2, 3, 5, 3, 3, 5, 2, 1, 2, 3, 4, 6, 3, 1, 2, 3, 4, 6, 3, 4, 1, 2, 3, 4, 6, 7, 6, 1, 2, 5, 7, 1, 1, 3, 6, 7, 3, 4, 2, 1, 2, 3, 5, 7, 3, 3, 6, 3, 7, 1, 2, 3, 4, 5, 6, 7, 6, 4, 5, 7, 1, 2, 3, 5, 6, 1, 3, 5, 1, 3, 5, 3, 2, 4, 5, 6, 2, 3, 4, 6, 7, 4, 5, 2, 5, 1, 2, 2, 1, 2, 2, 6, 1, 1, 3, 4, 5, 7, 1, 1, 3, 1, 2, 1, 2, 3, 4, 5, 6, 7, 5, 1, 1, 2, 4, 6, 7, 1, 2, 3, 4, 6, 7, 2, 3, 5, 6, 7, 6, 6, 3, 1, 2, 3, 5, 2, 3, 1, 2, 3, 4, 6, 7, 2, 1, 2, 2, 1, 4, 6, 1, 2, 3, 5, 6, 2, 6, 3, 1, 2, 3, 4, 5, 6, 7, 3], \"Freq\": [0.8846213787921534, 0.07371844823267945, 0.9172836568800382, 0.9286845438133007, 0.5024405468041747, 0.6459549326768396, 0.04037218329230247, 0.04037218329230247, 0.1614887331692099, 0.08074436658460495, 0.04037218329230247, 0.1579843993885178, 0.789921996942589, 0.9172876040696771, 0.6180846550381276, 0.3090423275190638, 0.6961226093856409, 0.10441839140784612, 0.17403065234641021, 0.9641691860040489, 0.6976512318732282, 0.48315885782845697, 0.9286845436828813, 0.8803369812895308, 0.7628210716140856, 0.18852721844961326, 0.23565902306201658, 0.3299226322868232, 0.09426360922480663, 0.047131804612403315, 0.09426360922480663, 0.6976527207963792, 0.6976432600446387, 0.07948033345992546, 0.8742836680591801, 0.5285451310259168, 0.16086156161658335, 0.11949716005803336, 0.06434462464663335, 0.022980223088083337, 0.055152535411400014, 0.05055649079378334, 0.7359848445694619, 0.2340713825980594, 0.7022141477941782, 0.21098910972994517, 0.4430771304328849, 0.06329673291898355, 0.042197821945989034, 0.21098910972994517, 0.9245465611132273, 0.054385091830189844, 0.8248585653355343, 0.02945923447626908, 0.02945923447626908, 0.05891846895253816, 0.02945923447626908, 0.9741353774834562, 0.7359848445694619, 0.7305596841286822, 0.8933441811137257, 0.7744270140031374, 0.036301266281397064, 0.04840168837519609, 0.012100422093799022, 0.07260253256279413, 0.04840168837519609, 0.16629953372084355, 0.16629953372084355, 0.3325990674416871, 0.08314976686042178, 0.08314976686042178, 0.16629953372084355, 0.5464819349293347, 0.3783336472587702, 0.08407414383528226, 0.49060512825740893, 0.29436307695444536, 0.09812102565148179, 0.932709010443298, 0.6488216218009069, 0.17957816783538721, 0.23943755711384962, 0.32922664103154325, 0.059859389278462405, 0.149648473196156, 0.029929694639231202, 0.9325829819012142, 0.5024405477708364, 0.11416615020343486, 0.11416615020343486, 0.6849969012206092, 0.11416615020343486, 0.6194340116431307, 0.2064780038810436, 0.42268502272385866, 0.28179001514923907, 0.28179001514923907, 0.35047650443146, 0.35047650443146, 0.2897822113282199, 0.5795644226564398, 0.3955491490222888, 0.1977745745111444, 0.1977745745111444, 0.29605809559149343, 0.5921161911829869, 0.5515498835062527, 0.27577494175312633, 0.5024405487777404, 0.1888047098734889, 0.09440235493674445, 0.09440235493674445, 0.5664141296204667, 0.6976432593350683, 0.48315883418928746, 0.9884394758387642, 0.5024405468116494, 0.4608071202506102, 0.34560534018795763, 0.11520178006265255, 0.9172917351010855, 0.5024405468116494, 0.45491097110430123, 0.20325809347213458, 0.17422122297611536, 0.06775269782404486, 0.009678956832006409, 0.038715827328025636, 0.06775269782404486, 0.7359848445694619, 0.5024405466694712, 0.8059026269198155, 0.20147565672995388, 0.7238068526622113, 0.12063447544370189, 0.9508345480899592, 0.27708336061878774, 0.27708336061878774, 0.27708336061878774, 0.35050459244519644, 0.35050459244519644, 0.9631732363436548, 0.893344180750272, 0.7756638064448113, 0.4280662806238429, 0.03891511642034936, 0.2724058149424455, 0.19457558210174677, 0.07783023284069872, 0.23053852052728596, 0.6916155615818579, 0.12289949527274935, 0.6144974763637467, 0.12289949527274935, 0.12289949527274935, 0.7359848445694619, 0.2520575589936702, 0.1260287794968351, 0.1260287794968351, 0.3780863384905053, 0.7359848445694619, 0.9325813543175805, 0.6679088898065326, 0.6885805114863068, 0.1721451278715767, 0.1721451278715767, 0.3744854583017748, 0.4993139444023664, 0.08321899073372774, 0.4836832186914836, 0.9228080151453301, 0.6976402806796408, 0.4831588343067099, 0.6488249605169925, 0.9878840765938923, 0.7760800657160594, 0.18260707428613163, 0.5024405477708364, 0.1628520967762536, 0.1954225161315043, 0.3257041935525072, 0.032570419355250714, 0.1954225161315043, 0.032570419355250714, 0.17871417270445164, 0.07148566908178065, 0.42891401449068395, 0.17871417270445164, 0.1429713381635613, 0.29949365411566375, 0.3494092631349411, 0.29949365411566375, 0.049915609019277295, 0.049915609019277295, 0.8412526569139888, 0.21935222530726547, 0.10967611265363274, 0.5483805632681638, 0.10967611265363274, 0.10967611265363274, 0.9784498098691956, 0.9172836611383796, 0.14715047963538208, 0.7357523981769104, 0.14715047963538208, 0.9207917472336253, 0.44608094555700956, 0.16024266976319762, 0.1515809038300518, 0.060632361532020715, 0.02165441483286454, 0.09961030823117689, 0.05630147856544781, 0.37571960341804844, 0.37571960341804844, 0.4770940284180668, 0.4770940284180668, 0.8791818189352513, 0.22321266475580245, 0.5580316618895061, 0.11160633237790123, 0.5024405468116494, 0.8803077292511332, 0.1728064345107947, 0.3456128690215894, 0.5184193035323841, 0.9325830757573257, 0.798973589360922, 0.8170591951039582, 0.12255887926559374, 0.04085295975519791, 0.48315883420629235, 0.9286845438133007, 0.8791818182870668, 0.14346612717978877, 0.28693225435957753, 0.14346612717978877, 0.4303983815393663, 0.5024405476520726, 0.6678671838021799, 0.7107501057030221, 0.08884376321287776, 0.08884376321287776, 0.05922917547525184, 0.04442188160643888, 0.7305605246351413, 0.9286845438133007, 0.2003501524208755, 0.2003501524208755, 0.400700304841751, 0.2003501524208755, 0.8933441812904221, 0.2422628524046759, 0.7267885572140277, 0.5024405468116494, 0.5024405477708364, 0.6506479585552911, 0.1301295917110582, 0.1301295917110582, 0.9327116049671302, 0.20047558020550776, 0.20047558020550776, 0.6014267406165233, 0.7305609703401893, 0.7296638734626989, 0.43447402223423826, 0.5792986963123177, 0.8982179789620481, 0.1272287594694008, 0.2544575189388016, 0.1272287594694008, 0.2544575189388016, 0.2544575189388016, 0.2882483680053088, 0.08235667657294536, 0.2882483680053088, 0.16471335314589072, 0.04117833828647268, 0.16471335314589072, 0.1520737730928947, 0.6082950923715787, 0.1520737730928947, 0.0761099144553339, 0.684989230098005, 0.1522198289106678, 0.0761099144553339, 0.7359848445694619, 0.19992856661170147, 0.19992856661170147, 0.19992856661170147, 0.19992856661170147, 0.7999191099443488, 0.18257234151363413, 0.18257234151363413, 0.2738585122704512, 0.36514468302726827, 0.8655464947615633, 0.10819331184519541, 0.9641705086546024, 0.48315885782845697, 0.6976432594845012, 0.5176514143140493, 0.388238560735537, 0.8803380708773486, 0.4831588345180501, 0.5024405485643788, 0.6989134421643863, 0.29953433235616556, 0.48368321869070946, 0.37873427703253, 0.49235456014228896, 0.113620283109759, 0.48315885782845697, 0.976804659502969, 0.12618592882551208, 0.12618592882551208, 0.3785577864765362, 0.12618592882551208, 0.12618592882551208, 0.8379843900744433, 0.3228766698462944, 0.17611454718888783, 0.23481939625185044, 0.1467621226574065, 0.05870484906296261, 0.029352424531481305, 0.5745517145719733, 0.3590948216074833, 0.5024405487777404, 0.6678716930187996, 0.6976432606619531, 0.15207084050956038, 0.15207084050956038, 0.30414168101912076, 0.15207084050956038, 0.15207084050956038, 0.4836832190514249, 0.5936111979072465, 0.29680559895362324, 0.48315885782845697, 0.1624887000687049, 0.1624887000687049, 0.6499548002748196, 0.2862532067727446, 0.5725064135454891, 0.8597076990915156, 0.49853006059352273, 0.14243716016957791, 0.07121858008478896, 0.07121858008478896, 0.21365574025436687, 0.4831588346078105, 0.8933441810240809, 0.48315885782845697, 0.4831588329019342, 0.05782917446176914, 0.9252667913883063, 0.4831588329019342, 0.8982179789620481, 0.48315883420629235, 0.5024405477708364, 0.7725745796235635, 0.19314364490589087, 0.7305596839324272, 0.7356645442303024, 0.9386635006933038, 0.9508286785184916, 0.4836832187996039, 0.4836832187727941, 0.9317015362387143, 0.18175009849826648, 0.2181001181979198, 0.18175009849826648, 0.1454000787986132, 0.1454000787986132, 0.1090500590989599, 0.0363500196996533, 0.6571684742667969, 0.03458781443509457, 0.10376344330528373, 0.03458781443509457, 0.1383512577403783, 0.03458781443509457, 0.483683218597735, 0.48368321869070946, 0.4836832190514249, 0.37873427703253093, 0.49235456014229023, 0.11362028310975929, 0.7999156262677325, 0.13238563154706431, 0.13238563154706431, 0.13238563154706431, 0.3971568946411929, 0.13238563154706431, 0.1756242673999771, 0.3512485347999542, 0.1756242673999771, 0.26343640109996563, 0.4836832190514249, 0.9508286785184916, 0.8741753995637341, 0.9286845437915455, 0.9508286785184916, 0.5024405477708364, 0.5024029403813564, 0.9784494897613173, 0.36415629446087705, 0.36415629446087705, 0.07669876986379431, 0.766987698637943, 0.15339753972758863, 0.8308649474532322, 0.648827673933636, 0.7360679040170051, 0.04089266133427806, 0.04089266133427806, 0.04089266133427806, 0.04089266133427806, 0.04089266133427806, 0.04089266133427806, 0.9286845441095363, 0.28360081382881575, 0.5672016276576315, 0.7933585745969369, 0.11333693922813384, 0.05666846961406692, 0.886496132507893, 0.9418152047520357, 0.9508286785184916, 0.9825180907127609, 0.5024405483417871, 0.6976417732012086, 0.48315883420629235, 0.667873580682906, 0.6666625206844664, 0.06666625206844665, 0.19999875620533994, 0.06666625206844665, 0.4831588344942103, 0.8791668981297999, 0.2446187988021474, 0.7338563964064422, 0.483158834214456, 0.7305571612358872, 0.3078700627203411, 0.5131167712005685, 0.1026233542401137, 0.1026233542401137, 0.30081737151746574, 0.6016347430349315, 0.32063225477569474, 0.10687741825856491, 0.21375483651712981, 0.32063225477569474, 0.8933441803093685, 0.48315885782845697, 0.3757196895728483, 0.3757196895728483, 0.9286845438242645, 0.8933441811137257, 0.08315653283530307, 0.16631306567060614, 0.20789133208825766, 0.2494695985059092, 0.2910478649235607, 0.8933441812544779, 0.6976432598116266, 0.697643259446632, 0.2167740794300982, 0.6503222382902946, 0.9055640221243338, 0.06468314443745242, 0.03234157221872621, 0.7617532244769123, 0.15235064489538247, 0.15235064489538247, 0.41155798085033723, 0.10288949521258431, 0.41155798085033723, 0.10288949521258431, 0.8933441806717113, 0.35353892820653027, 0.5892315470108838, 0.11784630940217676, 0.48315885782845697, 0.4831588629673055, 0.86680713028516, 0.0541754456428225, 0.0541754456428225, 0.7305545305630423, 0.6544093947534114, 0.16360234868835286, 0.16360234868835286, 0.20099383823166847, 0.6029815146950054, 0.04019876764633369, 0.04019876764633369, 0.12059630293900107, 0.40471741520793025, 0.35412773830693894, 0.07588451535148692, 0.05058967690099128, 0.1264741922524782, 0.5824199001834928, 0.11648398003669856, 0.23296796007339712, 0.9618257726679514, 0.7305587599226212, 0.7756677162920528, 0.5024405477708364, 0.9286845438242645, 0.5895651081355928, 0.09070232432855274, 0.04535116216427637, 0.2721069729856582, 0.8864974487188081, 0.2802007006395699, 0.5604014012791398, 0.16011468607975426, 0.7359848445694619, 0.7305607182016132, 0.6678080640776537, 0.2968035840345128, 0.2897822242205269, 0.5795644484410538, 0.21320508061519805, 0.21320508061519805, 0.10660254030759903, 0.21320508061519805, 0.10660254030759903, 0.10660254030759903, 0.5023521946689825, 0.6953780796728405, 0.12643237812233465, 0.18964856718350195, 0.9286845439808379, 0.4836832190514249, 0.9577975198073467, 0.7359848445694619, 0.8212338097705641, 0.798969380852267, 0.7305605246351413, 0.16120410576248909, 0.8060205288124455, 0.9508286785184916, 0.2897855037000967, 0.5795710074001934, 0.7305593771376859, 0.48315885782845697, 0.993368545459438, 0.6678710034362817, 0.8803365206567555, 0.6678671838021798, 0.6846106340131103, 0.2282035446710368, 0.9386635006933038, 0.391083116413325, 0.055869016630475, 0.33521409978285, 0.11173803326095, 0.11173803326095, 0.7999144800144175, 0.0848525125147056, 0.1697050250294112, 0.3394100500588224, 0.1697050250294112, 0.2545575375441168, 0.7999153548229894, 0.9286845438154563, 0.7393031190042986, 0.08697683752991749, 0.04348841876495874, 0.04348841876495874, 0.04348841876495874, 0.04348841876495874, 0.48315883418928746, 0.3357720509300125, 0.3357720509300125, 0.16788602546500625, 0.16788602546500625, 0.9508286785184916, 0.40603912349752025, 0.13534637449917342, 0.40603912349752025, 0.13534637449917342, 0.7999153548229894, 0.8379942959673932, 0.9611875000169491, 0.32310994997619313, 0.16155497498809657, 0.40388743747024136, 0.08077748749404828, 0.08077748749404828, 0.7999124963307532, 0.8932016421635992, 0.1116502052704499, 0.7999129282852048, 0.7359848445694619, 0.5345352415692377, 0.20604989758814193, 0.07465575999570359, 0.0686832991960473, 0.08660068159501617, 0.008958691199484432, 0.017917382398968864, 0.4831588345296372, 0.7129578805540295, 0.14259157611080592, 0.14259157611080592, 0.9741354649761751, 0.42623362407643656, 0.1704934496305746, 0.0852467248152873, 0.25574017444586195, 0.80246665947768, 0.17195714131664575, 0.057319047105548575, 0.9508286785184916, 0.6678681394380855, 0.7356667214731589, 0.8933441811137257, 0.6962904998518381, 0.05802420832098651, 0.11604841664197302, 0.11604841664197302, 0.3291029535816942, 0.548504922636157, 0.10970098452723141, 0.5930228287784935, 0.2965114143892468, 0.24260185409423468, 0.7278055622827041, 0.8272475389568776, 0.11817821985098252, 0.9508288056944997, 0.8982179789620481, 0.9325857695847116, 0.23857176796040652, 0.7157153038812195, 0.2836008840488447, 0.5672017680976894, 0.9707086579664645, 0.1284568965884741, 0.2569137931769482, 0.1284568965884741, 0.38537068976542227, 0.1284568965884741, 0.8864969309504307, 0.11890569202619974, 0.8323398441833981, 0.9741354649761751, 0.9325830757573257, 0.46717794532719303, 0.1751917294976974, 0.05839724316589913, 0.05839724316589913, 0.05839724316589913, 0.05839724316589913, 0.05839724316589913, 0.48368321869070946, 0.9749821395743583, 0.10200755034148105, 0.10200755034148105, 0.2040151006829621, 0.5100377517074053, 0.10200755034148105, 0.1974024184661919, 0.07402590692482196, 0.07402590692482196, 0.34545423231583583, 0.14805181384964392, 0.17272711615791791, 0.17137088403503944, 0.11424725602335963, 0.05712362801167981, 0.5712362801167982, 0.05712362801167981, 0.7296638735840064, 0.48315883412488947, 0.6678671838021798, 0.08084138618988858, 0.7679931688039415, 0.04042069309494429, 0.12126207928483286, 0.8207226987186057, 0.11724609981694367, 0.40947136955857655, 0.1637885478234306, 0.0818942739117153, 0.1637885478234306, 0.0818942739117153, 0.1637885478234306, 0.6488216221483478, 0.09778633470112995, 0.8800770123101695, 0.9582193598231062, 0.4323367288172868, 0.4323367288172868, 0.4831588329019342, 0.4723953584500628, 0.10901431348847604, 0.21802862697695208, 0.03633810449615868, 0.14535241798463472, 0.2378704332601282, 0.7136112997803845, 0.9296841299892789, 0.38228175446799784, 0.20963838148245043, 0.07399001699380603, 0.20963838148245043, 0.024663338997935345, 0.04932667799587069, 0.06165834749483836, 0.6678716932489773], \"Term\": [\"00\", \"00\", \"06\", \"104\", \"11\", \"12\", \"12\", \"12\", \"12\", \"12\", \"12\", \"14\", \"14\", \"15\", \"19\", \"19\", \"2021\", \"2021\", \"2021\", \"2024\", \"47\", \"70\", \"adekku\", \"afrika\", \"aisyiyah\", \"aja\", \"aja\", \"aja\", \"aja\", \"aja\", \"aja\", \"akar\", \"alias\", \"amin\", \"amin\", \"anak\", \"anak\", \"anak\", \"anak\", \"anak\", \"anak\", \"anak\", \"andil\", \"anggota\", \"anggota\", \"angka\", \"angka\", \"angka\", \"angka\", \"angka\", \"asi\", \"asi\", \"asupan\", \"asupan\", \"asupan\", \"asupan\", \"asupan\", \"atasi\", \"bacot\", \"bagikan\", \"balikpapan\", \"balita\", \"balita\", \"balita\", \"balita\", \"balita\", \"balita\", \"banget\", \"banget\", \"banget\", \"banget\", \"banget\", \"banget\", \"bantu\", \"bantu\", \"bantu\", \"bantuan\", \"bantuan\", \"bantuan\", \"barat\", \"batuk\", \"bayi\", \"bayi\", \"bayi\", \"bayi\", \"bayi\", \"bayi\", \"bayi2\", \"bencana\", \"bener\", \"bener\", \"bener\", \"bener\", \"benih\", \"benih\", \"beras\", \"beras\", \"beras\", \"berkepanjangan\", \"berkepanjangan\", \"bersih\", \"bersih\", \"berupaya\", \"berupaya\", \"berupaya\", \"berusaha\", \"berusaha\", \"bervitamin\", \"bervitamin\", \"biaya\", \"bikin\", \"bikin\", \"bikin\", \"bikin\", \"bimgi\", \"birthday\", \"bkkbn\", \"buah\", \"bulog\", \"bulog\", \"bulog\", \"bumn\", \"bunda\", \"buruk\", \"buruk\", \"buruk\", \"buruk\", \"buruk\", \"buruk\", \"buruk\", \"celoteh2\", \"ciri\", \"cisempur\", \"cisempur\", \"covid\", \"covid\", \"daerah\", \"dampak\", \"dampak\", \"dampak\", \"dapur\", \"dapur\", \"daya\", \"dengerin\", \"denni_sauya\", \"desa\", \"desa\", \"desa\", \"desa\", \"desa\", \"desember\", \"desember\", \"dewasa\", \"dewasa\", \"dewasa\", \"dewasa\", \"diam\", \"dibilang\", \"dibilang\", \"dibilang\", \"dibilang\", \"diem\", \"digital\", \"diinisiasi\", \"dikasih\", \"dikasih\", \"dikasih\", \"diseduh\", \"diseduh\", \"diseduh\", \"donri\", \"dprd\", \"duit\", \"emak\", \"era\", \"erick\", \"erickthohir\", \"erickthohir\", \"erupsi\", \"ga\", \"ga\", \"ga\", \"ga\", \"ga\", \"ga\", \"gagal\", \"gagal\", \"gagal\", \"gagal\", \"gagal\", \"gak\", \"gak\", \"gak\", \"gak\", \"gak\", \"gara\", \"gemuk\", \"gemuk\", \"gemuk\", \"gemuk\", \"gemuk\", \"gencar\", \"gencarnya\", \"gerakan\", \"gerakan\", \"gerakan\", \"giat\", \"gizi\", \"gizi\", \"gizi\", \"gizi\", \"gizi\", \"gizi\", \"gizi\", \"grafik\", \"grafik\", \"growth\", \"growth\", \"gulf\", \"gw\", \"gw\", \"gw\", \"halal\", \"halimiskandarnu\", \"halo\", \"halo\", \"halo\", \"haloo\", \"halopuan\", \"hamil\", \"hamil\", \"hamil\", \"hamka\", \"hange\", \"happy\", \"hati\", \"hati\", \"hati\", \"hati\", \"hipotiroid\", \"human\", \"indonesia\", \"indonesia\", \"indonesia\", \"indonesia\", \"indonesia\", \"ineu\", \"interpretasiku\", \"istri\", \"istri\", \"istri\", \"istri\", \"it\", \"jabar\", \"jabar\", \"jalur\", \"jatim\", \"jatinangor\", \"jatinangor\", \"jatinangor\", \"jawa\", \"jd\", \"jd\", \"jd\", \"jokowi\", \"jurusan\", \"kabupaten\", \"kabupaten\", \"kakak\", \"kali\", \"kali\", \"kali\", \"kali\", \"kali\", \"kalo\", \"kalo\", \"kalo\", \"kalo\", \"kalo\", \"kalo\", \"kamis\", \"kamis\", \"kamis\", \"kasih\", \"kasih\", \"kasih\", \"kasih\", \"kataku\", \"kaya\", \"kaya\", \"kaya\", \"kaya\", \"kayak\", \"kebutuhan\", \"kebutuhan\", \"kebutuhan\", \"kebutuhan\", \"kecamatan\", \"kecamatan\", \"kehamilan\", \"kekayaan\", \"kekerdilan\", \"kekurangan\", \"kekurangan\", \"kelaparan\", \"kelebihan\", \"keluarganya\", \"kematian\", \"kematian\", \"kemendespdtt\", \"kental\", \"kental\", \"kental\", \"kentet\", \"kepulauan\", \"kerja\", \"kerja\", \"kerja\", \"kerja\", \"kerja\", \"kerjaan\", \"kesehatan\", \"kesehatan\", \"kesehatan\", \"kesehatan\", \"kesehatan\", \"kesehatan\", \"ketua\", \"ketua\", \"kga\", \"kk\", \"klaim\", \"klo\", \"klo\", \"klo\", \"klo\", \"klo\", \"knp\", \"komisi\", \"komisi\", \"kpk\", \"kualitas\", \"kualitas\", \"kualitas\", \"kumparan\", \"kumparan\", \"kunci\", \"kurus\", \"kurus\", \"kurus\", \"kurus\", \"kurus\", \"lab\", \"lemak\", \"lhkpn\", \"lho\", \"like\", \"like\", \"link\", \"linknya\", \"loh\", \"lokasi\", \"lupaudahmakan\", \"lupaudahmakan\", \"lutim\", \"luwu\", \"ma\", \"maag\", \"macem2\", \"madagascar\", \"maharani\", \"makan\", \"makan\", \"makan\", \"makan\", \"makan\", \"makan\", \"makan\", \"makanan\", \"makanan\", \"makanan\", \"makanan\", \"makanan\", \"makanan\", \"maksudnya\", \"malik_haramain\", \"manajer\", \"manis\", \"manis\", \"manis\", \"mas\", \"masuk\", \"masuk\", \"masuk\", \"masuk\", \"masuk\", \"masyarakat\", \"masyarakat\", \"masyarakat\", \"masyarakat\", \"melajari\", \"melancarkan\", \"melawan\", \"memahami\", \"membersihkan\", \"memenuhi\", \"memparihatinkan\", \"menangani\", \"menarik\", \"menarik\", \"mencapai\", \"mencapai\", \"mencapai\", \"menderita\", \"menerapkan\", \"mengalami\", \"mengalami\", \"mengalami\", \"mengalami\", \"mengalami\", \"mengalami\", \"mengalami\", \"menggerakan\", \"meningkat\", \"meningkat\", \"meningkatkan\", \"meningkatkan\", \"meningkatkan\", \"meningkatnya\", \"menular\", \"menyusui\", \"meranti\", \"merdeka\", \"mikir\", \"muda\", \"naikin\", \"negara\", \"negara\", \"negara\", \"negara\", \"nenekku\", \"ngga\", \"nggak\", \"nggak\", \"ngitung\", \"ntb\", \"ntt\", \"ntt\", \"ntt\", \"ntt\", \"nutrisi\", \"nutrisi\", \"nya\", \"nya\", \"nya\", \"nya\", \"nyerah\", \"nyungsep\", \"obiwan_catnobi\", \"obiwan_catnobi\", \"official_bimgi\", \"ogai\", \"orang\", \"orang\", \"orang\", \"orang\", \"orang\", \"orang2\", \"padi\", \"pageruyung\", \"pake\", \"pake\", \"pandemi\", \"pandemi\", \"pandemi\", \"pandji\", \"pandji\", \"pandji\", \"pas\", \"pas\", \"pas\", \"pas\", \"pediasure\", \"peduli\", \"peduli\", \"peduli\", \"pejabat\", \"pemantau\", \"pemerintah\", \"pemerintah\", \"pemerintah\", \"pemkab\", \"pemkot\", \"pemkot\", \"pemkot\", \"penanganan\", \"penanganan\", \"penanganan\", \"penanganan\", \"penanganan\", \"pencegahan\", \"pencegahan\", \"pencegahan\", \"pencegahan\", \"pencegahan\", \"pendek\", \"pendek\", \"pendek\", \"pendidikan\", \"penduduk\", \"pengetahuan\", \"pengungsian\", \"pengurus\", \"penurunan\", \"penurunan\", \"penurunan\", \"penurunan\", \"perak\", \"percepatan\", \"percepatan\", \"percepatan\", \"perjuangannya\", \"permata63x\", \"pkk\", \"pkk\", \"pola\", \"pola\", \"posyandu\", \"posyandu\", \"posyandu\", \"posyandu\", \"posyandu\", \"posyandu\", \"presiden\", \"prevalensi\", \"prevalensi\", \"prevalensi\", \"privilege\", \"profesi\", \"prokes\", \"proses\", \"provinsi\", \"puan\", \"purwadewi\", \"puskesmas\", \"puskesmas\", \"racun\", \"rakor\", \"rakor\", \"rapat\", \"rata2\", \"redakan\", \"rendahnya\", \"reses\", \"rights\", \"riset\", \"riset\", \"ruf\", \"salah\", \"salah\", \"salah\", \"salah\", \"salah\", \"sam_ardi\", \"sampe\", \"sampe\", \"sampe\", \"sampe\", \"sampe\", \"saudi\", \"sbg\", \"sehat\", \"sehat\", \"sehat\", \"sehat\", \"sehat\", \"sehat\", \"sekarang\", \"semangat\", \"semangat\", \"semangat\", \"semangat\", \"sembelit\", \"semoga\", \"semoga\", \"semoga\", \"semoga\", \"serangan\", \"serius\", \"share\", \"sih\", \"sih\", \"sih\", \"sih\", \"sih\", \"stand\", \"standar\", \"standar\", \"standarnya\", \"struggle\", \"stunting\", \"stunting\", \"stunting\", \"stunting\", \"stunting\", \"stunting\", \"stunting\", \"suaminya\", \"sumedang\", \"sumedang\", \"sumedang\", \"sungai\", \"susah\", \"susah\", \"susah\", \"susah\", \"susu\", \"susu\", \"susu\", \"tahan\", \"tamba_richy\", \"tangerang\", \"tanggap\", \"target\", \"target\", \"target\", \"target\", \"tau\", \"tau\", \"tau\", \"tb\", \"tb\", \"tekan\", \"tekan\", \"teknologi\", \"teknologi\", \"teratasi\", \"terhindar\", \"terima\", \"terkait\", \"terkait\", \"terpenuhi\", \"terpenuhi\", \"thohir\", \"timur\", \"timur\", \"timur\", \"timur\", \"timur\", \"titipkan\", \"tk\", \"tk\", \"tohor\", \"tolong\", \"tp\", \"tp\", \"tp\", \"tp\", \"tp\", \"tp\", \"tp\", \"tppkemendes\", \"tubuh\", \"tuh\", \"tuh\", \"tuh\", \"tuh\", \"tuh\", \"tumbuh\", \"tumbuh\", \"tumbuh\", \"tumbuh\", \"tumbuh\", \"tumbuh\", \"udah\", \"udah\", \"udah\", \"udah\", \"udah\", \"uhamka\", \"umik\", \"up\", \"upaya\", \"upaya\", \"upaya\", \"upaya\", \"utama\", \"utama\", \"utk\", \"utk\", \"utk\", \"utk\", \"utk\", \"utk\", \"vaksinasi\", \"video\", \"video\", \"wapres\", \"warga\", \"warga\", \"weekend\", \"ya\", \"ya\", \"ya\", \"ya\", \"ya\", \"yaa\", \"yaa\", \"yaman\", \"yg\", \"yg\", \"yg\", \"yg\", \"yg\", \"yg\", \"yg\", \"zay\"]}, \"R\": 30, \"lambda.step\": 0.01, \"plot.opts\": {\"xlab\": \"PC1\", \"ylab\": \"PC2\"}, \"topic.order\": [6, 3, 2, 7, 4, 1, 5]};\n",
              "\n",
              "function LDAvis_load_lib(url, callback){\n",
              "  var s = document.createElement('script');\n",
              "  s.src = url;\n",
              "  s.async = true;\n",
              "  s.onreadystatechange = s.onload = callback;\n",
              "  s.onerror = function(){console.warn(\"failed to load library \" + url);};\n",
              "  document.getElementsByTagName(\"head\")[0].appendChild(s);\n",
              "}\n",
              "\n",
              "if(typeof(LDAvis) !== \"undefined\"){\n",
              "   // already loaded: just create the visualization\n",
              "   !function(LDAvis){\n",
              "       new LDAvis(\"#\" + \"ldavis_el3571398062856885287027149034\", ldavis_el3571398062856885287027149034_data);\n",
              "   }(LDAvis);\n",
              "}else if(typeof define === \"function\" && define.amd){\n",
              "   // require.js is available: use it to load d3/LDAvis\n",
              "   require.config({paths: {d3: \"https://d3js.org/d3.v5\"}});\n",
              "   require([\"d3\"], function(d3){\n",
              "      window.d3 = d3;\n",
              "      LDAvis_load_lib(\"https://cdn.jsdelivr.net/gh/bmabey/pyLDAvis@3.3.1/pyLDAvis/js/ldavis.v3.0.0.js\", function(){\n",
              "        new LDAvis(\"#\" + \"ldavis_el3571398062856885287027149034\", ldavis_el3571398062856885287027149034_data);\n",
              "      });\n",
              "    });\n",
              "}else{\n",
              "    // require.js not available: dynamically load d3 & LDAvis\n",
              "    LDAvis_load_lib(\"https://d3js.org/d3.v5.js\", function(){\n",
              "         LDAvis_load_lib(\"https://cdn.jsdelivr.net/gh/bmabey/pyLDAvis@3.3.1/pyLDAvis/js/ldavis.v3.0.0.js\", function(){\n",
              "                 new LDAvis(\"#\" + \"ldavis_el3571398062856885287027149034\", ldavis_el3571398062856885287027149034_data);\n",
              "            })\n",
              "         });\n",
              "}\n",
              "</script>"
            ],
            "text/plain": [
              "PreparedData(topic_coordinates=              x         y  topics  cluster       Freq\n",
              "topic                                                \n",
              "5     -0.166343  0.103384       1        1  36.412856\n",
              "2     -0.076601 -0.183141       2        1  16.882542\n",
              "1      0.065233 -0.003990       3        1  13.310772\n",
              "6      0.025226  0.026947       4        1  10.397509\n",
              "3     -0.034740  0.014190       5        1   8.252496\n",
              "0      0.115521  0.004258       6        1   8.041254\n",
              "4      0.071702  0.038352       7        1   6.702571, topic_info=          Term        Freq       Total Category  logprob  loglift\n",
              "1986   pandemi   30.000000   30.000000  Default  30.0000  30.0000\n",
              "397      bkkbn   24.000000   24.000000  Default  29.0000  29.0000\n",
              "2562  stunting  334.000000  334.000000  Default  28.0000  28.0000\n",
              "885       gizi  230.000000  230.000000  Default  27.0000  27.0000\n",
              "2240    prokes   21.000000   21.000000  Default  26.0000  26.0000\n",
              "...        ...         ...         ...      ...      ...      ...\n",
              "2056    pemkot    1.353673    6.112382   Topic7  -6.1476   1.1952\n",
              "1334       klo    1.353580    6.575883   Topic7  -6.1477   1.1220\n",
              "2750        tp    1.353578   17.124096   Topic7  -6.1477   0.1649\n",
              "546     dampak    1.353551    3.609022   Topic7  -6.1477   1.7220\n",
              "247    bantuan    1.353534   10.191496   Topic7  -6.1477   0.6838\n",
              "\n",
              "[435 rows x 6 columns], token_table=      Topic      Freq Term\n",
              "term                      \n",
              "0         1  0.884621   00\n",
              "0         3  0.073718   00\n",
              "7         1  0.917284   06\n",
              "14        4  0.928685  104\n",
              "15        7  0.502441   11\n",
              "...     ...       ...  ...\n",
              "2892      4  0.209638   yg\n",
              "2892      5  0.024663   yg\n",
              "2892      6  0.049327   yg\n",
              "2892      7  0.061658   yg\n",
              "2905      3  0.667872  zay\n",
              "\n",
              "[717 rows x 3 columns], R=30, lambda_step=0.01, plot_opts={'xlab': 'PC1', 'ylab': 'PC2'}, topic_order=[6, 3, 2, 7, 4, 1, 5])"
            ]
          },
          "metadata": {},
          "execution_count": 197
        }
      ],
      "source": [
        "pyLDAvis.sklearn.prepare(lda1, tf, tf_vectorizer) "
      ]
    },
    {
      "cell_type": "code",
      "execution_count": 198,
      "metadata": {
        "id": "6zzIDEa1FqrC",
        "colab": {
          "base_uri": "https://localhost:8080/"
        },
        "outputId": "9f3f3679-9bcc-426d-b937-4c327c8afb99"
      },
      "outputs": [
        {
          "output_type": "execute_result",
          "data": {
            "text/plain": [
              "LatentDirichletAllocation(n_components=8, random_state=0)"
            ]
          },
          "metadata": {},
          "execution_count": 198
        }
      ],
      "source": [
        "n_topics = 8\n",
        "lda2 = LDA(n_components=n_topics, learning_method='batch', random_state=0).fit(tf)   \n",
        "lda2"
      ]
    },
    {
      "cell_type": "code",
      "execution_count": 199,
      "metadata": {
        "id": "k06kSJ7XF6a2",
        "colab": {
          "base_uri": "https://localhost:8080/"
        },
        "outputId": "3efdf1be-28a7-46bc-d238-9e2114d8f945"
      },
      "outputs": [
        {
          "output_type": "stream",
          "name": "stdout",
          "text": [
            "(592, 8)\n"
          ]
        },
        {
          "output_type": "execute_result",
          "data": {
            "text/plain": [
              "array([[0.00595395, 0.00595438, 0.00595399, ..., 0.00595434, 0.00595358,\n",
              "        0.00595584],\n",
              "       [0.00568442, 0.00569426, 0.00568425, ..., 0.0056843 , 0.00568906,\n",
              "        0.96019218],\n",
              "       [0.00892997, 0.93747751, 0.00893456, ..., 0.00893271, 0.0089311 ,\n",
              "        0.00893355],\n",
              "       ...,\n",
              "       [0.00431263, 0.00431386, 0.96980473, ..., 0.00431332, 0.00431542,\n",
              "        0.00431527],\n",
              "       [0.0062507 , 0.95620393, 0.00626539, ..., 0.00625925, 0.00625509,\n",
              "        0.00626066],\n",
              "       [0.00892913, 0.00893645, 0.00894306, ..., 0.00894299, 0.00893843,\n",
              "        0.93744004]])"
            ]
          },
          "metadata": {},
          "execution_count": 199
        }
      ],
      "source": [
        "vsm_topics = lda2.transform(tf)\n",
        "print(vsm_topics.shape)\n",
        "vsm_topics"
      ]
    },
    {
      "cell_type": "code",
      "execution_count": 200,
      "metadata": {
        "id": "yuNLNNAhF9wR",
        "colab": {
          "base_uri": "https://localhost:8080/",
          "height": 861
        },
        "outputId": "2b7cf6ef-f0af-475d-cd67-b0364fa73a06"
      },
      "outputs": [
        {
          "output_type": "execute_result",
          "data": {
            "text/html": [
              "\n",
              "<link rel=\"stylesheet\" type=\"text/css\" href=\"https://cdn.jsdelivr.net/gh/bmabey/pyLDAvis@3.3.1/pyLDAvis/js/ldavis.v1.0.0.css\">\n",
              "\n",
              "\n",
              "<div id=\"ldavis_el3571398062858135843298933749\"></div>\n",
              "<script type=\"text/javascript\">\n",
              "\n",
              "var ldavis_el3571398062858135843298933749_data = {\"mdsDat\": {\"x\": [0.14665374751479654, -0.13700919066839412, 0.10895314923240314, -0.00911963461401271, -0.00773591338064725, -0.06228462186795158, 0.0325830097586909, -0.07204054597488463], \"y\": [0.045382085830122626, -0.10006192458150891, -0.16565580740429614, 0.1031396858323022, 0.01841452172003937, 0.04671305495510379, 0.05187603069701331, 0.000192352951223933], \"topics\": [1, 2, 3, 4, 5, 6, 7, 8], \"cluster\": [1, 1, 1, 1, 1, 1, 1, 1], \"Freq\": [26.07034282081776, 18.25471803373636, 16.09699989921573, 10.512923616739469, 7.986441810110303, 7.968333630419997, 7.555759507653713, 5.554480681306676]}, \"tinfo\": {\"Term\": [\"stunting\", \"bkkbn\", \"pandemi\", \"tubuh\", \"prokes\", \"redakan\", \"angka\", \"balita\", \"indonesia\", \"erick\", \"wapres\", \"gizi\", \"meranti\", \"kepulauan\", \"like\", \"thohir\", \"target\", \"tumbuh\", \"anak\", \"percepatan\", \"upaya\", \"meningkatkan\", \"asi\", \"orang\", \"atasi\", \"asupan\", \"bayi\", \"terkait\", \"amin\", \"daya\", \"erick\", \"meranti\", \"kepulauan\", \"thohir\", \"sungai\", \"tohor\", \"teratasi\", \"tertinggi\", \"menangani\", \"gencar\", \"menular\", \"gencarnya\", \"bumn\", \"meningkatnya\", \"titipkan\", \"ditemukan\", \"terkena\", \"antari\", \"jaya\", \"unicef\", \"pesan\", \"hak\", \"surabaya\", \"giat\", \"asemrowo\", \"bhabinkamtibmas\", \"gelar\", \"pelabuhan\", \"perakpastibisa\", \"polres\", \"pilar\", \"66\", \"indonesia\", \"balita\", \"wilayah\", \"pemerintah\", \"data\", \"erickthohir\", \"menteri\", \"mengalami\", \"sehat\", \"susu\", \"stunting\", \"membantu\", \"anak\", \"kematian\", \"gizi\", \"buruk\", \"yg\", \"negara\", \"makanan\", \"kesehatan\", \"pencegahan\", \"ya\", \"atasi\", \"daya\", \"maag\", \"melancarkan\", \"membersihkan\", \"menyusui\", \"racun\", \"sembelit\", \"tahan\", \"meningkatkan\", \"06\", \"15\", \"18\", \"kehamilan\", \"21\", \"asi\", \"standar\", \"tubuh\", \"dikit\", \"sam_ardi\", \"standarnya\", \"melahirkan\", \"webinar\", \"tk\", \"rakor\", \"zay\", \"anakku\", \"skrang\", \"sepertimu\", \"iongiess\", \"03\", \"00\", \"hamil\", \"asupan\", \"2021\", \"12\", \"anak\", \"gizi\", \"gerakan\", \"covid\", \"buruk\", \"makan\", \"yg\", \"tumbuh\", \"stunting\", \"sih\", \"gagal\", \"ga\", \"ya\", \"bkkbn\", \"prokes\", \"redakan\", \"wapres\", \"like\", \"amin\", \"ma\", \"ruf\", \"share\", \"bayi2\", \"haloo\", \"tolong\", \"digital\", \"terima\", \"kakak\", \"linknya\", \"terhindar\", \"2024\", \"target\", \"kunci\", \"teknologi\", \"meningkat\", \"sdh\", \"terkait\", \"pandemi\", \"utama\", \"menekan\", \"14\", \"batuk\", \"intesif\", \"video\", \"upaya\", \"percepatan\", \"prevalensi\", \"kasih\", \"penanganan\", \"stunting\", \"angka\", \"anak\", \"pencegahan\", \"bantu\", \"gizi\", \"daerah\", \"yg\", \"buruk\", \"barat\", \"cisempur\", \"halopuan\", \"maharani\", \"luwu\", \"jabar\", \"pinrang\", \"kerjaan\", \"sumedang\", \"bimgi\", \"kekerdilan\", \"alami\", \"padi\", \"asumsico\", \"alias\", \"klaim\", \"bagikan\", \"tpk\", \"duit\", \"akar\", \"ineu\", \"purwadewi\", \"jawa\", \"jatinangor\", \"puan\", \"penggerak\", \"adekku\", \"nenekku\", \"official_bimgi\", \"pengurus\", \"riset\", \"kamis\", \"tim\", \"dasar\", \"kabupaten\", \"melawan\", \"pkk\", \"nggak\", \"ketua\", \"kerja\", \"bener\", \"tumbuh\", \"stunting\", \"bayi\", \"gak\", \"gagal\", \"2018\", \"kecamatan\", \"gizi\", \"yg\", \"kesehatan\", \"buruk\", \"desa\", \"indonesia\", \"balita\", \"makanan\", \"anak\", \"angka\", \"forum\", \"kumparan\", \"nu\", \"rendahnya\", \"breakfast\", \"challenge\", \"tamba_richy\", \"lupaudahmakan\", \"dengerin\", \"lemak\", \"it\", \"setrauma\", \"bip\", \"pelatnis\", \"bar\", \"cenderung\", \"konsep\", \"pahlawan\", \"gadget\", \"kepinteran\", \"senjata\", \"terburuk\", \"dipengaruhi\", \"dp2\", \"fasilitator\", \"lambung\", \"keburu\", \"hemat\", \"dorong\", \"bergerak\", \"dewasa\", \"pandji\", \"gemuk\", \"kayak\", \"mas\", \"dikasih\", \"kualitas\", \"salah\", \"yaman\", \"sofianpalupi\", \"akses\", \"karna\", \"gizi\", \"stunting\", \"buruk\", \"bayi\", \"tau\", \"penurunan\", \"kalo\", \"desa\", \"my\", \"anak\", \"aja\", \"percepatan\", \"makanan\", \"angka\", \"yg\", \"12\", \"orang\", \"ga\", \"indonesia\", \"bervitamin\", \"gunung\", \"aisyiyah\", \"sinjai\", \"beras\", \"kerdil\", \"umik\", \"bencana\", \"erupsi\", \"jatim\", \"lokasi\", \"memenuhi\", \"pengungsian\", \"hipotiroid\", \"konawe\", \"ciri\", \"gelontorkan\", \"keluarganya\", \"biaya\", \"kga\", \"bokong\", \"saran\", \"kasian\", \"daramata\", \"nurhilda\", \"seto\", \"memetakan\", \"memparihatinkan\", \"bulog\", \"diam\", \"lomba\", \"yaa\", \"kebutuhan\", \"peduli\", \"nya\", \"ntt\", \"bb\", \"bantuan\", \"fortivit\", \"kupang\", \"biar\", \"growth\", \"gagal\", \"cegah\", \"tumbuh\", \"gizi\", \"tp\", \"anak\", \"rumah\", \"balita\", \"stunting\", \"iya\", \"yg\", \"hati\", \"aja\", \"buruk\", \"desa\", \"ga\", \"pencegahan\", \"pkk\", \"pendek\", \"provinsi\", \"tangerang\", \"garut\", \"kelaparan\", \"afrika\", \"rapat\", \"penduduk\", \"ntb\", \"jokowi\", \"permata63x\", \"percepat\", \"kulisusu\", \"knp\", \"manajer\", \"melajari\", \"profesi\", \"buruh\", \"provide\", \"keren\", \"terencana\", \"macem2\", \"madagascar\", \"donri\", \"kemendespdtt\", \"malik_haramain\", \"tppkemendes\", \"maksudnya\", \"gerindra\", \"akb\", \"gosip\", \"anggota\", \"ntt\", \"puskesmas\", \"pola\", \"bersih\", \"halimiskandarnu\", \"kec\", \"bebas\", \"angka\", \"stunting\", \"persen\", \"optimal\", \"penurunan\", \"dprd\", \"menurunkan\", \"mumet\", \"makan\", \"berupaya\", \"negara\", \"keluarga\", \"gizi\", \"pencegahan\", \"anak\", \"prevalensi\", \"indonesia\", \"percepatan\", \"kesehatan\", \"balita\", \"cegah\", \"penanganan\", \"kebutuhan\", \"jd\", \"gulf\", \"uhamka\", \"balikpapan\", \"ogai\", \"tanggap\", \"kelebihan\", \"hamka\", \"loh\", \"muda\", \"birthday\", \"sekarang\", \"ibuk\", \"iwak\", \"kah\", \"tingginya\", \"trs\", \"tb\", \"asupannya\", \"bbrp\", \"bnyk\", \"cewenya\", \"diet2\", \"gembul2\", \"klanadestin\", \"masi\", \"ngomel\", \"that\", \"was2\", \"why\", \"alasan\", \"jurusan\", \"hebat\", \"fasilitas\", \"bikin\", \"makasih\", \"mulu\", \"segini\", \"pengen\", \"mulut\", \"dibilang\", \"halo\", \"orang\", \"doang\", \"sampe\", \"udah\", \"pas\", \"gizi\", \"tuh\", \"ga\", \"bayi\", \"anak\", \"tumbuh\", \"anaknya\", \"buruk\", \"kekurangan\", \"masuk\", \"bb\", \"kalo\", \"gagal\", \"ya\", \"susah\", \"salah\", \"kurus\", \"stunting\", \"yg\"], \"Freq\": [330.0, 24.0, 31.0, 30.0, 22.0, 21.0, 47.0, 82.0, 66.0, 27.0, 19.0, 229.0, 26.0, 26.0, 17.0, 25.0, 18.0, 42.0, 217.0, 24.0, 25.0, 16.0, 17.0, 24.0, 14.0, 33.0, 32.0, 16.0, 12.0, 13.0, 27.144604341052688, 26.299663573858624, 25.454691621682482, 24.60970028082455, 14.469987471054699, 14.469987471054695, 12.780166337930414, 12.780051695414691, 9.40028762532624, 9.400270481751202, 7.710348276198913, 6.865378586961722, 6.865248691061708, 6.020408918620783, 6.020388955857904, 6.019106156685834, 5.175439243928242, 5.17542455235247, 5.17542455235247, 5.17541252722179, 5.175401228911988, 11.90950740273085, 10.23042822885181, 10.245369510925181, 4.330469575288182, 4.330469575288182, 4.330469575288182, 4.330469575288182, 4.330469575288182, 4.330469575288182, 8.555403809910004, 7.71046508926356, 50.88666164708268, 61.084916448462906, 10.245232735606509, 14.470113419694997, 11.915112830103661, 16.845471765195477, 10.122236251900555, 17.63521204409877, 16.911428361312577, 13.284543730783733, 148.3321484783767, 9.0830777632393, 65.27242549016907, 12.780321575858263, 57.789889798364065, 29.73682035571926, 25.16662728399029, 10.399698407972497, 12.060854725714579, 12.344320637427252, 10.997011813682143, 10.39019667960391, 13.977970870450413, 13.161862259291073, 12.345622626807666, 12.345622626807666, 12.345622626807666, 12.345622626807666, 12.345622626807666, 12.345622626807666, 12.345622626807666, 15.610669559805505, 6.631946520388866, 6.63187457430104, 5.81570627469924, 5.815620337826097, 5.813799981976373, 15.610585392131561, 8.264426323814257, 26.121359537344215, 3.366988210837896, 3.3669881996862316, 3.3669881962799133, 3.3669840160375477, 3.3669408843104294, 7.448263784449594, 3.290230362609741, 2.5507486494845777, 2.5507486492676583, 2.550748648114516, 2.550748606737681, 2.5507486037664373, 4.999492359125243, 9.896551576167846, 16.316340947229452, 20.950581353169866, 17.443228087056866, 14.846577677553332, 73.41851729767765, 75.81505261913975, 4.998408741014337, 5.8157560307670435, 31.147571528451127, 12.246546614644712, 17.290537946351012, 12.333579061537296, 20.298674422631542, 6.632051573809492, 7.447628983156982, 7.442712100826351, 6.9262675731518115, 24.021210382115065, 21.629130242100157, 20.831765475906064, 18.43960296324116, 16.844789701436387, 12.060241993258195, 11.263111645553334, 11.263111645553334, 8.87085919856644, 8.073560358661851, 8.073557625048005, 8.073557625048005, 8.073536517762255, 8.073463895477937, 7.276171678941753, 7.276171678941753, 7.276171678941753, 5.681394316267904, 15.997692275273314, 4.086616943984123, 7.276206798609682, 3.28921631398407, 3.28920520595118, 13.656065627072715, 26.28865150850926, 7.045729268496001, 5.68171420345988, 10.465988374051447, 2.4918396055784897, 2.4918395807867566, 8.073791816993742, 18.44727067798722, 16.261951276792196, 11.284631501312589, 9.668489394756064, 15.196170490254184, 72.66626384669794, 20.00204904574811, 38.56728457568714, 15.876388274941633, 11.310607516321344, 28.119526333711704, 8.779366949714051, 16.8036313100473, 15.65239024974544, 5.9787534315182045, 4.5071152777663155, 4.50710225223595, 3.7712603445607273, 3.771253467206834, 3.771213414643798, 3.035406619953598, 3.035399986424643, 5.935958489881503, 2.2995631022542127, 2.299563096921556, 2.299563087995844, 2.299563085465171, 2.2995630831365417, 2.299563076051781, 2.2995630534897122, 2.2995558033410886, 2.2995507328778917, 2.299541701679415, 2.299533960651655, 2.29953531907298, 2.29953531907298, 5.078142793958358, 5.979057197293407, 3.771332860604547, 3.7500050532062668, 1.563702907863299, 1.563702905366514, 1.5637029050113942, 1.5637029050113942, 3.0354440106996843, 4.383218263267438, 5.8790018567155995, 3.771369526766502, 7.907438681340621, 3.7715427589367736, 6.1894365133343285, 4.50724184850824, 6.172604995163454, 4.256996337743826, 4.492555260518895, 10.394118608615639, 32.48590068517499, 8.694135286445524, 6.715532609535692, 7.450686653885605, 3.035418296771272, 4.30716444753582, 15.278459307809365, 9.991954364937895, 6.436621569560279, 7.450290697890444, 5.145929349124099, 6.241804911872547, 5.970348023282368, 4.807817484051889, 4.524717143992284, 4.22088864467353, 2.844895209979361, 2.844141175374914, 2.155246968864764, 2.155228341590082, 2.1552257855560626, 2.1552257855560626, 2.155197394414451, 3.5345967416018618, 1.4655679511885042, 1.4655679504180612, 1.4655679497836978, 1.465567949099347, 1.4655679468105178, 1.4655679468105178, 1.4655679462570739, 1.4655679450166037, 1.4655679450166037, 1.4655679448038847, 1.4655679427988233, 1.4655679427988233, 1.4655679427988233, 1.4655679420974028, 1.4655679406525322, 1.4655679375903203, 1.4655679375903203, 1.465567932725597, 1.4655679271014017, 1.4655679207089878, 1.4655378183620982, 1.4655385608421598, 4.224590699422417, 3.534900088386978, 4.224795012711832, 2.1555069113684686, 2.1552770059062856, 2.845002554975432, 2.8451854892733244, 5.385681347524693, 3.050559991865671, 3.534833264386234, 2.1552284258100554, 2.84496225659845, 16.170536089773574, 18.734257664398275, 10.108125695921538, 5.604410319947886, 2.845326489349179, 4.071124324201307, 4.224612158995984, 4.224745837969821, 2.007035537413023, 9.922309507160884, 3.5348073427114466, 3.5346628569855914, 3.131041117687983, 3.3484267876345073, 3.5345212931719434, 2.8450054805194482, 2.8450333661229097, 2.8450386030276125, 2.9963631016211405, 2.862204153276326, 2.8621647173287483, 2.168336483312329, 2.168242515402214, 4.943921699529194, 1.4744688062973441, 1.4744688036603832, 1.4744688026334194, 1.4744688026334194, 1.4744688026334194, 1.4744688026334194, 1.4744688026334194, 1.4744688026334194, 1.4744688019067294, 1.4744687995472552, 1.474468796334674, 1.4744687892099995, 1.4744666285343209, 1.4744644499742752, 1.4744644499742752, 1.4744519289049514, 1.4743863351500763, 1.4743874275670252, 1.474381559145995, 1.474381559145995, 1.474381559145995, 1.4736425123980306, 1.4734250029140754, 4.943840316973945, 0.7806011307517551, 1.47448544163316, 2.1683630777421867, 4.931720734806127, 3.512871646559209, 3.556445069661413, 3.5561275015090543, 3.4627935735226214, 3.5562116779613286, 2.1683403620689794, 2.1683261588540104, 2.862302927967299, 2.168402845032387, 5.638252939337107, 3.556149194365232, 6.332065690610973, 14.156336085861795, 4.000996399180826, 13.112498074328506, 2.0649754547271697, 6.331919716676528, 10.15864610530965, 2.168605107733868, 5.496509844620071, 2.1683800787273353, 2.862386274347371, 4.314454589446956, 2.8523849331721474, 2.862253076407997, 2.290202556498201, 2.1754300858670836, 2.1685322490033525, 5.534358211104681, 3.490917412452844, 2.809795918928705, 2.8097904818784896, 2.809777586322355, 2.1286247469116835, 2.128622129542221, 2.128617231570561, 2.1286098067235786, 2.1285551081267693, 2.1276302978034525, 1.447470629292341, 1.44747062928023, 1.44747062928023, 1.44747062928023, 1.44747062928023, 1.4474706268048796, 1.4474706268048796, 1.447470626404779, 1.447470626404779, 1.447470626390654, 1.4474706259961907, 1.4474706250272167, 1.4474706250241995, 1.4474706250241995, 1.4474706250241995, 1.447470624080118, 1.4474706214818298, 1.447470612119692, 1.447470612119692, 2.761422550681839, 4.853386217633119, 3.491291426241109, 2.1285877680769363, 2.1285869835559814, 2.1286557574297524, 2.128652744995108, 2.628512774325538, 10.366804688823155, 25.105366542272254, 3.3205915043134735, 1.9621838984973057, 4.638312607263836, 2.380898904218738, 2.7438400958912665, 1.8731645508448171, 4.853874596997283, 2.128699857131334, 3.366379097642846, 2.810049763532307, 8.71717053915794, 4.402823359748473, 4.690837266410447, 2.674850947949911, 3.2763757827191435, 2.6263617397903913, 2.4770046118375406, 2.297781023824234, 2.184700994321296, 2.1713205697680333, 2.128775494452529, 2.128732620378943, 2.561744265845225, 1.9407153519996507, 1.319686438337982, 1.319686438337982, 1.319686438337982, 1.319686438330708, 1.319686435590441, 1.319686435590441, 1.319686435590441, 1.319686435440635, 1.319686435440635, 1.3196864353333149, 1.3196863989198129, 1.3196624342022598, 1.3192071169729471, 1.3192052977094362, 1.940737510468933, 0.6986575240899209, 0.6986575240899209, 0.6986575240899209, 0.6986575240899209, 0.6986575240899209, 0.6986575240899209, 0.6986575240899209, 0.6986575240899209, 0.6986575240899209, 0.6986575240899209, 0.6986575240899209, 0.6986575240899209, 0.6986575234888187, 1.319702556342267, 1.3196995435889851, 1.319708390845506, 4.425143096552259, 1.9408158556762318, 1.319677292629894, 1.3197435988959383, 0.9789813797291252, 0.9789657797753881, 2.5619686964997537, 1.9408182144171968, 5.599685850963358, 1.9407957333121961, 3.075925971100054, 4.008662009400735, 2.5620033598388545, 13.694029946328893, 2.562015548398586, 4.425289962040022, 4.425737354935649, 7.5253586842015965, 3.804173796758763, 2.2779823220413333, 4.281314025141572, 1.9409463353756122, 1.9409198189833825, 2.0242432745403405, 2.562023638966353, 2.5619619950459662, 2.4294923293893165, 1.9408602001892585, 1.9409800695050259, 1.8729858909614174, 2.8853360758945406, 1.993384954093483], \"Total\": [330.0, 24.0, 31.0, 30.0, 22.0, 21.0, 47.0, 82.0, 66.0, 27.0, 19.0, 229.0, 26.0, 26.0, 17.0, 25.0, 18.0, 42.0, 217.0, 24.0, 25.0, 16.0, 17.0, 24.0, 14.0, 33.0, 32.0, 16.0, 12.0, 13.0, 27.774047969226057, 26.929083285707282, 26.08411346839389, 25.23913861577267, 15.099496159917505, 15.099496159917503, 13.409569724455821, 13.409549979533002, 10.029691009746163, 10.029687944091767, 8.339751653614353, 7.494781973047566, 7.494759826311121, 6.649812296042141, 6.649811226026867, 6.649738934124628, 5.8048426179567185, 5.804839769610808, 5.804839769610808, 5.804839167310261, 5.804838738972452, 13.360541329275696, 11.56162019788633, 11.610535373466641, 4.959872940893445, 4.959872940893445, 4.959872940893445, 4.959872940893445, 4.959872940893445, 4.959872940893445, 9.982114844144355, 9.075626931562196, 66.34848623539587, 82.01232785495944, 12.34637937014006, 17.870832515624162, 14.6281945843103, 21.61237146406101, 12.462507975756193, 24.211336707978372, 23.055153128751563, 17.37284375636247, 330.66659382075585, 11.405755342422438, 217.0339480396276, 19.568960860181136, 229.74100072014707, 102.77616218895307, 82.40552985714713, 15.004297099940398, 28.28633003089331, 34.50527424019021, 39.0233341762067, 27.352710634867087, 14.611097389378422, 13.794857770218503, 12.978618197890025, 12.978618197890025, 12.978618197890025, 12.978618197890025, 12.978618197890025, 12.978618197890025, 12.978618197890025, 16.933276568173195, 7.264941144386946, 7.264934293309027, 6.448701593340316, 6.448696487553919, 6.448768687369159, 17.63131803495788, 9.518450978565646, 30.238099683169768, 3.9999828448655776, 3.9999828432794424, 3.9999828427929116, 3.9999827485558654, 3.9999817517226828, 8.926147411482479, 4.002656331047158, 3.183743272265465, 3.1837432722346066, 3.183743272068422, 3.1837432661848752, 3.1837432657588756, 6.3263335681534025, 12.745814470682118, 23.468073313540213, 33.301177228252456, 27.65808096040821, 23.837809656325142, 217.0339480396276, 229.74100072014707, 6.9430578155900085, 8.655985392438412, 102.77616218895307, 28.389880434539126, 82.40552985714713, 42.29868142290853, 330.66659382075585, 12.337269054787376, 28.97719943675539, 30.773526873630676, 27.352710634867087, 24.656682103647167, 22.264511779395143, 21.46712843607756, 19.07496287550863, 17.480176617022313, 12.69586959356134, 11.898465449010434, 11.898465449010434, 9.50628015502287, 8.708911344724807, 8.708910740341963, 8.708910740341963, 8.708912764409288, 8.708890010405094, 7.911522665149601, 7.911522665149601, 7.911522665149601, 6.316745305607689, 18.03789855092637, 4.721967944909254, 8.5926904367409, 3.924577713769953, 3.9245806432369723, 16.51492625266891, 31.839436326665204, 8.570085468158249, 6.937939976309448, 12.790990214958182, 3.1271905883015347, 3.127190585299762, 10.235035943657223, 25.40964322981254, 24.274871273252238, 15.991871019198602, 13.488246463306064, 25.23987768480687, 330.66659382075585, 47.27127145927968, 217.0339480396276, 39.0233341762067, 23.230573262846793, 229.74100072014707, 12.891629917679834, 82.40552985714713, 102.77616218895307, 6.621910506202723, 5.150189198635802, 5.150186530925867, 4.414328061335839, 4.414328147590624, 4.4143265658558875, 3.6784667284537456, 3.6784687929596283, 7.2998845633176535, 2.942605140708131, 2.9426051404890115, 2.9426051401283306, 2.942605140011385, 2.9426051399246544, 2.9426051396384976, 2.942605138700887, 2.942605936179535, 2.9426061721121974, 2.9426083128131366, 2.9426029754651606, 2.94260925699017, 2.94260925699017, 6.755451575374944, 7.992765762924751, 5.104011652201251, 5.262438706426933, 2.2067449443362297, 2.2067449442304836, 2.2067449442185003, 2.2067449442185003, 4.359629529973054, 6.526667172152561, 9.536719663350386, 5.9117219200255935, 13.63434257509935, 6.104225524891492, 12.894761555974291, 8.41513388612546, 13.805817304343638, 8.032133442204053, 9.12105464363415, 42.29868142290853, 330.66659382075585, 32.16538727300181, 20.31643147746242, 28.97719943675539, 5.040790270820255, 10.076411709352298, 229.74100072014707, 82.40552985714713, 34.50527424019021, 102.77616218895307, 25.124848686062194, 66.34848623539587, 82.01232785495944, 28.28633003089331, 217.0339480396276, 47.27127145927968, 3.493746363191861, 3.4937753336590567, 2.8040616709543937, 2.804064581561524, 2.80406555955303, 2.80406555955303, 2.8040728360059184, 4.804456992995988, 2.114382630841807, 2.114382630865375, 2.114382630885557, 2.1143826309113334, 2.1143826309901934, 2.1143826309901934, 2.1143826310046148, 2.114382631047532, 2.114382631047532, 2.1143826310567015, 2.114382631119411, 2.114382631119411, 2.114382631119411, 2.1143826311462504, 2.11438263119316, 2.1143826312979512, 2.1143826312979512, 2.1143826314584926, 2.114382631647655, 2.114382631861848, 2.1143846478846817, 2.1143892450763278, 7.95388340800798, 6.403362729988264, 8.75516682379378, 3.6202535282549104, 3.6202957339445208, 5.624866091842245, 5.8719067191602266, 17.01442065231805, 7.448569513787996, 10.021139050633755, 4.166389887654156, 7.487368623919621, 229.74100072014707, 330.66659382075585, 102.77616218895307, 32.16538727300181, 9.080254508457715, 20.797812915157763, 24.408416076531417, 25.124848686062194, 4.463738568909848, 217.0339480396276, 21.32573019388657, 24.274871273252238, 28.28633003089331, 47.27127145927968, 82.40552985714713, 23.837809656325142, 24.19544286900202, 30.773526873630676, 66.34848623539587, 3.510495267582601, 3.510498660475804, 2.816627588550995, 2.8166346607351835, 7.063812850370902, 2.1227599097074137, 2.1227599097736043, 2.122759909801963, 2.122759909801963, 2.122759909801963, 2.122759909801963, 2.122759909801963, 2.122759909801963, 2.1227599098213283, 2.1227599098852505, 2.1227599099603163, 2.12275991015543, 2.122760293908192, 2.122760678265623, 2.122760678265623, 2.122763583453074, 2.122772207559147, 2.122774253234604, 2.122767409168845, 2.122767409168845, 2.122767409168845, 2.1228831593200357, 2.1227408112543946, 8.535538827532644, 1.4288922308217078, 2.7438022664991806, 4.282625474489203, 11.443353375414874, 8.27205868954904, 9.497453642585041, 9.593564595280693, 9.196048259726268, 9.76095607080461, 4.288350473633876, 4.288352988757979, 7.324558616070463, 4.411398083215049, 28.97719943675539, 12.77020130094527, 42.29868142290853, 229.74100072014707, 16.579532528605164, 217.0339480396276, 4.373782084354232, 82.01232785495944, 330.66659382075585, 5.815855464637634, 82.40552985714713, 7.518847922371071, 21.32573019388657, 102.77616218895307, 25.124848686062194, 30.773526873630676, 39.0233341762067, 12.894761555974291, 8.399118588847042, 6.184335981287117, 4.140844705270627, 3.45967516204633, 3.4596764706362957, 3.459679571317707, 2.7785145594003633, 2.7785149342689475, 2.778516365787192, 2.778517162582535, 2.778525844934643, 2.7787031981221824, 2.0973498567337496, 2.097349856734636, 2.097349856734636, 2.097349856734636, 2.097349856734636, 2.0973498568527056, 2.0973498568527056, 2.0973498568746964, 2.0973498568746964, 2.097349856875066, 2.0973498568944313, 2.097349856942291, 2.0973498569424263, 2.0973498569424263, 2.0973498569424263, 2.0973498569863938, 2.097349857116693, 2.097349857574496, 2.097349857574496, 4.285507831491042, 9.593564595280693, 6.675640456562249, 3.5143833606527344, 3.5143834236567324, 3.5758979987480366, 3.623476511731401, 5.132939483962626, 47.27127145927968, 330.66659382075585, 9.061232537519007, 3.6634864722258813, 20.797812915157763, 5.701704987478964, 8.084707375537263, 3.619491528529176, 28.389880434539126, 4.9823107157996125, 15.004297099940398, 10.743562291721119, 229.74100072014707, 39.0233341762067, 217.0339480396276, 15.991871019198602, 66.34848623539587, 24.274871273252238, 34.50527424019021, 82.01232785495944, 12.77020130094527, 25.23987768480687, 11.443353375414874, 5.255938732774851, 3.219140212409543, 2.5981112974330083, 1.9770823824244572, 1.9770823824244572, 1.9770823824244572, 1.9770823824255448, 1.9770823829093507, 1.9770823829093507, 1.9770823829093507, 1.9770823829360151, 1.9770823829360151, 1.9770823829552033, 1.9770823893927496, 1.9770891985669543, 1.977170787670956, 1.9771832881335105, 3.291976378236037, 1.356053467518933, 1.356053467518933, 1.356053467518933, 1.356053467518933, 1.356053467518933, 1.356053467518933, 1.356053467518933, 1.356053467518933, 1.356053467518933, 1.356053467518933, 1.356053467518933, 1.356053467518933, 1.3560534676250733, 2.658243475185037, 2.65824376679488, 2.712938519611336, 10.433108340951435, 4.230558848644762, 2.774474692844467, 2.8220314427259465, 2.0170427371582575, 2.0170445668624866, 7.866077853704629, 5.407180600111439, 24.19544286900202, 5.60559185098096, 11.572571112371714, 18.440730501829638, 9.504453219364262, 229.74100072014707, 10.211574409849929, 30.773526873630676, 32.16538727300181, 217.0339480396276, 42.29868142290853, 10.359608047337604, 102.77616218895307, 7.421472758325747, 7.684910299929306, 9.196048259726268, 24.408416076531417, 28.97719943675539, 27.352710634867087, 11.813069602390703, 17.01442065231805, 13.950139711467582, 330.66659382075585, 82.40552985714713], \"Category\": [\"Default\", \"Default\", \"Default\", \"Default\", \"Default\", \"Default\", \"Default\", \"Default\", \"Default\", \"Default\", \"Default\", \"Default\", \"Default\", \"Default\", \"Default\", \"Default\", \"Default\", \"Default\", \"Default\", \"Default\", \"Default\", \"Default\", \"Default\", \"Default\", \"Default\", \"Default\", \"Default\", \"Default\", \"Default\", \"Default\", \"Topic1\", \"Topic1\", \"Topic1\", \"Topic1\", \"Topic1\", \"Topic1\", \"Topic1\", \"Topic1\", \"Topic1\", \"Topic1\", \"Topic1\", \"Topic1\", \"Topic1\", \"Topic1\", \"Topic1\", \"Topic1\", \"Topic1\", \"Topic1\", \"Topic1\", \"Topic1\", \"Topic1\", \"Topic1\", \"Topic1\", \"Topic1\", \"Topic1\", \"Topic1\", \"Topic1\", \"Topic1\", \"Topic1\", \"Topic1\", \"Topic1\", \"Topic1\", \"Topic1\", \"Topic1\", \"Topic1\", \"Topic1\", \"Topic1\", \"Topic1\", \"Topic1\", \"Topic1\", \"Topic1\", \"Topic1\", \"Topic1\", \"Topic1\", \"Topic1\", \"Topic1\", \"Topic1\", \"Topic1\", \"Topic1\", \"Topic1\", \"Topic1\", \"Topic1\", \"Topic1\", \"Topic1\", \"Topic2\", \"Topic2\", \"Topic2\", \"Topic2\", \"Topic2\", \"Topic2\", \"Topic2\", \"Topic2\", \"Topic2\", \"Topic2\", \"Topic2\", \"Topic2\", \"Topic2\", \"Topic2\", \"Topic2\", \"Topic2\", \"Topic2\", \"Topic2\", \"Topic2\", \"Topic2\", \"Topic2\", \"Topic2\", \"Topic2\", \"Topic2\", \"Topic2\", \"Topic2\", \"Topic2\", \"Topic2\", \"Topic2\", \"Topic2\", \"Topic2\", \"Topic2\", \"Topic2\", \"Topic2\", \"Topic2\", \"Topic2\", \"Topic2\", \"Topic2\", \"Topic2\", \"Topic2\", \"Topic2\", \"Topic2\", \"Topic2\", \"Topic2\", \"Topic2\", \"Topic2\", \"Topic2\", \"Topic2\", \"Topic2\", \"Topic3\", \"Topic3\", \"Topic3\", \"Topic3\", \"Topic3\", \"Topic3\", \"Topic3\", \"Topic3\", \"Topic3\", \"Topic3\", \"Topic3\", \"Topic3\", \"Topic3\", \"Topic3\", \"Topic3\", \"Topic3\", \"Topic3\", \"Topic3\", \"Topic3\", \"Topic3\", \"Topic3\", \"Topic3\", \"Topic3\", \"Topic3\", \"Topic3\", \"Topic3\", \"Topic3\", \"Topic3\", \"Topic3\", \"Topic3\", \"Topic3\", \"Topic3\", \"Topic3\", \"Topic3\", \"Topic3\", \"Topic3\", \"Topic3\", \"Topic3\", \"Topic3\", \"Topic3\", \"Topic3\", \"Topic3\", \"Topic3\", \"Topic3\", \"Topic3\", \"Topic4\", \"Topic4\", \"Topic4\", \"Topic4\", \"Topic4\", \"Topic4\", \"Topic4\", \"Topic4\", \"Topic4\", \"Topic4\", \"Topic4\", \"Topic4\", \"Topic4\", \"Topic4\", \"Topic4\", \"Topic4\", \"Topic4\", \"Topic4\", \"Topic4\", \"Topic4\", \"Topic4\", \"Topic4\", \"Topic4\", \"Topic4\", \"Topic4\", \"Topic4\", \"Topic4\", \"Topic4\", \"Topic4\", \"Topic4\", \"Topic4\", \"Topic4\", \"Topic4\", \"Topic4\", \"Topic4\", \"Topic4\", \"Topic4\", \"Topic4\", \"Topic4\", \"Topic4\", \"Topic4\", \"Topic4\", \"Topic4\", \"Topic4\", \"Topic4\", \"Topic4\", \"Topic4\", \"Topic4\", \"Topic4\", \"Topic4\", \"Topic4\", \"Topic4\", \"Topic4\", \"Topic4\", \"Topic4\", \"Topic4\", \"Topic4\", \"Topic4\", \"Topic5\", \"Topic5\", \"Topic5\", \"Topic5\", \"Topic5\", \"Topic5\", \"Topic5\", \"Topic5\", \"Topic5\", \"Topic5\", \"Topic5\", \"Topic5\", \"Topic5\", \"Topic5\", \"Topic5\", \"Topic5\", \"Topic5\", \"Topic5\", \"Topic5\", \"Topic5\", \"Topic5\", \"Topic5\", \"Topic5\", \"Topic5\", \"Topic5\", \"Topic5\", \"Topic5\", \"Topic5\", \"Topic5\", \"Topic5\", \"Topic5\", \"Topic5\", \"Topic5\", \"Topic5\", \"Topic5\", \"Topic5\", \"Topic5\", \"Topic5\", \"Topic5\", \"Topic5\", \"Topic5\", \"Topic5\", \"Topic5\", \"Topic5\", \"Topic5\", \"Topic5\", \"Topic5\", \"Topic5\", \"Topic5\", \"Topic5\", \"Topic5\", \"Topic5\", \"Topic5\", \"Topic5\", \"Topic5\", \"Topic5\", \"Topic5\", \"Topic5\", \"Topic5\", \"Topic5\", \"Topic5\", \"Topic6\", \"Topic6\", \"Topic6\", \"Topic6\", \"Topic6\", \"Topic6\", \"Topic6\", \"Topic6\", \"Topic6\", \"Topic6\", \"Topic6\", \"Topic6\", \"Topic6\", \"Topic6\", \"Topic6\", \"Topic6\", \"Topic6\", \"Topic6\", \"Topic6\", \"Topic6\", \"Topic6\", \"Topic6\", \"Topic6\", \"Topic6\", \"Topic6\", \"Topic6\", \"Topic6\", \"Topic6\", \"Topic6\", \"Topic6\", \"Topic6\", \"Topic6\", \"Topic6\", \"Topic6\", \"Topic6\", \"Topic6\", \"Topic6\", \"Topic6\", \"Topic6\", \"Topic6\", \"Topic6\", \"Topic6\", \"Topic6\", \"Topic6\", \"Topic6\", \"Topic6\", \"Topic6\", \"Topic6\", \"Topic6\", \"Topic6\", \"Topic6\", \"Topic6\", \"Topic6\", \"Topic6\", \"Topic6\", \"Topic6\", \"Topic6\", \"Topic6\", \"Topic6\", \"Topic6\", \"Topic6\", \"Topic7\", \"Topic7\", \"Topic7\", \"Topic7\", \"Topic7\", \"Topic7\", \"Topic7\", \"Topic7\", \"Topic7\", \"Topic7\", \"Topic7\", \"Topic7\", \"Topic7\", \"Topic7\", \"Topic7\", \"Topic7\", \"Topic7\", \"Topic7\", \"Topic7\", \"Topic7\", \"Topic7\", \"Topic7\", \"Topic7\", \"Topic7\", \"Topic7\", \"Topic7\", \"Topic7\", \"Topic7\", \"Topic7\", \"Topic7\", \"Topic7\", \"Topic7\", \"Topic7\", \"Topic7\", \"Topic7\", \"Topic7\", \"Topic7\", \"Topic7\", \"Topic7\", \"Topic7\", \"Topic7\", \"Topic7\", \"Topic7\", \"Topic7\", \"Topic7\", \"Topic7\", \"Topic7\", \"Topic7\", \"Topic7\", \"Topic7\", \"Topic7\", \"Topic7\", \"Topic7\", \"Topic7\", \"Topic7\", \"Topic7\", \"Topic7\", \"Topic7\", \"Topic7\", \"Topic7\", \"Topic7\", \"Topic7\", \"Topic8\", \"Topic8\", \"Topic8\", \"Topic8\", \"Topic8\", \"Topic8\", \"Topic8\", \"Topic8\", \"Topic8\", \"Topic8\", \"Topic8\", \"Topic8\", \"Topic8\", \"Topic8\", \"Topic8\", \"Topic8\", \"Topic8\", \"Topic8\", \"Topic8\", \"Topic8\", \"Topic8\", \"Topic8\", \"Topic8\", \"Topic8\", \"Topic8\", \"Topic8\", \"Topic8\", \"Topic8\", \"Topic8\", \"Topic8\", \"Topic8\", \"Topic8\", \"Topic8\", \"Topic8\", \"Topic8\", \"Topic8\", \"Topic8\", \"Topic8\", \"Topic8\", \"Topic8\", \"Topic8\", \"Topic8\", \"Topic8\", \"Topic8\", \"Topic8\", \"Topic8\", \"Topic8\", \"Topic8\", \"Topic8\", \"Topic8\", \"Topic8\", \"Topic8\", \"Topic8\", \"Topic8\", \"Topic8\", \"Topic8\", \"Topic8\", \"Topic8\", \"Topic8\", \"Topic8\", \"Topic8\", \"Topic8\", \"Topic8\", \"Topic8\", \"Topic8\"], \"logprob\": [30.0, 29.0, 28.0, 27.0, 26.0, 25.0, 24.0, 23.0, 22.0, 21.0, 20.0, 19.0, 18.0, 17.0, 16.0, 15.0, 14.0, 13.0, 12.0, 11.0, 10.0, 9.0, 8.0, 7.0, 6.0, 5.0, 4.0, 3.0, 2.0, 1.0, -4.5076, -4.5392, -4.5719, -4.6056, -5.1367, -5.1367, -5.2609, -5.2609, -5.568, -5.568, -5.7662, -5.8823, -5.8823, -6.0136, -6.0136, -6.0138, -6.1648, -6.1648, -6.1648, -6.1648, -6.1648, -5.3314, -5.4834, -5.4819, -6.3431, -6.3431, -6.3431, -6.3431, -6.3431, -6.3431, -5.6622, -5.7662, -3.8792, -3.6965, -5.482, -5.1367, -5.331, -4.9847, -5.494, -4.9389, -4.9808, -5.2222, -2.8093, -5.6023, -3.6302, -5.2609, -3.7519, -4.4164, -4.5832, -5.467, -5.3188, -5.2956, -5.4111, -5.4679, -4.8149, -4.8751, -4.9391, -4.9391, -4.9391, -4.9391, -4.9391, -4.9391, -4.9391, -4.7044, -5.5605, -5.5605, -5.6918, -5.6918, -5.6922, -4.7044, -5.3404, -4.1896, -6.2384, -6.2384, -6.2384, -6.2384, -6.2384, -5.4444, -6.2614, -6.516, -6.516, -6.516, -6.516, -6.516, -5.8431, -5.1602, -4.6602, -4.4102, -4.5934, -4.7546, -3.1562, -3.1241, -5.8433, -5.6918, -4.0137, -4.9471, -4.6022, -4.9401, -4.4418, -5.5605, -5.4445, -5.4452, -5.5171, -4.1477, -4.2526, -4.2901, -4.4121, -4.5026, -4.8367, -4.9051, -4.9051, -5.1438, -5.238, -5.238, -5.238, -5.238, -5.238, -5.342, -5.342, -5.342, -5.5894, -4.5542, -5.9189, -5.342, -6.1359, -6.136, -4.7124, -4.0575, -5.3742, -5.5893, -4.9785, -6.4136, -6.4136, -5.238, -4.4117, -4.5378, -4.9032, -5.0577, -4.6056, -3.0407, -4.3308, -3.6742, -4.5618, -4.9009, -3.9901, -5.1542, -4.505, -4.576, -5.1124, -5.3949, -5.3949, -5.5732, -5.5732, -5.5732, -5.7902, -5.7902, -5.1195, -6.0679, -6.0679, -6.0679, -6.0679, -6.0679, -6.0679, -6.0679, -6.0679, -6.0679, -6.0679, -6.0679, -6.0679, -6.0679, -5.2756, -5.1123, -5.5731, -5.5788, -6.4535, -6.4535, -6.4535, -6.4535, -5.7902, -5.4228, -5.1292, -5.5731, -4.8328, -5.5731, -5.0777, -5.3949, -5.0804, -5.452, -5.3981, -4.5593, -3.4198, -4.7379, -4.9961, -4.8923, -5.7902, -5.4403, -4.1741, -4.5988, -5.0386, -4.8923, -5.2624, -5.0693, -5.1138, -5.3303, -5.391, -5.4605, -5.5802, -5.5804, -5.8578, -5.8578, -5.8578, -5.8578, -5.8578, -5.3631, -6.2435, -6.2435, -6.2435, -6.2435, -6.2435, -6.2435, -6.2435, -6.2435, -6.2435, -6.2435, -6.2435, -6.2435, -6.2435, -6.2435, -6.2435, -6.2435, -6.2435, -6.2435, -6.2435, -6.2435, -6.2435, -6.2435, -5.1848, -5.363, -5.1847, -5.8577, -5.8578, -5.5801, -5.5801, -4.942, -5.5104, -5.363, -5.8578, -5.5802, -3.8425, -3.6954, -4.3124, -4.9022, -5.58, -5.2218, -5.1848, -5.1848, -5.9291, -4.3309, -5.3631, -5.3631, -5.4843, -5.4172, -5.3631, -5.5801, -5.5801, -5.5801, -5.5283, -5.5718, -5.5719, -5.8495, -5.8495, -5.0253, -6.2351, -6.2351, -6.2351, -6.2351, -6.2351, -6.2351, -6.2351, -6.2351, -6.2351, -6.2351, -6.2351, -6.2351, -6.2351, -6.2351, -6.2351, -6.2352, -6.2352, -6.2352, -6.2352, -6.2352, -6.2352, -6.2357, -6.2359, -5.0253, -6.8711, -6.2351, -5.8495, -5.0278, -5.367, -5.3547, -5.3548, -5.3814, -5.3547, -5.8495, -5.8495, -5.5718, -5.8494, -4.8939, -5.3548, -4.7778, -3.9733, -5.2369, -4.0499, -5.8983, -4.7778, -4.3051, -5.8494, -4.9193, -5.8495, -5.5718, -5.1615, -5.5753, -5.5718, -5.7948, -5.8462, -5.8494, -4.8593, -5.3201, -5.5372, -5.5372, -5.5372, -5.8148, -5.8148, -5.8148, -5.8148, -5.8148, -5.8153, -6.2005, -6.2005, -6.2005, -6.2005, -6.2005, -6.2005, -6.2005, -6.2005, -6.2005, -6.2005, -6.2005, -6.2005, -6.2005, -6.2005, -6.2005, -6.2005, -6.2005, -6.2005, -6.2005, -5.5545, -4.9906, -5.32, -5.8148, -5.8148, -5.8148, -5.8148, -5.6039, -4.2317, -3.3472, -5.3701, -5.8962, -5.0359, -5.7028, -5.5609, -5.9426, -4.9905, -5.8148, -5.3564, -5.5371, -4.405, -5.088, -5.0247, -5.5864, -5.3835, -5.6047, -5.6632, -5.7383, -5.7888, -5.7949, -5.8147, -5.8147, -5.3219, -5.5995, -5.9852, -5.9852, -5.9852, -5.9852, -5.9852, -5.9852, -5.9852, -5.9852, -5.9852, -5.9852, -5.9852, -5.9852, -5.9855, -5.9855, -5.5995, -6.6212, -6.6212, -6.6212, -6.6212, -6.6212, -6.6212, -6.6212, -6.6212, -6.6212, -6.6212, -6.6212, -6.6212, -6.6212, -5.9852, -5.9852, -5.9852, -4.7753, -5.5995, -5.9852, -5.9851, -6.2838, -6.2838, -5.3218, -5.5995, -4.5399, -5.5995, -5.139, -4.8741, -5.3218, -3.6456, -5.3218, -4.7752, -4.7751, -4.2443, -4.9265, -5.4393, -4.8083, -5.5994, -5.5994, -5.5574, -5.3218, -5.3218, -5.3749, -5.5994, -5.5994, -5.635, -5.2029, -5.5727], \"loglift\": [30.0, 29.0, 28.0, 27.0, 26.0, 25.0, 24.0, 23.0, 22.0, 21.0, 20.0, 19.0, 18.0, 17.0, 16.0, 15.0, 14.0, 13.0, 12.0, 11.0, 10.0, 9.0, 8.0, 7.0, 6.0, 5.0, 4.0, 3.0, 2.0, 1.0, 1.3214, 1.3207, 1.3199, 1.3191, 1.3018, 1.3018, 1.2963, 1.2963, 1.2796, 1.2796, 1.2659, 1.2567, 1.2566, 1.2449, 1.2449, 1.2447, 1.2296, 1.2296, 1.2296, 1.2296, 1.2296, 1.2294, 1.222, 1.2193, 1.2087, 1.2087, 1.2087, 1.2087, 1.2087, 1.2087, 1.1901, 1.1814, 1.0791, 1.0498, 1.1578, 1.1333, 1.1392, 1.0952, 1.1364, 1.0274, 1.0345, 1.0761, 0.5427, 1.1167, 0.1429, 0.9183, -0.0358, 0.1042, 0.1582, 0.9778, 0.492, 0.3165, 0.0778, 0.3764, 1.6564, 1.6538, 1.6507, 1.6507, 1.6507, 1.6507, 1.6507, 1.6507, 1.6507, 1.6194, 1.6096, 1.6096, 1.5974, 1.5974, 1.5971, 1.579, 1.5595, 1.5544, 1.5285, 1.5285, 1.5285, 1.5285, 1.5285, 1.5197, 1.5047, 1.4791, 1.4791, 1.4791, 1.4791, 1.4791, 1.4654, 1.4477, 1.3373, 1.2373, 1.2398, 1.2272, 0.6169, 0.5921, 1.3721, 1.3031, 0.5069, 0.86, 0.1393, 0.4683, -1.0898, 1.08, 0.3421, 0.2813, 0.3273, 1.8004, 1.7976, 1.7965, 1.7927, 1.7895, 1.7752, 1.7717, 1.7717, 1.7574, 1.7508, 1.7508, 1.7508, 1.7508, 1.7508, 1.7428, 1.7428, 1.7428, 1.7205, 1.7065, 1.682, 1.6602, 1.6499, 1.6499, 1.6365, 1.635, 1.6307, 1.6268, 1.6259, 1.5994, 1.5994, 1.5893, 1.5063, 1.4259, 1.4779, 1.4936, 1.3192, 0.3113, 0.9665, 0.0989, 0.9272, 1.1068, -0.274, 1.4424, 0.2365, -0.0554, 2.1504, 2.1192, 2.1192, 2.0951, 2.0951, 2.0951, 2.0604, 2.0604, 2.0457, 2.006, 2.006, 2.006, 2.006, 2.006, 2.006, 2.006, 2.006, 2.006, 2.006, 2.006, 2.006, 2.006, 1.9672, 1.9623, 1.95, 1.9137, 1.9081, 1.9081, 1.9081, 1.9081, 1.8905, 1.8545, 1.7688, 1.8031, 1.7078, 1.7711, 1.5186, 1.6282, 1.4476, 1.6177, 1.5444, 0.849, -0.0677, 0.9443, 1.1456, 0.8944, 1.7454, 1.4026, -0.4579, 0.1427, 0.5735, -0.3717, 0.6669, -0.1111, -0.3675, 0.4804, -1.6179, -0.1633, 2.322, 2.3217, 2.2643, 2.2643, 2.2642, 2.2642, 2.2642, 2.2205, 2.1609, 2.1609, 2.1609, 2.1609, 2.1609, 2.1609, 2.1609, 2.1609, 2.1609, 2.1609, 2.1609, 2.1609, 2.1609, 2.1609, 2.1609, 2.1609, 2.1609, 2.1609, 2.1609, 2.1609, 2.1609, 2.1609, 1.8947, 1.9333, 1.7988, 2.0089, 2.0088, 1.8458, 1.8029, 1.3771, 1.6347, 1.4854, 1.8683, 1.5598, -0.1263, -0.3433, 0.2082, 0.7801, 1.367, 0.8965, 0.7734, 0.7445, 1.7281, -0.5578, 0.7302, 0.6006, 0.3264, -0.12, -0.6216, 0.4017, 0.3868, 0.1463, -0.5701, 2.3255, 2.3255, 2.2681, 2.2681, 2.1729, 2.1653, 2.1653, 2.1653, 2.1653, 2.1653, 2.1653, 2.1653, 2.1653, 2.1653, 2.1653, 2.1653, 2.1653, 2.1653, 2.1653, 2.1653, 2.1653, 2.1652, 2.1652, 2.1652, 2.1652, 2.1652, 2.1647, 2.1646, 1.9836, 1.9251, 1.9087, 1.8491, 1.688, 1.6732, 1.5474, 1.5373, 1.553, 1.52, 1.8478, 1.8477, 1.5901, 1.8195, 0.8928, 1.2513, 0.6306, -0.2571, 1.1081, -0.2768, 1.7792, -0.0316, -0.9531, 1.5432, -0.1778, 1.2863, 0.5214, -0.6409, 0.354, 0.1546, -0.3058, 0.7501, 1.1756, 2.4718, 2.4121, 2.3748, 2.3748, 2.3748, 2.3164, 2.3164, 2.3164, 2.3164, 2.3164, 2.3159, 2.212, 2.212, 2.212, 2.212, 2.212, 2.212, 2.212, 2.212, 2.212, 2.212, 2.212, 2.212, 2.212, 2.212, 2.212, 2.212, 2.212, 2.212, 2.212, 2.1434, 1.9014, 1.9347, 2.0815, 2.0815, 2.0641, 2.0509, 1.9136, 1.0656, 0.0048, 1.579, 1.9585, 1.0824, 1.7096, 1.5022, 1.9242, 0.8166, 1.7325, 1.0884, 1.2418, -0.6888, 0.4009, -1.2516, 0.7947, -0.4253, 0.359, -0.0512, -0.9921, 0.8172, 0.1298, 0.901, 1.679, 2.6621, 2.5988, 2.4863, 2.4863, 2.4863, 2.4863, 2.4863, 2.4863, 2.4863, 2.4863, 2.4863, 2.4863, 2.4863, 2.4863, 2.4859, 2.4859, 2.3621, 2.2274, 2.2274, 2.2274, 2.2274, 2.2274, 2.2274, 2.2274, 2.2274, 2.2274, 2.2274, 2.2274, 2.2274, 2.2274, 2.1903, 2.1903, 2.1699, 2.0329, 2.1113, 2.1475, 2.1305, 2.1677, 2.1677, 1.7688, 1.8659, 1.4271, 1.8299, 1.5655, 1.3645, 1.5796, 0.0706, 1.5078, 0.9512, 0.9071, -0.4712, 0.4819, 1.3759, -0.2877, 1.5494, 1.5145, 1.377, 0.6364, 0.4648, 0.4694, 1.0845, 0.7197, 0.8826, -1.8509, -0.8313]}, \"token.table\": {\"Topic\": [1, 2, 5, 7, 2, 6, 2, 2, 4, 5, 6, 7, 1, 3, 2, 2, 4, 7, 1, 2, 4, 6, 7, 8, 3, 2, 1, 4, 4, 7, 6, 1, 2, 3, 4, 5, 6, 8, 4, 7, 5, 7, 4, 8, 4, 3, 1, 2, 3, 4, 5, 6, 7, 8, 2, 1, 2, 4, 6, 8, 2, 7, 1, 3, 4, 5, 7, 1, 1, 2, 6, 4, 1, 2, 3, 6, 8, 8, 2, 4, 8, 1, 2, 3, 4, 5, 6, 7, 1, 2, 3, 5, 1, 3, 5, 6, 5, 4, 3, 1, 2, 3, 4, 5, 6, 7, 8, 3, 2, 5, 6, 8, 8, 1, 3, 7, 6, 1, 2, 3, 4, 6, 4, 6, 5, 4, 7, 2, 6, 7, 6, 1, 1, 2, 4, 6, 7, 6, 3, 4, 5, 8, 4, 5, 8, 3, 8, 6, 5, 4, 6, 1, 7, 1, 2, 3, 4, 5, 6, 8, 1, 6, 7, 8, 5, 8, 5, 6, 4, 1, 2, 7, 1, 3, 6, 2, 4, 7, 1, 5, 6, 7, 2, 5, 1, 2, 4, 5, 6, 7, 2, 3, 4, 5, 6, 1, 3, 7, 8, 8, 3, 2, 5, 6, 8, 2, 5, 1, 2, 6, 7, 8, 7, 5, 5, 4, 7, 4, 1, 1, 3, 6, 4, 8, 5, 4, 6, 5, 1, 2, 3, 5, 6, 7, 8, 5, 1, 2, 4, 5, 6, 8, 1, 2, 3, 4, 5, 6, 7, 7, 1, 6, 8, 1, 2, 3, 5, 6, 1, 1, 2, 5, 8, 7, 1, 4, 1, 2, 3, 4, 5, 6, 7, 8, 7, 3, 6, 8, 6, 1, 3, 3, 7, 4, 5, 6, 8, 3, 4, 1, 2, 3, 6, 8, 2, 6, 8, 7, 8, 5, 6, 8, 1, 3, 4, 5, 7, 8, 4, 3, 2, 5, 8, 1, 3, 4, 6, 8, 4, 6, 4, 5, 7, 1, 4, 1, 1, 2, 7, 7, 7, 8, 1, 4, 5, 6, 8, 3, 1, 2, 3, 4, 5, 7, 8, 4, 5, 6, 5, 6, 7, 8, 6, 2, 3, 4, 2, 5, 5, 2, 4, 6, 7, 8, 1, 7, 1, 4, 6, 2, 4, 1, 3, 6, 8, 7, 8, 1, 4, 5, 6, 7, 6, 1, 3, 6, 7, 7, 5, 1, 6, 7, 2, 4, 6, 7, 4, 1, 2, 3, 4, 5, 6, 7, 1, 4, 6, 7, 6, 4, 8, 7, 6, 5, 1, 3, 4, 5, 7, 5, 3, 4, 6, 1, 2, 3, 4, 8, 5, 5, 3, 3, 8, 6, 6, 8, 5, 8, 4, 3, 2, 7, 7, 4, 1, 2, 3, 4, 5, 7, 8, 1, 2, 3, 4, 5, 6, 2, 8, 7, 7, 7, 2, 5, 8, 2, 3, 4, 6, 7, 8, 2, 7, 2, 1, 4, 1, 4, 7, 2, 6, 6, 6, 1, 3, 8, 1, 2, 7, 8, 3, 2, 5, 1, 1, 3, 1, 1, 4, 5, 7, 2, 1, 8, 3, 8, 8, 3, 7, 2, 5, 1, 6, 7, 4, 2, 4, 8, 7, 6, 7, 8, 5, 6, 1, 2, 4, 6, 7, 8, 4, 8, 1, 7, 1, 2, 3, 4, 5, 8, 4, 5, 1, 2, 3, 7, 1, 5, 6, 7, 1, 2, 3, 4, 6, 8, 1, 2, 4, 6, 1, 5, 1, 5, 6, 1, 3, 4, 5, 7, 1, 2, 3, 4, 5, 6, 7, 1, 2, 3, 5, 6, 7, 8, 1, 4, 6, 4, 1, 2, 3, 4, 5, 7, 1, 7, 3, 5, 6, 7, 7, 1, 3, 7, 1, 1, 3, 4, 1, 4, 6, 4, 7, 1, 3, 4, 7, 8, 7, 3, 7, 7, 4, 5, 4, 1, 7, 2, 2, 7, 3, 5, 4, 7, 3, 1, 5, 6, 1, 3, 4, 5, 8, 2, 1, 2, 3, 4, 5, 8, 6, 3, 1, 8, 1, 2, 3, 5, 7, 8, 2, 5, 2, 6, 5, 3, 2, 3, 4, 5, 7, 6, 2, 2, 3, 5, 6, 7, 8, 2, 8, 2, 1, 2, 3, 4, 5, 6, 7, 8, 4, 7, 1, 1, 5, 2, 3, 4, 7, 8, 1, 2, 7, 2, 5, 7, 8, 3, 7, 1, 2, 3, 4, 5, 6, 8, 3, 7, 1, 5, 7, 3, 3, 1, 3, 5, 1, 1, 8, 1, 1, 4, 5, 6, 8, 1, 1, 2, 1, 3, 1, 2, 3, 4, 5, 6, 7, 4, 7, 8, 1, 2, 1, 2, 3, 4, 6, 8, 1, 2, 3, 4, 5, 6, 8, 2, 3, 6, 7, 8, 8, 6, 1, 1, 2, 3, 4, 5, 3, 5, 1, 3, 7, 3, 8, 2, 8, 1, 4, 1, 2, 3, 4, 5, 7, 8, 1, 6, 8, 3, 5, 1, 2, 3, 4, 5, 6, 7, 8, 2], \"Freq\": [0.07845712820472923, 0.7845712820472923, 0.07845712820472923, 0.07845712820472923, 0.7903471965452263, 0.15806943930904527, 0.9635315497921624, 0.6292524445936202, 0.12585048891872402, 0.12585048891872402, 0.08390032594581602, 0.04195016297290801, 0.15636006019777404, 0.7818003009888702, 0.9635324584348918, 0.9304198547807363, 0.5951447766764216, 0.19838159222547389, 0.14462319369611693, 0.6146485732084969, 0.14462319369611693, 0.03615579842402923, 0.03615579842402923, 0.03615579842402923, 0.9498562487035058, 0.9304101745426011, 0.8814818039929009, 0.11018522549911261, 0.9063122610218931, 0.8671323277656531, 0.7100690230151774, 0.18756684829233544, 0.1406751362192516, 0.23445856036541932, 0.09378342414616772, 0.18756684829233544, 0.1406751362192516, 0.04689171207308386, 0.6796703519555995, 0.47679217484319053, 0.4800318870604018, 0.2400159435302009, 0.6796698519709571, 0.7374340495226577, 0.6796698520840966, 0.9451892925936914, 0.29949231715644703, 0.33635291003724055, 0.17969539029386822, 0.02303787055049593, 0.04607574110099186, 0.05989846343128941, 0.02303787055049593, 0.036860592880793484, 0.9422870324259403, 0.2895862455694927, 0.2895862455694927, 0.09652874852316423, 0.19305749704632846, 0.19305749704632846, 0.23334457416032148, 0.7000337224809644, 0.19039047866001998, 0.42308995257782217, 0.08461799051556444, 0.06346349288667333, 0.21154497628891109, 0.8613502178261211, 0.80647227210612, 0.9074761154144324, 0.056717257213402025, 0.6796698520180013, 0.24023174751951, 0.6306083372387138, 0.0600579368798775, 0.03002896843993875, 0.03002896843993875, 0.7374340495803777, 0.9581758047946035, 0.679669668102639, 0.5057958175590638, 0.7437906177700481, 0.012193288815902427, 0.04877315526360971, 0.07315973289541457, 0.012193288815902427, 0.07315973289541457, 0.024386577631804855, 0.387420486708088, 0.04304672074534311, 0.4735139281987742, 0.08609344149068622, 0.3073469420657587, 0.10244898068858622, 0.10244898068858622, 0.4097959227543449, 0.4729512933639954, 0.9060829188766322, 0.6395516817816519, 0.15544659722461282, 0.0932679583347677, 0.12435727777969026, 0.2798038750043031, 0.1865359166695354, 0.031089319444922565, 0.031089319444922565, 0.12435727777969026, 0.9185993154983474, 0.32622708311986376, 0.10874236103995459, 0.32622708311986376, 0.21748472207990918, 0.7374340495803777, 0.19482014216695978, 0.19482014216695978, 0.5844604265008794, 0.47108483412676294, 0.10963644436643401, 0.21927288873286802, 0.10963644436643401, 0.43854577746573603, 0.10963644436643401, 0.2831332089857088, 0.707833022464272, 0.4729498139137105, 0.28454493418919424, 0.5690898683783885, 0.20071008354193134, 0.20071008354193134, 0.4014201670838627, 0.8545802718218337, 0.80647227210612, 0.13652699806455887, 0.13652699806455887, 0.27305399612911774, 0.4095809941936766, 0.13652699806455887, 0.47108466358866147, 0.2875461369671178, 0.19169742464474518, 0.09584871232237259, 0.38339484928949036, 0.6796698518370374, 0.4729512933672212, 0.5057958174281922, 0.9733669720489265, 0.7374340495803777, 0.4710840188681361, 0.713250085464764, 0.3514716599171286, 0.585786099861881, 0.9339858997783737, 0.4767921750072758, 0.291896480283485, 0.3016263629596012, 0.1556781228178587, 0.06810917873281318, 0.09729882676116168, 0.038919530704464675, 0.038919530704464675, 0.46984380736080256, 0.3132292049072017, 0.15661460245360084, 0.07830730122680042, 0.47295129335439556, 0.7374340495803777, 0.713250085464764, 0.47108483409162105, 0.9708381201460357, 0.11552699717741756, 0.6931619830645054, 0.11552699717741756, 0.31027884181769144, 0.6981273940898057, 0.47108316986623755, 0.16915545310285343, 0.6766218124114137, 0.16915545310285343, 0.8203336324819461, 0.06836113604016217, 0.06836113604016217, 0.06836113604016217, 0.9423801402335218, 0.4729512934004127, 0.39801234725634066, 0.039801234725634065, 0.19900617362817033, 0.15920493890253626, 0.1194037041769022, 0.039801234725634065, 0.12572474962270616, 0.12572474962270616, 0.12572474962270616, 0.5028989984908246, 0.6998428421889688, 0.25425631899359785, 0.25425631899359785, 0.12712815949679893, 0.3813844784903968, 0.7374340495803777, 0.9185991657527676, 0.17778201003759042, 0.5333460301127713, 0.17778201003759042, 0.17778201003759042, 0.7500032166014995, 0.47295129332182106, 0.9022910612640225, 0.35678658974252764, 0.17839329487126382, 0.17839329487126382, 0.35678658974252764, 0.4767921749869103, 0.47295084222279116, 0.47295129329838104, 0.5261584046505472, 0.35077226976703146, 0.679669119159117, 0.9721305309876432, 0.7865865172764185, 0.18507918053562789, 0.47108483412676294, 0.3686040036555134, 0.3686040036555134, 0.47295129329838104, 0.46637979155309894, 0.46637979155309894, 0.8586771013506608, 0.16247731436608318, 0.22746824011251646, 0.19497277723929982, 0.09748638861964991, 0.09748638861964991, 0.032495462873216634, 0.12998185149286653, 0.4729512933383175, 0.13803956482165428, 0.24156923843789502, 0.24156923843789502, 0.06901978241082714, 0.20705934723248143, 0.10352967361624071, 0.049221242476038554, 0.14766372742811568, 0.19688496990415422, 0.3445486973322699, 0.14766372742811568, 0.049221242476038554, 0.049221242476038554, 0.8671334329045964, 0.80647227210612, 0.47108483404832124, 0.7374340495803777, 0.11421826906625189, 0.11421826906625189, 0.11421826906625189, 0.45687307626500756, 0.11421826906625189, 0.8973359939181029, 0.9339831398929441, 0.7201437943917091, 0.14402875887834182, 0.14402875887834182, 0.4767921749472633, 0.8612867260929956, 0.08612867260929956, 0.2524582021415114, 0.3308072993578425, 0.12187637344762618, 0.06529091434694259, 0.0696436419700721, 0.06093818672381309, 0.039174548608165556, 0.06093818672381309, 0.47679217484319053, 0.4533710089800805, 0.4533710089800805, 0.9319258566107887, 0.8545794458709145, 0.8981672002844323, 0.07484726669036937, 0.27965003485840806, 0.5593000697168161, 0.1849392639075881, 0.1849392639075881, 0.1849392639075881, 0.3698785278151762, 0.9185993792474985, 0.9708386230238407, 0.17044432862292735, 0.6817773144917094, 0.04261108215573184, 0.04261108215573184, 0.5057958174350138, 0.5319963964291219, 0.26599819821456094, 0.13299909910728047, 0.3761882234019976, 0.3761882234019976, 0.47295129317224693, 0.4710848341224654, 0.5057958174232834, 0.7686686297417333, 0.015071933916504576, 0.09043160349902746, 0.04521580174951373, 0.04521580174951373, 0.015071933916504576, 0.6796689010778441, 0.6395516823955539, 0.9422870343425513, 0.4729512933906266, 0.5057958157763697, 0.1719437503356708, 0.1719437503356708, 0.1719437503356708, 0.3438875006713416, 0.1719437503356708, 0.9061404815265284, 0.47108483412676294, 0.7506788235721362, 0.1251131372620227, 0.1251131372620227, 0.1480285942164418, 0.740142971082209, 0.8613502178261211, 0.19026096970351367, 0.38052193940702733, 0.38052193940702733, 0.719808402457759, 0.3761882646699213, 0.3761882646699213, 0.2933768150512276, 0.5867536301024552, 0.0733442037628069, 0.0733442037628069, 0.5057940737953684, 0.8847854321185383, 0.24581685190826344, 0.28678632722630737, 0.12290842595413172, 0.04096947531804391, 0.16387790127217564, 0.04096947531804391, 0.12290842595413172, 0.6128702283252417, 0.15321755708131043, 0.15321755708131043, 0.40067480989462845, 0.2671165399297523, 0.13355826996487616, 0.13355826996487616, 0.47108165104048977, 0.2224158646686442, 0.7413862155621472, 0.07413862155621473, 0.2762237484737803, 0.5524474969475606, 0.4729512932201583, 0.2621609157369254, 0.08738697191230847, 0.4369348595615424, 0.17477394382461695, 0.08738697191230847, 0.2759780549873556, 0.5519561099747112, 0.396966709516985, 0.396966709516985, 0.09924167737924625, 0.9304205914451222, 0.6796698518876486, 0.404232434409257, 0.2694882896061713, 0.13474414480308566, 0.2694882896061713, 0.8671331049195612, 0.5057958175587856, 0.09307899678401733, 0.37231598713606934, 0.18615799356803467, 0.09307899678401733, 0.279236990352052, 0.4710847488855703, 0.6643173387122646, 0.2555066687354864, 0.05110133374709728, 0.05110133374709728, 0.4767921749868795, 0.4729512933383175, 0.9584377874407152, 0.47108483414774543, 0.47679217500227655, 0.1244999236125235, 0.497999694450094, 0.1244999236125235, 0.1244999236125235, 0.8155567353845227, 0.3477729206401418, 0.20286753704008273, 0.11592430688004728, 0.1738864603200709, 0.02898107672001182, 0.05796215344002364, 0.05796215344002364, 0.36216617167799847, 0.43459940601359814, 0.0724332343355997, 0.0724332343355997, 0.47108466358866147, 0.6796698523006617, 0.7374340495803777, 0.47679217503411664, 0.47108483410827967, 0.47295129335439556, 0.17030243289406605, 0.17030243289406605, 0.17030243289406605, 0.5109072986821981, 0.47679217503431814, 0.8586699811799512, 0.8471044375285083, 0.4663795180207992, 0.4663795180207992, 0.4301032193296069, 0.07168386988826782, 0.14336773977653564, 0.14336773977653564, 0.14336773977653564, 0.4729512932624707, 0.47295129339514097, 0.9725302193711983, 0.8847854321185383, 0.5057958174350138, 0.47108483412676294, 0.3644577498202525, 0.3644577498202525, 0.8325602676496558, 0.20814006691241396, 0.9061401568397746, 0.9244889643239534, 0.9245976587824178, 0.47679217500219256, 0.47679217499779025, 0.90614017454551, 0.07044763730553794, 0.4226858238332276, 0.14089527461107587, 0.14089527461107587, 0.03522381865276897, 0.17611909326384484, 0.03522381865276897, 0.4242331892081451, 0.14141106306938173, 0.10605829730203628, 0.17676382883672714, 0.10605829730203628, 0.07070553153469086, 0.4727507810559567, 0.4727507810559567, 0.47679217497688436, 0.4767921749868795, 0.47679217503411664, 0.2762205282358086, 0.5524410564716172, 0.7374340495803777, 0.1301251362698663, 0.1301251362698663, 0.1301251362698663, 0.1301251362698663, 0.2602502725397326, 0.2602502725397326, 0.7500032346597258, 0.47679217503411664, 0.9245976587824178, 0.3276418919721273, 0.6552837839442546, 0.7890753159087589, 0.08767503510097321, 0.08767503510097321, 0.9245976587824178, 0.47108483412676294, 0.4710574840681775, 0.4710890725321611, 0.8973357196402582, 0.8648100186060743, 0.14413500310101238, 0.7434533754622665, 0.12390889591037775, 0.0826059306069185, 0.04130296530345925, 0.7644134525541595, 0.9448850572766686, 0.05905531607979179, 0.9022811070278031, 0.8024067081403995, 0.1604813416280799, 0.9592611785427556, 0.24738062951438505, 0.24738062951438505, 0.12369031475719253, 0.37107094427157755, 0.9245976587824178, 0.9654988892176513, 0.5057958174350138, 0.36042858944760203, 0.36042858944760203, 0.4957748660732372, 0.27628190095705574, 0.5525638019141115, 0.4480549138630329, 0.4480549138630329, 0.6664757391427368, 0.06664757391427369, 0.19994272174282104, 0.9063122610653231, 0.35650056678792497, 0.5941676113132083, 0.7374340495803777, 0.7198086088772677, 0.41694616847294663, 0.5211827105911833, 0.10423654211823666, 0.713251074581137, 0.47108316986623755, 0.21058275989180136, 0.10529137994590068, 0.10529137994590068, 0.4211655197836027, 0.10529137994590068, 0.10529137994590068, 0.9063122610702447, 0.5057958175590638, 0.2729640214536986, 0.5459280429073972, 0.08266019393934299, 0.24798058181802893, 0.12399029090901446, 0.16532038787868597, 0.12399029090901446, 0.24798058181802893, 0.6796698519979687, 0.4729512933523445, 0.031407591194147814, 0.09422277358244344, 0.8165973710478431, 0.031407591194147814, 0.15616794521366006, 0.6246717808546403, 0.15616794521366006, 0.15616794521366006, 0.21042767572628202, 0.21042767572628202, 0.10521383786314101, 0.21042767572628202, 0.10521383786314101, 0.315641513589423, 0.24177778169378925, 0.24177778169378925, 0.12088889084689462, 0.4835555633875785, 0.80647227210612, 0.4729512933672212, 0.7833994296438087, 0.055957102117414906, 0.11191420423482981, 0.23771906008925298, 0.5942976502231324, 0.03961984334820883, 0.03961984334820883, 0.07923968669641766, 0.28188262823290267, 0.051251386951436856, 0.41001109561149485, 0.025625693475718428, 0.051251386951436856, 0.051251386951436856, 0.10250277390287371, 0.23812022402633354, 0.11906011201316677, 0.23812022402633354, 0.11906011201316677, 0.23812022402633354, 0.7198089797297484, 0.49577531580162043, 0.19002596624616563, 0.7601038649846625, 0.47108483412676294, 0.9063122610702447, 0.19232791526289472, 0.14424593644717104, 0.04808197881572368, 0.19232791526289472, 0.19232791526289472, 0.24040989407861843, 0.80647227210612, 0.7197602109327755, 0.6591178103436506, 0.16477945258591264, 0.04119486314647816, 0.12358458943943448, 0.7198061531966943, 0.22072052468787054, 0.3310807870318058, 0.3310807870318058, 0.8613503707572553, 0.9016125480944073, 0.1001791720104897, 0.8155571931082979, 0.31020348710106654, 0.46530523065159984, 0.15510174355053327, 0.2845449392903647, 0.5690898785807293, 0.80647227210612, 0.687849469695838, 0.06253176997234892, 0.18759530991704676, 0.06253176997234892, 0.47679217503411664, 0.98811957872618, 0.4767921750072758, 0.9701930842947585, 0.7836972704156907, 0.19592431760392268, 0.6796689010778441, 0.4493950834411637, 0.4493950834411637, 0.9245976587824178, 0.7495022684635912, 0.719809076844148, 0.978239826650848, 0.7132503342295499, 0.6881318651905137, 0.22937728839683788, 0.9244889643239534, 0.2286350761683284, 0.2286350761683284, 0.4572701523366568, 0.29386836626252083, 0.11754734650500834, 0.11754734650500834, 0.29386836626252083, 0.11754734650500834, 0.7500032168989024, 0.08641122100610339, 0.17282244201220678, 0.17282244201220678, 0.17282244201220678, 0.17282244201220678, 0.2592336630183102, 0.47108210501297365, 0.7644128819647892, 0.35435466269434907, 0.35435466269434907, 0.7373622679955086, 0.130122753175678, 0.043374251058559334, 0.043374251058559334, 0.043374251058559334, 0.5057958174281922, 0.9245976587824178, 0.4729512933383175, 0.9422870342164689, 0.47108316986623755, 0.47295129338486086, 0.9467425589434828, 0.5673865074121657, 0.1621104306891902, 0.0810552153445951, 0.0810552153445951, 0.0810552153445951, 0.7100672401290306, 0.9422870324751257, 0.09978905541049829, 0.19957811082099658, 0.39915622164199316, 0.09978905541049829, 0.19957811082099658, 0.09978905541049829, 0.8404728897606337, 0.10505911122007922, 0.7500032169901277, 0.4475807437633879, 0.06048388429234972, 0.22076617766707649, 0.09677421486775956, 0.05745969007773224, 0.03024194214617486, 0.07560485536543715, 0.009072582643852458, 0.8219308056116874, 0.1369884676019479, 0.9271832551051483, 0.8649306782995845, 0.08649306782995844, 0.25395600813127067, 0.33860801084169423, 0.08465200271042356, 0.16930400542084711, 0.16930400542084711, 0.74829430243618, 0.17268330056219539, 0.05756110018739846, 0.9245976587824178, 0.713248234610329, 0.7244898598060159, 0.5057958175590638, 0.8870212876975233, 0.05543883048109521, 0.11012907172024305, 0.11012907172024305, 0.33038721516072916, 0.11012907172024305, 0.33038721516072916, 0.3037688868641995, 0.607537773728399, 0.8146458960128689, 0.11637798514469555, 0.9694569078000419, 0.47295129333231395, 0.47679217500227655, 0.8847854321185383, 0.918601565807108, 0.060551284619778066, 0.8477179846768929, 0.060551284619778066, 0.8613497951749776, 0.9694583352791034, 0.7374340495803777, 0.9905250880621089, 0.10485785839369904, 0.6291471503621943, 0.10485785839369904, 0.10485785839369904, 0.5057732019083531, 0.9022812522130622, 0.11203041512776421, 0.7842129058943494, 0.9271832551051484, 0.9185993792474985, 0.24126132586058627, 0.06031533146514657, 0.24126132586058627, 0.06031533146514657, 0.12063066293029313, 0.24126132586058627, 0.06031533146514657, 0.6796696136079955, 0.4767921749868795, 0.5057700042285985, 0.13228344512093665, 0.8598423932860882, 0.0979280921691581, 0.2937842765074743, 0.0979280921691581, 0.1958561843383162, 0.0979280921691581, 0.2937842765074743, 0.1654897922233782, 0.28369678666864834, 0.02364139888905403, 0.2364139888905403, 0.02364139888905403, 0.14184839333432417, 0.09456559555621612, 0.21691114674676967, 0.3795945068068469, 0.05422778668669242, 0.10845557337338484, 0.21691114674676967, 0.7697899631844273, 0.47108483413305635, 0.8613503071984003, 0.07871027475322623, 0.11806541212983936, 0.7083924727790362, 0.039355137376613114, 0.039355137376613114, 0.8167946546167097, 0.11668495065952997, 0.09770361389103985, 0.7816289111283188, 0.09770361389103985, 0.9436453490093639, 0.7374340495803777, 0.7500034215676064, 0.7374340495803777, 0.8099540521316865, 0.16199081042633728, 0.36559447922696137, 0.25591613545887293, 0.10967834376808841, 0.07311889584539227, 0.07311889584539227, 0.03655944792269614, 0.07311889584539227, 0.2335016232348153, 0.4670032464696306, 0.2335016232348153, 0.5370158649383117, 0.4027618987037337, 0.3033776986003048, 0.20629683504820726, 0.20629683504820726, 0.12135107944012193, 0.04854043177604877, 0.06067553972006096, 0.024270215888024384, 0.024270215888024384, 0.9422870324168072], \"Term\": [\"00\", \"00\", \"00\", \"00\", \"03\", \"03\", \"06\", \"12\", \"12\", \"12\", \"12\", \"12\", \"14\", \"14\", \"15\", \"18\", \"2018\", \"2018\", \"2021\", \"2021\", \"2021\", \"2021\", \"2021\", \"2021\", \"2024\", \"21\", \"66\", \"66\", \"adekku\", \"afrika\", \"aisyiyah\", \"aja\", \"aja\", \"aja\", \"aja\", \"aja\", \"aja\", \"aja\", \"akar\", \"akb\", \"akses\", \"akses\", \"alami\", \"alasan\", \"alias\", \"amin\", \"anak\", \"anak\", \"anak\", \"anak\", \"anak\", \"anak\", \"anak\", \"anak\", \"anakku\", \"anaknya\", \"anaknya\", \"anaknya\", \"anaknya\", \"anaknya\", \"anggota\", \"anggota\", \"angka\", \"angka\", \"angka\", \"angka\", \"angka\", \"antari\", \"asemrowo\", \"asi\", \"asi\", \"asumsico\", \"asupan\", \"asupan\", \"asupan\", \"asupan\", \"asupan\", \"asupannya\", \"atasi\", \"bagikan\", \"balikpapan\", \"balita\", \"balita\", \"balita\", \"balita\", \"balita\", \"balita\", \"balita\", \"bantu\", \"bantu\", \"bantu\", \"bantu\", \"bantuan\", \"bantuan\", \"bantuan\", \"bantuan\", \"bar\", \"barat\", \"batuk\", \"bayi\", \"bayi\", \"bayi\", \"bayi\", \"bayi\", \"bayi\", \"bayi\", \"bayi\", \"bayi2\", \"bb\", \"bb\", \"bb\", \"bb\", \"bbrp\", \"bebas\", \"bebas\", \"bebas\", \"bencana\", \"bener\", \"bener\", \"bener\", \"bener\", \"bener\", \"beras\", \"beras\", \"bergerak\", \"bersih\", \"bersih\", \"berupaya\", \"berupaya\", \"berupaya\", \"bervitamin\", \"bhabinkamtibmas\", \"biar\", \"biar\", \"biar\", \"biar\", \"biar\", \"biaya\", \"bikin\", \"bikin\", \"bikin\", \"bikin\", \"bimgi\", \"bip\", \"birthday\", \"bkkbn\", \"bnyk\", \"bokong\", \"breakfast\", \"bulog\", \"bulog\", \"bumn\", \"buruh\", \"buruk\", \"buruk\", \"buruk\", \"buruk\", \"buruk\", \"buruk\", \"buruk\", \"cegah\", \"cegah\", \"cegah\", \"cegah\", \"cenderung\", \"cewenya\", \"challenge\", \"ciri\", \"cisempur\", \"covid\", \"covid\", \"covid\", \"daerah\", \"daerah\", \"daramata\", \"dasar\", \"dasar\", \"dasar\", \"data\", \"data\", \"data\", \"data\", \"daya\", \"dengerin\", \"desa\", \"desa\", \"desa\", \"desa\", \"desa\", \"desa\", \"dewasa\", \"dewasa\", \"dewasa\", \"dewasa\", \"diam\", \"dibilang\", \"dibilang\", \"dibilang\", \"dibilang\", \"diet2\", \"digital\", \"dikasih\", \"dikasih\", \"dikasih\", \"dikasih\", \"dikit\", \"dipengaruhi\", \"ditemukan\", \"doang\", \"doang\", \"doang\", \"doang\", \"donri\", \"dorong\", \"dp2\", \"dprd\", \"dprd\", \"duit\", \"erick\", \"erickthohir\", \"erickthohir\", \"erupsi\", \"fasilitas\", \"fasilitas\", \"fasilitator\", \"fortivit\", \"fortivit\", \"forum\", \"ga\", \"ga\", \"ga\", \"ga\", \"ga\", \"ga\", \"ga\", \"gadget\", \"gagal\", \"gagal\", \"gagal\", \"gagal\", \"gagal\", \"gagal\", \"gak\", \"gak\", \"gak\", \"gak\", \"gak\", \"gak\", \"gak\", \"garut\", \"gelar\", \"gelontorkan\", \"gembul2\", \"gemuk\", \"gemuk\", \"gemuk\", \"gemuk\", \"gemuk\", \"gencar\", \"gencarnya\", \"gerakan\", \"gerakan\", \"gerakan\", \"gerindra\", \"giat\", \"giat\", \"gizi\", \"gizi\", \"gizi\", \"gizi\", \"gizi\", \"gizi\", \"gizi\", \"gizi\", \"gosip\", \"growth\", \"growth\", \"gulf\", \"gunung\", \"hak\", \"hak\", \"halimiskandarnu\", \"halimiskandarnu\", \"halo\", \"halo\", \"halo\", \"halo\", \"haloo\", \"halopuan\", \"hamil\", \"hamil\", \"hamil\", \"hamil\", \"hamka\", \"hati\", \"hati\", \"hati\", \"hebat\", \"hebat\", \"hemat\", \"hipotiroid\", \"ibuk\", \"indonesia\", \"indonesia\", \"indonesia\", \"indonesia\", \"indonesia\", \"indonesia\", \"ineu\", \"intesif\", \"iongiess\", \"it\", \"iwak\", \"iya\", \"iya\", \"iya\", \"iya\", \"iya\", \"jabar\", \"jatim\", \"jatinangor\", \"jatinangor\", \"jatinangor\", \"jawa\", \"jawa\", \"jaya\", \"jd\", \"jd\", \"jd\", \"jokowi\", \"jurusan\", \"jurusan\", \"kabupaten\", \"kabupaten\", \"kabupaten\", \"kabupaten\", \"kah\", \"kakak\", \"kalo\", \"kalo\", \"kalo\", \"kalo\", \"kalo\", \"kalo\", \"kalo\", \"kamis\", \"kamis\", \"kamis\", \"karna\", \"karna\", \"karna\", \"karna\", \"kasian\", \"kasih\", \"kasih\", \"kasih\", \"kayak\", \"kayak\", \"keburu\", \"kebutuhan\", \"kebutuhan\", \"kebutuhan\", \"kebutuhan\", \"kebutuhan\", \"kec\", \"kec\", \"kecamatan\", \"kecamatan\", \"kecamatan\", \"kehamilan\", \"kekerdilan\", \"kekurangan\", \"kekurangan\", \"kekurangan\", \"kekurangan\", \"kelaparan\", \"kelebihan\", \"keluarga\", \"keluarga\", \"keluarga\", \"keluarga\", \"keluarga\", \"keluarganya\", \"kematian\", \"kematian\", \"kematian\", \"kematian\", \"kemendespdtt\", \"kepinteran\", \"kepulauan\", \"kerdil\", \"keren\", \"kerja\", \"kerja\", \"kerja\", \"kerja\", \"kerjaan\", \"kesehatan\", \"kesehatan\", \"kesehatan\", \"kesehatan\", \"kesehatan\", \"kesehatan\", \"kesehatan\", \"ketua\", \"ketua\", \"ketua\", \"ketua\", \"kga\", \"klaim\", \"klanadestin\", \"knp\", \"konawe\", \"konsep\", \"kualitas\", \"kualitas\", \"kualitas\", \"kualitas\", \"kulisusu\", \"kumparan\", \"kunci\", \"kupang\", \"kupang\", \"kurus\", \"kurus\", \"kurus\", \"kurus\", \"kurus\", \"lambung\", \"lemak\", \"like\", \"linknya\", \"loh\", \"lokasi\", \"lomba\", \"lomba\", \"lupaudahmakan\", \"lupaudahmakan\", \"luwu\", \"ma\", \"maag\", \"macem2\", \"madagascar\", \"maharani\", \"makan\", \"makan\", \"makan\", \"makan\", \"makan\", \"makan\", \"makan\", \"makanan\", \"makanan\", \"makanan\", \"makanan\", \"makanan\", \"makanan\", \"makasih\", \"makasih\", \"maksudnya\", \"malik_haramain\", \"manajer\", \"mas\", \"mas\", \"masi\", \"masuk\", \"masuk\", \"masuk\", \"masuk\", \"masuk\", \"masuk\", \"melahirkan\", \"melajari\", \"melancarkan\", \"melawan\", \"melawan\", \"membantu\", \"membantu\", \"membantu\", \"membersihkan\", \"memenuhi\", \"memetakan\", \"memparihatinkan\", \"menangani\", \"menekan\", \"menekan\", \"mengalami\", \"mengalami\", \"mengalami\", \"mengalami\", \"meningkat\", \"meningkatkan\", \"meningkatkan\", \"meningkatnya\", \"menteri\", \"menteri\", \"menular\", \"menurunkan\", \"menurunkan\", \"menurunkan\", \"menurunkan\", \"menyusui\", \"meranti\", \"muda\", \"mulu\", \"mulu\", \"mulut\", \"mumet\", \"mumet\", \"my\", \"my\", \"negara\", \"negara\", \"negara\", \"nenekku\", \"nggak\", \"nggak\", \"ngomel\", \"ntb\", \"ntt\", \"ntt\", \"ntt\", \"nu\", \"nurhilda\", \"nya\", \"nya\", \"nya\", \"nya\", \"nya\", \"nya\", \"official_bimgi\", \"ogai\", \"optimal\", \"optimal\", \"orang\", \"orang\", \"orang\", \"orang\", \"orang\", \"orang\", \"padi\", \"pahlawan\", \"pandemi\", \"pandemi\", \"pandemi\", \"pandemi\", \"pandji\", \"pandji\", \"pandji\", \"pandji\", \"pas\", \"pas\", \"pas\", \"pas\", \"pas\", \"pas\", \"peduli\", \"peduli\", \"peduli\", \"peduli\", \"pelabuhan\", \"pelatnis\", \"pemerintah\", \"pemerintah\", \"pemerintah\", \"penanganan\", \"penanganan\", \"penanganan\", \"penanganan\", \"penanganan\", \"pencegahan\", \"pencegahan\", \"pencegahan\", \"pencegahan\", \"pencegahan\", \"pencegahan\", \"pencegahan\", \"pendek\", \"pendek\", \"pendek\", \"pendek\", \"pendek\", \"penduduk\", \"pengen\", \"penggerak\", \"penggerak\", \"pengungsian\", \"pengurus\", \"penurunan\", \"penurunan\", \"penurunan\", \"penurunan\", \"penurunan\", \"penurunan\", \"perakpastibisa\", \"percepat\", \"percepatan\", \"percepatan\", \"percepatan\", \"percepatan\", \"permata63x\", \"persen\", \"persen\", \"persen\", \"pesan\", \"pilar\", \"pilar\", \"pinrang\", \"pkk\", \"pkk\", \"pkk\", \"pola\", \"pola\", \"polres\", \"prevalensi\", \"prevalensi\", \"prevalensi\", \"prevalensi\", \"profesi\", \"prokes\", \"provide\", \"provinsi\", \"puan\", \"puan\", \"purwadewi\", \"puskesmas\", \"puskesmas\", \"racun\", \"rakor\", \"rapat\", \"redakan\", \"rendahnya\", \"riset\", \"riset\", \"ruf\", \"rumah\", \"rumah\", \"rumah\", \"salah\", \"salah\", \"salah\", \"salah\", \"salah\", \"sam_ardi\", \"sampe\", \"sampe\", \"sampe\", \"sampe\", \"sampe\", \"sampe\", \"saran\", \"sdh\", \"segini\", \"segini\", \"sehat\", \"sehat\", \"sehat\", \"sehat\", \"sehat\", \"sekarang\", \"sembelit\", \"senjata\", \"sepertimu\", \"seto\", \"setrauma\", \"share\", \"sih\", \"sih\", \"sih\", \"sih\", \"sih\", \"sinjai\", \"skrang\", \"sofianpalupi\", \"sofianpalupi\", \"sofianpalupi\", \"sofianpalupi\", \"sofianpalupi\", \"sofianpalupi\", \"standar\", \"standar\", \"standarnya\", \"stunting\", \"stunting\", \"stunting\", \"stunting\", \"stunting\", \"stunting\", \"stunting\", \"stunting\", \"sumedang\", \"sumedang\", \"sungai\", \"surabaya\", \"surabaya\", \"susah\", \"susah\", \"susah\", \"susah\", \"susah\", \"susu\", \"susu\", \"susu\", \"tahan\", \"tamba_richy\", \"tangerang\", \"tanggap\", \"target\", \"target\", \"tau\", \"tau\", \"tau\", \"tau\", \"tau\", \"tb\", \"tb\", \"teknologi\", \"teknologi\", \"teratasi\", \"terburuk\", \"terencana\", \"terhindar\", \"terima\", \"terkait\", \"terkait\", \"terkait\", \"terkena\", \"tertinggi\", \"that\", \"thohir\", \"tim\", \"tim\", \"tim\", \"tim\", \"tingginya\", \"titipkan\", \"tk\", \"tk\", \"tohor\", \"tolong\", \"tp\", \"tp\", \"tp\", \"tp\", \"tp\", \"tp\", \"tp\", \"tpk\", \"tppkemendes\", \"trs\", \"tubuh\", \"tubuh\", \"tuh\", \"tuh\", \"tuh\", \"tuh\", \"tuh\", \"tuh\", \"tumbuh\", \"tumbuh\", \"tumbuh\", \"tumbuh\", \"tumbuh\", \"tumbuh\", \"tumbuh\", \"udah\", \"udah\", \"udah\", \"udah\", \"udah\", \"uhamka\", \"umik\", \"unicef\", \"upaya\", \"upaya\", \"upaya\", \"upaya\", \"upaya\", \"utama\", \"utama\", \"video\", \"video\", \"video\", \"wapres\", \"was2\", \"webinar\", \"why\", \"wilayah\", \"wilayah\", \"ya\", \"ya\", \"ya\", \"ya\", \"ya\", \"ya\", \"ya\", \"yaa\", \"yaa\", \"yaa\", \"yaman\", \"yaman\", \"yg\", \"yg\", \"yg\", \"yg\", \"yg\", \"yg\", \"yg\", \"yg\", \"zay\"]}, \"R\": 30, \"lambda.step\": 0.01, \"plot.opts\": {\"xlab\": \"PC1\", \"ylab\": \"PC2\"}, \"topic.order\": [6, 8, 3, 7, 2, 5, 4, 1]};\n",
              "\n",
              "function LDAvis_load_lib(url, callback){\n",
              "  var s = document.createElement('script');\n",
              "  s.src = url;\n",
              "  s.async = true;\n",
              "  s.onreadystatechange = s.onload = callback;\n",
              "  s.onerror = function(){console.warn(\"failed to load library \" + url);};\n",
              "  document.getElementsByTagName(\"head\")[0].appendChild(s);\n",
              "}\n",
              "\n",
              "if(typeof(LDAvis) !== \"undefined\"){\n",
              "   // already loaded: just create the visualization\n",
              "   !function(LDAvis){\n",
              "       new LDAvis(\"#\" + \"ldavis_el3571398062858135843298933749\", ldavis_el3571398062858135843298933749_data);\n",
              "   }(LDAvis);\n",
              "}else if(typeof define === \"function\" && define.amd){\n",
              "   // require.js is available: use it to load d3/LDAvis\n",
              "   require.config({paths: {d3: \"https://d3js.org/d3.v5\"}});\n",
              "   require([\"d3\"], function(d3){\n",
              "      window.d3 = d3;\n",
              "      LDAvis_load_lib(\"https://cdn.jsdelivr.net/gh/bmabey/pyLDAvis@3.3.1/pyLDAvis/js/ldavis.v3.0.0.js\", function(){\n",
              "        new LDAvis(\"#\" + \"ldavis_el3571398062858135843298933749\", ldavis_el3571398062858135843298933749_data);\n",
              "      });\n",
              "    });\n",
              "}else{\n",
              "    // require.js not available: dynamically load d3 & LDAvis\n",
              "    LDAvis_load_lib(\"https://d3js.org/d3.v5.js\", function(){\n",
              "         LDAvis_load_lib(\"https://cdn.jsdelivr.net/gh/bmabey/pyLDAvis@3.3.1/pyLDAvis/js/ldavis.v3.0.0.js\", function(){\n",
              "                 new LDAvis(\"#\" + \"ldavis_el3571398062858135843298933749\", ldavis_el3571398062858135843298933749_data);\n",
              "            })\n",
              "         });\n",
              "}\n",
              "</script>"
            ],
            "text/plain": [
              "PreparedData(topic_coordinates=              x         y  topics  cluster       Freq\n",
              "topic                                                \n",
              "5      0.146654  0.045382       1        1  26.070343\n",
              "7     -0.137009 -0.100062       2        1  18.254718\n",
              "2      0.108953 -0.165656       3        1  16.097000\n",
              "6     -0.009120  0.103140       4        1  10.512924\n",
              "1     -0.007736  0.018415       5        1   7.986442\n",
              "4     -0.062285  0.046713       6        1   7.968334\n",
              "3      0.032583  0.051876       7        1   7.555760\n",
              "0     -0.072041  0.000192       8        1   5.554481, topic_info=          Term        Freq       Total Category  logprob  loglift\n",
              "2562  stunting  330.000000  330.000000  Default  30.0000  30.0000\n",
              "397      bkkbn   24.000000   24.000000  Default  29.0000  29.0000\n",
              "1986   pandemi   31.000000   31.000000  Default  28.0000  28.0000\n",
              "2768     tubuh   30.000000   30.000000  Default  27.0000  27.0000\n",
              "2240    prokes   22.000000   22.000000  Default  26.0000  26.0000\n",
              "...        ...         ...         ...      ...      ...      ...\n",
              "2586     susah    1.940860   11.813070   Topic8  -5.5994   1.0845\n",
              "2357     salah    1.940980   17.014421   Topic8  -5.5994   0.7197\n",
              "1409     kurus    1.872986   13.950140   Topic8  -5.6350   0.8826\n",
              "2562  stunting    2.885336  330.666594   Topic8  -5.2029  -1.8509\n",
              "2892        yg    1.993385   82.405530   Topic8  -5.5727  -0.8313\n",
              "\n",
              "[485 rows x 6 columns], token_table=      Topic      Freq Term\n",
              "term                      \n",
              "0         1  0.078457   00\n",
              "0         2  0.784571   00\n",
              "0         5  0.078457   00\n",
              "0         7  0.078457   00\n",
              "3         2  0.790347   03\n",
              "...     ...       ...  ...\n",
              "2892      5  0.048540   yg\n",
              "2892      6  0.060676   yg\n",
              "2892      7  0.024270   yg\n",
              "2892      8  0.024270   yg\n",
              "2905      2  0.942287  zay\n",
              "\n",
              "[810 rows x 3 columns], R=30, lambda_step=0.01, plot_opts={'xlab': 'PC1', 'ylab': 'PC2'}, topic_order=[6, 8, 3, 7, 2, 5, 4, 1])"
            ]
          },
          "metadata": {},
          "execution_count": 200
        }
      ],
      "source": [
        "pyLDAvis.sklearn.prepare(lda2, tf, tf_vectorizer) "
      ]
    },
    {
      "cell_type": "code",
      "source": [
        ""
      ],
      "metadata": {
        "id": "I5DERAku83up"
      },
      "execution_count": 200,
      "outputs": []
    }
  ],
  "metadata": {
    "colab": {
      "collapsed_sections": [],
      "name": "UAS - KapSel - UIN - 2021 - Kelompok Stunting",
      "provenance": [],
      "include_colab_link": true
    },
    "kernelspec": {
      "display_name": "Python 3",
      "name": "python3"
    },
    "language_info": {
      "name": "python"
    }
  },
  "nbformat": 4,
  "nbformat_minor": 0
}